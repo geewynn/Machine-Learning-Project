{
  "nbformat": 4,
  "nbformat_minor": 0,
  "metadata": {
    "colab": {
      "name": "Intro to deeplearning",
      "provenance": []
    },
    "kernelspec": {
      "name": "python3",
      "display_name": "Python 3"
    },
    "accelerator": "GPU"
  },
  "cells": [
    {
      "cell_type": "markdown",
      "metadata": {
        "id": "ieF7RnIe5NKh",
        "colab_type": "text"
      },
      "source": [
        "Install tensorflow version 2"
      ]
    },
    {
      "cell_type": "code",
      "metadata": {
        "id": "LuRCIpzHSt1B",
        "colab_type": "code",
        "colab": {
          "base_uri": "https://localhost:8080/",
          "height": 628
        },
        "outputId": "785ef0e6-f865-427c-b910-43fe4deedfc3"
      },
      "source": [
        "!pip install tensorflow==2"
      ],
      "execution_count": 1,
      "outputs": [
        {
          "output_type": "stream",
          "text": [
            "Requirement already satisfied: tensorflow==2 in /usr/local/lib/python3.6/dist-packages (2.0.0)\n",
            "Requirement already satisfied: google-pasta>=0.1.6 in /usr/local/lib/python3.6/dist-packages (from tensorflow==2) (0.1.8)\n",
            "Requirement already satisfied: astor>=0.6.0 in /usr/local/lib/python3.6/dist-packages (from tensorflow==2) (0.8.1)\n",
            "Requirement already satisfied: gast==0.2.2 in /usr/local/lib/python3.6/dist-packages (from tensorflow==2) (0.2.2)\n",
            "Requirement already satisfied: numpy<2.0,>=1.16.0 in /usr/local/lib/python3.6/dist-packages (from tensorflow==2) (1.17.5)\n",
            "Requirement already satisfied: wheel>=0.26 in /usr/local/lib/python3.6/dist-packages (from tensorflow==2) (0.34.2)\n",
            "Requirement already satisfied: keras-applications>=1.0.8 in /usr/local/lib/python3.6/dist-packages (from tensorflow==2) (1.0.8)\n",
            "Requirement already satisfied: six>=1.10.0 in /usr/local/lib/python3.6/dist-packages (from tensorflow==2) (1.12.0)\n",
            "Requirement already satisfied: grpcio>=1.8.6 in /usr/local/lib/python3.6/dist-packages (from tensorflow==2) (1.27.1)\n",
            "Requirement already satisfied: absl-py>=0.7.0 in /usr/local/lib/python3.6/dist-packages (from tensorflow==2) (0.9.0)\n",
            "Requirement already satisfied: tensorflow-estimator<2.1.0,>=2.0.0 in /usr/local/lib/python3.6/dist-packages (from tensorflow==2) (2.0.1)\n",
            "Requirement already satisfied: opt-einsum>=2.3.2 in /usr/local/lib/python3.6/dist-packages (from tensorflow==2) (3.1.0)\n",
            "Requirement already satisfied: termcolor>=1.1.0 in /usr/local/lib/python3.6/dist-packages (from tensorflow==2) (1.1.0)\n",
            "Requirement already satisfied: keras-preprocessing>=1.0.5 in /usr/local/lib/python3.6/dist-packages (from tensorflow==2) (1.1.0)\n",
            "Requirement already satisfied: tensorboard<2.1.0,>=2.0.0 in /usr/local/lib/python3.6/dist-packages (from tensorflow==2) (2.0.2)\n",
            "Requirement already satisfied: wrapt>=1.11.1 in /usr/local/lib/python3.6/dist-packages (from tensorflow==2) (1.11.2)\n",
            "Requirement already satisfied: protobuf>=3.6.1 in /usr/local/lib/python3.6/dist-packages (from tensorflow==2) (3.10.0)\n",
            "Requirement already satisfied: h5py in /usr/local/lib/python3.6/dist-packages (from keras-applications>=1.0.8->tensorflow==2) (2.8.0)\n",
            "Requirement already satisfied: requests<3,>=2.21.0 in /usr/local/lib/python3.6/dist-packages (from tensorboard<2.1.0,>=2.0.0->tensorflow==2) (2.21.0)\n",
            "Requirement already satisfied: google-auth-oauthlib<0.5,>=0.4.1 in /usr/local/lib/python3.6/dist-packages (from tensorboard<2.1.0,>=2.0.0->tensorflow==2) (0.4.1)\n",
            "Requirement already satisfied: markdown>=2.6.8 in /usr/local/lib/python3.6/dist-packages (from tensorboard<2.1.0,>=2.0.0->tensorflow==2) (3.2.1)\n",
            "Requirement already satisfied: werkzeug>=0.11.15 in /usr/local/lib/python3.6/dist-packages (from tensorboard<2.1.0,>=2.0.0->tensorflow==2) (1.0.0)\n",
            "Requirement already satisfied: setuptools>=41.0.0 in /usr/local/lib/python3.6/dist-packages (from tensorboard<2.1.0,>=2.0.0->tensorflow==2) (45.1.0)\n",
            "Requirement already satisfied: google-auth<2,>=1.6.3 in /usr/local/lib/python3.6/dist-packages (from tensorboard<2.1.0,>=2.0.0->tensorflow==2) (1.7.2)\n",
            "Requirement already satisfied: urllib3<1.25,>=1.21.1 in /usr/local/lib/python3.6/dist-packages (from requests<3,>=2.21.0->tensorboard<2.1.0,>=2.0.0->tensorflow==2) (1.24.3)\n",
            "Requirement already satisfied: chardet<3.1.0,>=3.0.2 in /usr/local/lib/python3.6/dist-packages (from requests<3,>=2.21.0->tensorboard<2.1.0,>=2.0.0->tensorflow==2) (3.0.4)\n",
            "Requirement already satisfied: certifi>=2017.4.17 in /usr/local/lib/python3.6/dist-packages (from requests<3,>=2.21.0->tensorboard<2.1.0,>=2.0.0->tensorflow==2) (2019.11.28)\n",
            "Requirement already satisfied: idna<2.9,>=2.5 in /usr/local/lib/python3.6/dist-packages (from requests<3,>=2.21.0->tensorboard<2.1.0,>=2.0.0->tensorflow==2) (2.8)\n",
            "Requirement already satisfied: requests-oauthlib>=0.7.0 in /usr/local/lib/python3.6/dist-packages (from google-auth-oauthlib<0.5,>=0.4.1->tensorboard<2.1.0,>=2.0.0->tensorflow==2) (1.3.0)\n",
            "Requirement already satisfied: cachetools<3.2,>=2.0.0 in /usr/local/lib/python3.6/dist-packages (from google-auth<2,>=1.6.3->tensorboard<2.1.0,>=2.0.0->tensorflow==2) (3.1.1)\n",
            "Requirement already satisfied: rsa<4.1,>=3.1.4 in /usr/local/lib/python3.6/dist-packages (from google-auth<2,>=1.6.3->tensorboard<2.1.0,>=2.0.0->tensorflow==2) (4.0)\n",
            "Requirement already satisfied: pyasn1-modules>=0.2.1 in /usr/local/lib/python3.6/dist-packages (from google-auth<2,>=1.6.3->tensorboard<2.1.0,>=2.0.0->tensorflow==2) (0.2.8)\n",
            "Requirement already satisfied: oauthlib>=3.0.0 in /usr/local/lib/python3.6/dist-packages (from requests-oauthlib>=0.7.0->google-auth-oauthlib<0.5,>=0.4.1->tensorboard<2.1.0,>=2.0.0->tensorflow==2) (3.1.0)\n",
            "Requirement already satisfied: pyasn1>=0.1.3 in /usr/local/lib/python3.6/dist-packages (from rsa<4.1,>=3.1.4->google-auth<2,>=1.6.3->tensorboard<2.1.0,>=2.0.0->tensorflow==2) (0.4.8)\n"
          ],
          "name": "stdout"
        }
      ]
    },
    {
      "cell_type": "markdown",
      "metadata": {
        "id": "ail8h0vv5SDe",
        "colab_type": "text"
      },
      "source": [
        "Import Necessary packages"
      ]
    },
    {
      "cell_type": "code",
      "metadata": {
        "id": "w04mbOoZRpPO",
        "colab_type": "code",
        "colab": {
          "base_uri": "https://localhost:8080/",
          "height": 34
        },
        "outputId": "9c99afb5-a704-4e2b-d205-edea75c4e2f6"
      },
      "source": [
        "from __future__ import absolute_import, division, print_function, unicode_literals\n",
        "\n",
        "# TensorFlow and tf.keras\n",
        "import tensorflow as tf\n",
        "from tensorflow import keras\n",
        "from tensorflow.keras import datasets, layers, models\n",
        "\n",
        "# Helper libraries\n",
        "import numpy as np\n",
        "import matplotlib.pyplot as plt\n",
        "\n",
        "print(tf.__version__)"
      ],
      "execution_count": 2,
      "outputs": [
        {
          "output_type": "stream",
          "text": [
            "2.0.0\n"
          ],
          "name": "stdout"
        }
      ]
    },
    {
      "cell_type": "markdown",
      "metadata": {
        "id": "qYKQ_3QwTzGy",
        "colab_type": "text"
      },
      "source": [
        "## Data\n",
        "\n",
        "- The data we will be using is the MNIST Dataset and it will be downloaded from the tensorflow dataset library. \n",
        "\n",
        "- The Fashion MNIST dataset contains 70,000 grayscale images group into 10 categories.\n",
        "\n",
        "- Each image is a 28x28 pixel low resolution image. \n",
        "\n",
        "- We will divide the dataset into training and testing dataset.\n",
        "\n",
        "- 60,000 will be used to train while 10,000 to test.\n",
        "\n",
        "Each training and test example is assigned to one of the following labels:\n",
        "\n",
        "0. T-shirt/top\n",
        "1. Trouser\n",
        "2. Pullover\n",
        "3. Dress\n",
        "4. Coat\n",
        "5. Sandal\n",
        "6. Shirt\n",
        "7. Sneaker\n",
        "8. Bag\n",
        "9. Ankle boot \n"
      ]
    },
    {
      "cell_type": "code",
      "metadata": {
        "id": "a6IikQFXUAkQ",
        "colab_type": "code",
        "colab": {}
      },
      "source": [
        "# Download the data from the keras dataset library\n",
        "fashion_mnist = keras.datasets.fashion_mnist\n",
        "\n",
        "# Split the data into train and test and load them into a numpy array\n",
        "(train_images, train_labels), (test_images, test_labels) = fashion_mnist.load_data()"
      ],
      "execution_count": 0,
      "outputs": []
    },
    {
      "cell_type": "code",
      "metadata": {
        "id": "9WqkZbvnYE6U",
        "colab_type": "code",
        "colab": {}
      },
      "source": [
        "class_names = ['T-shirt/top', 'Trouser', 'Pullover', 'Dress', 'Coat',\n",
        "               'Sandal', 'Shirt', 'Sneaker', 'Bag', 'Ankle boot']"
      ],
      "execution_count": 0,
      "outputs": []
    },
    {
      "cell_type": "markdown",
      "metadata": {
        "id": "mkeQpa0gZExH",
        "colab_type": "text"
      },
      "source": [
        "- The below code shows that we 60,000 images in the training set and 10,000 in the test set, and each image is represented as 28x28 pixels."
      ]
    },
    {
      "cell_type": "code",
      "metadata": {
        "id": "aXK-eODmYqF3",
        "colab_type": "code",
        "colab": {
          "base_uri": "https://localhost:8080/",
          "height": 52
        },
        "outputId": "9d7bb1a9-48ec-412b-ce45-1ad2cd4c8589"
      },
      "source": [
        "print('The total number of training images is {}'.format(train_images.shape))\n",
        "print('The total number of test images is {}'.format(test_images.shape))"
      ],
      "execution_count": 5,
      "outputs": [
        {
          "output_type": "stream",
          "text": [
            "The total number of training images is (60000, 28, 28)\n",
            "The total number of test images is (10000, 28, 28)\n"
          ],
          "name": "stdout"
        }
      ]
    },
    {
      "cell_type": "markdown",
      "metadata": {
        "id": "1-DklqLlZZCJ",
        "colab_type": "text"
      },
      "source": [
        "- Same 60,000 labels and our labels are integers from 0 to 9."
      ]
    },
    {
      "cell_type": "code",
      "metadata": {
        "id": "g8uj92kWYqB0",
        "colab_type": "code",
        "colab": {
          "base_uri": "https://localhost:8080/",
          "height": 70
        },
        "outputId": "5f3d6353-79ae-499e-9c2c-2bd57cfdeab3"
      },
      "source": [
        "print('The total number of training labels is {}'.format(len(train_labels)))\n",
        "print('The total number of test labels is {}'.format(len(test_labels)))\n",
        "\n",
        "print(train_labels)"
      ],
      "execution_count": 6,
      "outputs": [
        {
          "output_type": "stream",
          "text": [
            "The total number of training labels is 60000\n",
            "The total number of test labels is 10000\n",
            "[9 0 0 ... 3 0 5]\n"
          ],
          "name": "stdout"
        }
      ]
    },
    {
      "cell_type": "markdown",
      "metadata": {
        "id": "-Yh737HsaWu9",
        "colab_type": "text"
      },
      "source": [
        "## Preprocess the Data\n",
        "\n",
        "- It is important to preprocess the data before training.\n",
        "\n",
        "From the image plot below we can see that each image pixel values fall in the range of 0 to 255. We have to scale each image to a range of 0 to 1."
      ]
    },
    {
      "cell_type": "code",
      "metadata": {
        "id": "32AJFklGYqAL",
        "colab_type": "code",
        "colab": {
          "base_uri": "https://localhost:8080/",
          "height": 265
        },
        "outputId": "0c97012a-5909-4391-b269-23857490c93b"
      },
      "source": [
        "# SHow the plot of a single image and also show the scale\n",
        "plt.figure()\n",
        "plt.imshow(train_images[1])\n",
        "plt.colorbar()\n",
        "plt.grid(False)\n",
        "plt.show()"
      ],
      "execution_count": 7,
      "outputs": [
        {
          "output_type": "display_data",
          "data": {
            "image/png": "[encoded data removed]",
            "text/plain": [
              "<Figure size 432x288 with 2 Axes>"
            ]
          },
          "metadata": {
            "tags": []
          }
        }
      ]
    },
    {
      "cell_type": "markdown",
      "metadata": {
        "id": "8RjsMY3ubyDI",
        "colab_type": "text"
      },
      "source": [
        ""
      ]
    },
    {
      "cell_type": "code",
      "metadata": {
        "id": "DoOI5jpcYp9e",
        "colab_type": "code",
        "colab": {}
      },
      "source": [
        "# Scale the images by dividing each images value by 255.0\n",
        "train_images = train_images / 255.0\n",
        "\n",
        "test_images = test_images / 255.0"
      ],
      "execution_count": 0,
      "outputs": []
    },
    {
      "cell_type": "code",
      "metadata": {
        "id": "vcAnMt2pZjcw",
        "colab_type": "code",
        "colab": {
          "base_uri": "https://localhost:8080/",
          "height": 268
        },
        "outputId": "1f4768cd-1f0f-4ca2-c04b-1158f9476b4f"
      },
      "source": [
        "# Verify that the image has been scaled\n",
        "plt.figure()\n",
        "plt.imshow(train_images[1])\n",
        "plt.colorbar()\n",
        "plt.grid(False)\n",
        "plt.show()"
      ],
      "execution_count": 9,
      "outputs": [
        {
          "output_type": "display_data",
          "data": {
            "image/png": "[encoded data removed]",
            "text/plain": [
              "<Figure size 432x288 with 2 Axes>"
            ]
          },
          "metadata": {
            "tags": []
          }
        }
      ]
    },
    {
      "cell_type": "markdown",
      "metadata": {
        "id": "5GGZQDYDTKgW",
        "colab_type": "text"
      },
      "source": [
        "##Building a simple Neural Network\n",
        " - The simple neural network contains the following properties.\n",
        "  \n",
        "  - Input layer\n",
        "  - A single hidden layer\n",
        "  - The output layer "
      ]
    },
    {
      "cell_type": "code",
      "metadata": {
        "id": "yvN7IfW1SLPE",
        "colab_type": "code",
        "colab": {}
      },
      "source": [
        "model = keras.Sequential([\n",
        "    # input layer\n",
        "    keras.layers.Flatten(input_shape=(28, 28)),\n",
        "    # Single hidden layer\n",
        "    keras.layers.Dense(128, activation='relu'),\n",
        "    # Output layer with 10 nodes\n",
        "    keras.layers.Dense(10)\n",
        "])"
      ],
      "execution_count": 0,
      "outputs": []
    },
    {
      "cell_type": "markdown",
      "metadata": {
        "id": "k_UBtqsEeoac",
        "colab_type": "text"
      },
      "source": [
        "- The first layer tf.keras.Flatten transforms the image format to a one-dimensional array of (28x28=784 pixels).\n",
        "\n",
        "- The Dense layers are the fully connected layers.\n",
        "- The first has 128 nodes and passes through a relu activation function.\n",
        "- The output layer contains 10 nodes which represents the number of class in the MNIST fashion dataset.\n",
        "- Although not shown in codes, the output layer passes through a softmax activation function."
      ]
    },
    {
      "cell_type": "markdown",
      "metadata": {
        "id": "X04zWlqnfxHb",
        "colab_type": "text"
      },
      "source": [
        "### Compile the model.\n",
        "\n",
        "- Loss function —This measures how accurate the model is during training. You want to minimize this function to \"steer\" the model in the right direction.\n",
        "- Optimizer —This is how the model is updated based on the data it sees and its loss function.\n",
        "- Metrics —Used to monitor the training and testing steps. The following example uses accuracy, the fraction of the images that are correctly classified."
      ]
    },
    {
      "cell_type": "code",
      "metadata": {
        "id": "BAj-PRpJfuqh",
        "colab_type": "code",
        "colab": {}
      },
      "source": [
        "model.compile(optimizer='adam',\n",
        "              loss=tf.keras.losses.SparseCategoricalCrossentropy(from_logits=True),\n",
        "              metrics=['accuracy'])"
      ],
      "execution_count": 0,
      "outputs": []
    },
    {
      "cell_type": "markdown",
      "metadata": {
        "id": "JCdaqDwYgZDl",
        "colab_type": "text"
      },
      "source": [
        "### Train the model\n",
        "\n",
        "- The model.fit is used to train the model.\n",
        "- Epochs is the number of iterations the model will be trained on the training data."
      ]
    },
    {
      "cell_type": "code",
      "metadata": {
        "id": "2vW2oTsagVi-",
        "colab_type": "code",
        "colab": {
          "base_uri": "https://localhost:8080/",
          "height": 412
        },
        "outputId": "da059961-1ea7-474b-a573-dc4a368aebe0"
      },
      "source": [
        "model.fit(train_images, train_labels, epochs=10)"
      ],
      "execution_count": 12,
      "outputs": [
        {
          "output_type": "stream",
          "text": [
            "Train on 60000 samples\n",
            "Epoch 1/10\n",
            "60000/60000 [==============================] - 4s 74us/sample - loss: 0.5019 - accuracy: 0.8233\n",
            "Epoch 2/10\n",
            "60000/60000 [==============================] - 4s 64us/sample - loss: 0.3788 - accuracy: 0.8642\n",
            "Epoch 3/10\n",
            "60000/60000 [==============================] - 4s 64us/sample - loss: 0.3387 - accuracy: 0.8764\n",
            "Epoch 4/10\n",
            "60000/60000 [==============================] - 4s 71us/sample - loss: 0.3138 - accuracy: 0.8851\n",
            "Epoch 5/10\n",
            "60000/60000 [==============================] - 4s 68us/sample - loss: 0.2980 - accuracy: 0.8906\n",
            "Epoch 6/10\n",
            "60000/60000 [==============================] - 4s 67us/sample - loss: 0.2824 - accuracy: 0.8967\n",
            "Epoch 7/10\n",
            "60000/60000 [==============================] - 4s 63us/sample - loss: 0.2695 - accuracy: 0.8986\n",
            "Epoch 8/10\n",
            "60000/60000 [==============================] - 4s 64us/sample - loss: 0.2591 - accuracy: 0.9028\n",
            "Epoch 9/10\n",
            "60000/60000 [==============================] - 4s 64us/sample - loss: 0.2500 - accuracy: 0.9071\n",
            "Epoch 10/10\n",
            "60000/60000 [==============================] - 4s 62us/sample - loss: 0.2419 - accuracy: 0.9090\n"
          ],
          "name": "stdout"
        },
        {
          "output_type": "execute_result",
          "data": {
            "text/plain": [
              "<tensorflow.python.keras.callbacks.History at 0x7fb68ee6f7b8>"
            ]
          },
          "metadata": {
            "tags": []
          },
          "execution_count": 12
        }
      ]
    },
    {
      "cell_type": "markdown",
      "metadata": {
        "id": "spksHdhThbsA",
        "colab_type": "text"
      },
      "source": [
        "As the model trains, the loss and accuracy metrics are displayed. This model reaches an accuracy of about 0.91 (or 91%) on the training data.\n",
        "\n",
        "\n",
        "### Evaluate accuracy"
      ]
    },
    {
      "cell_type": "code",
      "metadata": {
        "id": "C1qVtlqahF2t",
        "colab_type": "code",
        "colab": {
          "base_uri": "https://localhost:8080/",
          "height": 70
        },
        "outputId": "860e66c6-e793-4624-c26f-82f63a7a1900"
      },
      "source": [
        "test_loss, test_acc = model.evaluate(test_images,  test_labels, verbose=2)\n",
        "\n",
        "print('\\nTest accuracy:', test_acc)"
      ],
      "execution_count": 13,
      "outputs": [
        {
          "output_type": "stream",
          "text": [
            "10000/1 - 0s - loss: 0.2888 - accuracy: 0.8805\n",
            "\n",
            "Test accuracy: 0.8805\n"
          ],
          "name": "stdout"
        }
      ]
    },
    {
      "cell_type": "markdown",
      "metadata": {
        "id": "jyDQ2It8hsDk",
        "colab_type": "text"
      },
      "source": [
        "The accuracy on the test dataset is little less than the accuracy on the training dataset, this indicates overfitting.\n",
        "\n",
        "Overfitting is when a machine learning model performs worse on new, previously unseen inputs than on the training data.\n",
        "\n",
        "- We can imporve this by increasing the number of epochs to run the model on.\n",
        "- Adding more training data.\n"
      ]
    },
    {
      "cell_type": "markdown",
      "metadata": {
        "id": "_WYfG4SliBkA",
        "colab_type": "text"
      },
      "source": [
        "## Deep Neural Network\n",
        "\n",
        "Now lets dive into a deeper neural networks and see if the accuracy of the model will improve on both the training and test data.\n",
        "\n",
        "- We can add more hidden layers to our neural networks."
      ]
    },
    {
      "cell_type": "code",
      "metadata": {
        "id": "EWqLYi2Zhnk7",
        "colab_type": "code",
        "colab": {}
      },
      "source": [
        "deep_model = keras.Sequential([\n",
        "    # input layer\n",
        "    keras.layers.Flatten(input_shape=(28, 28)),\n",
        "\n",
        "    # three hidden layers\n",
        "    keras.layers.Dense(256, activation='relu'),\n",
        "    keras.layers.Dense(128, activation='relu'),\n",
        "    keras.layers.Dense(64, activation='relu'),\n",
        "\n",
        "    # Output layer with 10 nodes\n",
        "    keras.layers.Dense(10, activation='softmax')\n",
        "])"
      ],
      "execution_count": 0,
      "outputs": []
    },
    {
      "cell_type": "code",
      "metadata": {
        "id": "Wzu-N2e_jTZL",
        "colab_type": "code",
        "colab": {}
      },
      "source": [
        "deep_model.compile(optimizer='adam',\n",
        "              loss=tf.keras.losses.SparseCategoricalCrossentropy(from_logits=True),\n",
        "              metrics=['accuracy'])"
      ],
      "execution_count": 0,
      "outputs": []
    },
    {
      "cell_type": "markdown",
      "metadata": {
        "id": "L5z8ucg_j1ZM",
        "colab_type": "text"
      },
      "source": [
        "After comppiling the model, we fit the model on the training data and run on 10 epochs."
      ]
    },
    {
      "cell_type": "code",
      "metadata": {
        "id": "3DepQ5rPjXxa",
        "colab_type": "code",
        "colab": {
          "base_uri": "https://localhost:8080/",
          "height": 412
        },
        "outputId": "1259e3e6-0ede-4d4a-9719-83bb3846d00d"
      },
      "source": [
        "deep_model.fit(train_images, train_labels, epochs=10)"
      ],
      "execution_count": 16,
      "outputs": [
        {
          "output_type": "stream",
          "text": [
            "Train on 60000 samples\n",
            "Epoch 1/10\n",
            "60000/60000 [==============================] - 6s 101us/sample - loss: 1.7080 - accuracy: 0.7554\n",
            "Epoch 2/10\n",
            "60000/60000 [==============================] - 6s 97us/sample - loss: 1.6396 - accuracy: 0.8208\n",
            "Epoch 3/10\n",
            "60000/60000 [==============================] - 6s 96us/sample - loss: 1.6294 - accuracy: 0.8309\n",
            "Epoch 4/10\n",
            "60000/60000 [==============================] - 6s 96us/sample - loss: 1.6258 - accuracy: 0.8347\n",
            "Epoch 5/10\n",
            "60000/60000 [==============================] - 6s 100us/sample - loss: 1.6210 - accuracy: 0.8396\n",
            "Epoch 6/10\n",
            "60000/60000 [==============================] - 6s 100us/sample - loss: 1.6203 - accuracy: 0.8403\n",
            "Epoch 7/10\n",
            "60000/60000 [==============================] - 6s 97us/sample - loss: 1.6208 - accuracy: 0.8400\n",
            "Epoch 8/10\n",
            "60000/60000 [==============================] - 6s 95us/sample - loss: 1.6207 - accuracy: 0.8400\n",
            "Epoch 9/10\n",
            "60000/60000 [==============================] - 6s 94us/sample - loss: 1.6276 - accuracy: 0.8331\n",
            "Epoch 10/10\n",
            "60000/60000 [==============================] - 6s 92us/sample - loss: 1.6265 - accuracy: 0.8343\n"
          ],
          "name": "stdout"
        },
        {
          "output_type": "execute_result",
          "data": {
            "text/plain": [
              "<tensorflow.python.keras.callbacks.History at 0x7fb68614cc18>"
            ]
          },
          "metadata": {
            "tags": []
          },
          "execution_count": 16
        }
      ]
    },
    {
      "cell_type": "code",
      "metadata": {
        "id": "BgP2zMeajbl9",
        "colab_type": "code",
        "colab": {
          "base_uri": "https://localhost:8080/",
          "height": 70
        },
        "outputId": "53e398f1-7d3a-4782-b8f3-01b9b12716e1"
      },
      "source": [
        "test_loss, test_acc = deep_model.evaluate(test_images,  test_labels, verbose=2)\n",
        "\n",
        "print('\\nTest accuracy:', test_acc)"
      ],
      "execution_count": 17,
      "outputs": [
        {
          "output_type": "stream",
          "text": [
            "10000/1 - 1s - loss: 1.6053 - accuracy: 0.8366\n",
            "\n",
            "Test accuracy: 0.8366\n"
          ],
          "name": "stdout"
        }
      ]
    },
    {
      "cell_type": "markdown",
      "metadata": {
        "id": "tVP3MMCDl0ae",
        "colab_type": "text"
      },
      "source": [
        "- The deep neural network doesn't perform better on the training dataset. But we see the test set with a better accuracy than the train set.\n"
      ]
    },
    {
      "cell_type": "markdown",
      "metadata": {
        "id": "nzrWjn29mF3f",
        "colab_type": "text"
      },
      "source": [
        "#Convolution Neural Network\n",
        "\n",
        "A neural network in which at least one layer is a convolutional layer. A typical convolutional neural network consists of some combination of the following layers:\n",
        "\n",
        "- convolutional layers\n",
        "- pooling layers\n",
        "- dense layers\n",
        "\n",
        "We train the dataset on the convolution neural network. This is another form of deep neural network."
      ]
    },
    {
      "cell_type": "markdown",
      "metadata": {
        "id": "yOCHD3krm1_2",
        "colab_type": "text"
      },
      "source": [
        "### Convolution Model\n",
        "\n",
        "The convolution base contains a convolution layer and a MaxPooling layer.\n",
        "\n",
        "The MaxPooling2D is a filter/kernel used to downsize the image and also retains most of the fetaures of the images. We use a 2x2 kernel here.\n",
        "\n",
        "Notice the input_shape(28,28,1), this means that we have a grayscale image with 28x28 pixels.\n",
        "\n",
        "Reshape the train and test images to be on the same dimension.\n",
        "\n"
      ]
    },
    {
      "cell_type": "code",
      "metadata": {
        "id": "_0sSNL9RrSyF",
        "colab_type": "code",
        "colab": {}
      },
      "source": [
        "train_images_reshaped = train_images.reshape(-1, 28, 28,1)\n",
        "test_images_reshaped = test_images.reshape(-1,28,28,1)"
      ],
      "execution_count": 0,
      "outputs": []
    },
    {
      "cell_type": "code",
      "metadata": {
        "id": "UnHaSyjrkjvG",
        "colab_type": "code",
        "colab": {
          "base_uri": "https://localhost:8080/",
          "height": 448
        },
        "outputId": "682d8d83-8518-4dee-f608-d64086416291"
      },
      "source": [
        "conv_model = models.Sequential()\n",
        "# first convolution layer\n",
        "conv_model.add(layers.Conv2D(32, (3, 3), activation='relu', input_shape=(28, 28, 1)))\n",
        "conv_model.add(layers.MaxPooling2D((2, 2)))\n",
        "\n",
        "# second convolution layer\n",
        "conv_model.add(layers.Conv2D(64, (3, 3), activation='relu'))\n",
        "conv_model.add(layers.MaxPooling2D((2, 2)))\n",
        "\n",
        "# third layer without a maxpool\n",
        "conv_model.add(layers.Conv2D(64, (3, 3), activation='relu'))\n",
        "\n",
        "# flatten the model and add a single dense layer\n",
        "conv_model.add(layers.Flatten())\n",
        "conv_model.add(layers.Dense(64, activation='relu'))\n",
        "\n",
        "# output layer\n",
        "conv_model.add(layers.Dense(10))\n",
        "\n",
        "conv_model.summary()"
      ],
      "execution_count": 19,
      "outputs": [
        {
          "output_type": "stream",
          "text": [
            "Model: \"sequential_2\"\n",
            "_________________________________________________________________\n",
            "Layer (type)                 Output Shape              Param #   \n",
            "=================================================================\n",
            "conv2d (Conv2D)              (None, 26, 26, 32)        320       \n",
            "_________________________________________________________________\n",
            "max_pooling2d (MaxPooling2D) (None, 13, 13, 32)        0         \n",
            "_________________________________________________________________\n",
            "conv2d_1 (Conv2D)            (None, 11, 11, 64)        18496     \n",
            "_________________________________________________________________\n",
            "max_pooling2d_1 (MaxPooling2 (None, 5, 5, 64)          0         \n",
            "_________________________________________________________________\n",
            "conv2d_2 (Conv2D)            (None, 3, 3, 64)          36928     \n",
            "_________________________________________________________________\n",
            "flatten_2 (Flatten)          (None, 576)               0         \n",
            "_________________________________________________________________\n",
            "dense_6 (Dense)              (None, 64)                36928     \n",
            "_________________________________________________________________\n",
            "dense_7 (Dense)              (None, 10)                650       \n",
            "=================================================================\n",
            "Total params: 93,322\n",
            "Trainable params: 93,322\n",
            "Non-trainable params: 0\n",
            "_________________________________________________________________\n"
          ],
          "name": "stdout"
        }
      ]
    },
    {
      "cell_type": "markdown",
      "metadata": {
        "id": "GS15APKOpe68",
        "colab_type": "text"
      },
      "source": [
        "Compile and train the model.\n",
        "\n",
        "- The parameters and values are still same from previous examples."
      ]
    },
    {
      "cell_type": "code",
      "metadata": {
        "id": "tR1iXNhUo4_o",
        "colab_type": "code",
        "colab": {
          "base_uri": "https://localhost:8080/",
          "height": 394
        },
        "outputId": "1a2f45ae-bdbd-4f42-f19d-18bb45b396bc"
      },
      "source": [
        "conv_model.compile(optimizer='adam',\n",
        "              loss=tf.keras.losses.SparseCategoricalCrossentropy(from_logits=True),\n",
        "              metrics=['accuracy'])\n",
        "\n",
        "history = conv_model.fit(train_images_reshaped, train_labels, epochs=10,\n",
        "                    validation_data=(test_images_reshaped, test_labels))"
      ],
      "execution_count": 20,
      "outputs": [
        {
          "output_type": "stream",
          "text": [
            "Train on 60000 samples, validate on 10000 samples\n",
            "Epoch 1/10\n",
            "60000/60000 [==============================] - 49s 818us/sample - loss: 0.5010 - accuracy: 0.8188 - val_loss: 0.3907 - val_accuracy: 0.8589\n",
            "Epoch 2/10\n",
            "60000/60000 [==============================] - 48s 803us/sample - loss: 0.3253 - accuracy: 0.8813 - val_loss: 0.3094 - val_accuracy: 0.8875\n",
            "Epoch 3/10\n",
            "60000/60000 [==============================] - 48s 794us/sample - loss: 0.2794 - accuracy: 0.8973 - val_loss: 0.2918 - val_accuracy: 0.8924\n",
            "Epoch 4/10\n",
            "60000/60000 [==============================] - 47s 787us/sample - loss: 0.2508 - accuracy: 0.9079 - val_loss: 0.2925 - val_accuracy: 0.8929\n",
            "Epoch 5/10\n",
            "60000/60000 [==============================] - 48s 798us/sample - loss: 0.2282 - accuracy: 0.9161 - val_loss: 0.2767 - val_accuracy: 0.8986\n",
            "Epoch 6/10\n",
            "60000/60000 [==============================] - 49s 816us/sample - loss: 0.2071 - accuracy: 0.9241 - val_loss: 0.3039 - val_accuracy: 0.8930\n",
            "Epoch 7/10\n",
            "60000/60000 [==============================] - 54s 895us/sample - loss: 0.1902 - accuracy: 0.9293 - val_loss: 0.2727 - val_accuracy: 0.9017\n",
            "Epoch 8/10\n",
            "60000/60000 [==============================] - 53s 883us/sample - loss: 0.1755 - accuracy: 0.9347 - val_loss: 0.2745 - val_accuracy: 0.9053\n",
            "Epoch 9/10\n",
            "60000/60000 [==============================] - 55s 924us/sample - loss: 0.1617 - accuracy: 0.9398 - val_loss: 0.2698 - val_accuracy: 0.9087\n",
            "Epoch 10/10\n",
            "60000/60000 [==============================] - 56s 941us/sample - loss: 0.1493 - accuracy: 0.9441 - val_loss: 0.2985 - val_accuracy: 0.9060\n"
          ],
          "name": "stdout"
        }
      ]
    },
    {
      "cell_type": "markdown",
      "metadata": {
        "id": "5lNArLTvxWd2",
        "colab_type": "text"
      },
      "source": [
        "- There is an improvement in both training accuracy and validation accuracy.\n",
        "\n",
        "\n",
        "### Evalute the model"
      ]
    },
    {
      "cell_type": "code",
      "metadata": {
        "id": "hxTDk2_Ipu-7",
        "colab_type": "code",
        "colab": {
          "base_uri": "https://localhost:8080/",
          "height": 301
        },
        "outputId": "53237953-7ca4-469b-b597-06d0252dc383"
      },
      "source": [
        "# Plot the model training accuracy and validation accuracy\n",
        "plt.plot(history.history['accuracy'], label='accuracy')\n",
        "plt.plot(history.history['val_accuracy'], label = 'val_accuracy')\n",
        "plt.xlabel('Epoch')\n",
        "plt.ylabel('Accuracy')\n",
        "plt.ylim([0.5, 1])\n",
        "plt.legend(loc='lower right')"
      ],
      "execution_count": 21,
      "outputs": [
        {
          "output_type": "execute_result",
          "data": {
            "text/plain": [
              "<matplotlib.legend.Legend at 0x7fb6883469e8>"
            ]
          },
          "metadata": {
            "tags": []
          },
          "execution_count": 21
        },
        {
          "output_type": "display_data",
          "data": {
            "image/png": "[encoded data removed]",
            "text/plain": [
              "<Figure size 432x288 with 1 Axes>"
            ]
          },
          "metadata": {
            "tags": []
          }
        }
      ]
    },
    {
      "cell_type": "markdown",
      "metadata": {
        "id": "VunC1eo0yAu8",
        "colab_type": "text"
      },
      "source": [
        "- Plot shows the accuracy of both the train and validation data after each epoch."
      ]
    },
    {
      "cell_type": "markdown",
      "metadata": {
        "id": "XBpCeeoa3zRC",
        "colab_type": "text"
      },
      "source": [
        "# Predictions"
      ]
    },
    {
      "cell_type": "code",
      "metadata": {
        "id": "e43naWCtxx8F",
        "colab_type": "code",
        "colab": {}
      },
      "source": [
        "probability_model = tf.keras.Sequential([conv_model, \n",
        "                                         tf.keras.layers.Softmax()])"
      ],
      "execution_count": 0,
      "outputs": []
    },
    {
      "cell_type": "markdown",
      "metadata": {
        "id": "zrhZVpVd392w",
        "colab_type": "text"
      },
      "source": [
        "- Convert the model outputs to probability"
      ]
    },
    {
      "cell_type": "code",
      "metadata": {
        "id": "1HaL8To1yWF2",
        "colab_type": "code",
        "colab": {}
      },
      "source": [
        "predictions = probability_model.predict(test_images_reshaped)"
      ],
      "execution_count": 0,
      "outputs": []
    },
    {
      "cell_type": "code",
      "metadata": {
        "id": "tkPVrGZZyX7z",
        "colab_type": "code",
        "colab": {
          "base_uri": "https://localhost:8080/",
          "height": 70
        },
        "outputId": "d2a42fda-7fb1-44b7-f569-1b9c59f519de"
      },
      "source": [
        "predictions[0]"
      ],
      "execution_count": 25,
      "outputs": [
        {
          "output_type": "execute_result",
          "data": {
            "text/plain": [
              "array([1.9363503e-08, 4.2351079e-05, 1.1647673e-08, 1.6357351e-08,\n",
              "       1.1256308e-08, 1.9276835e-04, 5.4557505e-09, 2.6176148e-04,\n",
              "       2.3155872e-07, 9.9950278e-01], dtype=float32)"
            ]
          },
          "metadata": {
            "tags": []
          },
          "execution_count": 25
        }
      ]
    },
    {
      "cell_type": "markdown",
      "metadata": {
        "id": "ueb_eWSN4FZT",
        "colab_type": "text"
      },
      "source": [
        "- Produce predictions as an array of 10 numbers.\n",
        "\n",
        "They represent the model's \"confidence\" that the image corresponds to each of the 10 different articles of clothing. You can see which label has the highest confidence value"
      ]
    },
    {
      "cell_type": "code",
      "metadata": {
        "id": "lETyEyrFyaH0",
        "colab_type": "code",
        "colab": {
          "base_uri": "https://localhost:8080/",
          "height": 34
        },
        "outputId": "7dc61c95-4b71-4d30-ed7f-27196818a462"
      },
      "source": [
        "np.argmax(predictions[0])"
      ],
      "execution_count": 26,
      "outputs": [
        {
          "output_type": "execute_result",
          "data": {
            "text/plain": [
              "9"
            ]
          },
          "metadata": {
            "tags": []
          },
          "execution_count": 26
        }
      ]
    },
    {
      "cell_type": "code",
      "metadata": {
        "id": "AdCWu4gZyiPf",
        "colab_type": "code",
        "colab": {
          "base_uri": "https://localhost:8080/",
          "height": 34
        },
        "outputId": "1ab78548-2dd2-4b71-df9b-531464ef812f"
      },
      "source": [
        "test_labels[0]"
      ],
      "execution_count": 27,
      "outputs": [
        {
          "output_type": "execute_result",
          "data": {
            "text/plain": [
              "9"
            ]
          },
          "metadata": {
            "tags": []
          },
          "execution_count": 27
        }
      ]
    },
    {
      "cell_type": "markdown",
      "metadata": {
        "id": "Wbun4Mhj4Z6_",
        "colab_type": "text"
      },
      "source": [
        "A graph to plot the predictions of all the 10 class"
      ]
    },
    {
      "cell_type": "code",
      "metadata": {
        "id": "_XheQx9VycCy",
        "colab_type": "code",
        "colab": {}
      },
      "source": [
        "def plot_image(i, predictions_array, true_label, img):\n",
        "  \"\"\"\n",
        "  A function to plot the image and its labels\n",
        "  \"\"\"\n",
        "  predictions_array, true_label, img = predictions_array, true_label[i], img[i]\n",
        "  plt.grid(False)\n",
        "  plt.xticks([])\n",
        "  plt.yticks([])\n",
        "\n",
        "  plt.imshow(img, cmap=plt.cm.binary)\n",
        "\n",
        "# Blue of the prediction is coreect and red for wrong predictions\n",
        "  predicted_label = np.argmax(predictions_array)\n",
        "  if predicted_label == true_label:\n",
        "    color = 'blue'\n",
        "  else:\n",
        "    color = 'red'\n",
        "\n",
        "  plt.xlabel(\"{} {:2.0f}% ({})\".format(class_names[predicted_label],\n",
        "                                100*np.max(predictions_array),\n",
        "                                class_names[true_label]),\n",
        "                                color=color)\n",
        "\n",
        "def plot_value_array(i, predictions_array, true_label):\n",
        "  \"\"\"\n",
        "  A function to plot the value array of the predictions along side it probability score\n",
        "  \"\"\"\n",
        "  predictions_array, true_label = predictions_array, true_label[i]\n",
        "  plt.grid(False)\n",
        "  plt.xticks(range(10))\n",
        "  plt.yticks([])\n",
        "  thisplot = plt.bar(range(10), predictions_array, color=\"#777777\")\n",
        "  plt.ylim([0, 1])\n",
        "  predicted_label = np.argmax(predictions_array)\n",
        "\n",
        "  thisplot[predicted_label].set_color('red')\n",
        "  thisplot[true_label].set_color('blue')"
      ],
      "execution_count": 0,
      "outputs": []
    },
    {
      "cell_type": "code",
      "metadata": {
        "id": "h9PslLnEynGJ",
        "colab_type": "code",
        "colab": {
          "base_uri": "https://localhost:8080/",
          "height": 729
        },
        "outputId": "cff0cc26-1b05-48b1-cf55-299fcdd6014d"
      },
      "source": [
        "# Plot the first X test images, their predicted labels, and the true labels.\n",
        "# Color correct predictions in blue and incorrect predictions in red.\n",
        "num_rows = 5\n",
        "num_cols = 3\n",
        "num_images = num_rows*num_cols\n",
        "plt.figure(figsize=(2*2*num_cols, 2*num_rows))\n",
        "for i in range(num_images):\n",
        "  plt.subplot(num_rows, 2*num_cols, 2*i+1)\n",
        "  plot_image(i, predictions[i], test_labels, test_images)\n",
        "  plt.subplot(num_rows, 2*num_cols, 2*i+2)\n",
        "  plot_value_array(i, predictions[i], test_labels)\n",
        "plt.tight_layout()\n",
        "plt.show()"
      ],
      "execution_count": 30,
      "outputs": [
        {
          "output_type": "display_data",
          "data": {
            "image/png": "[encoded data removed]",
            "text/plain": [
              "<Figure size 864x720 with 30 Axes>"
            ]
          },
          "metadata": {
            "tags": []
          }
        }
      ]
    },
    {
      "cell_type": "markdown",
      "metadata": {
        "id": "paIo1D8x4_Cv",
        "colab_type": "text"
      },
      "source": [
        "From all the plots above, we see that there was only one misclassified image which is the sneaker misclassified as a sandals."
      ]
    },
    {
      "cell_type": "code",
      "metadata": {
        "id": "3xg8mhXG3vFU",
        "colab_type": "code",
        "colab": {}
      },
      "source": [
        ""
      ],
      "execution_count": 0,
      "outputs": []
    }
  ]
}