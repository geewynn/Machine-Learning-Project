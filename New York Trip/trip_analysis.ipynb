{
  "nbformat": 4,
  "nbformat_minor": 0,
  "metadata": {
    "colab": {
      "name": "trip_analysis",
      "provenance": []
    },
    "kernelspec": {
      "name": "python3",
      "display_name": "Python 3"
    },
    "accelerator": "GPU"
  },
  "cells": [
    {
      "cell_type": "code",
      "metadata": {
        "id": "CxxvwQLe3gab",
        "colab_type": "code",
        "colab": {}
      },
      "source": [
        "import pandas as pd\n",
        "import numpy as np\n",
        "import seaborn as sns\n",
        "import matplotlib.pyplot as plt\n",
        "import plotly.graph_objects as go\n"
      ],
      "execution_count": 0,
      "outputs": []
    },
    {
      "cell_type": "code",
      "metadata": {
        "id": "foKbpIHR3C7L",
        "colab_type": "code",
        "outputId": "4747bb52-1ca8-4df4-997b-27327d531526",
        "colab": {
          "base_uri": "https://localhost:8080/",
          "height": 214
        }
      },
      "source": [
        "!wget https://s3.amazonaws.com/nyc-tlc/trip+data/yellow_tripdata_2019-01.csv"
      ],
      "execution_count": 2,
      "outputs": [
        {
          "output_type": "stream",
          "text": [
            "--2020-01-14 10:58:19--  https://s3.amazonaws.com/nyc-tlc/trip+data/yellow_tripdata_2019-01.csv\n",
            "Resolving s3.amazonaws.com (s3.amazonaws.com)... 52.216.92.117\n",
            "Connecting to s3.amazonaws.com (s3.amazonaws.com)|52.216.92.117|:443... connected.\n",
            "HTTP request sent, awaiting response... 200 OK\n",
            "Length: 687088084 (655M) [text/csv]\n",
            "Saving to: ‘yellow_tripdata_2019-01.csv’\n",
            "\n",
            "yellow_tripdata_201 100%[===================>] 655.26M  16.5MB/s    in 41s     \n",
            "\n",
            "2020-01-14 10:59:00 (16.0 MB/s) - ‘yellow_tripdata_2019-01.csv’ saved [687088084/687088084]\n",
            "\n"
          ],
          "name": "stdout"
        }
      ]
    },
    {
      "cell_type": "code",
      "metadata": {
        "id": "coe4xTw73Ox7",
        "colab_type": "code",
        "outputId": "89f2c28e-5e10-4c1d-ad6f-fe13348e80b1",
        "colab": {
          "base_uri": "https://localhost:8080/",
          "height": 209
        }
      },
      "source": [
        "data = pd.read_csv('/content/yellow_tripdata_2019-01.csv')\n",
        "data.head()"
      ],
      "execution_count": 3,
      "outputs": [
        {
          "output_type": "execute_result",
          "data": {
            "text/html": [
              "<div>\n",
              "<style scoped>\n",
              "    .dataframe tbody tr th:only-of-type {\n",
              "        vertical-align: middle;\n",
              "    }\n",
              "\n",
              "    .dataframe tbody tr th {\n",
              "        vertical-align: top;\n",
              "    }\n",
              "\n",
              "    .dataframe thead th {\n",
              "        text-align: right;\n",
              "    }\n",
              "</style>\n",
              "<table border=\"1\" class=\"dataframe\">\n",
              "  <thead>\n",
              "    <tr style=\"text-align: right;\">\n",
              "      <th></th>\n",
              "      <th>VendorID</th>\n",
              "      <th>tpep_pickup_datetime</th>\n",
              "      <th>tpep_dropoff_datetime</th>\n",
              "      <th>passenger_count</th>\n",
              "      <th>trip_distance</th>\n",
              "      <th>RatecodeID</th>\n",
              "      <th>store_and_fwd_flag</th>\n",
              "      <th>PULocationID</th>\n",
              "      <th>DOLocationID</th>\n",
              "      <th>payment_type</th>\n",
              "      <th>fare_amount</th>\n",
              "      <th>extra</th>\n",
              "      <th>mta_tax</th>\n",
              "      <th>tip_amount</th>\n",
              "      <th>tolls_amount</th>\n",
              "      <th>improvement_surcharge</th>\n",
              "      <th>total_amount</th>\n",
              "      <th>congestion_surcharge</th>\n",
              "    </tr>\n",
              "  </thead>\n",
              "  <tbody>\n",
              "    <tr>\n",
              "      <th>0</th>\n",
              "      <td>1</td>\n",
              "      <td>2019-01-01 00:46:40</td>\n",
              "      <td>2019-01-01 00:53:20</td>\n",
              "      <td>1</td>\n",
              "      <td>1.5</td>\n",
              "      <td>1</td>\n",
              "      <td>N</td>\n",
              "      <td>151</td>\n",
              "      <td>239</td>\n",
              "      <td>1</td>\n",
              "      <td>7.0</td>\n",
              "      <td>0.5</td>\n",
              "      <td>0.5</td>\n",
              "      <td>1.65</td>\n",
              "      <td>0.0</td>\n",
              "      <td>0.3</td>\n",
              "      <td>9.95</td>\n",
              "      <td>NaN</td>\n",
              "    </tr>\n",
              "    <tr>\n",
              "      <th>1</th>\n",
              "      <td>1</td>\n",
              "      <td>2019-01-01 00:59:47</td>\n",
              "      <td>2019-01-01 01:18:59</td>\n",
              "      <td>1</td>\n",
              "      <td>2.6</td>\n",
              "      <td>1</td>\n",
              "      <td>N</td>\n",
              "      <td>239</td>\n",
              "      <td>246</td>\n",
              "      <td>1</td>\n",
              "      <td>14.0</td>\n",
              "      <td>0.5</td>\n",
              "      <td>0.5</td>\n",
              "      <td>1.00</td>\n",
              "      <td>0.0</td>\n",
              "      <td>0.3</td>\n",
              "      <td>16.30</td>\n",
              "      <td>NaN</td>\n",
              "    </tr>\n",
              "    <tr>\n",
              "      <th>2</th>\n",
              "      <td>2</td>\n",
              "      <td>2018-12-21 13:48:30</td>\n",
              "      <td>2018-12-21 13:52:40</td>\n",
              "      <td>3</td>\n",
              "      <td>0.0</td>\n",
              "      <td>1</td>\n",
              "      <td>N</td>\n",
              "      <td>236</td>\n",
              "      <td>236</td>\n",
              "      <td>1</td>\n",
              "      <td>4.5</td>\n",
              "      <td>0.5</td>\n",
              "      <td>0.5</td>\n",
              "      <td>0.00</td>\n",
              "      <td>0.0</td>\n",
              "      <td>0.3</td>\n",
              "      <td>5.80</td>\n",
              "      <td>NaN</td>\n",
              "    </tr>\n",
              "    <tr>\n",
              "      <th>3</th>\n",
              "      <td>2</td>\n",
              "      <td>2018-11-28 15:52:25</td>\n",
              "      <td>2018-11-28 15:55:45</td>\n",
              "      <td>5</td>\n",
              "      <td>0.0</td>\n",
              "      <td>1</td>\n",
              "      <td>N</td>\n",
              "      <td>193</td>\n",
              "      <td>193</td>\n",
              "      <td>2</td>\n",
              "      <td>3.5</td>\n",
              "      <td>0.5</td>\n",
              "      <td>0.5</td>\n",
              "      <td>0.00</td>\n",
              "      <td>0.0</td>\n",
              "      <td>0.3</td>\n",
              "      <td>7.55</td>\n",
              "      <td>NaN</td>\n",
              "    </tr>\n",
              "    <tr>\n",
              "      <th>4</th>\n",
              "      <td>2</td>\n",
              "      <td>2018-11-28 15:56:57</td>\n",
              "      <td>2018-11-28 15:58:33</td>\n",
              "      <td>5</td>\n",
              "      <td>0.0</td>\n",
              "      <td>2</td>\n",
              "      <td>N</td>\n",
              "      <td>193</td>\n",
              "      <td>193</td>\n",
              "      <td>2</td>\n",
              "      <td>52.0</td>\n",
              "      <td>0.0</td>\n",
              "      <td>0.5</td>\n",
              "      <td>0.00</td>\n",
              "      <td>0.0</td>\n",
              "      <td>0.3</td>\n",
              "      <td>55.55</td>\n",
              "      <td>NaN</td>\n",
              "    </tr>\n",
              "  </tbody>\n",
              "</table>\n",
              "</div>"
            ],
            "text/plain": [
              "   VendorID tpep_pickup_datetime  ... total_amount  congestion_surcharge\n",
              "0         1  2019-01-01 00:46:40  ...         9.95                   NaN\n",
              "1         1  2019-01-01 00:59:47  ...        16.30                   NaN\n",
              "2         2  2018-12-21 13:48:30  ...         5.80                   NaN\n",
              "3         2  2018-11-28 15:52:25  ...         7.55                   NaN\n",
              "4         2  2018-11-28 15:56:57  ...        55.55                   NaN\n",
              "\n",
              "[5 rows x 18 columns]"
            ]
          },
          "metadata": {
            "tags": []
          },
          "execution_count": 3
        }
      ]
    },
    {
      "cell_type": "code",
      "metadata": {
        "id": "ZlazzW3k3X2T",
        "colab_type": "code",
        "outputId": "27a6043d-bee3-46f6-dc13-f306f0f790de",
        "colab": {
          "base_uri": "https://localhost:8080/",
          "height": 430
        }
      },
      "source": [
        "data.info()"
      ],
      "execution_count": 4,
      "outputs": [
        {
          "output_type": "stream",
          "text": [
            "<class 'pandas.core.frame.DataFrame'>\n",
            "RangeIndex: 7667792 entries, 0 to 7667791\n",
            "Data columns (total 18 columns):\n",
            "VendorID                 int64\n",
            "tpep_pickup_datetime     object\n",
            "tpep_dropoff_datetime    object\n",
            "passenger_count          int64\n",
            "trip_distance            float64\n",
            "RatecodeID               int64\n",
            "store_and_fwd_flag       object\n",
            "PULocationID             int64\n",
            "DOLocationID             int64\n",
            "payment_type             int64\n",
            "fare_amount              float64\n",
            "extra                    float64\n",
            "mta_tax                  float64\n",
            "tip_amount               float64\n",
            "tolls_amount             float64\n",
            "improvement_surcharge    float64\n",
            "total_amount             float64\n",
            "congestion_surcharge     float64\n",
            "dtypes: float64(9), int64(6), object(3)\n",
            "memory usage: 1.0+ GB\n"
          ],
          "name": "stdout"
        }
      ]
    },
    {
      "cell_type": "code",
      "metadata": {
        "id": "lLYZCN9r49Pj",
        "colab_type": "code",
        "outputId": "0e69b768-9b61-4aa4-8455-5f75206db071",
        "colab": {
          "base_uri": "https://localhost:8080/",
          "height": 294
        }
      },
      "source": [
        "data.describe()"
      ],
      "execution_count": 5,
      "outputs": [
        {
          "output_type": "execute_result",
          "data": {
            "text/html": [
              "<div>\n",
              "<style scoped>\n",
              "    .dataframe tbody tr th:only-of-type {\n",
              "        vertical-align: middle;\n",
              "    }\n",
              "\n",
              "    .dataframe tbody tr th {\n",
              "        vertical-align: top;\n",
              "    }\n",
              "\n",
              "    .dataframe thead th {\n",
              "        text-align: right;\n",
              "    }\n",
              "</style>\n",
              "<table border=\"1\" class=\"dataframe\">\n",
              "  <thead>\n",
              "    <tr style=\"text-align: right;\">\n",
              "      <th></th>\n",
              "      <th>VendorID</th>\n",
              "      <th>passenger_count</th>\n",
              "      <th>trip_distance</th>\n",
              "      <th>RatecodeID</th>\n",
              "      <th>PULocationID</th>\n",
              "      <th>DOLocationID</th>\n",
              "      <th>payment_type</th>\n",
              "      <th>fare_amount</th>\n",
              "      <th>extra</th>\n",
              "      <th>mta_tax</th>\n",
              "      <th>tip_amount</th>\n",
              "      <th>tolls_amount</th>\n",
              "      <th>improvement_surcharge</th>\n",
              "      <th>total_amount</th>\n",
              "      <th>congestion_surcharge</th>\n",
              "    </tr>\n",
              "  </thead>\n",
              "  <tbody>\n",
              "    <tr>\n",
              "      <th>count</th>\n",
              "      <td>7.667792e+06</td>\n",
              "      <td>7.667792e+06</td>\n",
              "      <td>7.667792e+06</td>\n",
              "      <td>7.667792e+06</td>\n",
              "      <td>7.667792e+06</td>\n",
              "      <td>7.667792e+06</td>\n",
              "      <td>7.667792e+06</td>\n",
              "      <td>7.667792e+06</td>\n",
              "      <td>7.667792e+06</td>\n",
              "      <td>7.667792e+06</td>\n",
              "      <td>7.667792e+06</td>\n",
              "      <td>7.667792e+06</td>\n",
              "      <td>7.667792e+06</td>\n",
              "      <td>7.667792e+06</td>\n",
              "      <td>2.811814e+06</td>\n",
              "    </tr>\n",
              "    <tr>\n",
              "      <th>mean</th>\n",
              "      <td>1.636775e+00</td>\n",
              "      <td>1.567078e+00</td>\n",
              "      <td>2.801084e+00</td>\n",
              "      <td>1.058371e+00</td>\n",
              "      <td>1.655009e+02</td>\n",
              "      <td>1.637529e+02</td>\n",
              "      <td>1.291776e+00</td>\n",
              "      <td>1.240941e+01</td>\n",
              "      <td>3.280394e-01</td>\n",
              "      <td>4.968458e-01</td>\n",
              "      <td>1.827367e+00</td>\n",
              "      <td>3.169187e-01</td>\n",
              "      <td>2.993382e-01</td>\n",
              "      <td>1.568222e+01</td>\n",
              "      <td>3.289691e-05</td>\n",
              "    </tr>\n",
              "    <tr>\n",
              "      <th>std</th>\n",
              "      <td>5.398204e-01</td>\n",
              "      <td>1.224431e+00</td>\n",
              "      <td>3.737529e+00</td>\n",
              "      <td>6.780889e-01</td>\n",
              "      <td>6.639180e+01</td>\n",
              "      <td>7.036445e+01</td>\n",
              "      <td>4.733229e-01</td>\n",
              "      <td>2.620721e+02</td>\n",
              "      <td>5.074789e-01</td>\n",
              "      <td>5.337843e-02</td>\n",
              "      <td>2.501213e+00</td>\n",
              "      <td>2.023665e+00</td>\n",
              "      <td>1.911711e-02</td>\n",
              "      <td>2.622932e+02</td>\n",
              "      <td>9.068695e-03</td>\n",
              "    </tr>\n",
              "    <tr>\n",
              "      <th>min</th>\n",
              "      <td>1.000000e+00</td>\n",
              "      <td>0.000000e+00</td>\n",
              "      <td>0.000000e+00</td>\n",
              "      <td>1.000000e+00</td>\n",
              "      <td>1.000000e+00</td>\n",
              "      <td>1.000000e+00</td>\n",
              "      <td>1.000000e+00</td>\n",
              "      <td>-3.620000e+02</td>\n",
              "      <td>-6.000000e+01</td>\n",
              "      <td>-5.000000e-01</td>\n",
              "      <td>-6.350000e+01</td>\n",
              "      <td>-7.000000e+01</td>\n",
              "      <td>-3.000000e-01</td>\n",
              "      <td>-3.628000e+02</td>\n",
              "      <td>0.000000e+00</td>\n",
              "    </tr>\n",
              "    <tr>\n",
              "      <th>25%</th>\n",
              "      <td>1.000000e+00</td>\n",
              "      <td>1.000000e+00</td>\n",
              "      <td>9.000000e-01</td>\n",
              "      <td>1.000000e+00</td>\n",
              "      <td>1.300000e+02</td>\n",
              "      <td>1.130000e+02</td>\n",
              "      <td>1.000000e+00</td>\n",
              "      <td>6.000000e+00</td>\n",
              "      <td>0.000000e+00</td>\n",
              "      <td>5.000000e-01</td>\n",
              "      <td>0.000000e+00</td>\n",
              "      <td>0.000000e+00</td>\n",
              "      <td>3.000000e-01</td>\n",
              "      <td>8.190000e+00</td>\n",
              "      <td>0.000000e+00</td>\n",
              "    </tr>\n",
              "    <tr>\n",
              "      <th>50%</th>\n",
              "      <td>2.000000e+00</td>\n",
              "      <td>1.000000e+00</td>\n",
              "      <td>1.530000e+00</td>\n",
              "      <td>1.000000e+00</td>\n",
              "      <td>1.620000e+02</td>\n",
              "      <td>1.620000e+02</td>\n",
              "      <td>1.000000e+00</td>\n",
              "      <td>8.500000e+00</td>\n",
              "      <td>0.000000e+00</td>\n",
              "      <td>5.000000e-01</td>\n",
              "      <td>1.430000e+00</td>\n",
              "      <td>0.000000e+00</td>\n",
              "      <td>3.000000e-01</td>\n",
              "      <td>1.127000e+01</td>\n",
              "      <td>0.000000e+00</td>\n",
              "    </tr>\n",
              "    <tr>\n",
              "      <th>75%</th>\n",
              "      <td>2.000000e+00</td>\n",
              "      <td>2.000000e+00</td>\n",
              "      <td>2.800000e+00</td>\n",
              "      <td>1.000000e+00</td>\n",
              "      <td>2.340000e+02</td>\n",
              "      <td>2.340000e+02</td>\n",
              "      <td>2.000000e+00</td>\n",
              "      <td>1.350000e+01</td>\n",
              "      <td>5.000000e-01</td>\n",
              "      <td>5.000000e-01</td>\n",
              "      <td>2.330000e+00</td>\n",
              "      <td>0.000000e+00</td>\n",
              "      <td>3.000000e-01</td>\n",
              "      <td>1.656000e+01</td>\n",
              "      <td>0.000000e+00</td>\n",
              "    </tr>\n",
              "    <tr>\n",
              "      <th>max</th>\n",
              "      <td>4.000000e+00</td>\n",
              "      <td>9.000000e+00</td>\n",
              "      <td>8.318000e+02</td>\n",
              "      <td>9.900000e+01</td>\n",
              "      <td>2.650000e+02</td>\n",
              "      <td>2.650000e+02</td>\n",
              "      <td>4.000000e+00</td>\n",
              "      <td>6.232599e+05</td>\n",
              "      <td>5.353800e+02</td>\n",
              "      <td>6.080000e+01</td>\n",
              "      <td>7.872500e+02</td>\n",
              "      <td>3.288000e+03</td>\n",
              "      <td>6.000000e-01</td>\n",
              "      <td>6.232617e+05</td>\n",
              "      <td>2.500000e+00</td>\n",
              "    </tr>\n",
              "  </tbody>\n",
              "</table>\n",
              "</div>"
            ],
            "text/plain": [
              "           VendorID  passenger_count  ...  total_amount  congestion_surcharge\n",
              "count  7.667792e+06     7.667792e+06  ...  7.667792e+06          2.811814e+06\n",
              "mean   1.636775e+00     1.567078e+00  ...  1.568222e+01          3.289691e-05\n",
              "std    5.398204e-01     1.224431e+00  ...  2.622932e+02          9.068695e-03\n",
              "min    1.000000e+00     0.000000e+00  ... -3.628000e+02          0.000000e+00\n",
              "25%    1.000000e+00     1.000000e+00  ...  8.190000e+00          0.000000e+00\n",
              "50%    2.000000e+00     1.000000e+00  ...  1.127000e+01          0.000000e+00\n",
              "75%    2.000000e+00     2.000000e+00  ...  1.656000e+01          0.000000e+00\n",
              "max    4.000000e+00     9.000000e+00  ...  6.232617e+05          2.500000e+00\n",
              "\n",
              "[8 rows x 15 columns]"
            ]
          },
          "metadata": {
            "tags": []
          },
          "execution_count": 5
        }
      ]
    },
    {
      "cell_type": "code",
      "metadata": {
        "id": "gdtktmZr5Gpu",
        "colab_type": "code",
        "outputId": "36b7a4d5-9fda-471f-f708-db7bb7a4df3a",
        "colab": {
          "base_uri": "https://localhost:8080/",
          "height": 34
        }
      },
      "source": [
        "data.shape"
      ],
      "execution_count": 6,
      "outputs": [
        {
          "output_type": "execute_result",
          "data": {
            "text/plain": [
              "(7667792, 18)"
            ]
          },
          "metadata": {
            "tags": []
          },
          "execution_count": 6
        }
      ]
    },
    {
      "cell_type": "code",
      "metadata": {
        "id": "UMjSOOCH59iA",
        "colab_type": "code",
        "outputId": "fa96a4dd-03d5-4bf5-e00e-fc65e6dcd40c",
        "colab": {
          "base_uri": "https://localhost:8080/",
          "height": 358
        }
      },
      "source": [
        "data.isnull().sum()"
      ],
      "execution_count": 7,
      "outputs": [
        {
          "output_type": "execute_result",
          "data": {
            "text/plain": [
              "VendorID                       0\n",
              "tpep_pickup_datetime           0\n",
              "tpep_dropoff_datetime          0\n",
              "passenger_count                0\n",
              "trip_distance                  0\n",
              "RatecodeID                     0\n",
              "store_and_fwd_flag             0\n",
              "PULocationID                   0\n",
              "DOLocationID                   0\n",
              "payment_type                   0\n",
              "fare_amount                    0\n",
              "extra                          0\n",
              "mta_tax                        0\n",
              "tip_amount                     0\n",
              "tolls_amount                   0\n",
              "improvement_surcharge          0\n",
              "total_amount                   0\n",
              "congestion_surcharge     4855978\n",
              "dtype: int64"
            ]
          },
          "metadata": {
            "tags": []
          },
          "execution_count": 7
        }
      ]
    },
    {
      "cell_type": "code",
      "metadata": {
        "id": "YPm8F5mn6D2s",
        "colab_type": "code",
        "colab": {}
      },
      "source": [
        "data = data.drop(['congestion_surcharge'], axis=1)"
      ],
      "execution_count": 0,
      "outputs": []
    },
    {
      "cell_type": "code",
      "metadata": {
        "id": "cmZ5h8Ua6Raa",
        "colab_type": "code",
        "colab": {}
      },
      "source": [
        "data['tpep_dropoff_datetime'] = pd.to_datetime(data['tpep_dropoff_datetime'])\n",
        "data['tpep_pickup_datetime'] = pd.to_datetime(data['tpep_pickup_datetime'])\n"
      ],
      "execution_count": 0,
      "outputs": []
    },
    {
      "cell_type": "code",
      "metadata": {
        "id": "VzaGfUml-gQP",
        "colab_type": "code",
        "outputId": "b0839d61-655a-4d03-a7d5-0902affc4052",
        "colab": {
          "base_uri": "https://localhost:8080/",
          "height": 412
        }
      },
      "source": [
        "data.info()"
      ],
      "execution_count": 10,
      "outputs": [
        {
          "output_type": "stream",
          "text": [
            "<class 'pandas.core.frame.DataFrame'>\n",
            "RangeIndex: 7667792 entries, 0 to 7667791\n",
            "Data columns (total 17 columns):\n",
            "VendorID                 int64\n",
            "tpep_pickup_datetime     datetime64[ns]\n",
            "tpep_dropoff_datetime    datetime64[ns]\n",
            "passenger_count          int64\n",
            "trip_distance            float64\n",
            "RatecodeID               int64\n",
            "store_and_fwd_flag       object\n",
            "PULocationID             int64\n",
            "DOLocationID             int64\n",
            "payment_type             int64\n",
            "fare_amount              float64\n",
            "extra                    float64\n",
            "mta_tax                  float64\n",
            "tip_amount               float64\n",
            "tolls_amount             float64\n",
            "improvement_surcharge    float64\n",
            "total_amount             float64\n",
            "dtypes: datetime64[ns](2), float64(8), int64(6), object(1)\n",
            "memory usage: 994.5+ MB\n"
          ],
          "name": "stdout"
        }
      ]
    },
    {
      "cell_type": "code",
      "metadata": {
        "id": "YcJwyk6C-hjj",
        "colab_type": "code",
        "outputId": "1124608b-0d38-4c5f-c0ec-a21385398196",
        "colab": {
          "base_uri": "https://localhost:8080/",
          "height": 209
        }
      },
      "source": [
        "data.head()"
      ],
      "execution_count": 11,
      "outputs": [
        {
          "output_type": "execute_result",
          "data": {
            "text/html": [
              "<div>\n",
              "<style scoped>\n",
              "    .dataframe tbody tr th:only-of-type {\n",
              "        vertical-align: middle;\n",
              "    }\n",
              "\n",
              "    .dataframe tbody tr th {\n",
              "        vertical-align: top;\n",
              "    }\n",
              "\n",
              "    .dataframe thead th {\n",
              "        text-align: right;\n",
              "    }\n",
              "</style>\n",
              "<table border=\"1\" class=\"dataframe\">\n",
              "  <thead>\n",
              "    <tr style=\"text-align: right;\">\n",
              "      <th></th>\n",
              "      <th>VendorID</th>\n",
              "      <th>tpep_pickup_datetime</th>\n",
              "      <th>tpep_dropoff_datetime</th>\n",
              "      <th>passenger_count</th>\n",
              "      <th>trip_distance</th>\n",
              "      <th>RatecodeID</th>\n",
              "      <th>store_and_fwd_flag</th>\n",
              "      <th>PULocationID</th>\n",
              "      <th>DOLocationID</th>\n",
              "      <th>payment_type</th>\n",
              "      <th>fare_amount</th>\n",
              "      <th>extra</th>\n",
              "      <th>mta_tax</th>\n",
              "      <th>tip_amount</th>\n",
              "      <th>tolls_amount</th>\n",
              "      <th>improvement_surcharge</th>\n",
              "      <th>total_amount</th>\n",
              "    </tr>\n",
              "  </thead>\n",
              "  <tbody>\n",
              "    <tr>\n",
              "      <th>0</th>\n",
              "      <td>1</td>\n",
              "      <td>2019-01-01 00:46:40</td>\n",
              "      <td>2019-01-01 00:53:20</td>\n",
              "      <td>1</td>\n",
              "      <td>1.5</td>\n",
              "      <td>1</td>\n",
              "      <td>N</td>\n",
              "      <td>151</td>\n",
              "      <td>239</td>\n",
              "      <td>1</td>\n",
              "      <td>7.0</td>\n",
              "      <td>0.5</td>\n",
              "      <td>0.5</td>\n",
              "      <td>1.65</td>\n",
              "      <td>0.0</td>\n",
              "      <td>0.3</td>\n",
              "      <td>9.95</td>\n",
              "    </tr>\n",
              "    <tr>\n",
              "      <th>1</th>\n",
              "      <td>1</td>\n",
              "      <td>2019-01-01 00:59:47</td>\n",
              "      <td>2019-01-01 01:18:59</td>\n",
              "      <td>1</td>\n",
              "      <td>2.6</td>\n",
              "      <td>1</td>\n",
              "      <td>N</td>\n",
              "      <td>239</td>\n",
              "      <td>246</td>\n",
              "      <td>1</td>\n",
              "      <td>14.0</td>\n",
              "      <td>0.5</td>\n",
              "      <td>0.5</td>\n",
              "      <td>1.00</td>\n",
              "      <td>0.0</td>\n",
              "      <td>0.3</td>\n",
              "      <td>16.30</td>\n",
              "    </tr>\n",
              "    <tr>\n",
              "      <th>2</th>\n",
              "      <td>2</td>\n",
              "      <td>2018-12-21 13:48:30</td>\n",
              "      <td>2018-12-21 13:52:40</td>\n",
              "      <td>3</td>\n",
              "      <td>0.0</td>\n",
              "      <td>1</td>\n",
              "      <td>N</td>\n",
              "      <td>236</td>\n",
              "      <td>236</td>\n",
              "      <td>1</td>\n",
              "      <td>4.5</td>\n",
              "      <td>0.5</td>\n",
              "      <td>0.5</td>\n",
              "      <td>0.00</td>\n",
              "      <td>0.0</td>\n",
              "      <td>0.3</td>\n",
              "      <td>5.80</td>\n",
              "    </tr>\n",
              "    <tr>\n",
              "      <th>3</th>\n",
              "      <td>2</td>\n",
              "      <td>2018-11-28 15:52:25</td>\n",
              "      <td>2018-11-28 15:55:45</td>\n",
              "      <td>5</td>\n",
              "      <td>0.0</td>\n",
              "      <td>1</td>\n",
              "      <td>N</td>\n",
              "      <td>193</td>\n",
              "      <td>193</td>\n",
              "      <td>2</td>\n",
              "      <td>3.5</td>\n",
              "      <td>0.5</td>\n",
              "      <td>0.5</td>\n",
              "      <td>0.00</td>\n",
              "      <td>0.0</td>\n",
              "      <td>0.3</td>\n",
              "      <td>7.55</td>\n",
              "    </tr>\n",
              "    <tr>\n",
              "      <th>4</th>\n",
              "      <td>2</td>\n",
              "      <td>2018-11-28 15:56:57</td>\n",
              "      <td>2018-11-28 15:58:33</td>\n",
              "      <td>5</td>\n",
              "      <td>0.0</td>\n",
              "      <td>2</td>\n",
              "      <td>N</td>\n",
              "      <td>193</td>\n",
              "      <td>193</td>\n",
              "      <td>2</td>\n",
              "      <td>52.0</td>\n",
              "      <td>0.0</td>\n",
              "      <td>0.5</td>\n",
              "      <td>0.00</td>\n",
              "      <td>0.0</td>\n",
              "      <td>0.3</td>\n",
              "      <td>55.55</td>\n",
              "    </tr>\n",
              "  </tbody>\n",
              "</table>\n",
              "</div>"
            ],
            "text/plain": [
              "   VendorID tpep_pickup_datetime  ... improvement_surcharge  total_amount\n",
              "0         1  2019-01-01 00:46:40  ...                   0.3          9.95\n",
              "1         1  2019-01-01 00:59:47  ...                   0.3         16.30\n",
              "2         2  2018-12-21 13:48:30  ...                   0.3          5.80\n",
              "3         2  2018-11-28 15:52:25  ...                   0.3          7.55\n",
              "4         2  2018-11-28 15:56:57  ...                   0.3         55.55\n",
              "\n",
              "[5 rows x 17 columns]"
            ]
          },
          "metadata": {
            "tags": []
          },
          "execution_count": 11
        }
      ]
    },
    {
      "cell_type": "code",
      "metadata": {
        "id": "CbpmM8mYEH1l",
        "colab_type": "code",
        "outputId": "16879121-b9e3-4c48-dc29-efd7f44cd432",
        "colab": {
          "base_uri": "https://localhost:8080/",
          "height": 106
        }
      },
      "source": [
        "data['payment_type'].value_counts()"
      ],
      "execution_count": 12,
      "outputs": [
        {
          "output_type": "execute_result",
          "data": {
            "text/plain": [
              "1    5486027\n",
              "2    2137415\n",
              "3      33186\n",
              "4      11164\n",
              "Name: payment_type, dtype: int64"
            ]
          },
          "metadata": {
            "tags": []
          },
          "execution_count": 12
        }
      ]
    },
    {
      "cell_type": "markdown",
      "metadata": {
        "id": "iEjsESVZLJ27",
        "colab_type": "text"
      },
      "source": [
        "A numeric code signifying how the passenger paid for the trip.  \n",
        "\n",
        "  - 1= Credit card\n",
        "  - 2= Cash\n",
        "  - 3= No charge\n",
        "  - 4= Dispute\n",
        "  - 5= Unknown\n",
        "  - 6= Voided trip"
      ]
    },
    {
      "cell_type": "code",
      "metadata": {
        "id": "jZFZIvibK_VD",
        "colab_type": "code",
        "outputId": "e78cda4f-e724-4ab4-a9f6-4471d3e73ca8",
        "colab": {
          "base_uri": "https://localhost:8080/",
          "height": 88
        }
      },
      "source": [
        "data['VendorID'].value_counts()"
      ],
      "execution_count": 13,
      "outputs": [
        {
          "output_type": "execute_result",
          "data": {
            "text/plain": [
              "2    4652191\n",
              "1    2938778\n",
              "4      76823\n",
              "Name: VendorID, dtype: int64"
            ]
          },
          "metadata": {
            "tags": []
          },
          "execution_count": 13
        }
      ]
    },
    {
      "cell_type": "markdown",
      "metadata": {
        "id": "CfF8JvyJLsmY",
        "colab_type": "text"
      },
      "source": [
        "A code indicating the TPEP provider that provided the record\n",
        "\n",
        "- 1= Creative Mobile Technologies, LLC; \n",
        "- 2= VeriFone Inc."
      ]
    },
    {
      "cell_type": "code",
      "metadata": {
        "id": "KqO2iPruLkVL",
        "colab_type": "code",
        "outputId": "42248214-9128-4326-9b50-f462512ad459",
        "colab": {
          "base_uri": "https://localhost:8080/",
          "height": 214
        }
      },
      "source": [
        "data['passenger_count'].value_counts()"
      ],
      "execution_count": 14,
      "outputs": [
        {
          "output_type": "execute_result",
          "data": {
            "text/plain": [
              "1    5456121\n",
              "2    1114106\n",
              "5     323842\n",
              "3     314721\n",
              "6     200811\n",
              "4     140753\n",
              "0     117381\n",
              "8         29\n",
              "7         19\n",
              "9          9\n",
              "Name: passenger_count, dtype: int64"
            ]
          },
          "metadata": {
            "tags": []
          },
          "execution_count": 14
        }
      ]
    },
    {
      "cell_type": "markdown",
      "metadata": {
        "id": "qahBSTOUY9kr",
        "colab_type": "text"
      },
      "source": [
        "#Handling and Investigating Outliers\n",
        "  - There are lot of outliers in the trip distance and fare amount column. \n",
        "  - Carrying out further investigation to know why we have outliers."
      ]
    },
    {
      "cell_type": "code",
      "metadata": {
        "id": "SLxld5FRMJjq",
        "colab_type": "code",
        "outputId": "f40cf58c-feb4-4ad4-bd2e-bdf665aedd58",
        "colab": {
          "base_uri": "https://localhost:8080/",
          "height": 460
        }
      },
      "source": [
        "plt.figure(figsize=(15,7))\n",
        "sns.distplot(data['trip_distance'], bins=10)"
      ],
      "execution_count": 15,
      "outputs": [
        {
          "output_type": "execute_result",
          "data": {
            "text/plain": [
              "<matplotlib.axes._subplots.AxesSubplot at 0x7fb78aebd7f0>"
            ]
          },
          "metadata": {
            "tags": []
          },
          "execution_count": 15
        },
        {
          "output_type": "display_data",
          "data": {
            "image/png": "[encoded data removed]",
            "text/plain": [
              "<Figure size 1080x504 with 1 Axes>"
            ]
          },
          "metadata": {
            "tags": []
          }
        }
      ]
    },
    {
      "cell_type": "code",
      "metadata": {
        "id": "7IHEZlhsPwfi",
        "colab_type": "code",
        "outputId": "3e9a38c9-86c8-4af4-bcda-75c539d0f9e7",
        "colab": {
          "base_uri": "https://localhost:8080/",
          "height": 516
        }
      },
      "source": [
        "plt.figure(figsize=(15,8))\n",
        "sns.distplot(data['fare_amount'], bins=10)"
      ],
      "execution_count": 16,
      "outputs": [
        {
          "output_type": "execute_result",
          "data": {
            "text/plain": [
              "<matplotlib.axes._subplots.AxesSubplot at 0x7fb786f16d30>"
            ]
          },
          "metadata": {
            "tags": []
          },
          "execution_count": 16
        },
        {
          "output_type": "display_data",
          "data": {
            "image/png": "[encoded data removed]",
            "text/plain": [
              "<Figure size 1080x576 with 1 Axes>"
            ]
          },
          "metadata": {
            "tags": []
          }
        }
      ]
    },
    {
      "cell_type": "markdown",
      "metadata": {
        "id": "S9j7lMglZiCU",
        "colab_type": "text"
      },
      "source": [
        "- The outliers prevented us from getting any meaningful information from the histogram above.\n",
        "- In the trip distance distribution, most of the distance are clustered between 0 and 100 distance.\n",
        "- While from the fare amount distribution we can see the values are clustered between 0 and less than 100,000."
      ]
    },
    {
      "cell_type": "markdown",
      "metadata": {
        "id": "-pGV5rDeaXx8",
        "colab_type": "text"
      },
      "source": [
        "- Check the max values of each column."
      ]
    },
    {
      "cell_type": "code",
      "metadata": {
        "id": "u0JxjkWBMUqY",
        "colab_type": "code",
        "outputId": "c56d4888-1b2c-441a-a74e-cb8da59d1cde",
        "colab": {
          "base_uri": "https://localhost:8080/",
          "height": 52
        }
      },
      "source": [
        "print('Max fare amount is ',data['fare_amount'].max())\n",
        "print('Max trip distance is ',data['trip_distance'].max())"
      ],
      "execution_count": 17,
      "outputs": [
        {
          "output_type": "stream",
          "text": [
            "Max fare amount is  623259.86\n",
            "Max trip distance is  831.8\n"
          ],
          "name": "stdout"
        }
      ]
    },
    {
      "cell_type": "markdown",
      "metadata": {
        "id": "XwM5W1GUa-Ol",
        "colab_type": "text"
      },
      "source": [
        "- The maximum fare amount is 623259.86. This is suspiciously large and can taken as a mstake or meter test.\n",
        "- The max trip distance is 831.8 miles.\n",
        "- Honestly, this figures are very large."
      ]
    },
    {
      "cell_type": "markdown",
      "metadata": {
        "id": "NdapR2lcbfYD",
        "colab_type": "text"
      },
      "source": [
        "- Is there a positive correlation between trip taken and fare amount?"
      ]
    },
    {
      "cell_type": "code",
      "metadata": {
        "id": "HC3aqgM4M6XF",
        "colab_type": "code",
        "outputId": "a6637e56-00bd-45d1-b749-5862c98ecfe6",
        "colab": {
          "base_uri": "https://localhost:8080/",
          "height": 34
        }
      },
      "source": [
        "correlation = data['trip_distance'].corr(data['fare_amount'])\n",
        "print('The correlation between trip distance and fare amount is {}'.format(correlation))"
      ],
      "execution_count": 18,
      "outputs": [
        {
          "output_type": "stream",
          "text": [
            "The correlation between trip distance and fare amount is 0.03803544718519049\n"
          ],
          "name": "stdout"
        }
      ]
    },
    {
      "cell_type": "markdown",
      "metadata": {
        "id": "B3Dn6gGKbox_",
        "colab_type": "text"
      },
      "source": [
        "We see a correlation of 0.03. This shows that they are likely independent of each other."
      ]
    },
    {
      "cell_type": "markdown",
      "metadata": {
        "id": "JLU8c4yAcS59",
        "colab_type": "text"
      },
      "source": [
        "- Using a scatterplot to visualize the correlation between the 2 columns."
      ]
    },
    {
      "cell_type": "code",
      "metadata": {
        "id": "jAKam712NFKl",
        "colab_type": "code",
        "outputId": "5b1db5f9-b7a3-45f3-8776-afccf0eeafda",
        "colab": {
          "base_uri": "https://localhost:8080/",
          "height": 460
        }
      },
      "source": [
        "plt.figure(figsize=(15,7))\n",
        "\n",
        "sns.scatterplot(data['trip_distance'], data['fare_amount'])"
      ],
      "execution_count": 19,
      "outputs": [
        {
          "output_type": "execute_result",
          "data": {
            "text/plain": [
              "<matplotlib.axes._subplots.AxesSubplot at 0x7fb7869969e8>"
            ]
          },
          "metadata": {
            "tags": []
          },
          "execution_count": 19
        },
        {
          "output_type": "display_data",
          "data": {
            "image/png": "[encoded data removed]",
            "text/plain": [
              "<Figure size 1080x504 with 1 Axes>"
            ]
          },
          "metadata": {
            "tags": []
          }
        }
      ]
    },
    {
      "cell_type": "markdown",
      "metadata": {
        "id": "a-XZzCiwcdBU",
        "colab_type": "text"
      },
      "source": [
        "- The scatterplot shows a cluster at the lower left region. No visible correlation at this point.\n",
        "- But we can see a visible correlation from the outliers. As the trip dstance increases, fare amount also increases. But it is just for 2 data points."
      ]
    },
    {
      "cell_type": "markdown",
      "metadata": {
        "id": "nvuYisp9dHxh",
        "colab_type": "text"
      },
      "source": [
        "- Boxplot of the two columns."
      ]
    },
    {
      "cell_type": "code",
      "metadata": {
        "id": "sznLjh-JOAlp",
        "colab_type": "code",
        "outputId": "1b0b7875-b5e2-4a84-b277-006f6d7b4c84",
        "colab": {
          "base_uri": "https://localhost:8080/",
          "height": 460
        }
      },
      "source": [
        "plt.figure(figsize=(15,7))\n",
        "\n",
        "sns.boxplot(data['trip_distance'])"
      ],
      "execution_count": 20,
      "outputs": [
        {
          "output_type": "execute_result",
          "data": {
            "text/plain": [
              "<matplotlib.axes._subplots.AxesSubplot at 0x7fb7869fd8d0>"
            ]
          },
          "metadata": {
            "tags": []
          },
          "execution_count": 20
        },
        {
          "output_type": "display_data",
          "data": {
            "image/png": "[encoded data removed]",
            "text/plain": [
              "<Figure size 1080x504 with 1 Axes>"
            ]
          },
          "metadata": {
            "tags": []
          }
        }
      ]
    },
    {
      "cell_type": "markdown",
      "metadata": {
        "id": "o8RlOKg_dV3p",
        "colab_type": "text"
      },
      "source": [
        "- Outliers starting from trip distance above 200 miles."
      ]
    },
    {
      "cell_type": "code",
      "metadata": {
        "id": "aGTqaVmUPLcY",
        "colab_type": "code",
        "outputId": "1e138db9-0b02-4a9b-c7a1-3c52fd00c535",
        "colab": {
          "base_uri": "https://localhost:8080/",
          "height": 460
        }
      },
      "source": [
        "plt.figure(figsize=(15,7))\n",
        "\n",
        "sns.boxplot(data['fare_amount'])"
      ],
      "execution_count": 21,
      "outputs": [
        {
          "output_type": "execute_result",
          "data": {
            "text/plain": [
              "<matplotlib.axes._subplots.AxesSubplot at 0x7fb7840a3d68>"
            ]
          },
          "metadata": {
            "tags": []
          },
          "execution_count": 21
        },
        {
          "output_type": "display_data",
          "data": {
            "image/png": "[encoded data removed]",
            "text/plain": [
              "<Figure size 1080x504 with 1 Axes>"
            ]
          },
          "metadata": {
            "tags": []
          }
        }
      ]
    },
    {
      "cell_type": "markdown",
      "metadata": {
        "id": "u06RN8TdddFE",
        "colab_type": "text"
      },
      "source": [
        "- Outliers from fare amount above 100000"
      ]
    },
    {
      "cell_type": "code",
      "metadata": {
        "id": "7bUexikgPSdd",
        "colab_type": "code",
        "outputId": "35e4ebaf-a4dd-4d06-d19b-41f3cb5f45b3",
        "colab": {
          "base_uri": "https://localhost:8080/",
          "height": 209
        }
      },
      "source": [
        "trip_outlier = data[data['trip_distance'] > 200 ]\n",
        "trip_outlier"
      ],
      "execution_count": 22,
      "outputs": [
        {
          "output_type": "execute_result",
          "data": {
            "text/html": [
              "<div>\n",
              "<style scoped>\n",
              "    .dataframe tbody tr th:only-of-type {\n",
              "        vertical-align: middle;\n",
              "    }\n",
              "\n",
              "    .dataframe tbody tr th {\n",
              "        vertical-align: top;\n",
              "    }\n",
              "\n",
              "    .dataframe thead th {\n",
              "        text-align: right;\n",
              "    }\n",
              "</style>\n",
              "<table border=\"1\" class=\"dataframe\">\n",
              "  <thead>\n",
              "    <tr style=\"text-align: right;\">\n",
              "      <th></th>\n",
              "      <th>VendorID</th>\n",
              "      <th>tpep_pickup_datetime</th>\n",
              "      <th>tpep_dropoff_datetime</th>\n",
              "      <th>passenger_count</th>\n",
              "      <th>trip_distance</th>\n",
              "      <th>RatecodeID</th>\n",
              "      <th>store_and_fwd_flag</th>\n",
              "      <th>PULocationID</th>\n",
              "      <th>DOLocationID</th>\n",
              "      <th>payment_type</th>\n",
              "      <th>fare_amount</th>\n",
              "      <th>extra</th>\n",
              "      <th>mta_tax</th>\n",
              "      <th>tip_amount</th>\n",
              "      <th>tolls_amount</th>\n",
              "      <th>improvement_surcharge</th>\n",
              "      <th>total_amount</th>\n",
              "    </tr>\n",
              "  </thead>\n",
              "  <tbody>\n",
              "    <tr>\n",
              "      <th>4286612</th>\n",
              "      <td>1</td>\n",
              "      <td>2019-01-18 16:32:24</td>\n",
              "      <td>2019-01-18 16:39:20</td>\n",
              "      <td>1</td>\n",
              "      <td>700.70</td>\n",
              "      <td>1</td>\n",
              "      <td>N</td>\n",
              "      <td>236</td>\n",
              "      <td>262</td>\n",
              "      <td>1</td>\n",
              "      <td>6.0</td>\n",
              "      <td>1.0</td>\n",
              "      <td>0.5</td>\n",
              "      <td>1.20</td>\n",
              "      <td>0.00</td>\n",
              "      <td>0.3</td>\n",
              "      <td>9.00</td>\n",
              "    </tr>\n",
              "    <tr>\n",
              "      <th>4707513</th>\n",
              "      <td>2</td>\n",
              "      <td>2019-01-20 12:22:24</td>\n",
              "      <td>2019-01-20 17:05:36</td>\n",
              "      <td>2</td>\n",
              "      <td>211.36</td>\n",
              "      <td>5</td>\n",
              "      <td>N</td>\n",
              "      <td>132</td>\n",
              "      <td>265</td>\n",
              "      <td>2</td>\n",
              "      <td>50.0</td>\n",
              "      <td>0.0</td>\n",
              "      <td>0.5</td>\n",
              "      <td>0.00</td>\n",
              "      <td>5.76</td>\n",
              "      <td>0.3</td>\n",
              "      <td>56.56</td>\n",
              "    </tr>\n",
              "    <tr>\n",
              "      <th>4881766</th>\n",
              "      <td>2</td>\n",
              "      <td>2019-01-21 10:13:05</td>\n",
              "      <td>2019-01-21 13:28:01</td>\n",
              "      <td>1</td>\n",
              "      <td>201.27</td>\n",
              "      <td>5</td>\n",
              "      <td>N</td>\n",
              "      <td>208</td>\n",
              "      <td>265</td>\n",
              "      <td>1</td>\n",
              "      <td>150.0</td>\n",
              "      <td>0.0</td>\n",
              "      <td>0.5</td>\n",
              "      <td>0.00</td>\n",
              "      <td>1.66</td>\n",
              "      <td>0.3</td>\n",
              "      <td>152.46</td>\n",
              "    </tr>\n",
              "    <tr>\n",
              "      <th>6074021</th>\n",
              "      <td>1</td>\n",
              "      <td>2019-01-25 21:56:39</td>\n",
              "      <td>2019-01-25 22:06:08</td>\n",
              "      <td>1</td>\n",
              "      <td>831.80</td>\n",
              "      <td>1</td>\n",
              "      <td>N</td>\n",
              "      <td>140</td>\n",
              "      <td>239</td>\n",
              "      <td>1</td>\n",
              "      <td>8.5</td>\n",
              "      <td>0.5</td>\n",
              "      <td>0.5</td>\n",
              "      <td>1.96</td>\n",
              "      <td>0.00</td>\n",
              "      <td>0.3</td>\n",
              "      <td>11.76</td>\n",
              "    </tr>\n",
              "    <tr>\n",
              "      <th>6770897</th>\n",
              "      <td>2</td>\n",
              "      <td>2019-01-28 17:24:11</td>\n",
              "      <td>2019-01-29 04:37:16</td>\n",
              "      <td>5</td>\n",
              "      <td>214.01</td>\n",
              "      <td>1</td>\n",
              "      <td>N</td>\n",
              "      <td>265</td>\n",
              "      <td>265</td>\n",
              "      <td>2</td>\n",
              "      <td>760.0</td>\n",
              "      <td>1.0</td>\n",
              "      <td>0.5</td>\n",
              "      <td>0.00</td>\n",
              "      <td>0.00</td>\n",
              "      <td>0.3</td>\n",
              "      <td>761.80</td>\n",
              "    </tr>\n",
              "  </tbody>\n",
              "</table>\n",
              "</div>"
            ],
            "text/plain": [
              "         VendorID tpep_pickup_datetime  ... improvement_surcharge  total_amount\n",
              "4286612         1  2019-01-18 16:32:24  ...                   0.3          9.00\n",
              "4707513         2  2019-01-20 12:22:24  ...                   0.3         56.56\n",
              "4881766         2  2019-01-21 10:13:05  ...                   0.3        152.46\n",
              "6074021         1  2019-01-25 21:56:39  ...                   0.3         11.76\n",
              "6770897         2  2019-01-28 17:24:11  ...                   0.3        761.80\n",
              "\n",
              "[5 rows x 17 columns]"
            ]
          },
          "metadata": {
            "tags": []
          },
          "execution_count": 22
        }
      ]
    },
    {
      "cell_type": "markdown",
      "metadata": {
        "id": "3NYcd1t1eMRb",
        "colab_type": "text"
      },
      "source": [
        "- Just 3 data points have a trip distance above 200 miles.\n",
        "- These figures are accurate becauese the trip distance and fare amount are positively correlated"
      ]
    },
    {
      "cell_type": "code",
      "metadata": {
        "id": "czgDbvaqgK_H",
        "colab_type": "code",
        "outputId": "65dad42e-f7bf-4ad1-897d-34cdb98c5344",
        "colab": {
          "base_uri": "https://localhost:8080/",
          "height": 34
        }
      },
      "source": [
        "trip_correlation = trip_outlier['trip_distance'].corr(trip_outlier['fare_amount'])\n",
        "print('The correlation between trip distance and fare amount for the trip outlier is {}'.format(trip_correlation))"
      ],
      "execution_count": 23,
      "outputs": [
        {
          "output_type": "stream",
          "text": [
            "The correlation between trip distance and fare amount for the trip outlier is -0.5194700535940027\n"
          ],
          "name": "stdout"
        }
      ]
    },
    {
      "cell_type": "code",
      "metadata": {
        "id": "94kupKmvPmG2",
        "colab_type": "code",
        "outputId": "8fe3a4c4-8be1-4edf-d307-e303f689ba11",
        "colab": {
          "base_uri": "https://localhost:8080/",
          "height": 636
        }
      },
      "source": [
        "fare_outlier = data[data['fare_amount'] > 5000 ]\n",
        "fare_outlier"
      ],
      "execution_count": 24,
      "outputs": [
        {
          "output_type": "execute_result",
          "data": {
            "text/html": [
              "<div>\n",
              "<style scoped>\n",
              "    .dataframe tbody tr th:only-of-type {\n",
              "        vertical-align: middle;\n",
              "    }\n",
              "\n",
              "    .dataframe tbody tr th {\n",
              "        vertical-align: top;\n",
              "    }\n",
              "\n",
              "    .dataframe thead th {\n",
              "        text-align: right;\n",
              "    }\n",
              "</style>\n",
              "<table border=\"1\" class=\"dataframe\">\n",
              "  <thead>\n",
              "    <tr style=\"text-align: right;\">\n",
              "      <th></th>\n",
              "      <th>VendorID</th>\n",
              "      <th>tpep_pickup_datetime</th>\n",
              "      <th>tpep_dropoff_datetime</th>\n",
              "      <th>passenger_count</th>\n",
              "      <th>trip_distance</th>\n",
              "      <th>RatecodeID</th>\n",
              "      <th>store_and_fwd_flag</th>\n",
              "      <th>PULocationID</th>\n",
              "      <th>DOLocationID</th>\n",
              "      <th>payment_type</th>\n",
              "      <th>fare_amount</th>\n",
              "      <th>extra</th>\n",
              "      <th>mta_tax</th>\n",
              "      <th>tip_amount</th>\n",
              "      <th>tolls_amount</th>\n",
              "      <th>improvement_surcharge</th>\n",
              "      <th>total_amount</th>\n",
              "    </tr>\n",
              "  </thead>\n",
              "  <tbody>\n",
              "    <tr>\n",
              "      <th>233844</th>\n",
              "      <td>1</td>\n",
              "      <td>2019-01-02 10:06:08</td>\n",
              "      <td>2019-01-02 10:06:08</td>\n",
              "      <td>0</td>\n",
              "      <td>0.0</td>\n",
              "      <td>99</td>\n",
              "      <td>N</td>\n",
              "      <td>264</td>\n",
              "      <td>264</td>\n",
              "      <td>1</td>\n",
              "      <td>18477.08</td>\n",
              "      <td>0.00</td>\n",
              "      <td>0.00</td>\n",
              "      <td>0.0</td>\n",
              "      <td>0.0</td>\n",
              "      <td>0.0</td>\n",
              "      <td>18477.08</td>\n",
              "    </tr>\n",
              "    <tr>\n",
              "      <th>233845</th>\n",
              "      <td>1</td>\n",
              "      <td>2019-01-02 10:06:56</td>\n",
              "      <td>2019-01-02 10:06:56</td>\n",
              "      <td>0</td>\n",
              "      <td>0.0</td>\n",
              "      <td>99</td>\n",
              "      <td>N</td>\n",
              "      <td>264</td>\n",
              "      <td>264</td>\n",
              "      <td>1</td>\n",
              "      <td>17242.81</td>\n",
              "      <td>0.00</td>\n",
              "      <td>0.00</td>\n",
              "      <td>0.0</td>\n",
              "      <td>0.0</td>\n",
              "      <td>0.0</td>\n",
              "      <td>17242.81</td>\n",
              "    </tr>\n",
              "    <tr>\n",
              "      <th>301097</th>\n",
              "      <td>1</td>\n",
              "      <td>2019-01-02 16:06:14</td>\n",
              "      <td>2019-01-02 16:06:14</td>\n",
              "      <td>0</td>\n",
              "      <td>0.0</td>\n",
              "      <td>99</td>\n",
              "      <td>N</td>\n",
              "      <td>264</td>\n",
              "      <td>264</td>\n",
              "      <td>1</td>\n",
              "      <td>25356.38</td>\n",
              "      <td>0.00</td>\n",
              "      <td>0.00</td>\n",
              "      <td>0.0</td>\n",
              "      <td>0.0</td>\n",
              "      <td>0.0</td>\n",
              "      <td>25356.38</td>\n",
              "    </tr>\n",
              "    <tr>\n",
              "      <th>478791</th>\n",
              "      <td>1</td>\n",
              "      <td>2019-01-03 13:08:33</td>\n",
              "      <td>2019-01-03 13:08:53</td>\n",
              "      <td>1</td>\n",
              "      <td>0.1</td>\n",
              "      <td>6</td>\n",
              "      <td>N</td>\n",
              "      <td>264</td>\n",
              "      <td>264</td>\n",
              "      <td>2</td>\n",
              "      <td>6666.65</td>\n",
              "      <td>0.00</td>\n",
              "      <td>0.50</td>\n",
              "      <td>0.0</td>\n",
              "      <td>0.0</td>\n",
              "      <td>0.3</td>\n",
              "      <td>6667.45</td>\n",
              "    </tr>\n",
              "    <tr>\n",
              "      <th>651591</th>\n",
              "      <td>1</td>\n",
              "      <td>2019-01-04 09:28:37</td>\n",
              "      <td>2019-01-04 09:28:37</td>\n",
              "      <td>0</td>\n",
              "      <td>0.0</td>\n",
              "      <td>99</td>\n",
              "      <td>N</td>\n",
              "      <td>264</td>\n",
              "      <td>264</td>\n",
              "      <td>1</td>\n",
              "      <td>31107.91</td>\n",
              "      <td>0.00</td>\n",
              "      <td>0.00</td>\n",
              "      <td>0.0</td>\n",
              "      <td>0.0</td>\n",
              "      <td>0.0</td>\n",
              "      <td>31107.91</td>\n",
              "    </tr>\n",
              "    <tr>\n",
              "      <th>737289</th>\n",
              "      <td>1</td>\n",
              "      <td>2019-01-04 16:08:10</td>\n",
              "      <td>2019-01-04 16:08:10</td>\n",
              "      <td>0</td>\n",
              "      <td>0.0</td>\n",
              "      <td>99</td>\n",
              "      <td>N</td>\n",
              "      <td>264</td>\n",
              "      <td>264</td>\n",
              "      <td>1</td>\n",
              "      <td>30130.71</td>\n",
              "      <td>0.00</td>\n",
              "      <td>0.00</td>\n",
              "      <td>0.0</td>\n",
              "      <td>0.0</td>\n",
              "      <td>0.0</td>\n",
              "      <td>30130.71</td>\n",
              "    </tr>\n",
              "    <tr>\n",
              "      <th>1368512</th>\n",
              "      <td>1</td>\n",
              "      <td>2019-01-07 12:21:04</td>\n",
              "      <td>2019-01-07 12:21:04</td>\n",
              "      <td>0</td>\n",
              "      <td>0.0</td>\n",
              "      <td>99</td>\n",
              "      <td>N</td>\n",
              "      <td>264</td>\n",
              "      <td>264</td>\n",
              "      <td>1</td>\n",
              "      <td>19863.26</td>\n",
              "      <td>0.00</td>\n",
              "      <td>0.00</td>\n",
              "      <td>0.0</td>\n",
              "      <td>0.0</td>\n",
              "      <td>0.0</td>\n",
              "      <td>19863.26</td>\n",
              "    </tr>\n",
              "    <tr>\n",
              "      <th>1368513</th>\n",
              "      <td>1</td>\n",
              "      <td>2019-01-07 12:21:45</td>\n",
              "      <td>2019-01-07 12:21:45</td>\n",
              "      <td>0</td>\n",
              "      <td>0.0</td>\n",
              "      <td>99</td>\n",
              "      <td>N</td>\n",
              "      <td>264</td>\n",
              "      <td>264</td>\n",
              "      <td>1</td>\n",
              "      <td>19194.52</td>\n",
              "      <td>0.00</td>\n",
              "      <td>0.00</td>\n",
              "      <td>0.0</td>\n",
              "      <td>0.0</td>\n",
              "      <td>0.0</td>\n",
              "      <td>19194.52</td>\n",
              "    </tr>\n",
              "    <tr>\n",
              "      <th>1419626</th>\n",
              "      <td>1</td>\n",
              "      <td>2019-01-07 16:13:40</td>\n",
              "      <td>2019-01-07 16:13:40</td>\n",
              "      <td>0</td>\n",
              "      <td>0.0</td>\n",
              "      <td>99</td>\n",
              "      <td>N</td>\n",
              "      <td>264</td>\n",
              "      <td>264</td>\n",
              "      <td>1</td>\n",
              "      <td>25628.96</td>\n",
              "      <td>0.00</td>\n",
              "      <td>0.00</td>\n",
              "      <td>0.0</td>\n",
              "      <td>0.0</td>\n",
              "      <td>0.0</td>\n",
              "      <td>25628.96</td>\n",
              "    </tr>\n",
              "    <tr>\n",
              "      <th>1649397</th>\n",
              "      <td>1</td>\n",
              "      <td>2019-01-08 16:09:44</td>\n",
              "      <td>2019-01-08 16:09:44</td>\n",
              "      <td>0</td>\n",
              "      <td>0.0</td>\n",
              "      <td>99</td>\n",
              "      <td>N</td>\n",
              "      <td>264</td>\n",
              "      <td>264</td>\n",
              "      <td>1</td>\n",
              "      <td>33023.53</td>\n",
              "      <td>0.00</td>\n",
              "      <td>0.00</td>\n",
              "      <td>0.0</td>\n",
              "      <td>0.0</td>\n",
              "      <td>0.0</td>\n",
              "      <td>33023.53</td>\n",
              "    </tr>\n",
              "    <tr>\n",
              "      <th>1892715</th>\n",
              "      <td>1</td>\n",
              "      <td>2019-01-09 16:43:40</td>\n",
              "      <td>2019-01-09 16:43:40</td>\n",
              "      <td>0</td>\n",
              "      <td>0.0</td>\n",
              "      <td>99</td>\n",
              "      <td>N</td>\n",
              "      <td>264</td>\n",
              "      <td>264</td>\n",
              "      <td>1</td>\n",
              "      <td>34674.65</td>\n",
              "      <td>0.00</td>\n",
              "      <td>0.00</td>\n",
              "      <td>0.0</td>\n",
              "      <td>0.0</td>\n",
              "      <td>0.0</td>\n",
              "      <td>34674.65</td>\n",
              "    </tr>\n",
              "    <tr>\n",
              "      <th>2159909</th>\n",
              "      <td>1</td>\n",
              "      <td>2019-01-10 16:08:10</td>\n",
              "      <td>2019-01-10 16:08:10</td>\n",
              "      <td>0</td>\n",
              "      <td>0.0</td>\n",
              "      <td>99</td>\n",
              "      <td>N</td>\n",
              "      <td>264</td>\n",
              "      <td>264</td>\n",
              "      <td>1</td>\n",
              "      <td>36090.30</td>\n",
              "      <td>0.00</td>\n",
              "      <td>0.00</td>\n",
              "      <td>0.0</td>\n",
              "      <td>0.0</td>\n",
              "      <td>0.0</td>\n",
              "      <td>36090.30</td>\n",
              "    </tr>\n",
              "    <tr>\n",
              "      <th>2444722</th>\n",
              "      <td>1</td>\n",
              "      <td>2019-01-11 16:06:32</td>\n",
              "      <td>2019-01-11 16:06:32</td>\n",
              "      <td>0</td>\n",
              "      <td>0.0</td>\n",
              "      <td>99</td>\n",
              "      <td>N</td>\n",
              "      <td>264</td>\n",
              "      <td>264</td>\n",
              "      <td>1</td>\n",
              "      <td>30444.52</td>\n",
              "      <td>0.00</td>\n",
              "      <td>0.00</td>\n",
              "      <td>0.0</td>\n",
              "      <td>0.0</td>\n",
              "      <td>0.0</td>\n",
              "      <td>30444.52</td>\n",
              "    </tr>\n",
              "    <tr>\n",
              "      <th>2499600</th>\n",
              "      <td>1</td>\n",
              "      <td>2019-01-11 19:33:15</td>\n",
              "      <td>2019-01-11 19:53:09</td>\n",
              "      <td>1</td>\n",
              "      <td>2.4</td>\n",
              "      <td>1</td>\n",
              "      <td>N</td>\n",
              "      <td>237</td>\n",
              "      <td>90</td>\n",
              "      <td>3</td>\n",
              "      <td>623259.86</td>\n",
              "      <td>1.00</td>\n",
              "      <td>0.50</td>\n",
              "      <td>0.0</td>\n",
              "      <td>0.0</td>\n",
              "      <td>0.3</td>\n",
              "      <td>623261.66</td>\n",
              "    </tr>\n",
              "    <tr>\n",
              "      <th>2840975</th>\n",
              "      <td>1</td>\n",
              "      <td>2019-01-12 23:21:48</td>\n",
              "      <td>2019-01-12 23:29:14</td>\n",
              "      <td>1</td>\n",
              "      <td>100.8</td>\n",
              "      <td>1</td>\n",
              "      <td>N</td>\n",
              "      <td>141</td>\n",
              "      <td>162</td>\n",
              "      <td>3</td>\n",
              "      <td>8000.30</td>\n",
              "      <td>-31.73</td>\n",
              "      <td>32.53</td>\n",
              "      <td>0.0</td>\n",
              "      <td>0.0</td>\n",
              "      <td>0.0</td>\n",
              "      <td>8001.10</td>\n",
              "    </tr>\n",
              "    <tr>\n",
              "      <th>3154913</th>\n",
              "      <td>1</td>\n",
              "      <td>2019-01-14 12:40:12</td>\n",
              "      <td>2019-01-14 12:40:12</td>\n",
              "      <td>0</td>\n",
              "      <td>0.0</td>\n",
              "      <td>99</td>\n",
              "      <td>N</td>\n",
              "      <td>264</td>\n",
              "      <td>264</td>\n",
              "      <td>1</td>\n",
              "      <td>20765.39</td>\n",
              "      <td>0.00</td>\n",
              "      <td>0.00</td>\n",
              "      <td>0.0</td>\n",
              "      <td>0.0</td>\n",
              "      <td>0.0</td>\n",
              "      <td>20765.39</td>\n",
              "    </tr>\n",
              "    <tr>\n",
              "      <th>3154914</th>\n",
              "      <td>1</td>\n",
              "      <td>2019-01-14 12:40:59</td>\n",
              "      <td>2019-01-14 12:40:59</td>\n",
              "      <td>0</td>\n",
              "      <td>0.0</td>\n",
              "      <td>99</td>\n",
              "      <td>N</td>\n",
              "      <td>264</td>\n",
              "      <td>264</td>\n",
              "      <td>1</td>\n",
              "      <td>16032.47</td>\n",
              "      <td>0.00</td>\n",
              "      <td>0.00</td>\n",
              "      <td>0.0</td>\n",
              "      <td>0.0</td>\n",
              "      <td>0.0</td>\n",
              "      <td>16032.47</td>\n",
              "    </tr>\n",
              "    <tr>\n",
              "      <th>3208231</th>\n",
              "      <td>1</td>\n",
              "      <td>2019-01-14 16:07:50</td>\n",
              "      <td>2019-01-14 16:07:50</td>\n",
              "      <td>0</td>\n",
              "      <td>0.0</td>\n",
              "      <td>99</td>\n",
              "      <td>N</td>\n",
              "      <td>264</td>\n",
              "      <td>264</td>\n",
              "      <td>3</td>\n",
              "      <td>16032.47</td>\n",
              "      <td>0.00</td>\n",
              "      <td>0.00</td>\n",
              "      <td>0.0</td>\n",
              "      <td>0.0</td>\n",
              "      <td>0.0</td>\n",
              "      <td>16032.47</td>\n",
              "    </tr>\n",
              "    <tr>\n",
              "      <th>3208232</th>\n",
              "      <td>1</td>\n",
              "      <td>2019-01-14 16:08:42</td>\n",
              "      <td>2019-01-14 16:08:42</td>\n",
              "      <td>0</td>\n",
              "      <td>0.0</td>\n",
              "      <td>99</td>\n",
              "      <td>N</td>\n",
              "      <td>264</td>\n",
              "      <td>264</td>\n",
              "      <td>3</td>\n",
              "      <td>24249.43</td>\n",
              "      <td>0.00</td>\n",
              "      <td>0.00</td>\n",
              "      <td>0.0</td>\n",
              "      <td>0.0</td>\n",
              "      <td>0.0</td>\n",
              "      <td>24249.43</td>\n",
              "    </tr>\n",
              "    <tr>\n",
              "      <th>5323430</th>\n",
              "      <td>1</td>\n",
              "      <td>2019-01-23 08:58:09</td>\n",
              "      <td>2019-01-23 08:58:09</td>\n",
              "      <td>1</td>\n",
              "      <td>0.0</td>\n",
              "      <td>1</td>\n",
              "      <td>Y</td>\n",
              "      <td>24</td>\n",
              "      <td>264</td>\n",
              "      <td>2</td>\n",
              "      <td>355676.98</td>\n",
              "      <td>535.38</td>\n",
              "      <td>2.42</td>\n",
              "      <td>0.0</td>\n",
              "      <td>0.0</td>\n",
              "      <td>0.0</td>\n",
              "      <td>356214.78</td>\n",
              "    </tr>\n",
              "  </tbody>\n",
              "</table>\n",
              "</div>"
            ],
            "text/plain": [
              "         VendorID tpep_pickup_datetime  ... improvement_surcharge  total_amount\n",
              "233844          1  2019-01-02 10:06:08  ...                   0.0      18477.08\n",
              "233845          1  2019-01-02 10:06:56  ...                   0.0      17242.81\n",
              "301097          1  2019-01-02 16:06:14  ...                   0.0      25356.38\n",
              "478791          1  2019-01-03 13:08:33  ...                   0.3       6667.45\n",
              "651591          1  2019-01-04 09:28:37  ...                   0.0      31107.91\n",
              "737289          1  2019-01-04 16:08:10  ...                   0.0      30130.71\n",
              "1368512         1  2019-01-07 12:21:04  ...                   0.0      19863.26\n",
              "1368513         1  2019-01-07 12:21:45  ...                   0.0      19194.52\n",
              "1419626         1  2019-01-07 16:13:40  ...                   0.0      25628.96\n",
              "1649397         1  2019-01-08 16:09:44  ...                   0.0      33023.53\n",
              "1892715         1  2019-01-09 16:43:40  ...                   0.0      34674.65\n",
              "2159909         1  2019-01-10 16:08:10  ...                   0.0      36090.30\n",
              "2444722         1  2019-01-11 16:06:32  ...                   0.0      30444.52\n",
              "2499600         1  2019-01-11 19:33:15  ...                   0.3     623261.66\n",
              "2840975         1  2019-01-12 23:21:48  ...                   0.0       8001.10\n",
              "3154913         1  2019-01-14 12:40:12  ...                   0.0      20765.39\n",
              "3154914         1  2019-01-14 12:40:59  ...                   0.0      16032.47\n",
              "3208231         1  2019-01-14 16:07:50  ...                   0.0      16032.47\n",
              "3208232         1  2019-01-14 16:08:42  ...                   0.0      24249.43\n",
              "5323430         1  2019-01-23 08:58:09  ...                   0.0     356214.78\n",
              "\n",
              "[20 rows x 17 columns]"
            ]
          },
          "metadata": {
            "tags": []
          },
          "execution_count": 24
        }
      ]
    },
    {
      "cell_type": "markdown",
      "metadata": {
        "id": "CJQijVX6eXwP",
        "colab_type": "text"
      },
      "source": [
        "- 20 data points with fare amount greater than 5000 dollars."
      ]
    },
    {
      "cell_type": "markdown",
      "metadata": {
        "id": "wGx8uO7Sey3o",
        "colab_type": "text"
      },
      "source": [
        "PULocationID TLC Taxi Zone in which the taximeter was engaged\n",
        "\n",
        "DOLocationID TLC Taxi Zone in which the taximeter was disengaged\n",
        "\n",
        "- Strangely we can see that for these fare amounts, majority had 0 trip distance and PU and DO location shows the trip started and stopped in the same zone. This can be as a result of meter test or meter repairs. "
      ]
    },
    {
      "cell_type": "markdown",
      "metadata": {
        "id": "jqoStl9PVDM9",
        "colab_type": "text"
      },
      "source": [
        "- Drop Outliers\n",
        "- Dropping the outliers to see if the histogram will tell a different story.\n",
        "- Drop fare amount greater than 5000.\n",
        "- Drop trip distance greater than 200."
      ]
    },
    {
      "cell_type": "code",
      "metadata": {
        "id": "LZgIfJiwVB-n",
        "colab_type": "code",
        "colab": {}
      },
      "source": [
        "data.drop(data[data['fare_amount'] > 5000].index, axis=0, inplace=True)\n",
        "data.drop(data[data['trip_distance'] > 200].index, axis=0, inplace=True)"
      ],
      "execution_count": 0,
      "outputs": []
    },
    {
      "cell_type": "code",
      "metadata": {
        "id": "VLt5tF-bQGoL",
        "colab_type": "code",
        "outputId": "1e036476-c5fc-4602-c00c-e210bf1bd0b0",
        "colab": {
          "base_uri": "https://localhost:8080/",
          "height": 460
        }
      },
      "source": [
        "plt.figure(figsize=(20,7))\n",
        "sns.distplot(data['trip_distance'], bins=30)"
      ],
      "execution_count": 26,
      "outputs": [
        {
          "output_type": "execute_result",
          "data": {
            "text/plain": [
              "<matplotlib.axes._subplots.AxesSubplot at 0x7fb784087e80>"
            ]
          },
          "metadata": {
            "tags": []
          },
          "execution_count": 26
        },
        {
          "output_type": "display_data",
          "data": {
            "image/png": "[encoded data removed]",
            "text/plain": [
              "<Figure size 1440x504 with 1 Axes>"
            ]
          },
          "metadata": {
            "tags": []
          }
        }
      ]
    },
    {
      "cell_type": "markdown",
      "metadata": {
        "id": "9dN20jfigzOk",
        "colab_type": "text"
      },
      "source": [
        "- Trip distance is skewed to the right.\n",
        "- Trip distance is mostly clustered between 0 and 20 miles.\n",
        "- Higher frequency of trip at the 0 bar (0-5) range."
      ]
    },
    {
      "cell_type": "code",
      "metadata": {
        "id": "6rCKQvKUV1XJ",
        "colab_type": "code",
        "outputId": "735b7247-6bc0-428b-b7ab-c1c419d6a2b7",
        "colab": {
          "base_uri": "https://localhost:8080/",
          "height": 460
        }
      },
      "source": [
        "plt.figure(figsize=(20,7))\n",
        "sns.distplot(data['fare_amount'])"
      ],
      "execution_count": 27,
      "outputs": [
        {
          "output_type": "execute_result",
          "data": {
            "text/plain": [
              "<matplotlib.axes._subplots.AxesSubplot at 0x7fb783f5b908>"
            ]
          },
          "metadata": {
            "tags": []
          },
          "execution_count": 27
        },
        {
          "output_type": "display_data",
          "data": {
            "image/png": "[encoded data removed]",
            "text/plain": [
              "<Figure size 1440x504 with 1 Axes>"
            ]
          },
          "metadata": {
            "tags": []
          }
        }
      ]
    },
    {
      "cell_type": "markdown",
      "metadata": {
        "id": "EIlcdCychY32",
        "colab_type": "text"
      },
      "source": [
        "- We have fare amounts with negative values. \n",
        "- But why?"
      ]
    },
    {
      "cell_type": "code",
      "metadata": {
        "id": "Bf1dHXbnYnr9",
        "colab_type": "code",
        "outputId": "7e784d59-b9ff-478c-8dae-31090531c655",
        "colab": {
          "base_uri": "https://localhost:8080/",
          "height": 408
        }
      },
      "source": [
        "zero_fare = data[data['fare_amount'] < 0 ]\n",
        "zero_fare"
      ],
      "execution_count": 28,
      "outputs": [
        {
          "output_type": "execute_result",
          "data": {
            "text/html": [
              "<div>\n",
              "<style scoped>\n",
              "    .dataframe tbody tr th:only-of-type {\n",
              "        vertical-align: middle;\n",
              "    }\n",
              "\n",
              "    .dataframe tbody tr th {\n",
              "        vertical-align: top;\n",
              "    }\n",
              "\n",
              "    .dataframe thead th {\n",
              "        text-align: right;\n",
              "    }\n",
              "</style>\n",
              "<table border=\"1\" class=\"dataframe\">\n",
              "  <thead>\n",
              "    <tr style=\"text-align: right;\">\n",
              "      <th></th>\n",
              "      <th>VendorID</th>\n",
              "      <th>tpep_pickup_datetime</th>\n",
              "      <th>tpep_dropoff_datetime</th>\n",
              "      <th>passenger_count</th>\n",
              "      <th>trip_distance</th>\n",
              "      <th>RatecodeID</th>\n",
              "      <th>store_and_fwd_flag</th>\n",
              "      <th>PULocationID</th>\n",
              "      <th>DOLocationID</th>\n",
              "      <th>payment_type</th>\n",
              "      <th>fare_amount</th>\n",
              "      <th>extra</th>\n",
              "      <th>mta_tax</th>\n",
              "      <th>tip_amount</th>\n",
              "      <th>tolls_amount</th>\n",
              "      <th>improvement_surcharge</th>\n",
              "      <th>total_amount</th>\n",
              "    </tr>\n",
              "  </thead>\n",
              "  <tbody>\n",
              "    <tr>\n",
              "      <th>663</th>\n",
              "      <td>2</td>\n",
              "      <td>2019-01-01 00:32:56</td>\n",
              "      <td>2019-01-01 00:33:35</td>\n",
              "      <td>2</td>\n",
              "      <td>0.10</td>\n",
              "      <td>1</td>\n",
              "      <td>N</td>\n",
              "      <td>148</td>\n",
              "      <td>148</td>\n",
              "      <td>3</td>\n",
              "      <td>-2.5</td>\n",
              "      <td>-0.5</td>\n",
              "      <td>-0.5</td>\n",
              "      <td>0.0</td>\n",
              "      <td>0.0</td>\n",
              "      <td>-0.3</td>\n",
              "      <td>-3.8</td>\n",
              "    </tr>\n",
              "    <tr>\n",
              "      <th>2402</th>\n",
              "      <td>2</td>\n",
              "      <td>2019-01-01 00:14:18</td>\n",
              "      <td>2019-01-01 00:40:55</td>\n",
              "      <td>1</td>\n",
              "      <td>4.13</td>\n",
              "      <td>1</td>\n",
              "      <td>N</td>\n",
              "      <td>170</td>\n",
              "      <td>238</td>\n",
              "      <td>4</td>\n",
              "      <td>-19.0</td>\n",
              "      <td>-0.5</td>\n",
              "      <td>-0.5</td>\n",
              "      <td>0.0</td>\n",
              "      <td>0.0</td>\n",
              "      <td>-0.3</td>\n",
              "      <td>-20.3</td>\n",
              "    </tr>\n",
              "    <tr>\n",
              "      <th>2541</th>\n",
              "      <td>2</td>\n",
              "      <td>2019-01-01 00:31:27</td>\n",
              "      <td>2019-01-01 00:42:39</td>\n",
              "      <td>1</td>\n",
              "      <td>1.35</td>\n",
              "      <td>1</td>\n",
              "      <td>N</td>\n",
              "      <td>162</td>\n",
              "      <td>234</td>\n",
              "      <td>4</td>\n",
              "      <td>-8.5</td>\n",
              "      <td>-0.5</td>\n",
              "      <td>-0.5</td>\n",
              "      <td>0.0</td>\n",
              "      <td>0.0</td>\n",
              "      <td>-0.3</td>\n",
              "      <td>-9.8</td>\n",
              "    </tr>\n",
              "    <tr>\n",
              "      <th>2544</th>\n",
              "      <td>2</td>\n",
              "      <td>2019-01-01 00:45:57</td>\n",
              "      <td>2019-01-01 00:46:07</td>\n",
              "      <td>1</td>\n",
              "      <td>0.00</td>\n",
              "      <td>1</td>\n",
              "      <td>N</td>\n",
              "      <td>234</td>\n",
              "      <td>234</td>\n",
              "      <td>4</td>\n",
              "      <td>-2.5</td>\n",
              "      <td>-0.5</td>\n",
              "      <td>-0.5</td>\n",
              "      <td>0.0</td>\n",
              "      <td>0.0</td>\n",
              "      <td>-0.3</td>\n",
              "      <td>-3.8</td>\n",
              "    </tr>\n",
              "    <tr>\n",
              "      <th>2547</th>\n",
              "      <td>2</td>\n",
              "      <td>2019-01-01 00:48:35</td>\n",
              "      <td>2019-01-01 00:49:59</td>\n",
              "      <td>1</td>\n",
              "      <td>0.16</td>\n",
              "      <td>1</td>\n",
              "      <td>N</td>\n",
              "      <td>234</td>\n",
              "      <td>234</td>\n",
              "      <td>4</td>\n",
              "      <td>-3.0</td>\n",
              "      <td>-0.5</td>\n",
              "      <td>-0.5</td>\n",
              "      <td>0.0</td>\n",
              "      <td>0.0</td>\n",
              "      <td>-0.3</td>\n",
              "      <td>-4.3</td>\n",
              "    </tr>\n",
              "    <tr>\n",
              "      <th>...</th>\n",
              "      <td>...</td>\n",
              "      <td>...</td>\n",
              "      <td>...</td>\n",
              "      <td>...</td>\n",
              "      <td>...</td>\n",
              "      <td>...</td>\n",
              "      <td>...</td>\n",
              "      <td>...</td>\n",
              "      <td>...</td>\n",
              "      <td>...</td>\n",
              "      <td>...</td>\n",
              "      <td>...</td>\n",
              "      <td>...</td>\n",
              "      <td>...</td>\n",
              "      <td>...</td>\n",
              "      <td>...</td>\n",
              "      <td>...</td>\n",
              "    </tr>\n",
              "    <tr>\n",
              "      <th>7665612</th>\n",
              "      <td>2</td>\n",
              "      <td>2019-01-31 23:24:31</td>\n",
              "      <td>2019-01-31 23:25:52</td>\n",
              "      <td>1</td>\n",
              "      <td>0.34</td>\n",
              "      <td>1</td>\n",
              "      <td>N</td>\n",
              "      <td>161</td>\n",
              "      <td>237</td>\n",
              "      <td>3</td>\n",
              "      <td>-3.0</td>\n",
              "      <td>-0.5</td>\n",
              "      <td>-0.5</td>\n",
              "      <td>0.0</td>\n",
              "      <td>0.0</td>\n",
              "      <td>-0.3</td>\n",
              "      <td>-4.3</td>\n",
              "    </tr>\n",
              "    <tr>\n",
              "      <th>7666343</th>\n",
              "      <td>2</td>\n",
              "      <td>2019-01-31 23:36:37</td>\n",
              "      <td>2019-01-31 23:37:44</td>\n",
              "      <td>1</td>\n",
              "      <td>0.17</td>\n",
              "      <td>1</td>\n",
              "      <td>N</td>\n",
              "      <td>68</td>\n",
              "      <td>158</td>\n",
              "      <td>3</td>\n",
              "      <td>-3.0</td>\n",
              "      <td>-0.5</td>\n",
              "      <td>-0.5</td>\n",
              "      <td>0.0</td>\n",
              "      <td>0.0</td>\n",
              "      <td>-0.3</td>\n",
              "      <td>-4.3</td>\n",
              "    </tr>\n",
              "    <tr>\n",
              "      <th>7666452</th>\n",
              "      <td>2</td>\n",
              "      <td>2019-01-31 23:08:30</td>\n",
              "      <td>2019-01-31 23:19:27</td>\n",
              "      <td>2</td>\n",
              "      <td>0.58</td>\n",
              "      <td>1</td>\n",
              "      <td>N</td>\n",
              "      <td>162</td>\n",
              "      <td>229</td>\n",
              "      <td>3</td>\n",
              "      <td>-8.0</td>\n",
              "      <td>-0.5</td>\n",
              "      <td>-0.5</td>\n",
              "      <td>0.0</td>\n",
              "      <td>0.0</td>\n",
              "      <td>-0.3</td>\n",
              "      <td>-9.3</td>\n",
              "    </tr>\n",
              "    <tr>\n",
              "      <th>7666601</th>\n",
              "      <td>2</td>\n",
              "      <td>2019-01-31 23:42:48</td>\n",
              "      <td>2019-01-31 23:48:23</td>\n",
              "      <td>1</td>\n",
              "      <td>0.68</td>\n",
              "      <td>1</td>\n",
              "      <td>N</td>\n",
              "      <td>211</td>\n",
              "      <td>211</td>\n",
              "      <td>4</td>\n",
              "      <td>-5.5</td>\n",
              "      <td>-0.5</td>\n",
              "      <td>-0.5</td>\n",
              "      <td>0.0</td>\n",
              "      <td>0.0</td>\n",
              "      <td>-0.3</td>\n",
              "      <td>-6.8</td>\n",
              "    </tr>\n",
              "    <tr>\n",
              "      <th>7667014</th>\n",
              "      <td>2</td>\n",
              "      <td>2019-01-31 23:52:30</td>\n",
              "      <td>2019-01-31 23:53:26</td>\n",
              "      <td>1</td>\n",
              "      <td>0.09</td>\n",
              "      <td>1</td>\n",
              "      <td>N</td>\n",
              "      <td>170</td>\n",
              "      <td>233</td>\n",
              "      <td>3</td>\n",
              "      <td>-2.5</td>\n",
              "      <td>-0.5</td>\n",
              "      <td>-0.5</td>\n",
              "      <td>0.0</td>\n",
              "      <td>0.0</td>\n",
              "      <td>-0.3</td>\n",
              "      <td>-3.8</td>\n",
              "    </tr>\n",
              "  </tbody>\n",
              "</table>\n",
              "<p>7131 rows × 17 columns</p>\n",
              "</div>"
            ],
            "text/plain": [
              "         VendorID tpep_pickup_datetime  ... improvement_surcharge  total_amount\n",
              "663             2  2019-01-01 00:32:56  ...                  -0.3          -3.8\n",
              "2402            2  2019-01-01 00:14:18  ...                  -0.3         -20.3\n",
              "2541            2  2019-01-01 00:31:27  ...                  -0.3          -9.8\n",
              "2544            2  2019-01-01 00:45:57  ...                  -0.3          -3.8\n",
              "2547            2  2019-01-01 00:48:35  ...                  -0.3          -4.3\n",
              "...           ...                  ...  ...                   ...           ...\n",
              "7665612         2  2019-01-31 23:24:31  ...                  -0.3          -4.3\n",
              "7666343         2  2019-01-31 23:36:37  ...                  -0.3          -4.3\n",
              "7666452         2  2019-01-31 23:08:30  ...                  -0.3          -9.3\n",
              "7666601         2  2019-01-31 23:42:48  ...                  -0.3          -6.8\n",
              "7667014         2  2019-01-31 23:52:30  ...                  -0.3          -3.8\n",
              "\n",
              "[7131 rows x 17 columns]"
            ]
          },
          "metadata": {
            "tags": []
          },
          "execution_count": 28
        }
      ]
    },
    {
      "cell_type": "code",
      "metadata": {
        "id": "j0Kc_an_ijeA",
        "colab_type": "code",
        "outputId": "71f6eee5-8d3f-42b8-d670-0a8b1a66b8e1",
        "colab": {
          "base_uri": "https://localhost:8080/",
          "height": 106
        }
      },
      "source": [
        "zero_fare['payment_type'].value_counts()"
      ],
      "execution_count": 29,
      "outputs": [
        {
          "output_type": "execute_result",
          "data": {
            "text/plain": [
              "3    4088\n",
              "4    2666\n",
              "2     376\n",
              "1       1\n",
              "Name: payment_type, dtype: int64"
            ]
          },
          "metadata": {
            "tags": []
          },
          "execution_count": 29
        }
      ]
    },
    {
      "cell_type": "code",
      "metadata": {
        "id": "o92ARDyDkoj9",
        "colab_type": "code",
        "outputId": "79107ade-dfe8-445b-b646-ca5a9834e9aa",
        "colab": {
          "base_uri": "https://localhost:8080/",
          "height": 460
        }
      },
      "source": [
        "plt.figure(figsize=(15,7))\n",
        "\n",
        "sns.countplot(zero_fare['payment_type'])"
      ],
      "execution_count": 30,
      "outputs": [
        {
          "output_type": "execute_result",
          "data": {
            "text/plain": [
              "<matplotlib.axes._subplots.AxesSubplot at 0x7fb783e94160>"
            ]
          },
          "metadata": {
            "tags": []
          },
          "execution_count": 30
        },
        {
          "output_type": "display_data",
          "data": {
            "image/png": "[encoded data removed]",
            "text/plain": [
              "<Figure size 1080x504 with 1 Axes>"
            ]
          },
          "metadata": {
            "tags": []
          }
        }
      ]
    },
    {
      "cell_type": "markdown",
      "metadata": {
        "id": "J2LXOb-gjQc2",
        "colab_type": "text"
      },
      "source": [
        "Decription of payment type.\n",
        "\n",
        "A numeric code signifying how the passenger paid for the trip.\n",
        "\n",
        "- 1= Credit card\n",
        "- 2= Cash\n",
        "- 3= No charge\n",
        "- 4= Dispute\n",
        "- 5= Unknown\n",
        "- 6= Voided trip"
      ]
    },
    {
      "cell_type": "markdown",
      "metadata": {
        "id": "C6CyfDFGjgbS",
        "colab_type": "text"
      },
      "source": [
        "- 57% of the paid with no charge. I will assume this means the trip was free and drivers paid for the tax and toll fees. Maybe some sought of discount.\n",
        "- 29% of riders in paid with dispute. Still no payment here. \n",
        "- 1 person paid credit card.\n",
        "- 5% paid with cash."
      ]
    },
    {
      "cell_type": "markdown",
      "metadata": {
        "id": "-lgL4iVwtuEL",
        "colab_type": "text"
      },
      "source": [
        "- Which passenger tip the most? highest dstance or high fare amount\n",
        "- Does a higher fare amount mean higher trip covered?\n",
        "- Does a higher passenger count mean high fare amount\n",
        "- General Geographic coverage of trips\n",
        "- Geoghraphic coverage based on passenger count"
      ]
    },
    {
      "cell_type": "code",
      "metadata": {
        "id": "F9PPByebnRzp",
        "colab_type": "code",
        "outputId": "f7351e3b-04b1-48e3-a067-7cfb0b3b6ab0",
        "colab": {
          "base_uri": "https://localhost:8080/",
          "height": 34
        }
      },
      "source": [
        "data['tip_amount'].max()"
      ],
      "execution_count": 31,
      "outputs": [
        {
          "output_type": "execute_result",
          "data": {
            "text/plain": [
              "787.25"
            ]
          },
          "metadata": {
            "tags": []
          },
          "execution_count": 31
        }
      ]
    },
    {
      "cell_type": "code",
      "metadata": {
        "id": "-UmAf1L8pUHi",
        "colab_type": "code",
        "colab": {
          "base_uri": "https://localhost:8080/",
          "height": 34
        },
        "outputId": "22ad72c7-7086-4dd7-c280-04185e9bcd52"
      },
      "source": [
        "tip_fare = data[(data['tip_amount'] > 0) & (data['trip_distance'] == 0)]\n",
        "len(tip_fare)"
      ],
      "execution_count": 48,
      "outputs": [
        {
          "output_type": "execute_result",
          "data": {
            "text/plain": [
              "19012"
            ]
          },
          "metadata": {
            "tags": []
          },
          "execution_count": 48
        }
      ]
    },
    {
      "cell_type": "markdown",
      "metadata": {
        "id": "AW0OQJtQ10aI",
        "colab_type": "text"
      },
      "source": [
        "- There are about 19012 instances where trip distance of 0 miles receive a tip.\n",
        "- Further investigation shows that the PU and DO location ID are in the same zone. This means the taximeter was engaged and disengaged in the same zone."
      ]
    },
    {
      "cell_type": "markdown",
      "metadata": {
        "id": "S4gqCmzr21FH",
        "colab_type": "text"
      },
      "source": [
        "- Loooking at the passenger counts."
      ]
    },
    {
      "cell_type": "code",
      "metadata": {
        "id": "y1jKy1pCt4p8",
        "colab_type": "code",
        "colab": {
          "base_uri": "https://localhost:8080/",
          "height": 214
        },
        "outputId": "163d274a-2751-487d-c9a1-2712059f0297"
      },
      "source": [
        "data['passenger_count'].value_counts()"
      ],
      "execution_count": 66,
      "outputs": [
        {
          "output_type": "execute_result",
          "data": {
            "text/plain": [
              "1    5456114\n",
              "2    1114105\n",
              "5     323841\n",
              "3     314721\n",
              "6     200811\n",
              "4     140753\n",
              "0     117365\n",
              "8         29\n",
              "7         19\n",
              "9          9\n",
              "Name: passenger_count, dtype: int64"
            ]
          },
          "metadata": {
            "tags": []
          },
          "execution_count": 66
        }
      ]
    },
    {
      "cell_type": "code",
      "metadata": {
        "id": "aJ3_6x4WxFsT",
        "colab_type": "code",
        "colab": {
          "base_uri": "https://localhost:8080/",
          "height": 352
        },
        "outputId": "4c1f66d2-ac1c-43b3-917b-46cba1edbc9f"
      },
      "source": [
        "plt.figure(figsize=(10, 5))\n",
        "\n",
        "sns.countplot(data['passenger_count'])"
      ],
      "execution_count": 53,
      "outputs": [
        {
          "output_type": "execute_result",
          "data": {
            "text/plain": [
              "<matplotlib.axes._subplots.AxesSubplot at 0x7fb781df7668>"
            ]
          },
          "metadata": {
            "tags": []
          },
          "execution_count": 53
        },
        {
          "output_type": "display_data",
          "data": {
            "image/png": "[encoded data removed]",
            "text/plain": [
              "<Figure size 720x360 with 1 Axes>"
            ]
          },
          "metadata": {
            "tags": []
          }
        }
      ]
    },
    {
      "cell_type": "markdown",
      "metadata": {
        "id": "-hbMAFPj8tqL",
        "colab_type": "text"
      },
      "source": [
        "- Most trip in the newyork yellow taxi had just a single passenger. ~70% of the trips in january 2019.\n",
        "- Trips with 2 passenger counts was the second with over 1 million trips.\n",
        "\n",
        "- Trips with more passenger where less(7, 8, 9) this is understandable. I don't even know if a taxi can take this much people unless a limousine. Or maybe a combined calculation by the driver.\n",
        "\n",
        "- This figure above shows us we have instances where passenger counts was 0. Wondering what the distance coverage was and if there was a fare amount and tip."
      ]
    },
    {
      "cell_type": "markdown",
      "metadata": {
        "id": "ClhvMxuT-bYp",
        "colab_type": "text"
      },
      "source": [
        "- Further Investigation into the passenger counts with 0 passengers"
      ]
    },
    {
      "cell_type": "code",
      "metadata": {
        "id": "pEpqEIomyVg2",
        "colab_type": "code",
        "colab": {
          "base_uri": "https://localhost:8080/",
          "height": 209
        },
        "outputId": "48e3afe8-fbb0-45e8-962f-fe55044bbec1"
      },
      "source": [
        "pcount = data[data['passenger_count'] == 0]\n",
        "pcount.head()"
      ],
      "execution_count": 67,
      "outputs": [
        {
          "output_type": "execute_result",
          "data": {
            "text/html": [
              "<div>\n",
              "<style scoped>\n",
              "    .dataframe tbody tr th:only-of-type {\n",
              "        vertical-align: middle;\n",
              "    }\n",
              "\n",
              "    .dataframe tbody tr th {\n",
              "        vertical-align: top;\n",
              "    }\n",
              "\n",
              "    .dataframe thead th {\n",
              "        text-align: right;\n",
              "    }\n",
              "</style>\n",
              "<table border=\"1\" class=\"dataframe\">\n",
              "  <thead>\n",
              "    <tr style=\"text-align: right;\">\n",
              "      <th></th>\n",
              "      <th>VendorID</th>\n",
              "      <th>tpep_pickup_datetime</th>\n",
              "      <th>tpep_dropoff_datetime</th>\n",
              "      <th>passenger_count</th>\n",
              "      <th>trip_distance</th>\n",
              "      <th>RatecodeID</th>\n",
              "      <th>store_and_fwd_flag</th>\n",
              "      <th>PULocationID</th>\n",
              "      <th>DOLocationID</th>\n",
              "      <th>payment_type</th>\n",
              "      <th>fare_amount</th>\n",
              "      <th>extra</th>\n",
              "      <th>mta_tax</th>\n",
              "      <th>tip_amount</th>\n",
              "      <th>tolls_amount</th>\n",
              "      <th>improvement_surcharge</th>\n",
              "      <th>total_amount</th>\n",
              "    </tr>\n",
              "  </thead>\n",
              "  <tbody>\n",
              "    <tr>\n",
              "      <th>156</th>\n",
              "      <td>1</td>\n",
              "      <td>2019-01-01 00:32:24</td>\n",
              "      <td>2019-01-01 00:33:21</td>\n",
              "      <td>0</td>\n",
              "      <td>5.3</td>\n",
              "      <td>1</td>\n",
              "      <td>N</td>\n",
              "      <td>50</td>\n",
              "      <td>50</td>\n",
              "      <td>1</td>\n",
              "      <td>2.5</td>\n",
              "      <td>0.5</td>\n",
              "      <td>0.5</td>\n",
              "      <td>0.75</td>\n",
              "      <td>0.0</td>\n",
              "      <td>0.3</td>\n",
              "      <td>4.55</td>\n",
              "    </tr>\n",
              "    <tr>\n",
              "      <th>228</th>\n",
              "      <td>1</td>\n",
              "      <td>2019-01-01 00:00:50</td>\n",
              "      <td>2019-01-01 00:31:48</td>\n",
              "      <td>0</td>\n",
              "      <td>18.0</td>\n",
              "      <td>2</td>\n",
              "      <td>N</td>\n",
              "      <td>132</td>\n",
              "      <td>140</td>\n",
              "      <td>1</td>\n",
              "      <td>52.0</td>\n",
              "      <td>0.0</td>\n",
              "      <td>0.5</td>\n",
              "      <td>7.00</td>\n",
              "      <td>0.0</td>\n",
              "      <td>0.3</td>\n",
              "      <td>59.80</td>\n",
              "    </tr>\n",
              "    <tr>\n",
              "      <th>229</th>\n",
              "      <td>1</td>\n",
              "      <td>2019-01-01 00:38:32</td>\n",
              "      <td>2019-01-01 01:09:51</td>\n",
              "      <td>0</td>\n",
              "      <td>8.9</td>\n",
              "      <td>1</td>\n",
              "      <td>N</td>\n",
              "      <td>229</td>\n",
              "      <td>37</td>\n",
              "      <td>1</td>\n",
              "      <td>29.5</td>\n",
              "      <td>0.5</td>\n",
              "      <td>0.5</td>\n",
              "      <td>7.70</td>\n",
              "      <td>0.0</td>\n",
              "      <td>0.3</td>\n",
              "      <td>38.50</td>\n",
              "    </tr>\n",
              "    <tr>\n",
              "      <th>298</th>\n",
              "      <td>1</td>\n",
              "      <td>2019-01-01 00:45:19</td>\n",
              "      <td>2019-01-01 00:55:53</td>\n",
              "      <td>0</td>\n",
              "      <td>1.0</td>\n",
              "      <td>1</td>\n",
              "      <td>N</td>\n",
              "      <td>107</td>\n",
              "      <td>170</td>\n",
              "      <td>2</td>\n",
              "      <td>8.0</td>\n",
              "      <td>0.5</td>\n",
              "      <td>0.5</td>\n",
              "      <td>0.00</td>\n",
              "      <td>0.0</td>\n",
              "      <td>0.3</td>\n",
              "      <td>9.30</td>\n",
              "    </tr>\n",
              "    <tr>\n",
              "      <th>905</th>\n",
              "      <td>1</td>\n",
              "      <td>2019-01-01 00:20:15</td>\n",
              "      <td>2019-01-01 00:26:42</td>\n",
              "      <td>0</td>\n",
              "      <td>0.7</td>\n",
              "      <td>1</td>\n",
              "      <td>N</td>\n",
              "      <td>90</td>\n",
              "      <td>249</td>\n",
              "      <td>1</td>\n",
              "      <td>6.0</td>\n",
              "      <td>0.5</td>\n",
              "      <td>0.5</td>\n",
              "      <td>1.00</td>\n",
              "      <td>0.0</td>\n",
              "      <td>0.3</td>\n",
              "      <td>8.30</td>\n",
              "    </tr>\n",
              "  </tbody>\n",
              "</table>\n",
              "</div>"
            ],
            "text/plain": [
              "     VendorID tpep_pickup_datetime  ... improvement_surcharge  total_amount\n",
              "156         1  2019-01-01 00:32:24  ...                   0.3          4.55\n",
              "228         1  2019-01-01 00:00:50  ...                   0.3         59.80\n",
              "229         1  2019-01-01 00:38:32  ...                   0.3         38.50\n",
              "298         1  2019-01-01 00:45:19  ...                   0.3          9.30\n",
              "905         1  2019-01-01 00:20:15  ...                   0.3          8.30\n",
              "\n",
              "[5 rows x 17 columns]"
            ]
          },
          "metadata": {
            "tags": []
          },
          "execution_count": 67
        }
      ]
    },
    {
      "cell_type": "markdown",
      "metadata": {
        "id": "gQlNBxqd-6Y2",
        "colab_type": "text"
      },
      "source": [
        "- What payment type was used?"
      ]
    },
    {
      "cell_type": "code",
      "metadata": {
        "id": "CrutWErSA20E",
        "colab_type": "code",
        "colab": {
          "base_uri": "https://localhost:8080/",
          "height": 34
        },
        "outputId": "8eb3c307-27bb-4ad7-bf4f-f0bd44d9549f"
      },
      "source": [
        "pcount.shape"
      ],
      "execution_count": 71,
      "outputs": [
        {
          "output_type": "execute_result",
          "data": {
            "text/plain": [
              "(117365, 17)"
            ]
          },
          "metadata": {
            "tags": []
          },
          "execution_count": 71
        }
      ]
    },
    {
      "cell_type": "code",
      "metadata": {
        "id": "ZE8x90pBB5-M",
        "colab_type": "code",
        "colab": {
          "base_uri": "https://localhost:8080/",
          "height": 106
        },
        "outputId": "1b5aa4f9-ff45-4ef9-f257-794d40bf6b04"
      },
      "source": [
        "pcount['payment_type'].value_counts()"
      ],
      "execution_count": 74,
      "outputs": [
        {
          "output_type": "execute_result",
          "data": {
            "text/plain": [
              "1    83221\n",
              "2    31873\n",
              "3     1574\n",
              "4      697\n",
              "Name: payment_type, dtype: int64"
            ]
          },
          "metadata": {
            "tags": []
          },
          "execution_count": 74
        }
      ]
    },
    {
      "cell_type": "code",
      "metadata": {
        "id": "S0c_BsK---IX",
        "colab_type": "code",
        "colab": {
          "base_uri": "https://localhost:8080/",
          "height": 406
        },
        "outputId": "7a4456db-d23d-4f6e-a0fe-a4db4bad4f2d"
      },
      "source": [
        "plt.figure(figsize=(12, 6))\n",
        "\n",
        "sns.countplot(pcount['payment_type'])"
      ],
      "execution_count": 68,
      "outputs": [
        {
          "output_type": "execute_result",
          "data": {
            "text/plain": [
              "<matplotlib.axes._subplots.AxesSubplot at 0x7fb78172eb00>"
            ]
          },
          "metadata": {
            "tags": []
          },
          "execution_count": 68
        },
        {
          "output_type": "display_data",
          "data": {
            "image/png": "[encoded data removed]",
            "text/plain": [
              "<Figure size 864x432 with 1 Axes>"
            ]
          },
          "metadata": {
            "tags": []
          }
        }
      ]
    },
    {
      "cell_type": "markdown",
      "metadata": {
        "id": "Fo4hAGZ6_bRM",
        "colab_type": "text"
      },
      "source": [
        "- Majority of the ride are paid with credit cards ~ 80k used credit card.\n",
        "- ~ 30k paid in cash\n"
      ]
    },
    {
      "cell_type": "markdown",
      "metadata": {
        "id": "pdHMZ8emAENv",
        "colab_type": "text"
      },
      "source": [
        "What's the payment rate of each ride.\n",
        "\n",
        "- I will use the rate code Id to determine this.\n",
        "\n",
        "The final rate code in effect at the end of the trip.\n",
        "- 1= Standard rate\n",
        "- 2=JFK\n",
        "- 3=Newark\n",
        "- 4=Nassau or Westchester\n",
        "- 5=Negotiated fare\n",
        "- 6=Group ride"
      ]
    },
    {
      "cell_type": "code",
      "metadata": {
        "id": "crv2HFaH--Fj",
        "colab_type": "code",
        "colab": {
          "base_uri": "https://localhost:8080/",
          "height": 406
        },
        "outputId": "85c60c50-d32d-45ec-b013-39b4d9452bbf"
      },
      "source": [
        "plt.figure(figsize=(12, 6))\n",
        "\n",
        "sns.countplot(pcount['RatecodeID'])"
      ],
      "execution_count": 70,
      "outputs": [
        {
          "output_type": "execute_result",
          "data": {
            "text/plain": [
              "<matplotlib.axes._subplots.AxesSubplot at 0x7fb781de5048>"
            ]
          },
          "metadata": {
            "tags": []
          },
          "execution_count": 70
        },
        {
          "output_type": "display_data",
          "data": {
            "image/png": "[encoded data removed]",
            "text/plain": [
              "<Figure size 864x432 with 1 Axes>"
            ]
          },
          "metadata": {
            "tags": []
          }
        }
      ]
    },
    {
      "cell_type": "markdown",
      "metadata": {
        "id": "seF7dZZdAYvO",
        "colab_type": "text"
      },
      "source": [
        "- Majority of the ride was paid in the standard rate. Over 100k of the rides paid with standard rates. This is over 90%.\n"
      ]
    },
    {
      "cell_type": "code",
      "metadata": {
        "id": "CM20Gu2z--A6",
        "colab_type": "code",
        "colab": {
          "base_uri": "https://localhost:8080/",
          "height": 406
        },
        "outputId": "5722de9d-b45b-4268-ebab-0c82cf07fb72"
      },
      "source": [
        "plt.figure(figsize=(12, 6))\n",
        "\n",
        "sns.distplot(pcount['fare_amount'])"
      ],
      "execution_count": 73,
      "outputs": [
        {
          "output_type": "execute_result",
          "data": {
            "text/plain": [
              "<matplotlib.axes._subplots.AxesSubplot at 0x7fb7814ac0f0>"
            ]
          },
          "metadata": {
            "tags": []
          },
          "execution_count": 73
        },
        {
          "output_type": "display_data",
          "data": {
            "image/png": "[encoded data removed]",
            "text/plain": [
              "<Figure size 864x432 with 1 Axes>"
            ]
          },
          "metadata": {
            "tags": []
          }
        }
      ]
    },
    {
      "cell_type": "markdown",
      "metadata": {
        "id": "stUWxr7TBa97",
        "colab_type": "text"
      },
      "source": [
        "- Fare amount is similar to the general fare amount.\n",
        "- We have negative fare amounts here. These are the no charge and dispute trip payment type.\n",
        "\n",
        "Conclusion from this is this zero passenger trips might have been an errand of sought. Maybe a delivery or company package delivery."
      ]
    },
    {
      "cell_type": "markdown",
      "metadata": {
        "id": "ENZwwYpLCsW6",
        "colab_type": "text"
      },
      "source": [
        "- Check the correlation between passenger trips and fare amount. Are they dependent on each other?"
      ]
    },
    {
      "cell_type": "code",
      "metadata": {
        "id": "e8FYraq0-96A",
        "colab_type": "code",
        "colab": {
          "base_uri": "https://localhost:8080/",
          "height": 34
        },
        "outputId": "28f3809c-c9c5-483e-e6a1-04f5c7d30c68"
      },
      "source": [
        "data['passenger_count'].corr(data['fare_amount'])"
      ],
      "execution_count": 75,
      "outputs": [
        {
          "output_type": "execute_result",
          "data": {
            "text/plain": [
              "0.003960345525138803"
            ]
          },
          "metadata": {
            "tags": []
          },
          "execution_count": 75
        }
      ]
    },
    {
      "cell_type": "code",
      "metadata": {
        "id": "CE2Qq4ww-91k",
        "colab_type": "code",
        "colab": {
          "base_uri": "https://localhost:8080/",
          "height": 298
        },
        "outputId": "7bfe43cd-cbd1-46ed-9876-14bc45e43ed5"
      },
      "source": [
        "sns.scatterplot(data['passenger_count'], data['fare_amount'])"
      ],
      "execution_count": 76,
      "outputs": [
        {
          "output_type": "execute_result",
          "data": {
            "text/plain": [
              "<matplotlib.axes._subplots.AxesSubplot at 0x7fb78140aa20>"
            ]
          },
          "metadata": {
            "tags": []
          },
          "execution_count": 76
        },
        {
          "output_type": "display_data",
          "data": {
            "image/png": "[encoded data removed]",
            "text/plain": [
              "<Figure size 432x288 with 1 Axes>"
            ]
          },
          "metadata": {
            "tags": []
          }
        }
      ]
    },
    {
      "cell_type": "code",
      "metadata": {
        "id": "Z4qJTYWd4YQr",
        "colab_type": "code",
        "colab": {
          "base_uri": "https://localhost:8080/",
          "height": 214
        },
        "outputId": "879d73d1-66cb-4b48-b306-56f0a42b1417"
      },
      "source": [
        "!wget https://s3.amazonaws.com/nyc-tlc/misc/taxi+_zone_lookup.csv\n"
      ],
      "execution_count": 59,
      "outputs": [
        {
          "output_type": "stream",
          "text": [
            "--2020-01-14 12:03:39--  https://s3.amazonaws.com/nyc-tlc/misc/taxi+_zone_lookup.csv\n",
            "Resolving s3.amazonaws.com (s3.amazonaws.com)... 52.216.128.53\n",
            "Connecting to s3.amazonaws.com (s3.amazonaws.com)|52.216.128.53|:443... connected.\n",
            "HTTP request sent, awaiting response... 200 OK\n",
            "Length: 12322 (12K) [application/octet-stream]\n",
            "Saving to: ‘taxi+_zone_lookup.csv’\n",
            "\n",
            "\rtaxi+_zone_lookup.c   0%[                    ]       0  --.-KB/s               \rtaxi+_zone_lookup.c 100%[===================>]  12.03K  --.-KB/s    in 0s      \n",
            "\n",
            "2020-01-14 12:03:39 (229 MB/s) - ‘taxi+_zone_lookup.csv’ saved [12322/12322]\n",
            "\n"
          ],
          "name": "stdout"
        }
      ]
    },
    {
      "cell_type": "code",
      "metadata": {
        "id": "quSdzm7B8AaN",
        "colab_type": "code",
        "colab": {
          "base_uri": "https://localhost:8080/",
          "height": 189
        },
        "outputId": "2de09b9b-9d6e-4684-8e6f-4c059f2d5ec9"
      },
      "source": [
        "taxi_zone = pd.read_csv('/content/taxi+_zone_lookup.csv')\n",
        "taxi_zone.head()"
      ],
      "execution_count": 61,
      "outputs": [
        {
          "output_type": "execute_result",
          "data": {
            "text/html": [
              "<div>\n",
              "<style scoped>\n",
              "    .dataframe tbody tr th:only-of-type {\n",
              "        vertical-align: middle;\n",
              "    }\n",
              "\n",
              "    .dataframe tbody tr th {\n",
              "        vertical-align: top;\n",
              "    }\n",
              "\n",
              "    .dataframe thead th {\n",
              "        text-align: right;\n",
              "    }\n",
              "</style>\n",
              "<table border=\"1\" class=\"dataframe\">\n",
              "  <thead>\n",
              "    <tr style=\"text-align: right;\">\n",
              "      <th></th>\n",
              "      <th>LocationID</th>\n",
              "      <th>Borough</th>\n",
              "      <th>Zone</th>\n",
              "      <th>service_zone</th>\n",
              "    </tr>\n",
              "  </thead>\n",
              "  <tbody>\n",
              "    <tr>\n",
              "      <th>0</th>\n",
              "      <td>1</td>\n",
              "      <td>EWR</td>\n",
              "      <td>Newark Airport</td>\n",
              "      <td>EWR</td>\n",
              "    </tr>\n",
              "    <tr>\n",
              "      <th>1</th>\n",
              "      <td>2</td>\n",
              "      <td>Queens</td>\n",
              "      <td>Jamaica Bay</td>\n",
              "      <td>Boro Zone</td>\n",
              "    </tr>\n",
              "    <tr>\n",
              "      <th>2</th>\n",
              "      <td>3</td>\n",
              "      <td>Bronx</td>\n",
              "      <td>Allerton/Pelham Gardens</td>\n",
              "      <td>Boro Zone</td>\n",
              "    </tr>\n",
              "    <tr>\n",
              "      <th>3</th>\n",
              "      <td>4</td>\n",
              "      <td>Manhattan</td>\n",
              "      <td>Alphabet City</td>\n",
              "      <td>Yellow Zone</td>\n",
              "    </tr>\n",
              "    <tr>\n",
              "      <th>4</th>\n",
              "      <td>5</td>\n",
              "      <td>Staten Island</td>\n",
              "      <td>Arden Heights</td>\n",
              "      <td>Boro Zone</td>\n",
              "    </tr>\n",
              "  </tbody>\n",
              "</table>\n",
              "</div>"
            ],
            "text/plain": [
              "   LocationID        Borough                     Zone service_zone\n",
              "0           1            EWR           Newark Airport          EWR\n",
              "1           2         Queens              Jamaica Bay    Boro Zone\n",
              "2           3          Bronx  Allerton/Pelham Gardens    Boro Zone\n",
              "3           4      Manhattan            Alphabet City  Yellow Zone\n",
              "4           5  Staten Island            Arden Heights    Boro Zone"
            ]
          },
          "metadata": {
            "tags": []
          },
          "execution_count": 61
        }
      ]
    },
    {
      "cell_type": "code",
      "metadata": {
        "id": "krHUXgC_F9_F",
        "colab_type": "code",
        "colab": {}
      },
      "source": [
        "borough = [z for z in taxi_zone['Zone'].values]"
      ],
      "execution_count": 0,
      "outputs": []
    },
    {
      "cell_type": "code",
      "metadata": {
        "id": "xcQ9JB9tGoaJ",
        "colab_type": "code",
        "colab": {}
      },
      "source": [
        ""
      ],
      "execution_count": 0,
      "outputs": []
    },
    {
      "cell_type": "code",
      "metadata": {
        "id": "W1MIpu5cuztc",
        "colab_type": "code",
        "colab": {
          "base_uri": "https://localhost:8080/",
          "height": 52
        },
        "outputId": "91fa1c86-1c70-4a94-e929-47eb6f3bc7ef"
      },
      "source": [
        "arr = []\n",
        "number_of_numb = int(input())\n",
        "\n",
        "\n",
        "for i in range(number_of_numb):\n",
        "    numbers = int(input())\n",
        "    arr.append(numbers)\n",
        "rev = arr[::-1]\n",
        "\n",
        "print(arr)\n",
        "print(rev)"
      ],
      "execution_count": 12,
      "outputs": [
        {
          "output_type": "stream",
          "text": [
            "[]\n",
            "[4, 3, 2, 1]\n"
          ],
          "name": "stdout"
        }
      ]
    },
    {
      "cell_type": "code",
      "metadata": {
        "id": "vXqRr1tfuzog",
        "colab_type": "code",
        "colab": {
          "base_uri": "https://localhost:8080/",
          "height": 124
        },
        "outputId": "1645b91e-e335-498b-d296-c2b2f4b8c98b"
      },
      "source": [
        "arr = []\n",
        "number_of_numb = int(input())\n",
        "def reverse_array(arr):\n",
        "  for i in range(number_of_numb):\n",
        "    numbers = int(input())\n",
        "    arr.append(numbers)\n",
        "    rev = arr[::-1]\n",
        "\n",
        "    \n",
        "if __name__ == '__main__':\n",
        "    arr = list(map(int, input().rstrip().split()))\n",
        "reverse_array(arr)"
      ],
      "execution_count": 10,
      "outputs": [
        {
          "output_type": "stream",
          "text": [
            "4\n",
            "1\n",
            "2\n",
            "3\n",
            "4\n",
            "5\n"
          ],
          "name": "stdout"
        }
      ]
    },
    {
      "cell_type": "code",
      "metadata": {
        "id": "AD2pRvPpuzg6",
        "colab_type": "code",
        "colab": {}
      },
      "source": [
        ""
      ],
      "execution_count": 0,
      "outputs": []
    },
    {
      "cell_type": "code",
      "metadata": {
        "id": "TjzWQoqOuze3",
        "colab_type": "code",
        "colab": {}
      },
      "source": [
        ""
      ],
      "execution_count": 0,
      "outputs": []
    },
    {
      "cell_type": "code",
      "metadata": {
        "id": "D_BFeMuguzY_",
        "colab_type": "code",
        "colab": {}
      },
      "source": [
        ""
      ],
      "execution_count": 0,
      "outputs": []
    }
  ]
}