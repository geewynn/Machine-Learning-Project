{
  "nbformat": 4,
  "nbformat_minor": 0,
  "metadata": {
    "colab": {
      "name": "trip analysis.ipynb",
      "provenance": []
    },
    "kernelspec": {
      "name": "python3",
      "display_name": "Python 3"
    },
    "accelerator": "GPU"
  },
  "cells": [
    {
      "cell_type": "code",
      "metadata": {
        "id": "CxxvwQLe3gab",
        "colab_type": "code",
        "colab": {}
      },
      "source": [
        "import pandas as pd\n",
        "import numpy as np\n",
        "import seaborn as sns\n",
        "import matplotlib.pyplot as plt\n",
        "import plotly.graph_objects as go\n"
      ],
      "execution_count": 0,
      "outputs": []
    },
    {
      "cell_type": "code",
      "metadata": {
        "id": "foKbpIHR3C7L",
        "colab_type": "code",
        "colab": {
          "base_uri": "https://localhost:8080/",
          "height": 214
        },
        "outputId": "6e8cb671-1805-4d35-fab5-9328d791bf00"
      },
      "source": [
        "!wget https://s3.amazonaws.com/nyc-tlc/trip+data/yellow_tripdata_2019-01.csv"
      ],
      "execution_count": 2,
      "outputs": [
        {
          "output_type": "stream",
          "text": [
            "--2020-01-13 12:31:24--  https://s3.amazonaws.com/nyc-tlc/trip+data/yellow_tripdata_2019-01.csv\n",
            "Resolving s3.amazonaws.com (s3.amazonaws.com)... 52.216.97.61\n",
            "Connecting to s3.amazonaws.com (s3.amazonaws.com)|52.216.97.61|:443... connected.\n",
            "HTTP request sent, awaiting response... 200 OK\n",
            "Length: 687088084 (655M) [text/csv]\n",
            "Saving to: ‘yellow_tripdata_2019-01.csv’\n",
            "\n",
            "yellow_tripdata_201 100%[===================>] 655.26M  46.4MB/s    in 15s     \n",
            "\n",
            "2020-01-13 12:31:39 (45.0 MB/s) - ‘yellow_tripdata_2019-01.csv’ saved [687088084/687088084]\n",
            "\n"
          ],
          "name": "stdout"
        }
      ]
    },
    {
      "cell_type": "code",
      "metadata": {
        "id": "coe4xTw73Ox7",
        "colab_type": "code",
        "colab": {
          "base_uri": "https://localhost:8080/",
          "height": 209
        },
        "outputId": "395271a5-35c8-4b37-b90f-ae840ebfdb92"
      },
      "source": [
        "data = pd.read_csv('/content/yellow_tripdata_2019-01.csv')\n",
        "data.head()"
      ],
      "execution_count": 72,
      "outputs": [
        {
          "output_type": "execute_result",
          "data": {
            "text/html": [
              "<div>\n",
              "<style scoped>\n",
              "    .dataframe tbody tr th:only-of-type {\n",
              "        vertical-align: middle;\n",
              "    }\n",
              "\n",
              "    .dataframe tbody tr th {\n",
              "        vertical-align: top;\n",
              "    }\n",
              "\n",
              "    .dataframe thead th {\n",
              "        text-align: right;\n",
              "    }\n",
              "</style>\n",
              "<table border=\"1\" class=\"dataframe\">\n",
              "  <thead>\n",
              "    <tr style=\"text-align: right;\">\n",
              "      <th></th>\n",
              "      <th>VendorID</th>\n",
              "      <th>tpep_pickup_datetime</th>\n",
              "      <th>tpep_dropoff_datetime</th>\n",
              "      <th>passenger_count</th>\n",
              "      <th>trip_distance</th>\n",
              "      <th>RatecodeID</th>\n",
              "      <th>store_and_fwd_flag</th>\n",
              "      <th>PULocationID</th>\n",
              "      <th>DOLocationID</th>\n",
              "      <th>payment_type</th>\n",
              "      <th>fare_amount</th>\n",
              "      <th>extra</th>\n",
              "      <th>mta_tax</th>\n",
              "      <th>tip_amount</th>\n",
              "      <th>tolls_amount</th>\n",
              "      <th>improvement_surcharge</th>\n",
              "      <th>total_amount</th>\n",
              "      <th>congestion_surcharge</th>\n",
              "    </tr>\n",
              "  </thead>\n",
              "  <tbody>\n",
              "    <tr>\n",
              "      <th>0</th>\n",
              "      <td>1</td>\n",
              "      <td>2019-01-01 00:46:40</td>\n",
              "      <td>2019-01-01 00:53:20</td>\n",
              "      <td>1</td>\n",
              "      <td>1.5</td>\n",
              "      <td>1</td>\n",
              "      <td>N</td>\n",
              "      <td>151</td>\n",
              "      <td>239</td>\n",
              "      <td>1</td>\n",
              "      <td>7.0</td>\n",
              "      <td>0.5</td>\n",
              "      <td>0.5</td>\n",
              "      <td>1.65</td>\n",
              "      <td>0.0</td>\n",
              "      <td>0.3</td>\n",
              "      <td>9.95</td>\n",
              "      <td>NaN</td>\n",
              "    </tr>\n",
              "    <tr>\n",
              "      <th>1</th>\n",
              "      <td>1</td>\n",
              "      <td>2019-01-01 00:59:47</td>\n",
              "      <td>2019-01-01 01:18:59</td>\n",
              "      <td>1</td>\n",
              "      <td>2.6</td>\n",
              "      <td>1</td>\n",
              "      <td>N</td>\n",
              "      <td>239</td>\n",
              "      <td>246</td>\n",
              "      <td>1</td>\n",
              "      <td>14.0</td>\n",
              "      <td>0.5</td>\n",
              "      <td>0.5</td>\n",
              "      <td>1.00</td>\n",
              "      <td>0.0</td>\n",
              "      <td>0.3</td>\n",
              "      <td>16.30</td>\n",
              "      <td>NaN</td>\n",
              "    </tr>\n",
              "    <tr>\n",
              "      <th>2</th>\n",
              "      <td>2</td>\n",
              "      <td>2018-12-21 13:48:30</td>\n",
              "      <td>2018-12-21 13:52:40</td>\n",
              "      <td>3</td>\n",
              "      <td>0.0</td>\n",
              "      <td>1</td>\n",
              "      <td>N</td>\n",
              "      <td>236</td>\n",
              "      <td>236</td>\n",
              "      <td>1</td>\n",
              "      <td>4.5</td>\n",
              "      <td>0.5</td>\n",
              "      <td>0.5</td>\n",
              "      <td>0.00</td>\n",
              "      <td>0.0</td>\n",
              "      <td>0.3</td>\n",
              "      <td>5.80</td>\n",
              "      <td>NaN</td>\n",
              "    </tr>\n",
              "    <tr>\n",
              "      <th>3</th>\n",
              "      <td>2</td>\n",
              "      <td>2018-11-28 15:52:25</td>\n",
              "      <td>2018-11-28 15:55:45</td>\n",
              "      <td>5</td>\n",
              "      <td>0.0</td>\n",
              "      <td>1</td>\n",
              "      <td>N</td>\n",
              "      <td>193</td>\n",
              "      <td>193</td>\n",
              "      <td>2</td>\n",
              "      <td>3.5</td>\n",
              "      <td>0.5</td>\n",
              "      <td>0.5</td>\n",
              "      <td>0.00</td>\n",
              "      <td>0.0</td>\n",
              "      <td>0.3</td>\n",
              "      <td>7.55</td>\n",
              "      <td>NaN</td>\n",
              "    </tr>\n",
              "    <tr>\n",
              "      <th>4</th>\n",
              "      <td>2</td>\n",
              "      <td>2018-11-28 15:56:57</td>\n",
              "      <td>2018-11-28 15:58:33</td>\n",
              "      <td>5</td>\n",
              "      <td>0.0</td>\n",
              "      <td>2</td>\n",
              "      <td>N</td>\n",
              "      <td>193</td>\n",
              "      <td>193</td>\n",
              "      <td>2</td>\n",
              "      <td>52.0</td>\n",
              "      <td>0.0</td>\n",
              "      <td>0.5</td>\n",
              "      <td>0.00</td>\n",
              "      <td>0.0</td>\n",
              "      <td>0.3</td>\n",
              "      <td>55.55</td>\n",
              "      <td>NaN</td>\n",
              "    </tr>\n",
              "  </tbody>\n",
              "</table>\n",
              "</div>"
            ],
            "text/plain": [
              "   VendorID tpep_pickup_datetime  ... total_amount  congestion_surcharge\n",
              "0         1  2019-01-01 00:46:40  ...         9.95                   NaN\n",
              "1         1  2019-01-01 00:59:47  ...        16.30                   NaN\n",
              "2         2  2018-12-21 13:48:30  ...         5.80                   NaN\n",
              "3         2  2018-11-28 15:52:25  ...         7.55                   NaN\n",
              "4         2  2018-11-28 15:56:57  ...        55.55                   NaN\n",
              "\n",
              "[5 rows x 18 columns]"
            ]
          },
          "metadata": {
            "tags": []
          },
          "execution_count": 72
        }
      ]
    },
    {
      "cell_type": "code",
      "metadata": {
        "id": "ZlazzW3k3X2T",
        "colab_type": "code",
        "colab": {
          "base_uri": "https://localhost:8080/",
          "height": 430
        },
        "outputId": "6cbf98b2-4053-4766-d4c9-3ab2c27fb92a"
      },
      "source": [
        "data.info()"
      ],
      "execution_count": 73,
      "outputs": [
        {
          "output_type": "stream",
          "text": [
            "<class 'pandas.core.frame.DataFrame'>\n",
            "RangeIndex: 7667792 entries, 0 to 7667791\n",
            "Data columns (total 18 columns):\n",
            "VendorID                 int64\n",
            "tpep_pickup_datetime     object\n",
            "tpep_dropoff_datetime    object\n",
            "passenger_count          int64\n",
            "trip_distance            float64\n",
            "RatecodeID               int64\n",
            "store_and_fwd_flag       object\n",
            "PULocationID             int64\n",
            "DOLocationID             int64\n",
            "payment_type             int64\n",
            "fare_amount              float64\n",
            "extra                    float64\n",
            "mta_tax                  float64\n",
            "tip_amount               float64\n",
            "tolls_amount             float64\n",
            "improvement_surcharge    float64\n",
            "total_amount             float64\n",
            "congestion_surcharge     float64\n",
            "dtypes: float64(9), int64(6), object(3)\n",
            "memory usage: 1.0+ GB\n"
          ],
          "name": "stdout"
        }
      ]
    },
    {
      "cell_type": "code",
      "metadata": {
        "id": "lLYZCN9r49Pj",
        "colab_type": "code",
        "colab": {
          "base_uri": "https://localhost:8080/",
          "height": 294
        },
        "outputId": "ad86fed7-7458-424d-bfb2-045ad8c3828a"
      },
      "source": [
        "data.describe()"
      ],
      "execution_count": 74,
      "outputs": [
        {
          "output_type": "execute_result",
          "data": {
            "text/html": [
              "<div>\n",
              "<style scoped>\n",
              "    .dataframe tbody tr th:only-of-type {\n",
              "        vertical-align: middle;\n",
              "    }\n",
              "\n",
              "    .dataframe tbody tr th {\n",
              "        vertical-align: top;\n",
              "    }\n",
              "\n",
              "    .dataframe thead th {\n",
              "        text-align: right;\n",
              "    }\n",
              "</style>\n",
              "<table border=\"1\" class=\"dataframe\">\n",
              "  <thead>\n",
              "    <tr style=\"text-align: right;\">\n",
              "      <th></th>\n",
              "      <th>VendorID</th>\n",
              "      <th>passenger_count</th>\n",
              "      <th>trip_distance</th>\n",
              "      <th>RatecodeID</th>\n",
              "      <th>PULocationID</th>\n",
              "      <th>DOLocationID</th>\n",
              "      <th>payment_type</th>\n",
              "      <th>fare_amount</th>\n",
              "      <th>extra</th>\n",
              "      <th>mta_tax</th>\n",
              "      <th>tip_amount</th>\n",
              "      <th>tolls_amount</th>\n",
              "      <th>improvement_surcharge</th>\n",
              "      <th>total_amount</th>\n",
              "      <th>congestion_surcharge</th>\n",
              "    </tr>\n",
              "  </thead>\n",
              "  <tbody>\n",
              "    <tr>\n",
              "      <th>count</th>\n",
              "      <td>7.667792e+06</td>\n",
              "      <td>7.667792e+06</td>\n",
              "      <td>7.667792e+06</td>\n",
              "      <td>7.667792e+06</td>\n",
              "      <td>7.667792e+06</td>\n",
              "      <td>7.667792e+06</td>\n",
              "      <td>7.667792e+06</td>\n",
              "      <td>7.667792e+06</td>\n",
              "      <td>7.667792e+06</td>\n",
              "      <td>7.667792e+06</td>\n",
              "      <td>7.667792e+06</td>\n",
              "      <td>7.667792e+06</td>\n",
              "      <td>7.667792e+06</td>\n",
              "      <td>7.667792e+06</td>\n",
              "      <td>2.811814e+06</td>\n",
              "    </tr>\n",
              "    <tr>\n",
              "      <th>mean</th>\n",
              "      <td>1.636775e+00</td>\n",
              "      <td>1.567078e+00</td>\n",
              "      <td>2.801084e+00</td>\n",
              "      <td>1.058371e+00</td>\n",
              "      <td>1.655009e+02</td>\n",
              "      <td>1.637529e+02</td>\n",
              "      <td>1.291776e+00</td>\n",
              "      <td>1.240941e+01</td>\n",
              "      <td>3.280394e-01</td>\n",
              "      <td>4.968458e-01</td>\n",
              "      <td>1.827367e+00</td>\n",
              "      <td>3.169187e-01</td>\n",
              "      <td>2.993382e-01</td>\n",
              "      <td>1.568222e+01</td>\n",
              "      <td>3.289691e-05</td>\n",
              "    </tr>\n",
              "    <tr>\n",
              "      <th>std</th>\n",
              "      <td>5.398204e-01</td>\n",
              "      <td>1.224431e+00</td>\n",
              "      <td>3.737529e+00</td>\n",
              "      <td>6.780889e-01</td>\n",
              "      <td>6.639180e+01</td>\n",
              "      <td>7.036445e+01</td>\n",
              "      <td>4.733229e-01</td>\n",
              "      <td>2.620721e+02</td>\n",
              "      <td>5.074789e-01</td>\n",
              "      <td>5.337843e-02</td>\n",
              "      <td>2.501213e+00</td>\n",
              "      <td>2.023665e+00</td>\n",
              "      <td>1.911711e-02</td>\n",
              "      <td>2.622932e+02</td>\n",
              "      <td>9.068695e-03</td>\n",
              "    </tr>\n",
              "    <tr>\n",
              "      <th>min</th>\n",
              "      <td>1.000000e+00</td>\n",
              "      <td>0.000000e+00</td>\n",
              "      <td>0.000000e+00</td>\n",
              "      <td>1.000000e+00</td>\n",
              "      <td>1.000000e+00</td>\n",
              "      <td>1.000000e+00</td>\n",
              "      <td>1.000000e+00</td>\n",
              "      <td>-3.620000e+02</td>\n",
              "      <td>-6.000000e+01</td>\n",
              "      <td>-5.000000e-01</td>\n",
              "      <td>-6.350000e+01</td>\n",
              "      <td>-7.000000e+01</td>\n",
              "      <td>-3.000000e-01</td>\n",
              "      <td>-3.628000e+02</td>\n",
              "      <td>0.000000e+00</td>\n",
              "    </tr>\n",
              "    <tr>\n",
              "      <th>25%</th>\n",
              "      <td>1.000000e+00</td>\n",
              "      <td>1.000000e+00</td>\n",
              "      <td>9.000000e-01</td>\n",
              "      <td>1.000000e+00</td>\n",
              "      <td>1.300000e+02</td>\n",
              "      <td>1.130000e+02</td>\n",
              "      <td>1.000000e+00</td>\n",
              "      <td>6.000000e+00</td>\n",
              "      <td>0.000000e+00</td>\n",
              "      <td>5.000000e-01</td>\n",
              "      <td>0.000000e+00</td>\n",
              "      <td>0.000000e+00</td>\n",
              "      <td>3.000000e-01</td>\n",
              "      <td>8.190000e+00</td>\n",
              "      <td>0.000000e+00</td>\n",
              "    </tr>\n",
              "    <tr>\n",
              "      <th>50%</th>\n",
              "      <td>2.000000e+00</td>\n",
              "      <td>1.000000e+00</td>\n",
              "      <td>1.530000e+00</td>\n",
              "      <td>1.000000e+00</td>\n",
              "      <td>1.620000e+02</td>\n",
              "      <td>1.620000e+02</td>\n",
              "      <td>1.000000e+00</td>\n",
              "      <td>8.500000e+00</td>\n",
              "      <td>0.000000e+00</td>\n",
              "      <td>5.000000e-01</td>\n",
              "      <td>1.430000e+00</td>\n",
              "      <td>0.000000e+00</td>\n",
              "      <td>3.000000e-01</td>\n",
              "      <td>1.127000e+01</td>\n",
              "      <td>0.000000e+00</td>\n",
              "    </tr>\n",
              "    <tr>\n",
              "      <th>75%</th>\n",
              "      <td>2.000000e+00</td>\n",
              "      <td>2.000000e+00</td>\n",
              "      <td>2.800000e+00</td>\n",
              "      <td>1.000000e+00</td>\n",
              "      <td>2.340000e+02</td>\n",
              "      <td>2.340000e+02</td>\n",
              "      <td>2.000000e+00</td>\n",
              "      <td>1.350000e+01</td>\n",
              "      <td>5.000000e-01</td>\n",
              "      <td>5.000000e-01</td>\n",
              "      <td>2.330000e+00</td>\n",
              "      <td>0.000000e+00</td>\n",
              "      <td>3.000000e-01</td>\n",
              "      <td>1.656000e+01</td>\n",
              "      <td>0.000000e+00</td>\n",
              "    </tr>\n",
              "    <tr>\n",
              "      <th>max</th>\n",
              "      <td>4.000000e+00</td>\n",
              "      <td>9.000000e+00</td>\n",
              "      <td>8.318000e+02</td>\n",
              "      <td>9.900000e+01</td>\n",
              "      <td>2.650000e+02</td>\n",
              "      <td>2.650000e+02</td>\n",
              "      <td>4.000000e+00</td>\n",
              "      <td>6.232599e+05</td>\n",
              "      <td>5.353800e+02</td>\n",
              "      <td>6.080000e+01</td>\n",
              "      <td>7.872500e+02</td>\n",
              "      <td>3.288000e+03</td>\n",
              "      <td>6.000000e-01</td>\n",
              "      <td>6.232617e+05</td>\n",
              "      <td>2.500000e+00</td>\n",
              "    </tr>\n",
              "  </tbody>\n",
              "</table>\n",
              "</div>"
            ],
            "text/plain": [
              "           VendorID  passenger_count  ...  total_amount  congestion_surcharge\n",
              "count  7.667792e+06     7.667792e+06  ...  7.667792e+06          2.811814e+06\n",
              "mean   1.636775e+00     1.567078e+00  ...  1.568222e+01          3.289691e-05\n",
              "std    5.398204e-01     1.224431e+00  ...  2.622932e+02          9.068695e-03\n",
              "min    1.000000e+00     0.000000e+00  ... -3.628000e+02          0.000000e+00\n",
              "25%    1.000000e+00     1.000000e+00  ...  8.190000e+00          0.000000e+00\n",
              "50%    2.000000e+00     1.000000e+00  ...  1.127000e+01          0.000000e+00\n",
              "75%    2.000000e+00     2.000000e+00  ...  1.656000e+01          0.000000e+00\n",
              "max    4.000000e+00     9.000000e+00  ...  6.232617e+05          2.500000e+00\n",
              "\n",
              "[8 rows x 15 columns]"
            ]
          },
          "metadata": {
            "tags": []
          },
          "execution_count": 74
        }
      ]
    },
    {
      "cell_type": "code",
      "metadata": {
        "id": "gdtktmZr5Gpu",
        "colab_type": "code",
        "colab": {
          "base_uri": "https://localhost:8080/",
          "height": 34
        },
        "outputId": "e9c6d0f1-d0f6-492b-bc99-67a33d282371"
      },
      "source": [
        "data.shape"
      ],
      "execution_count": 75,
      "outputs": [
        {
          "output_type": "execute_result",
          "data": {
            "text/plain": [
              "(7667792, 18)"
            ]
          },
          "metadata": {
            "tags": []
          },
          "execution_count": 75
        }
      ]
    },
    {
      "cell_type": "code",
      "metadata": {
        "id": "UMjSOOCH59iA",
        "colab_type": "code",
        "colab": {
          "base_uri": "https://localhost:8080/",
          "height": 358
        },
        "outputId": "295befaa-e515-40d8-a978-44dbeb4f732d"
      },
      "source": [
        "data.isnull().sum()"
      ],
      "execution_count": 76,
      "outputs": [
        {
          "output_type": "execute_result",
          "data": {
            "text/plain": [
              "VendorID                       0\n",
              "tpep_pickup_datetime           0\n",
              "tpep_dropoff_datetime          0\n",
              "passenger_count                0\n",
              "trip_distance                  0\n",
              "RatecodeID                     0\n",
              "store_and_fwd_flag             0\n",
              "PULocationID                   0\n",
              "DOLocationID                   0\n",
              "payment_type                   0\n",
              "fare_amount                    0\n",
              "extra                          0\n",
              "mta_tax                        0\n",
              "tip_amount                     0\n",
              "tolls_amount                   0\n",
              "improvement_surcharge          0\n",
              "total_amount                   0\n",
              "congestion_surcharge     4855978\n",
              "dtype: int64"
            ]
          },
          "metadata": {
            "tags": []
          },
          "execution_count": 76
        }
      ]
    },
    {
      "cell_type": "code",
      "metadata": {
        "id": "YPm8F5mn6D2s",
        "colab_type": "code",
        "colab": {}
      },
      "source": [
        "data = data.drop(['congestion_surcharge'], axis=1)"
      ],
      "execution_count": 0,
      "outputs": []
    },
    {
      "cell_type": "code",
      "metadata": {
        "id": "cmZ5h8Ua6Raa",
        "colab_type": "code",
        "colab": {}
      },
      "source": [
        "data['tpep_dropoff_datetime'] = pd.to_datetime(data['tpep_dropoff_datetime'])\n",
        "data['tpep_pickup_datetime'] = pd.to_datetime(data['tpep_pickup_datetime'])\n"
      ],
      "execution_count": 0,
      "outputs": []
    },
    {
      "cell_type": "code",
      "metadata": {
        "id": "VzaGfUml-gQP",
        "colab_type": "code",
        "colab": {
          "base_uri": "https://localhost:8080/",
          "height": 412
        },
        "outputId": "4e10f086-598c-42d5-83bc-e62c05024b69"
      },
      "source": [
        "data.info()"
      ],
      "execution_count": 79,
      "outputs": [
        {
          "output_type": "stream",
          "text": [
            "<class 'pandas.core.frame.DataFrame'>\n",
            "RangeIndex: 7667792 entries, 0 to 7667791\n",
            "Data columns (total 17 columns):\n",
            "VendorID                 int64\n",
            "tpep_pickup_datetime     datetime64[ns]\n",
            "tpep_dropoff_datetime    datetime64[ns]\n",
            "passenger_count          int64\n",
            "trip_distance            float64\n",
            "RatecodeID               int64\n",
            "store_and_fwd_flag       object\n",
            "PULocationID             int64\n",
            "DOLocationID             int64\n",
            "payment_type             int64\n",
            "fare_amount              float64\n",
            "extra                    float64\n",
            "mta_tax                  float64\n",
            "tip_amount               float64\n",
            "tolls_amount             float64\n",
            "improvement_surcharge    float64\n",
            "total_amount             float64\n",
            "dtypes: datetime64[ns](2), float64(8), int64(6), object(1)\n",
            "memory usage: 994.5+ MB\n"
          ],
          "name": "stdout"
        }
      ]
    },
    {
      "cell_type": "code",
      "metadata": {
        "id": "YcJwyk6C-hjj",
        "colab_type": "code",
        "colab": {
          "base_uri": "https://localhost:8080/",
          "height": 209
        },
        "outputId": "e1811b96-3769-477d-b54d-0c939ed68e00"
      },
      "source": [
        "data.head()"
      ],
      "execution_count": 80,
      "outputs": [
        {
          "output_type": "execute_result",
          "data": {
            "text/html": [
              "<div>\n",
              "<style scoped>\n",
              "    .dataframe tbody tr th:only-of-type {\n",
              "        vertical-align: middle;\n",
              "    }\n",
              "\n",
              "    .dataframe tbody tr th {\n",
              "        vertical-align: top;\n",
              "    }\n",
              "\n",
              "    .dataframe thead th {\n",
              "        text-align: right;\n",
              "    }\n",
              "</style>\n",
              "<table border=\"1\" class=\"dataframe\">\n",
              "  <thead>\n",
              "    <tr style=\"text-align: right;\">\n",
              "      <th></th>\n",
              "      <th>VendorID</th>\n",
              "      <th>tpep_pickup_datetime</th>\n",
              "      <th>tpep_dropoff_datetime</th>\n",
              "      <th>passenger_count</th>\n",
              "      <th>trip_distance</th>\n",
              "      <th>RatecodeID</th>\n",
              "      <th>store_and_fwd_flag</th>\n",
              "      <th>PULocationID</th>\n",
              "      <th>DOLocationID</th>\n",
              "      <th>payment_type</th>\n",
              "      <th>fare_amount</th>\n",
              "      <th>extra</th>\n",
              "      <th>mta_tax</th>\n",
              "      <th>tip_amount</th>\n",
              "      <th>tolls_amount</th>\n",
              "      <th>improvement_surcharge</th>\n",
              "      <th>total_amount</th>\n",
              "    </tr>\n",
              "  </thead>\n",
              "  <tbody>\n",
              "    <tr>\n",
              "      <th>0</th>\n",
              "      <td>1</td>\n",
              "      <td>2019-01-01 00:46:40</td>\n",
              "      <td>2019-01-01 00:53:20</td>\n",
              "      <td>1</td>\n",
              "      <td>1.5</td>\n",
              "      <td>1</td>\n",
              "      <td>N</td>\n",
              "      <td>151</td>\n",
              "      <td>239</td>\n",
              "      <td>1</td>\n",
              "      <td>7.0</td>\n",
              "      <td>0.5</td>\n",
              "      <td>0.5</td>\n",
              "      <td>1.65</td>\n",
              "      <td>0.0</td>\n",
              "      <td>0.3</td>\n",
              "      <td>9.95</td>\n",
              "    </tr>\n",
              "    <tr>\n",
              "      <th>1</th>\n",
              "      <td>1</td>\n",
              "      <td>2019-01-01 00:59:47</td>\n",
              "      <td>2019-01-01 01:18:59</td>\n",
              "      <td>1</td>\n",
              "      <td>2.6</td>\n",
              "      <td>1</td>\n",
              "      <td>N</td>\n",
              "      <td>239</td>\n",
              "      <td>246</td>\n",
              "      <td>1</td>\n",
              "      <td>14.0</td>\n",
              "      <td>0.5</td>\n",
              "      <td>0.5</td>\n",
              "      <td>1.00</td>\n",
              "      <td>0.0</td>\n",
              "      <td>0.3</td>\n",
              "      <td>16.30</td>\n",
              "    </tr>\n",
              "    <tr>\n",
              "      <th>2</th>\n",
              "      <td>2</td>\n",
              "      <td>2018-12-21 13:48:30</td>\n",
              "      <td>2018-12-21 13:52:40</td>\n",
              "      <td>3</td>\n",
              "      <td>0.0</td>\n",
              "      <td>1</td>\n",
              "      <td>N</td>\n",
              "      <td>236</td>\n",
              "      <td>236</td>\n",
              "      <td>1</td>\n",
              "      <td>4.5</td>\n",
              "      <td>0.5</td>\n",
              "      <td>0.5</td>\n",
              "      <td>0.00</td>\n",
              "      <td>0.0</td>\n",
              "      <td>0.3</td>\n",
              "      <td>5.80</td>\n",
              "    </tr>\n",
              "    <tr>\n",
              "      <th>3</th>\n",
              "      <td>2</td>\n",
              "      <td>2018-11-28 15:52:25</td>\n",
              "      <td>2018-11-28 15:55:45</td>\n",
              "      <td>5</td>\n",
              "      <td>0.0</td>\n",
              "      <td>1</td>\n",
              "      <td>N</td>\n",
              "      <td>193</td>\n",
              "      <td>193</td>\n",
              "      <td>2</td>\n",
              "      <td>3.5</td>\n",
              "      <td>0.5</td>\n",
              "      <td>0.5</td>\n",
              "      <td>0.00</td>\n",
              "      <td>0.0</td>\n",
              "      <td>0.3</td>\n",
              "      <td>7.55</td>\n",
              "    </tr>\n",
              "    <tr>\n",
              "      <th>4</th>\n",
              "      <td>2</td>\n",
              "      <td>2018-11-28 15:56:57</td>\n",
              "      <td>2018-11-28 15:58:33</td>\n",
              "      <td>5</td>\n",
              "      <td>0.0</td>\n",
              "      <td>2</td>\n",
              "      <td>N</td>\n",
              "      <td>193</td>\n",
              "      <td>193</td>\n",
              "      <td>2</td>\n",
              "      <td>52.0</td>\n",
              "      <td>0.0</td>\n",
              "      <td>0.5</td>\n",
              "      <td>0.00</td>\n",
              "      <td>0.0</td>\n",
              "      <td>0.3</td>\n",
              "      <td>55.55</td>\n",
              "    </tr>\n",
              "  </tbody>\n",
              "</table>\n",
              "</div>"
            ],
            "text/plain": [
              "   VendorID tpep_pickup_datetime  ... improvement_surcharge  total_amount\n",
              "0         1  2019-01-01 00:46:40  ...                   0.3          9.95\n",
              "1         1  2019-01-01 00:59:47  ...                   0.3         16.30\n",
              "2         2  2018-12-21 13:48:30  ...                   0.3          5.80\n",
              "3         2  2018-11-28 15:52:25  ...                   0.3          7.55\n",
              "4         2  2018-11-28 15:56:57  ...                   0.3         55.55\n",
              "\n",
              "[5 rows x 17 columns]"
            ]
          },
          "metadata": {
            "tags": []
          },
          "execution_count": 80
        }
      ]
    },
    {
      "cell_type": "code",
      "metadata": {
        "id": "CbpmM8mYEH1l",
        "colab_type": "code",
        "colab": {
          "base_uri": "https://localhost:8080/",
          "height": 106
        },
        "outputId": "a0bbbe6c-a02e-4422-89f6-6dcadeeb2fb4"
      },
      "source": [
        "data['payment_type'].value_counts()"
      ],
      "execution_count": 81,
      "outputs": [
        {
          "output_type": "execute_result",
          "data": {
            "text/plain": [
              "1    5486027\n",
              "2    2137415\n",
              "3      33186\n",
              "4      11164\n",
              "Name: payment_type, dtype: int64"
            ]
          },
          "metadata": {
            "tags": []
          },
          "execution_count": 81
        }
      ]
    },
    {
      "cell_type": "markdown",
      "metadata": {
        "id": "iEjsESVZLJ27",
        "colab_type": "text"
      },
      "source": [
        "A numeric code signifying how the passenger paid for the trip.  \n",
        "\n",
        "  - 1= Credit card\n",
        "  - 2= Cash\n",
        "  - 3= No charge\n",
        "  - 4= Dispute\n",
        "  - 5= Unknown\n",
        "  - 6= Voided trip"
      ]
    },
    {
      "cell_type": "code",
      "metadata": {
        "id": "jZFZIvibK_VD",
        "colab_type": "code",
        "colab": {
          "base_uri": "https://localhost:8080/",
          "height": 88
        },
        "outputId": "11dc544c-6adc-4228-ada1-82b0267f2af8"
      },
      "source": [
        "data['VendorID'].value_counts()"
      ],
      "execution_count": 82,
      "outputs": [
        {
          "output_type": "execute_result",
          "data": {
            "text/plain": [
              "2    4652191\n",
              "1    2938778\n",
              "4      76823\n",
              "Name: VendorID, dtype: int64"
            ]
          },
          "metadata": {
            "tags": []
          },
          "execution_count": 82
        }
      ]
    },
    {
      "cell_type": "markdown",
      "metadata": {
        "id": "CfF8JvyJLsmY",
        "colab_type": "text"
      },
      "source": [
        "A code indicating the TPEP provider that provided the record\n",
        "\n",
        "- 1= Creative Mobile Technologies, LLC; \n",
        "- 2= VeriFone Inc."
      ]
    },
    {
      "cell_type": "code",
      "metadata": {
        "id": "KqO2iPruLkVL",
        "colab_type": "code",
        "colab": {
          "base_uri": "https://localhost:8080/",
          "height": 214
        },
        "outputId": "642f978c-1ee3-4ede-9259-619e5f3dd295"
      },
      "source": [
        "data['passenger_count'].value_counts()"
      ],
      "execution_count": 83,
      "outputs": [
        {
          "output_type": "execute_result",
          "data": {
            "text/plain": [
              "1    5456121\n",
              "2    1114106\n",
              "5     323842\n",
              "3     314721\n",
              "6     200811\n",
              "4     140753\n",
              "0     117381\n",
              "8         29\n",
              "7         19\n",
              "9          9\n",
              "Name: passenger_count, dtype: int64"
            ]
          },
          "metadata": {
            "tags": []
          },
          "execution_count": 83
        }
      ]
    },
    {
      "cell_type": "markdown",
      "metadata": {
        "id": "qahBSTOUY9kr",
        "colab_type": "text"
      },
      "source": [
        "#Handling and Investigating Outliers\n",
        "  - There are lot of outliers in the trip distance and fare amount column. \n",
        "  - Carrying out further investigation to know why we have outliers."
      ]
    },
    {
      "cell_type": "code",
      "metadata": {
        "id": "SLxld5FRMJjq",
        "colab_type": "code",
        "colab": {
          "base_uri": "https://localhost:8080/",
          "height": 460
        },
        "outputId": "5756b2fb-c63b-4171-8e45-a5014be556d6"
      },
      "source": [
        "plt.figure(figsize=(15,7))\n",
        "sns.distplot(data['trip_distance'], bins=10)"
      ],
      "execution_count": 90,
      "outputs": [
        {
          "output_type": "execute_result",
          "data": {
            "text/plain": [
              "<matplotlib.axes._subplots.AxesSubplot at 0x7f98d016fa20>"
            ]
          },
          "metadata": {
            "tags": []
          },
          "execution_count": 90
        },
        {
          "output_type": "display_data",
          "data": {
            "image/png": "[encoded data removed]",
            "text/plain": [
              "<Figure size 1080x504 with 1 Axes>"
            ]
          },
          "metadata": {
            "tags": []
          }
        }
      ]
    },
    {
      "cell_type": "code",
      "metadata": {
        "id": "7IHEZlhsPwfi",
        "colab_type": "code",
        "colab": {
          "base_uri": "https://localhost:8080/",
          "height": 516
        },
        "outputId": "02448c7c-d24d-464a-8108-ca0fef491a9a"
      },
      "source": [
        "plt.figure(figsize=(15,8))\n",
        "sns.distplot(data['fare_amount'], bins=10)"
      ],
      "execution_count": 91,
      "outputs": [
        {
          "output_type": "execute_result",
          "data": {
            "text/plain": [
              "<matplotlib.axes._subplots.AxesSubplot at 0x7f98d0100c88>"
            ]
          },
          "metadata": {
            "tags": []
          },
          "execution_count": 91
        },
        {
          "output_type": "display_data",
          "data": {
            "image/png": "[encoded data removed]",
            "text/plain": [
              "<Figure size 1080x576 with 1 Axes>"
            ]
          },
          "metadata": {
            "tags": []
          }
        }
      ]
    },
    {
      "cell_type": "markdown",
      "metadata": {
        "id": "S9j7lMglZiCU",
        "colab_type": "text"
      },
      "source": [
        "- The outliers prevented us from getting any meaningful information from the histogram above.\n",
        "- In the trip distance distribution, most of the distance are clustered between 0 and 100 distance.\n",
        "- While from the fare amount distribution we can see the values are clustered between 0 and less than 100,000."
      ]
    },
    {
      "cell_type": "markdown",
      "metadata": {
        "id": "-pGV5rDeaXx8",
        "colab_type": "text"
      },
      "source": [
        "- Check the max values of each column."
      ]
    },
    {
      "cell_type": "code",
      "metadata": {
        "id": "u0JxjkWBMUqY",
        "colab_type": "code",
        "colab": {
          "base_uri": "https://localhost:8080/",
          "height": 52
        },
        "outputId": "3b62376c-f73e-41e9-a9b4-44338fd5d404"
      },
      "source": [
        "print('Max fare amount is ',data['fare_amount'].max())\n",
        "print('Max trip distance is ',data['trip_distance'].max())"
      ],
      "execution_count": 86,
      "outputs": [
        {
          "output_type": "stream",
          "text": [
            "Max fare amount is  623259.86\n",
            "Max trip distance is  831.8\n"
          ],
          "name": "stdout"
        }
      ]
    },
    {
      "cell_type": "markdown",
      "metadata": {
        "id": "XwM5W1GUa-Ol",
        "colab_type": "text"
      },
      "source": [
        "- The maximum fare amount is 623259.86. This is suspiciously large and can taken as a mstake or meter test.\n",
        "- The max trip distance is 831.8 miles.\n",
        "- Honestly, this figures are very large."
      ]
    },
    {
      "cell_type": "markdown",
      "metadata": {
        "id": "NdapR2lcbfYD",
        "colab_type": "text"
      },
      "source": [
        "- Is there a positive correlation between trip taken and fare amount?"
      ]
    },
    {
      "cell_type": "code",
      "metadata": {
        "id": "HC3aqgM4M6XF",
        "colab_type": "code",
        "colab": {
          "base_uri": "https://localhost:8080/",
          "height": 34
        },
        "outputId": "13fab467-6d9f-4efa-f12d-2fdbee866f75"
      },
      "source": [
        "correlation = data['trip_distance'].corr(data['fare_amount'])\n",
        "print('The correlation between trip distance and fare amount is {}'.format(correlation))"
      ],
      "execution_count": 87,
      "outputs": [
        {
          "output_type": "stream",
          "text": [
            "The correlation between trip distance and fare amount is 0.03803544718519049\n"
          ],
          "name": "stdout"
        }
      ]
    },
    {
      "cell_type": "markdown",
      "metadata": {
        "id": "B3Dn6gGKbox_",
        "colab_type": "text"
      },
      "source": [
        "We see a correlation of 0.03. This shows that they are likely independent of each other."
      ]
    },
    {
      "cell_type": "markdown",
      "metadata": {
        "id": "JLU8c4yAcS59",
        "colab_type": "text"
      },
      "source": [
        "- Using a scatterplot to visualize the correlation between the 2 columns."
      ]
    },
    {
      "cell_type": "code",
      "metadata": {
        "id": "jAKam712NFKl",
        "colab_type": "code",
        "colab": {
          "base_uri": "https://localhost:8080/",
          "height": 460
        },
        "outputId": "796653a8-5de8-42f1-c6c6-f197bdc397fa"
      },
      "source": [
        "plt.figure(figsize=(15,7))\n",
        "\n",
        "sns.scatterplot(data['trip_distance'], data['fare_amount'])"
      ],
      "execution_count": 92,
      "outputs": [
        {
          "output_type": "execute_result",
          "data": {
            "text/plain": [
              "<matplotlib.axes._subplots.AxesSubplot at 0x7f98d0061278>"
            ]
          },
          "metadata": {
            "tags": []
          },
          "execution_count": 92
        },
        {
          "output_type": "display_data",
          "data": {
            "image/png": "[encoded data removed]",
            "text/plain": [
              "<Figure size 1080x504 with 1 Axes>"
            ]
          },
          "metadata": {
            "tags": []
          }
        }
      ]
    },
    {
      "cell_type": "markdown",
      "metadata": {
        "id": "a-XZzCiwcdBU",
        "colab_type": "text"
      },
      "source": [
        "- The scatterplot shows a cluster at the lower left region. No visible correlation at this point.\n",
        "- But we can see a visible correlation from the outliers. As the trip dstance increases, fare amount also increases. But it is just for 2 data points."
      ]
    },
    {
      "cell_type": "markdown",
      "metadata": {
        "id": "nvuYisp9dHxh",
        "colab_type": "text"
      },
      "source": [
        "- Boxplot of the two columns."
      ]
    },
    {
      "cell_type": "code",
      "metadata": {
        "id": "sznLjh-JOAlp",
        "colab_type": "code",
        "colab": {
          "base_uri": "https://localhost:8080/",
          "height": 460
        },
        "outputId": "77836938-55e1-4cf2-b334-d90b02313605"
      },
      "source": [
        "plt.figure(figsize=(15,7))\n",
        "\n",
        "sns.boxplot(data['trip_distance'])"
      ],
      "execution_count": 93,
      "outputs": [
        {
          "output_type": "execute_result",
          "data": {
            "text/plain": [
              "<matplotlib.axes._subplots.AxesSubplot at 0x7f98e36ecda0>"
            ]
          },
          "metadata": {
            "tags": []
          },
          "execution_count": 93
        },
        {
          "output_type": "display_data",
          "data": {
            "image/png": "[encoded data removed]",
            "text/plain": [
              "<Figure size 1080x504 with 1 Axes>"
            ]
          },
          "metadata": {
            "tags": []
          }
        }
      ]
    },
    {
      "cell_type": "markdown",
      "metadata": {
        "id": "o8RlOKg_dV3p",
        "colab_type": "text"
      },
      "source": [
        "- Outliers starting from trip distance above 200 miles."
      ]
    },
    {
      "cell_type": "code",
      "metadata": {
        "id": "aGTqaVmUPLcY",
        "colab_type": "code",
        "colab": {
          "base_uri": "https://localhost:8080/",
          "height": 460
        },
        "outputId": "f75a39a2-b297-445d-b80d-40a9ca78ef78"
      },
      "source": [
        "plt.figure(figsize=(15,7))\n",
        "\n",
        "sns.boxplot(data['fare_amount'])"
      ],
      "execution_count": 94,
      "outputs": [
        {
          "output_type": "execute_result",
          "data": {
            "text/plain": [
              "<matplotlib.axes._subplots.AxesSubplot at 0x7f98cffe3fd0>"
            ]
          },
          "metadata": {
            "tags": []
          },
          "execution_count": 94
        },
        {
          "output_type": "display_data",
          "data": {
            "image/png": "[encoded data removed]",
            "text/plain": [
              "<Figure size 1080x504 with 1 Axes>"
            ]
          },
          "metadata": {
            "tags": []
          }
        }
      ]
    },
    {
      "cell_type": "markdown",
      "metadata": {
        "id": "u06RN8TdddFE",
        "colab_type": "text"
      },
      "source": [
        "- Outliers from fare amount above 100000"
      ]
    },
    {
      "cell_type": "code",
      "metadata": {
        "id": "7bUexikgPSdd",
        "colab_type": "code",
        "colab": {
          "base_uri": "https://localhost:8080/",
          "height": 152
        },
        "outputId": "5ac86ce0-3e3f-41a3-fe85-5333cea145a2"
      },
      "source": [
        "trip_outlier = data[data['trip_distance'] > 200 ]\n",
        "trip_outlier"
      ],
      "execution_count": 53,
      "outputs": [
        {
          "output_type": "execute_result",
          "data": {
            "text/html": [
              "<div>\n",
              "<style scoped>\n",
              "    .dataframe tbody tr th:only-of-type {\n",
              "        vertical-align: middle;\n",
              "    }\n",
              "\n",
              "    .dataframe tbody tr th {\n",
              "        vertical-align: top;\n",
              "    }\n",
              "\n",
              "    .dataframe thead th {\n",
              "        text-align: right;\n",
              "    }\n",
              "</style>\n",
              "<table border=\"1\" class=\"dataframe\">\n",
              "  <thead>\n",
              "    <tr style=\"text-align: right;\">\n",
              "      <th></th>\n",
              "      <th>VendorID</th>\n",
              "      <th>tpep_pickup_datetime</th>\n",
              "      <th>tpep_dropoff_datetime</th>\n",
              "      <th>passenger_count</th>\n",
              "      <th>trip_distance</th>\n",
              "      <th>RatecodeID</th>\n",
              "      <th>store_and_fwd_flag</th>\n",
              "      <th>PULocationID</th>\n",
              "      <th>DOLocationID</th>\n",
              "      <th>payment_type</th>\n",
              "      <th>fare_amount</th>\n",
              "      <th>extra</th>\n",
              "      <th>mta_tax</th>\n",
              "      <th>tip_amount</th>\n",
              "      <th>tolls_amount</th>\n",
              "      <th>improvement_surcharge</th>\n",
              "      <th>total_amount</th>\n",
              "    </tr>\n",
              "  </thead>\n",
              "  <tbody>\n",
              "    <tr>\n",
              "      <th>4707513</th>\n",
              "      <td>2</td>\n",
              "      <td>2019-01-20 12:22:24</td>\n",
              "      <td>2019-01-20 17:05:36</td>\n",
              "      <td>2</td>\n",
              "      <td>211.36</td>\n",
              "      <td>5</td>\n",
              "      <td>N</td>\n",
              "      <td>132</td>\n",
              "      <td>265</td>\n",
              "      <td>2</td>\n",
              "      <td>50.0</td>\n",
              "      <td>0.0</td>\n",
              "      <td>0.5</td>\n",
              "      <td>0.0</td>\n",
              "      <td>5.76</td>\n",
              "      <td>0.3</td>\n",
              "      <td>56.56</td>\n",
              "    </tr>\n",
              "    <tr>\n",
              "      <th>4881766</th>\n",
              "      <td>2</td>\n",
              "      <td>2019-01-21 10:13:05</td>\n",
              "      <td>2019-01-21 13:28:01</td>\n",
              "      <td>1</td>\n",
              "      <td>201.27</td>\n",
              "      <td>5</td>\n",
              "      <td>N</td>\n",
              "      <td>208</td>\n",
              "      <td>265</td>\n",
              "      <td>1</td>\n",
              "      <td>150.0</td>\n",
              "      <td>0.0</td>\n",
              "      <td>0.5</td>\n",
              "      <td>0.0</td>\n",
              "      <td>1.66</td>\n",
              "      <td>0.3</td>\n",
              "      <td>152.46</td>\n",
              "    </tr>\n",
              "    <tr>\n",
              "      <th>6770897</th>\n",
              "      <td>2</td>\n",
              "      <td>2019-01-28 17:24:11</td>\n",
              "      <td>2019-01-29 04:37:16</td>\n",
              "      <td>5</td>\n",
              "      <td>214.01</td>\n",
              "      <td>1</td>\n",
              "      <td>N</td>\n",
              "      <td>265</td>\n",
              "      <td>265</td>\n",
              "      <td>2</td>\n",
              "      <td>760.0</td>\n",
              "      <td>1.0</td>\n",
              "      <td>0.5</td>\n",
              "      <td>0.0</td>\n",
              "      <td>0.00</td>\n",
              "      <td>0.3</td>\n",
              "      <td>761.80</td>\n",
              "    </tr>\n",
              "  </tbody>\n",
              "</table>\n",
              "</div>"
            ],
            "text/plain": [
              "         VendorID tpep_pickup_datetime  ... improvement_surcharge  total_amount\n",
              "4707513         2  2019-01-20 12:22:24  ...                   0.3         56.56\n",
              "4881766         2  2019-01-21 10:13:05  ...                   0.3        152.46\n",
              "6770897         2  2019-01-28 17:24:11  ...                   0.3        761.80\n",
              "\n",
              "[3 rows x 17 columns]"
            ]
          },
          "metadata": {
            "tags": []
          },
          "execution_count": 53
        }
      ]
    },
    {
      "cell_type": "markdown",
      "metadata": {
        "id": "3NYcd1t1eMRb",
        "colab_type": "text"
      },
      "source": [
        "- Just 3 data points have a trip distance above 200 miles.\n",
        "- These figures are accurate becauese the trip distance and fare amount are positively correlated"
      ]
    },
    {
      "cell_type": "code",
      "metadata": {
        "id": "czgDbvaqgK_H",
        "colab_type": "code",
        "colab": {
          "base_uri": "https://localhost:8080/",
          "height": 34
        },
        "outputId": "88e0adb9-0206-4a75-a4b6-3da6e0e9e0f2"
      },
      "source": [
        "trip_correlation = trip_outlier['trip_distance'].corr(trip_outlier['fare_amount'])\n",
        "print('The correlation between trip distance and fare amount for the trip outlier is {}'.format(trip_correlation))"
      ],
      "execution_count": 96,
      "outputs": [
        {
          "output_type": "stream",
          "text": [
            "The correlation between trip distance and fare amount for the trip outlier is 0.5576330513297232\n"
          ],
          "name": "stdout"
        }
      ]
    },
    {
      "cell_type": "code",
      "metadata": {
        "id": "94kupKmvPmG2",
        "colab_type": "code",
        "colab": {
          "base_uri": "https://localhost:8080/",
          "height": 636
        },
        "outputId": "214762aa-14f6-40bf-a23b-31c3acf7d51f"
      },
      "source": [
        "fare_outlier = data[data['fare_amount'] > 5000 ]\n",
        "fare_outlier"
      ],
      "execution_count": 88,
      "outputs": [
        {
          "output_type": "execute_result",
          "data": {
            "text/html": [
              "<div>\n",
              "<style scoped>\n",
              "    .dataframe tbody tr th:only-of-type {\n",
              "        vertical-align: middle;\n",
              "    }\n",
              "\n",
              "    .dataframe tbody tr th {\n",
              "        vertical-align: top;\n",
              "    }\n",
              "\n",
              "    .dataframe thead th {\n",
              "        text-align: right;\n",
              "    }\n",
              "</style>\n",
              "<table border=\"1\" class=\"dataframe\">\n",
              "  <thead>\n",
              "    <tr style=\"text-align: right;\">\n",
              "      <th></th>\n",
              "      <th>VendorID</th>\n",
              "      <th>tpep_pickup_datetime</th>\n",
              "      <th>tpep_dropoff_datetime</th>\n",
              "      <th>passenger_count</th>\n",
              "      <th>trip_distance</th>\n",
              "      <th>RatecodeID</th>\n",
              "      <th>store_and_fwd_flag</th>\n",
              "      <th>PULocationID</th>\n",
              "      <th>DOLocationID</th>\n",
              "      <th>payment_type</th>\n",
              "      <th>fare_amount</th>\n",
              "      <th>extra</th>\n",
              "      <th>mta_tax</th>\n",
              "      <th>tip_amount</th>\n",
              "      <th>tolls_amount</th>\n",
              "      <th>improvement_surcharge</th>\n",
              "      <th>total_amount</th>\n",
              "    </tr>\n",
              "  </thead>\n",
              "  <tbody>\n",
              "    <tr>\n",
              "      <th>233844</th>\n",
              "      <td>1</td>\n",
              "      <td>2019-01-02 10:06:08</td>\n",
              "      <td>2019-01-02 10:06:08</td>\n",
              "      <td>0</td>\n",
              "      <td>0.0</td>\n",
              "      <td>99</td>\n",
              "      <td>N</td>\n",
              "      <td>264</td>\n",
              "      <td>264</td>\n",
              "      <td>1</td>\n",
              "      <td>18477.08</td>\n",
              "      <td>0.00</td>\n",
              "      <td>0.00</td>\n",
              "      <td>0.0</td>\n",
              "      <td>0.0</td>\n",
              "      <td>0.0</td>\n",
              "      <td>18477.08</td>\n",
              "    </tr>\n",
              "    <tr>\n",
              "      <th>233845</th>\n",
              "      <td>1</td>\n",
              "      <td>2019-01-02 10:06:56</td>\n",
              "      <td>2019-01-02 10:06:56</td>\n",
              "      <td>0</td>\n",
              "      <td>0.0</td>\n",
              "      <td>99</td>\n",
              "      <td>N</td>\n",
              "      <td>264</td>\n",
              "      <td>264</td>\n",
              "      <td>1</td>\n",
              "      <td>17242.81</td>\n",
              "      <td>0.00</td>\n",
              "      <td>0.00</td>\n",
              "      <td>0.0</td>\n",
              "      <td>0.0</td>\n",
              "      <td>0.0</td>\n",
              "      <td>17242.81</td>\n",
              "    </tr>\n",
              "    <tr>\n",
              "      <th>301097</th>\n",
              "      <td>1</td>\n",
              "      <td>2019-01-02 16:06:14</td>\n",
              "      <td>2019-01-02 16:06:14</td>\n",
              "      <td>0</td>\n",
              "      <td>0.0</td>\n",
              "      <td>99</td>\n",
              "      <td>N</td>\n",
              "      <td>264</td>\n",
              "      <td>264</td>\n",
              "      <td>1</td>\n",
              "      <td>25356.38</td>\n",
              "      <td>0.00</td>\n",
              "      <td>0.00</td>\n",
              "      <td>0.0</td>\n",
              "      <td>0.0</td>\n",
              "      <td>0.0</td>\n",
              "      <td>25356.38</td>\n",
              "    </tr>\n",
              "    <tr>\n",
              "      <th>478791</th>\n",
              "      <td>1</td>\n",
              "      <td>2019-01-03 13:08:33</td>\n",
              "      <td>2019-01-03 13:08:53</td>\n",
              "      <td>1</td>\n",
              "      <td>0.1</td>\n",
              "      <td>6</td>\n",
              "      <td>N</td>\n",
              "      <td>264</td>\n",
              "      <td>264</td>\n",
              "      <td>2</td>\n",
              "      <td>6666.65</td>\n",
              "      <td>0.00</td>\n",
              "      <td>0.50</td>\n",
              "      <td>0.0</td>\n",
              "      <td>0.0</td>\n",
              "      <td>0.3</td>\n",
              "      <td>6667.45</td>\n",
              "    </tr>\n",
              "    <tr>\n",
              "      <th>651591</th>\n",
              "      <td>1</td>\n",
              "      <td>2019-01-04 09:28:37</td>\n",
              "      <td>2019-01-04 09:28:37</td>\n",
              "      <td>0</td>\n",
              "      <td>0.0</td>\n",
              "      <td>99</td>\n",
              "      <td>N</td>\n",
              "      <td>264</td>\n",
              "      <td>264</td>\n",
              "      <td>1</td>\n",
              "      <td>31107.91</td>\n",
              "      <td>0.00</td>\n",
              "      <td>0.00</td>\n",
              "      <td>0.0</td>\n",
              "      <td>0.0</td>\n",
              "      <td>0.0</td>\n",
              "      <td>31107.91</td>\n",
              "    </tr>\n",
              "    <tr>\n",
              "      <th>737289</th>\n",
              "      <td>1</td>\n",
              "      <td>2019-01-04 16:08:10</td>\n",
              "      <td>2019-01-04 16:08:10</td>\n",
              "      <td>0</td>\n",
              "      <td>0.0</td>\n",
              "      <td>99</td>\n",
              "      <td>N</td>\n",
              "      <td>264</td>\n",
              "      <td>264</td>\n",
              "      <td>1</td>\n",
              "      <td>30130.71</td>\n",
              "      <td>0.00</td>\n",
              "      <td>0.00</td>\n",
              "      <td>0.0</td>\n",
              "      <td>0.0</td>\n",
              "      <td>0.0</td>\n",
              "      <td>30130.71</td>\n",
              "    </tr>\n",
              "    <tr>\n",
              "      <th>1368512</th>\n",
              "      <td>1</td>\n",
              "      <td>2019-01-07 12:21:04</td>\n",
              "      <td>2019-01-07 12:21:04</td>\n",
              "      <td>0</td>\n",
              "      <td>0.0</td>\n",
              "      <td>99</td>\n",
              "      <td>N</td>\n",
              "      <td>264</td>\n",
              "      <td>264</td>\n",
              "      <td>1</td>\n",
              "      <td>19863.26</td>\n",
              "      <td>0.00</td>\n",
              "      <td>0.00</td>\n",
              "      <td>0.0</td>\n",
              "      <td>0.0</td>\n",
              "      <td>0.0</td>\n",
              "      <td>19863.26</td>\n",
              "    </tr>\n",
              "    <tr>\n",
              "      <th>1368513</th>\n",
              "      <td>1</td>\n",
              "      <td>2019-01-07 12:21:45</td>\n",
              "      <td>2019-01-07 12:21:45</td>\n",
              "      <td>0</td>\n",
              "      <td>0.0</td>\n",
              "      <td>99</td>\n",
              "      <td>N</td>\n",
              "      <td>264</td>\n",
              "      <td>264</td>\n",
              "      <td>1</td>\n",
              "      <td>19194.52</td>\n",
              "      <td>0.00</td>\n",
              "      <td>0.00</td>\n",
              "      <td>0.0</td>\n",
              "      <td>0.0</td>\n",
              "      <td>0.0</td>\n",
              "      <td>19194.52</td>\n",
              "    </tr>\n",
              "    <tr>\n",
              "      <th>1419626</th>\n",
              "      <td>1</td>\n",
              "      <td>2019-01-07 16:13:40</td>\n",
              "      <td>2019-01-07 16:13:40</td>\n",
              "      <td>0</td>\n",
              "      <td>0.0</td>\n",
              "      <td>99</td>\n",
              "      <td>N</td>\n",
              "      <td>264</td>\n",
              "      <td>264</td>\n",
              "      <td>1</td>\n",
              "      <td>25628.96</td>\n",
              "      <td>0.00</td>\n",
              "      <td>0.00</td>\n",
              "      <td>0.0</td>\n",
              "      <td>0.0</td>\n",
              "      <td>0.0</td>\n",
              "      <td>25628.96</td>\n",
              "    </tr>\n",
              "    <tr>\n",
              "      <th>1649397</th>\n",
              "      <td>1</td>\n",
              "      <td>2019-01-08 16:09:44</td>\n",
              "      <td>2019-01-08 16:09:44</td>\n",
              "      <td>0</td>\n",
              "      <td>0.0</td>\n",
              "      <td>99</td>\n",
              "      <td>N</td>\n",
              "      <td>264</td>\n",
              "      <td>264</td>\n",
              "      <td>1</td>\n",
              "      <td>33023.53</td>\n",
              "      <td>0.00</td>\n",
              "      <td>0.00</td>\n",
              "      <td>0.0</td>\n",
              "      <td>0.0</td>\n",
              "      <td>0.0</td>\n",
              "      <td>33023.53</td>\n",
              "    </tr>\n",
              "    <tr>\n",
              "      <th>1892715</th>\n",
              "      <td>1</td>\n",
              "      <td>2019-01-09 16:43:40</td>\n",
              "      <td>2019-01-09 16:43:40</td>\n",
              "      <td>0</td>\n",
              "      <td>0.0</td>\n",
              "      <td>99</td>\n",
              "      <td>N</td>\n",
              "      <td>264</td>\n",
              "      <td>264</td>\n",
              "      <td>1</td>\n",
              "      <td>34674.65</td>\n",
              "      <td>0.00</td>\n",
              "      <td>0.00</td>\n",
              "      <td>0.0</td>\n",
              "      <td>0.0</td>\n",
              "      <td>0.0</td>\n",
              "      <td>34674.65</td>\n",
              "    </tr>\n",
              "    <tr>\n",
              "      <th>2159909</th>\n",
              "      <td>1</td>\n",
              "      <td>2019-01-10 16:08:10</td>\n",
              "      <td>2019-01-10 16:08:10</td>\n",
              "      <td>0</td>\n",
              "      <td>0.0</td>\n",
              "      <td>99</td>\n",
              "      <td>N</td>\n",
              "      <td>264</td>\n",
              "      <td>264</td>\n",
              "      <td>1</td>\n",
              "      <td>36090.30</td>\n",
              "      <td>0.00</td>\n",
              "      <td>0.00</td>\n",
              "      <td>0.0</td>\n",
              "      <td>0.0</td>\n",
              "      <td>0.0</td>\n",
              "      <td>36090.30</td>\n",
              "    </tr>\n",
              "    <tr>\n",
              "      <th>2444722</th>\n",
              "      <td>1</td>\n",
              "      <td>2019-01-11 16:06:32</td>\n",
              "      <td>2019-01-11 16:06:32</td>\n",
              "      <td>0</td>\n",
              "      <td>0.0</td>\n",
              "      <td>99</td>\n",
              "      <td>N</td>\n",
              "      <td>264</td>\n",
              "      <td>264</td>\n",
              "      <td>1</td>\n",
              "      <td>30444.52</td>\n",
              "      <td>0.00</td>\n",
              "      <td>0.00</td>\n",
              "      <td>0.0</td>\n",
              "      <td>0.0</td>\n",
              "      <td>0.0</td>\n",
              "      <td>30444.52</td>\n",
              "    </tr>\n",
              "    <tr>\n",
              "      <th>2499600</th>\n",
              "      <td>1</td>\n",
              "      <td>2019-01-11 19:33:15</td>\n",
              "      <td>2019-01-11 19:53:09</td>\n",
              "      <td>1</td>\n",
              "      <td>2.4</td>\n",
              "      <td>1</td>\n",
              "      <td>N</td>\n",
              "      <td>237</td>\n",
              "      <td>90</td>\n",
              "      <td>3</td>\n",
              "      <td>623259.86</td>\n",
              "      <td>1.00</td>\n",
              "      <td>0.50</td>\n",
              "      <td>0.0</td>\n",
              "      <td>0.0</td>\n",
              "      <td>0.3</td>\n",
              "      <td>623261.66</td>\n",
              "    </tr>\n",
              "    <tr>\n",
              "      <th>2840975</th>\n",
              "      <td>1</td>\n",
              "      <td>2019-01-12 23:21:48</td>\n",
              "      <td>2019-01-12 23:29:14</td>\n",
              "      <td>1</td>\n",
              "      <td>100.8</td>\n",
              "      <td>1</td>\n",
              "      <td>N</td>\n",
              "      <td>141</td>\n",
              "      <td>162</td>\n",
              "      <td>3</td>\n",
              "      <td>8000.30</td>\n",
              "      <td>-31.73</td>\n",
              "      <td>32.53</td>\n",
              "      <td>0.0</td>\n",
              "      <td>0.0</td>\n",
              "      <td>0.0</td>\n",
              "      <td>8001.10</td>\n",
              "    </tr>\n",
              "    <tr>\n",
              "      <th>3154913</th>\n",
              "      <td>1</td>\n",
              "      <td>2019-01-14 12:40:12</td>\n",
              "      <td>2019-01-14 12:40:12</td>\n",
              "      <td>0</td>\n",
              "      <td>0.0</td>\n",
              "      <td>99</td>\n",
              "      <td>N</td>\n",
              "      <td>264</td>\n",
              "      <td>264</td>\n",
              "      <td>1</td>\n",
              "      <td>20765.39</td>\n",
              "      <td>0.00</td>\n",
              "      <td>0.00</td>\n",
              "      <td>0.0</td>\n",
              "      <td>0.0</td>\n",
              "      <td>0.0</td>\n",
              "      <td>20765.39</td>\n",
              "    </tr>\n",
              "    <tr>\n",
              "      <th>3154914</th>\n",
              "      <td>1</td>\n",
              "      <td>2019-01-14 12:40:59</td>\n",
              "      <td>2019-01-14 12:40:59</td>\n",
              "      <td>0</td>\n",
              "      <td>0.0</td>\n",
              "      <td>99</td>\n",
              "      <td>N</td>\n",
              "      <td>264</td>\n",
              "      <td>264</td>\n",
              "      <td>1</td>\n",
              "      <td>16032.47</td>\n",
              "      <td>0.00</td>\n",
              "      <td>0.00</td>\n",
              "      <td>0.0</td>\n",
              "      <td>0.0</td>\n",
              "      <td>0.0</td>\n",
              "      <td>16032.47</td>\n",
              "    </tr>\n",
              "    <tr>\n",
              "      <th>3208231</th>\n",
              "      <td>1</td>\n",
              "      <td>2019-01-14 16:07:50</td>\n",
              "      <td>2019-01-14 16:07:50</td>\n",
              "      <td>0</td>\n",
              "      <td>0.0</td>\n",
              "      <td>99</td>\n",
              "      <td>N</td>\n",
              "      <td>264</td>\n",
              "      <td>264</td>\n",
              "      <td>3</td>\n",
              "      <td>16032.47</td>\n",
              "      <td>0.00</td>\n",
              "      <td>0.00</td>\n",
              "      <td>0.0</td>\n",
              "      <td>0.0</td>\n",
              "      <td>0.0</td>\n",
              "      <td>16032.47</td>\n",
              "    </tr>\n",
              "    <tr>\n",
              "      <th>3208232</th>\n",
              "      <td>1</td>\n",
              "      <td>2019-01-14 16:08:42</td>\n",
              "      <td>2019-01-14 16:08:42</td>\n",
              "      <td>0</td>\n",
              "      <td>0.0</td>\n",
              "      <td>99</td>\n",
              "      <td>N</td>\n",
              "      <td>264</td>\n",
              "      <td>264</td>\n",
              "      <td>3</td>\n",
              "      <td>24249.43</td>\n",
              "      <td>0.00</td>\n",
              "      <td>0.00</td>\n",
              "      <td>0.0</td>\n",
              "      <td>0.0</td>\n",
              "      <td>0.0</td>\n",
              "      <td>24249.43</td>\n",
              "    </tr>\n",
              "    <tr>\n",
              "      <th>5323430</th>\n",
              "      <td>1</td>\n",
              "      <td>2019-01-23 08:58:09</td>\n",
              "      <td>2019-01-23 08:58:09</td>\n",
              "      <td>1</td>\n",
              "      <td>0.0</td>\n",
              "      <td>1</td>\n",
              "      <td>Y</td>\n",
              "      <td>24</td>\n",
              "      <td>264</td>\n",
              "      <td>2</td>\n",
              "      <td>355676.98</td>\n",
              "      <td>535.38</td>\n",
              "      <td>2.42</td>\n",
              "      <td>0.0</td>\n",
              "      <td>0.0</td>\n",
              "      <td>0.0</td>\n",
              "      <td>356214.78</td>\n",
              "    </tr>\n",
              "  </tbody>\n",
              "</table>\n",
              "</div>"
            ],
            "text/plain": [
              "         VendorID tpep_pickup_datetime  ... improvement_surcharge  total_amount\n",
              "233844          1  2019-01-02 10:06:08  ...                   0.0      18477.08\n",
              "233845          1  2019-01-02 10:06:56  ...                   0.0      17242.81\n",
              "301097          1  2019-01-02 16:06:14  ...                   0.0      25356.38\n",
              "478791          1  2019-01-03 13:08:33  ...                   0.3       6667.45\n",
              "651591          1  2019-01-04 09:28:37  ...                   0.0      31107.91\n",
              "737289          1  2019-01-04 16:08:10  ...                   0.0      30130.71\n",
              "1368512         1  2019-01-07 12:21:04  ...                   0.0      19863.26\n",
              "1368513         1  2019-01-07 12:21:45  ...                   0.0      19194.52\n",
              "1419626         1  2019-01-07 16:13:40  ...                   0.0      25628.96\n",
              "1649397         1  2019-01-08 16:09:44  ...                   0.0      33023.53\n",
              "1892715         1  2019-01-09 16:43:40  ...                   0.0      34674.65\n",
              "2159909         1  2019-01-10 16:08:10  ...                   0.0      36090.30\n",
              "2444722         1  2019-01-11 16:06:32  ...                   0.0      30444.52\n",
              "2499600         1  2019-01-11 19:33:15  ...                   0.3     623261.66\n",
              "2840975         1  2019-01-12 23:21:48  ...                   0.0       8001.10\n",
              "3154913         1  2019-01-14 12:40:12  ...                   0.0      20765.39\n",
              "3154914         1  2019-01-14 12:40:59  ...                   0.0      16032.47\n",
              "3208231         1  2019-01-14 16:07:50  ...                   0.0      16032.47\n",
              "3208232         1  2019-01-14 16:08:42  ...                   0.0      24249.43\n",
              "5323430         1  2019-01-23 08:58:09  ...                   0.0     356214.78\n",
              "\n",
              "[20 rows x 17 columns]"
            ]
          },
          "metadata": {
            "tags": []
          },
          "execution_count": 88
        }
      ]
    },
    {
      "cell_type": "markdown",
      "metadata": {
        "id": "CJQijVX6eXwP",
        "colab_type": "text"
      },
      "source": [
        "- 20 data points with fare amount greater than 5000 dollars."
      ]
    },
    {
      "cell_type": "markdown",
      "metadata": {
        "id": "wGx8uO7Sey3o",
        "colab_type": "text"
      },
      "source": [
        "PULocationID TLC Taxi Zone in which the taximeter was engaged\n",
        "\n",
        "DOLocationID TLC Taxi Zone in which the taximeter was disengaged\n",
        "\n",
        "- Strangely we can see that for these fare amounts, majority had 0 trip distance and PU and DO location shows the trip started and stopped in the same zone. This can be as a result of meter test or meter repairs. "
      ]
    },
    {
      "cell_type": "markdown",
      "metadata": {
        "id": "oIaJjFjTQgH8",
        "colab_type": "text"
      },
      "source": [
        "- Which passenger tip the most? highest dstance or high fare amount\n",
        "- Does a higher fare amount mean higher trip covered?\n",
        "- Does a higher passenger count mean high fare amount\n",
        "- General Geographic coverage of trips\n",
        "- Geoghraphic coverage based on passenger count"
      ]
    },
    {
      "cell_type": "markdown",
      "metadata": {
        "id": "jqoStl9PVDM9",
        "colab_type": "text"
      },
      "source": [
        "- Drop Outliers\n",
        "- Dropping the outliers to see if the histogram will tell a different story.\n",
        "- Drop fare amount greater than 5000.\n",
        "- Drop trip distance greater than 200."
      ]
    },
    {
      "cell_type": "code",
      "metadata": {
        "id": "LZgIfJiwVB-n",
        "colab_type": "code",
        "colab": {}
      },
      "source": [
        "data.drop(data[data['fare_amount'] > 5000].index, axis=0, inplace=True)\n",
        "data.drop(data[data['trip_distance'] > 200].index, axis=0, inplace=True)"
      ],
      "execution_count": 0,
      "outputs": []
    },
    {
      "cell_type": "code",
      "metadata": {
        "id": "VLt5tF-bQGoL",
        "colab_type": "code",
        "colab": {
          "base_uri": "https://localhost:8080/",
          "height": 460
        },
        "outputId": "3d5e3685-566a-4a0c-9bf0-96d34f4a35cc"
      },
      "source": [
        "plt.figure(figsize=(20,7))\n",
        "sns.distplot(data['trip_distance'], bins=30)"
      ],
      "execution_count": 64,
      "outputs": [
        {
          "output_type": "execute_result",
          "data": {
            "text/plain": [
              "<matplotlib.axes._subplots.AxesSubplot at 0x7f98e8acc5f8>"
            ]
          },
          "metadata": {
            "tags": []
          },
          "execution_count": 64
        },
        {
          "output_type": "display_data",
          "data": {
            "image/png": "[encoded data removed]",
            "text/plain": [
              "<Figure size 1440x504 with 1 Axes>"
            ]
          },
          "metadata": {
            "tags": []
          }
        }
      ]
    },
    {
      "cell_type": "markdown",
      "metadata": {
        "id": "9dN20jfigzOk",
        "colab_type": "text"
      },
      "source": [
        "- Trip distance is skewed to the right.\n",
        "- Trip distance is mostly clustered between 0 and 20 miles.\n",
        "- Higher frequency of trip at the 0 bar (0-5) range."
      ]
    },
    {
      "cell_type": "code",
      "metadata": {
        "id": "6rCKQvKUV1XJ",
        "colab_type": "code",
        "colab": {
          "base_uri": "https://localhost:8080/",
          "height": 460
        },
        "outputId": "2eda8ef5-faba-43a6-e390-f0e1075a801a"
      },
      "source": [
        "plt.figure(figsize=(20,7))\n",
        "sns.distplot(data['fare_amount'])"
      ],
      "execution_count": 65,
      "outputs": [
        {
          "output_type": "execute_result",
          "data": {
            "text/plain": [
              "<matplotlib.axes._subplots.AxesSubplot at 0x7f98e8a48fd0>"
            ]
          },
          "metadata": {
            "tags": []
          },
          "execution_count": 65
        },
        {
          "output_type": "display_data",
          "data": {
            "image/png": "[encoded data removed]",
            "text/plain": [
              "<Figure size 1440x504 with 1 Axes>"
            ]
          },
          "metadata": {
            "tags": []
          }
        }
      ]
    },
    {
      "cell_type": "markdown",
      "metadata": {
        "id": "EIlcdCychY32",
        "colab_type": "text"
      },
      "source": [
        "- We have fare amounts with negative values. \n",
        "- But why?"
      ]
    },
    {
      "cell_type": "code",
      "metadata": {
        "id": "Bf1dHXbnYnr9",
        "colab_type": "code",
        "colab": {
          "base_uri": "https://localhost:8080/",
          "height": 408
        },
        "outputId": "0bac8ea2-9d9d-4286-b60a-a22f870e28e8"
      },
      "source": [
        "zero_fare = data[data['fare_amount'] < 0 ]\n",
        "zero_fare"
      ],
      "execution_count": 97,
      "outputs": [
        {
          "output_type": "execute_result",
          "data": {
            "text/html": [
              "<div>\n",
              "<style scoped>\n",
              "    .dataframe tbody tr th:only-of-type {\n",
              "        vertical-align: middle;\n",
              "    }\n",
              "\n",
              "    .dataframe tbody tr th {\n",
              "        vertical-align: top;\n",
              "    }\n",
              "\n",
              "    .dataframe thead th {\n",
              "        text-align: right;\n",
              "    }\n",
              "</style>\n",
              "<table border=\"1\" class=\"dataframe\">\n",
              "  <thead>\n",
              "    <tr style=\"text-align: right;\">\n",
              "      <th></th>\n",
              "      <th>VendorID</th>\n",
              "      <th>tpep_pickup_datetime</th>\n",
              "      <th>tpep_dropoff_datetime</th>\n",
              "      <th>passenger_count</th>\n",
              "      <th>trip_distance</th>\n",
              "      <th>RatecodeID</th>\n",
              "      <th>store_and_fwd_flag</th>\n",
              "      <th>PULocationID</th>\n",
              "      <th>DOLocationID</th>\n",
              "      <th>payment_type</th>\n",
              "      <th>fare_amount</th>\n",
              "      <th>extra</th>\n",
              "      <th>mta_tax</th>\n",
              "      <th>tip_amount</th>\n",
              "      <th>tolls_amount</th>\n",
              "      <th>improvement_surcharge</th>\n",
              "      <th>total_amount</th>\n",
              "    </tr>\n",
              "  </thead>\n",
              "  <tbody>\n",
              "    <tr>\n",
              "      <th>663</th>\n",
              "      <td>2</td>\n",
              "      <td>2019-01-01 00:32:56</td>\n",
              "      <td>2019-01-01 00:33:35</td>\n",
              "      <td>2</td>\n",
              "      <td>0.10</td>\n",
              "      <td>1</td>\n",
              "      <td>N</td>\n",
              "      <td>148</td>\n",
              "      <td>148</td>\n",
              "      <td>3</td>\n",
              "      <td>-2.5</td>\n",
              "      <td>-0.5</td>\n",
              "      <td>-0.5</td>\n",
              "      <td>0.0</td>\n",
              "      <td>0.0</td>\n",
              "      <td>-0.3</td>\n",
              "      <td>-3.8</td>\n",
              "    </tr>\n",
              "    <tr>\n",
              "      <th>2402</th>\n",
              "      <td>2</td>\n",
              "      <td>2019-01-01 00:14:18</td>\n",
              "      <td>2019-01-01 00:40:55</td>\n",
              "      <td>1</td>\n",
              "      <td>4.13</td>\n",
              "      <td>1</td>\n",
              "      <td>N</td>\n",
              "      <td>170</td>\n",
              "      <td>238</td>\n",
              "      <td>4</td>\n",
              "      <td>-19.0</td>\n",
              "      <td>-0.5</td>\n",
              "      <td>-0.5</td>\n",
              "      <td>0.0</td>\n",
              "      <td>0.0</td>\n",
              "      <td>-0.3</td>\n",
              "      <td>-20.3</td>\n",
              "    </tr>\n",
              "    <tr>\n",
              "      <th>2541</th>\n",
              "      <td>2</td>\n",
              "      <td>2019-01-01 00:31:27</td>\n",
              "      <td>2019-01-01 00:42:39</td>\n",
              "      <td>1</td>\n",
              "      <td>1.35</td>\n",
              "      <td>1</td>\n",
              "      <td>N</td>\n",
              "      <td>162</td>\n",
              "      <td>234</td>\n",
              "      <td>4</td>\n",
              "      <td>-8.5</td>\n",
              "      <td>-0.5</td>\n",
              "      <td>-0.5</td>\n",
              "      <td>0.0</td>\n",
              "      <td>0.0</td>\n",
              "      <td>-0.3</td>\n",
              "      <td>-9.8</td>\n",
              "    </tr>\n",
              "    <tr>\n",
              "      <th>2544</th>\n",
              "      <td>2</td>\n",
              "      <td>2019-01-01 00:45:57</td>\n",
              "      <td>2019-01-01 00:46:07</td>\n",
              "      <td>1</td>\n",
              "      <td>0.00</td>\n",
              "      <td>1</td>\n",
              "      <td>N</td>\n",
              "      <td>234</td>\n",
              "      <td>234</td>\n",
              "      <td>4</td>\n",
              "      <td>-2.5</td>\n",
              "      <td>-0.5</td>\n",
              "      <td>-0.5</td>\n",
              "      <td>0.0</td>\n",
              "      <td>0.0</td>\n",
              "      <td>-0.3</td>\n",
              "      <td>-3.8</td>\n",
              "    </tr>\n",
              "    <tr>\n",
              "      <th>2547</th>\n",
              "      <td>2</td>\n",
              "      <td>2019-01-01 00:48:35</td>\n",
              "      <td>2019-01-01 00:49:59</td>\n",
              "      <td>1</td>\n",
              "      <td>0.16</td>\n",
              "      <td>1</td>\n",
              "      <td>N</td>\n",
              "      <td>234</td>\n",
              "      <td>234</td>\n",
              "      <td>4</td>\n",
              "      <td>-3.0</td>\n",
              "      <td>-0.5</td>\n",
              "      <td>-0.5</td>\n",
              "      <td>0.0</td>\n",
              "      <td>0.0</td>\n",
              "      <td>-0.3</td>\n",
              "      <td>-4.3</td>\n",
              "    </tr>\n",
              "    <tr>\n",
              "      <th>...</th>\n",
              "      <td>...</td>\n",
              "      <td>...</td>\n",
              "      <td>...</td>\n",
              "      <td>...</td>\n",
              "      <td>...</td>\n",
              "      <td>...</td>\n",
              "      <td>...</td>\n",
              "      <td>...</td>\n",
              "      <td>...</td>\n",
              "      <td>...</td>\n",
              "      <td>...</td>\n",
              "      <td>...</td>\n",
              "      <td>...</td>\n",
              "      <td>...</td>\n",
              "      <td>...</td>\n",
              "      <td>...</td>\n",
              "      <td>...</td>\n",
              "    </tr>\n",
              "    <tr>\n",
              "      <th>7665612</th>\n",
              "      <td>2</td>\n",
              "      <td>2019-01-31 23:24:31</td>\n",
              "      <td>2019-01-31 23:25:52</td>\n",
              "      <td>1</td>\n",
              "      <td>0.34</td>\n",
              "      <td>1</td>\n",
              "      <td>N</td>\n",
              "      <td>161</td>\n",
              "      <td>237</td>\n",
              "      <td>3</td>\n",
              "      <td>-3.0</td>\n",
              "      <td>-0.5</td>\n",
              "      <td>-0.5</td>\n",
              "      <td>0.0</td>\n",
              "      <td>0.0</td>\n",
              "      <td>-0.3</td>\n",
              "      <td>-4.3</td>\n",
              "    </tr>\n",
              "    <tr>\n",
              "      <th>7666343</th>\n",
              "      <td>2</td>\n",
              "      <td>2019-01-31 23:36:37</td>\n",
              "      <td>2019-01-31 23:37:44</td>\n",
              "      <td>1</td>\n",
              "      <td>0.17</td>\n",
              "      <td>1</td>\n",
              "      <td>N</td>\n",
              "      <td>68</td>\n",
              "      <td>158</td>\n",
              "      <td>3</td>\n",
              "      <td>-3.0</td>\n",
              "      <td>-0.5</td>\n",
              "      <td>-0.5</td>\n",
              "      <td>0.0</td>\n",
              "      <td>0.0</td>\n",
              "      <td>-0.3</td>\n",
              "      <td>-4.3</td>\n",
              "    </tr>\n",
              "    <tr>\n",
              "      <th>7666452</th>\n",
              "      <td>2</td>\n",
              "      <td>2019-01-31 23:08:30</td>\n",
              "      <td>2019-01-31 23:19:27</td>\n",
              "      <td>2</td>\n",
              "      <td>0.58</td>\n",
              "      <td>1</td>\n",
              "      <td>N</td>\n",
              "      <td>162</td>\n",
              "      <td>229</td>\n",
              "      <td>3</td>\n",
              "      <td>-8.0</td>\n",
              "      <td>-0.5</td>\n",
              "      <td>-0.5</td>\n",
              "      <td>0.0</td>\n",
              "      <td>0.0</td>\n",
              "      <td>-0.3</td>\n",
              "      <td>-9.3</td>\n",
              "    </tr>\n",
              "    <tr>\n",
              "      <th>7666601</th>\n",
              "      <td>2</td>\n",
              "      <td>2019-01-31 23:42:48</td>\n",
              "      <td>2019-01-31 23:48:23</td>\n",
              "      <td>1</td>\n",
              "      <td>0.68</td>\n",
              "      <td>1</td>\n",
              "      <td>N</td>\n",
              "      <td>211</td>\n",
              "      <td>211</td>\n",
              "      <td>4</td>\n",
              "      <td>-5.5</td>\n",
              "      <td>-0.5</td>\n",
              "      <td>-0.5</td>\n",
              "      <td>0.0</td>\n",
              "      <td>0.0</td>\n",
              "      <td>-0.3</td>\n",
              "      <td>-6.8</td>\n",
              "    </tr>\n",
              "    <tr>\n",
              "      <th>7667014</th>\n",
              "      <td>2</td>\n",
              "      <td>2019-01-31 23:52:30</td>\n",
              "      <td>2019-01-31 23:53:26</td>\n",
              "      <td>1</td>\n",
              "      <td>0.09</td>\n",
              "      <td>1</td>\n",
              "      <td>N</td>\n",
              "      <td>170</td>\n",
              "      <td>233</td>\n",
              "      <td>3</td>\n",
              "      <td>-2.5</td>\n",
              "      <td>-0.5</td>\n",
              "      <td>-0.5</td>\n",
              "      <td>0.0</td>\n",
              "      <td>0.0</td>\n",
              "      <td>-0.3</td>\n",
              "      <td>-3.8</td>\n",
              "    </tr>\n",
              "  </tbody>\n",
              "</table>\n",
              "<p>7131 rows × 17 columns</p>\n",
              "</div>"
            ],
            "text/plain": [
              "         VendorID tpep_pickup_datetime  ... improvement_surcharge  total_amount\n",
              "663             2  2019-01-01 00:32:56  ...                  -0.3          -3.8\n",
              "2402            2  2019-01-01 00:14:18  ...                  -0.3         -20.3\n",
              "2541            2  2019-01-01 00:31:27  ...                  -0.3          -9.8\n",
              "2544            2  2019-01-01 00:45:57  ...                  -0.3          -3.8\n",
              "2547            2  2019-01-01 00:48:35  ...                  -0.3          -4.3\n",
              "...           ...                  ...  ...                   ...           ...\n",
              "7665612         2  2019-01-31 23:24:31  ...                  -0.3          -4.3\n",
              "7666343         2  2019-01-31 23:36:37  ...                  -0.3          -4.3\n",
              "7666452         2  2019-01-31 23:08:30  ...                  -0.3          -9.3\n",
              "7666601         2  2019-01-31 23:42:48  ...                  -0.3          -6.8\n",
              "7667014         2  2019-01-31 23:52:30  ...                  -0.3          -3.8\n",
              "\n",
              "[7131 rows x 17 columns]"
            ]
          },
          "metadata": {
            "tags": []
          },
          "execution_count": 97
        }
      ]
    },
    {
      "cell_type": "code",
      "metadata": {
        "id": "j0Kc_an_ijeA",
        "colab_type": "code",
        "colab": {
          "base_uri": "https://localhost:8080/",
          "height": 106
        },
        "outputId": "84e6c767-b6f3-4635-9899-cadabfa3f392"
      },
      "source": [
        "zero_fare['payment_type'].value_counts()"
      ],
      "execution_count": 98,
      "outputs": [
        {
          "output_type": "execute_result",
          "data": {
            "text/plain": [
              "3    4088\n",
              "4    2666\n",
              "2     376\n",
              "1       1\n",
              "Name: payment_type, dtype: int64"
            ]
          },
          "metadata": {
            "tags": []
          },
          "execution_count": 98
        }
      ]
    },
    {
      "cell_type": "code",
      "metadata": {
        "id": "o92ARDyDkoj9",
        "colab_type": "code",
        "colab": {
          "base_uri": "https://localhost:8080/",
          "height": 460
        },
        "outputId": "86d984f7-ee81-4a7d-fbd9-f0f15633998f"
      },
      "source": [
        "plt.figure(figsize=(15,7))\n",
        "\n",
        "sns.countplot(zero_fare['payment_type'])"
      ],
      "execution_count": 102,
      "outputs": [
        {
          "output_type": "execute_result",
          "data": {
            "text/plain": [
              "<matplotlib.axes._subplots.AxesSubplot at 0x7f98cffc56a0>"
            ]
          },
          "metadata": {
            "tags": []
          },
          "execution_count": 102
        },
        {
          "output_type": "display_data",
          "data": {
            "image/png": "[encoded data removed]",
            "text/plain": [
              "<Figure size 1080x504 with 1 Axes>"
            ]
          },
          "metadata": {
            "tags": []
          }
        }
      ]
    },
    {
      "cell_type": "markdown",
      "metadata": {
        "id": "J2LXOb-gjQc2",
        "colab_type": "text"
      },
      "source": [
        "Decription of payment type.\n",
        "\n",
        "A numeric code signifying how the passenger paid for the trip.\n",
        "\n",
        "- 1= Credit card\n",
        "- 2= Cash\n",
        "- 3= No charge\n",
        "- 4= Dispute\n",
        "- 5= Unknown\n",
        "- 6= Voided trip"
      ]
    },
    {
      "cell_type": "markdown",
      "metadata": {
        "id": "C6CyfDFGjgbS",
        "colab_type": "text"
      },
      "source": [
        "- 57% of the paid with no charge. I will assume this means the trip was free and drivers paid for the tax and toll fees. Maybe some sought of discount.\n",
        "- 29% of riders in paid with dispute. Still no payment here. \n",
        "- 1 person paid credit card.\n",
        "- 5% paid with cash."
      ]
    },
    {
      "cell_type": "code",
      "metadata": {
        "id": "F9PPByebnRzp",
        "colab_type": "code",
        "colab": {
          "base_uri": "https://localhost:8080/",
          "height": 34
        },
        "outputId": "533c2278-973d-4d36-a2cf-d2447a0824e8"
      },
      "source": [
        "data['tip_amount'].max()"
      ],
      "execution_count": 114,
      "outputs": [
        {
          "output_type": "execute_result",
          "data": {
            "text/plain": [
              "787.25"
            ]
          },
          "metadata": {
            "tags": []
          },
          "execution_count": 114
        }
      ]
    },
    {
      "cell_type": "code",
      "metadata": {
        "id": "-UmAf1L8pUHi",
        "colab_type": "code",
        "colab": {}
      },
      "source": [
        ""
      ],
      "execution_count": 0,
      "outputs": []
    }
  ]
}