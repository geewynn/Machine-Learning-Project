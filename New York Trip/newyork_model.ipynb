{
  "nbformat": 4,
  "nbformat_minor": 0,
  "metadata": {
    "colab": {
      "name": "newyork_model",
      "provenance": [],
      "collapsed_sections": [],
      "machine_shape": "hm"
    },
    "kernelspec": {
      "name": "python3",
      "display_name": "Python 3"
    },
    "accelerator": "GPU"
  },
  "cells": [
    {
      "cell_type": "code",
      "metadata": {
        "id": "9joxugMimDiK",
        "colab_type": "code",
        "colab": {}
      },
      "source": [
        "import pandas as pd\n",
        "import numpy as np\n",
        "import seaborn as sns\n",
        "import matplotlib.pyplot as plt\n",
        "import plotly.graph_objects as go\n",
        "from sklearn.preprocessing import LabelEncoder, StandardScaler\n",
        "from sklearn.model_selection import train_test_split\n",
        "from sklearn.linear_model import LinearRegression, Lasso, Ridge\n",
        "from sklearn.metrics import mean_squared_error\n",
        "from sklearn.model_selection import cross_val_score"
      ],
      "execution_count": 0,
      "outputs": []
    },
    {
      "cell_type": "code",
      "metadata": {
        "id": "addcTn0MpguN",
        "colab_type": "code",
        "outputId": "cde82b0e-d153-4beb-f286-4b255c479fa3",
        "colab": {
          "base_uri": "https://localhost:8080/",
          "height": 214
        }
      },
      "source": [
        "!wget https://s3.amazonaws.com/nyc-tlc/trip+data/yellow_tripdata_2019-01.csv"
      ],
      "execution_count": 99,
      "outputs": [
        {
          "output_type": "stream",
          "text": [
            "--2020-01-16 16:23:38--  https://s3.amazonaws.com/nyc-tlc/trip+data/yellow_tripdata_2019-01.csv\n",
            "Resolving s3.amazonaws.com (s3.amazonaws.com)... 54.231.88.2\n",
            "Connecting to s3.amazonaws.com (s3.amazonaws.com)|54.231.88.2|:443... connected.\n",
            "HTTP request sent, awaiting response... 200 OK\n",
            "Length: 687088084 (655M) [text/csv]\n",
            "Saving to: ‘yellow_tripdata_2019-01.csv.6’\n",
            "\n",
            "yellow_tripdata_201 100%[===================>] 655.26M  98.3MB/s    in 6.9s    \n",
            "\n",
            "2020-01-16 16:23:45 (94.4 MB/s) - ‘yellow_tripdata_2019-01.csv.6’ saved [687088084/687088084]\n",
            "\n"
          ],
          "name": "stdout"
        }
      ]
    },
    {
      "cell_type": "markdown",
      "metadata": {
        "id": "gxWXdQ3bp9r2",
        "colab_type": "text"
      },
      "source": [
        "# Data PreProcessing"
      ]
    },
    {
      "cell_type": "code",
      "metadata": {
        "id": "l_EKexDTpiVf",
        "colab_type": "code",
        "outputId": "cb882af0-31c3-4255-c459-e834670f3dc9",
        "colab": {
          "base_uri": "https://localhost:8080/",
          "height": 209
        }
      },
      "source": [
        "data = pd.read_csv('/content/yellow_tripdata_2019-01.csv')\n",
        "data.head()"
      ],
      "execution_count": 100,
      "outputs": [
        {
          "output_type": "execute_result",
          "data": {
            "text/html": [
              "<div>\n",
              "<style scoped>\n",
              "    .dataframe tbody tr th:only-of-type {\n",
              "        vertical-align: middle;\n",
              "    }\n",
              "\n",
              "    .dataframe tbody tr th {\n",
              "        vertical-align: top;\n",
              "    }\n",
              "\n",
              "    .dataframe thead th {\n",
              "        text-align: right;\n",
              "    }\n",
              "</style>\n",
              "<table border=\"1\" class=\"dataframe\">\n",
              "  <thead>\n",
              "    <tr style=\"text-align: right;\">\n",
              "      <th></th>\n",
              "      <th>VendorID</th>\n",
              "      <th>tpep_pickup_datetime</th>\n",
              "      <th>tpep_dropoff_datetime</th>\n",
              "      <th>passenger_count</th>\n",
              "      <th>trip_distance</th>\n",
              "      <th>RatecodeID</th>\n",
              "      <th>store_and_fwd_flag</th>\n",
              "      <th>PULocationID</th>\n",
              "      <th>DOLocationID</th>\n",
              "      <th>payment_type</th>\n",
              "      <th>fare_amount</th>\n",
              "      <th>extra</th>\n",
              "      <th>mta_tax</th>\n",
              "      <th>tip_amount</th>\n",
              "      <th>tolls_amount</th>\n",
              "      <th>improvement_surcharge</th>\n",
              "      <th>total_amount</th>\n",
              "      <th>congestion_surcharge</th>\n",
              "    </tr>\n",
              "  </thead>\n",
              "  <tbody>\n",
              "    <tr>\n",
              "      <th>0</th>\n",
              "      <td>1</td>\n",
              "      <td>2019-01-01 00:46:40</td>\n",
              "      <td>2019-01-01 00:53:20</td>\n",
              "      <td>1</td>\n",
              "      <td>1.5</td>\n",
              "      <td>1</td>\n",
              "      <td>N</td>\n",
              "      <td>151</td>\n",
              "      <td>239</td>\n",
              "      <td>1</td>\n",
              "      <td>7.0</td>\n",
              "      <td>0.5</td>\n",
              "      <td>0.5</td>\n",
              "      <td>1.65</td>\n",
              "      <td>0.0</td>\n",
              "      <td>0.3</td>\n",
              "      <td>9.95</td>\n",
              "      <td>NaN</td>\n",
              "    </tr>\n",
              "    <tr>\n",
              "      <th>1</th>\n",
              "      <td>1</td>\n",
              "      <td>2019-01-01 00:59:47</td>\n",
              "      <td>2019-01-01 01:18:59</td>\n",
              "      <td>1</td>\n",
              "      <td>2.6</td>\n",
              "      <td>1</td>\n",
              "      <td>N</td>\n",
              "      <td>239</td>\n",
              "      <td>246</td>\n",
              "      <td>1</td>\n",
              "      <td>14.0</td>\n",
              "      <td>0.5</td>\n",
              "      <td>0.5</td>\n",
              "      <td>1.00</td>\n",
              "      <td>0.0</td>\n",
              "      <td>0.3</td>\n",
              "      <td>16.30</td>\n",
              "      <td>NaN</td>\n",
              "    </tr>\n",
              "    <tr>\n",
              "      <th>2</th>\n",
              "      <td>2</td>\n",
              "      <td>2018-12-21 13:48:30</td>\n",
              "      <td>2018-12-21 13:52:40</td>\n",
              "      <td>3</td>\n",
              "      <td>0.0</td>\n",
              "      <td>1</td>\n",
              "      <td>N</td>\n",
              "      <td>236</td>\n",
              "      <td>236</td>\n",
              "      <td>1</td>\n",
              "      <td>4.5</td>\n",
              "      <td>0.5</td>\n",
              "      <td>0.5</td>\n",
              "      <td>0.00</td>\n",
              "      <td>0.0</td>\n",
              "      <td>0.3</td>\n",
              "      <td>5.80</td>\n",
              "      <td>NaN</td>\n",
              "    </tr>\n",
              "    <tr>\n",
              "      <th>3</th>\n",
              "      <td>2</td>\n",
              "      <td>2018-11-28 15:52:25</td>\n",
              "      <td>2018-11-28 15:55:45</td>\n",
              "      <td>5</td>\n",
              "      <td>0.0</td>\n",
              "      <td>1</td>\n",
              "      <td>N</td>\n",
              "      <td>193</td>\n",
              "      <td>193</td>\n",
              "      <td>2</td>\n",
              "      <td>3.5</td>\n",
              "      <td>0.5</td>\n",
              "      <td>0.5</td>\n",
              "      <td>0.00</td>\n",
              "      <td>0.0</td>\n",
              "      <td>0.3</td>\n",
              "      <td>7.55</td>\n",
              "      <td>NaN</td>\n",
              "    </tr>\n",
              "    <tr>\n",
              "      <th>4</th>\n",
              "      <td>2</td>\n",
              "      <td>2018-11-28 15:56:57</td>\n",
              "      <td>2018-11-28 15:58:33</td>\n",
              "      <td>5</td>\n",
              "      <td>0.0</td>\n",
              "      <td>2</td>\n",
              "      <td>N</td>\n",
              "      <td>193</td>\n",
              "      <td>193</td>\n",
              "      <td>2</td>\n",
              "      <td>52.0</td>\n",
              "      <td>0.0</td>\n",
              "      <td>0.5</td>\n",
              "      <td>0.00</td>\n",
              "      <td>0.0</td>\n",
              "      <td>0.3</td>\n",
              "      <td>55.55</td>\n",
              "      <td>NaN</td>\n",
              "    </tr>\n",
              "  </tbody>\n",
              "</table>\n",
              "</div>"
            ],
            "text/plain": [
              "   VendorID tpep_pickup_datetime  ... total_amount  congestion_surcharge\n",
              "0         1  2019-01-01 00:46:40  ...         9.95                   NaN\n",
              "1         1  2019-01-01 00:59:47  ...        16.30                   NaN\n",
              "2         2  2018-12-21 13:48:30  ...         5.80                   NaN\n",
              "3         2  2018-11-28 15:52:25  ...         7.55                   NaN\n",
              "4         2  2018-11-28 15:56:57  ...        55.55                   NaN\n",
              "\n",
              "[5 rows x 18 columns]"
            ]
          },
          "metadata": {
            "tags": []
          },
          "execution_count": 100
        }
      ]
    },
    {
      "cell_type": "code",
      "metadata": {
        "id": "FavxWalnpv4D",
        "colab_type": "code",
        "outputId": "ba2523b5-7b7d-4e9c-a0dd-12175420f707",
        "colab": {
          "base_uri": "https://localhost:8080/",
          "height": 430
        }
      },
      "source": [
        "data.info()"
      ],
      "execution_count": 101,
      "outputs": [
        {
          "output_type": "stream",
          "text": [
            "<class 'pandas.core.frame.DataFrame'>\n",
            "RangeIndex: 7667792 entries, 0 to 7667791\n",
            "Data columns (total 18 columns):\n",
            "VendorID                 int64\n",
            "tpep_pickup_datetime     object\n",
            "tpep_dropoff_datetime    object\n",
            "passenger_count          int64\n",
            "trip_distance            float64\n",
            "RatecodeID               int64\n",
            "store_and_fwd_flag       object\n",
            "PULocationID             int64\n",
            "DOLocationID             int64\n",
            "payment_type             int64\n",
            "fare_amount              float64\n",
            "extra                    float64\n",
            "mta_tax                  float64\n",
            "tip_amount               float64\n",
            "tolls_amount             float64\n",
            "improvement_surcharge    float64\n",
            "total_amount             float64\n",
            "congestion_surcharge     float64\n",
            "dtypes: float64(9), int64(6), object(3)\n",
            "memory usage: 1.0+ GB\n"
          ],
          "name": "stdout"
        }
      ]
    },
    {
      "cell_type": "markdown",
      "metadata": {
        "id": "IwVFe5pWqC9U",
        "colab_type": "text"
      },
      "source": [
        "- Check for Missing Value"
      ]
    },
    {
      "cell_type": "code",
      "metadata": {
        "id": "t_YUvtkNp7Fv",
        "colab_type": "code",
        "outputId": "de8bc9eb-9de8-4a2d-abd0-dd54f4d770d2",
        "colab": {
          "base_uri": "https://localhost:8080/",
          "height": 358
        }
      },
      "source": [
        "data.isnull().sum()"
      ],
      "execution_count": 102,
      "outputs": [
        {
          "output_type": "execute_result",
          "data": {
            "text/plain": [
              "VendorID                       0\n",
              "tpep_pickup_datetime           0\n",
              "tpep_dropoff_datetime          0\n",
              "passenger_count                0\n",
              "trip_distance                  0\n",
              "RatecodeID                     0\n",
              "store_and_fwd_flag             0\n",
              "PULocationID                   0\n",
              "DOLocationID                   0\n",
              "payment_type                   0\n",
              "fare_amount                    0\n",
              "extra                          0\n",
              "mta_tax                        0\n",
              "tip_amount                     0\n",
              "tolls_amount                   0\n",
              "improvement_surcharge          0\n",
              "total_amount                   0\n",
              "congestion_surcharge     4855978\n",
              "dtype: int64"
            ]
          },
          "metadata": {
            "tags": []
          },
          "execution_count": 102
        }
      ]
    },
    {
      "cell_type": "markdown",
      "metadata": {
        "id": "OrOiqw2sqM93",
        "colab_type": "text"
      },
      "source": [
        "- Apart from congestion surchage, there are no missing values. \n",
        "- Drop the column becuase over 50% of it's content are missing."
      ]
    },
    {
      "cell_type": "code",
      "metadata": {
        "id": "fzKORoCoqLVG",
        "colab_type": "code",
        "colab": {}
      },
      "source": [
        "#drop congestion surchage\n",
        "data = data.drop(['congestion_surcharge'], axis=1)"
      ],
      "execution_count": 0,
      "outputs": []
    },
    {
      "cell_type": "code",
      "metadata": {
        "id": "2KyGSca5qrV0",
        "colab_type": "code",
        "outputId": "d2290257-1881-41d9-cef4-53dc672e019a",
        "colab": {
          "base_uri": "https://localhost:8080/",
          "height": 34
        }
      },
      "source": [
        "data.shape"
      ],
      "execution_count": 104,
      "outputs": [
        {
          "output_type": "execute_result",
          "data": {
            "text/plain": [
              "(7667792, 17)"
            ]
          },
          "metadata": {
            "tags": []
          },
          "execution_count": 104
        }
      ]
    },
    {
      "cell_type": "markdown",
      "metadata": {
        "id": "4FLdhHoTq6OZ",
        "colab_type": "text"
      },
      "source": [
        "- Over 7 million rows and 17 columns"
      ]
    },
    {
      "cell_type": "code",
      "metadata": {
        "id": "apNI7JYCq5BC",
        "colab_type": "code",
        "colab": {}
      },
      "source": [
        "data['tpep_dropoff_datetime'] = pd.to_datetime(data['tpep_dropoff_datetime'])\n",
        "data['tpep_pickup_datetime'] = pd.to_datetime(data['tpep_pickup_datetime'])\n"
      ],
      "execution_count": 0,
      "outputs": []
    },
    {
      "cell_type": "markdown",
      "metadata": {
        "id": "iqTvZu9Gr7VC",
        "colab_type": "text"
      },
      "source": [
        "- Handling Outliers\n",
        "- From the analysis from the analysis notebook. There where outliers in both the trip distance and fare amount.\n"
      ]
    },
    {
      "cell_type": "code",
      "metadata": {
        "id": "gTyuaqswrX21",
        "colab_type": "code",
        "colab": {}
      },
      "source": [
        "data.drop(data[data['fare_amount'] > 5000].index, axis=0, inplace=True)\n",
        "data.drop(data[data['trip_distance'] > 200].index, axis=0, inplace=True)\n"
      ],
      "execution_count": 0,
      "outputs": []
    },
    {
      "cell_type": "markdown",
      "metadata": {
        "id": "9aBTAKFAlR1l",
        "colab_type": "text"
      },
      "source": [
        "- Drop data where the tip amount is greater than 0 but the trip distance is 0. These are possible outliers."
      ]
    },
    {
      "cell_type": "code",
      "metadata": {
        "id": "4Fe9DVUmshRr",
        "colab_type": "code",
        "colab": {}
      },
      "source": [
        "data.drop(data[(data['tip_amount'] > 0) & (data['trip_distance'] == 0)].index, axis=0, inplace=True)"
      ],
      "execution_count": 0,
      "outputs": []
    },
    {
      "cell_type": "code",
      "metadata": {
        "id": "A197HJuqtAnM",
        "colab_type": "code",
        "outputId": "e75156a7-1e7a-40fe-f843-d2a5a025ff1b",
        "colab": {
          "base_uri": "https://localhost:8080/",
          "height": 34
        }
      },
      "source": [
        "data.shape"
      ],
      "execution_count": 108,
      "outputs": [
        {
          "output_type": "execute_result",
          "data": {
            "text/plain": [
              "(7648755, 17)"
            ]
          },
          "metadata": {
            "tags": []
          },
          "execution_count": 108
        }
      ]
    },
    {
      "cell_type": "markdown",
      "metadata": {
        "id": "m95_nLaZy4M-",
        "colab_type": "text"
      },
      "source": [
        "# Feature Engineering and Selection"
      ]
    },
    {
      "cell_type": "markdown",
      "metadata": {
        "id": "dWyPAHpU7QC5",
        "colab_type": "text"
      },
      "source": [
        "Handling Datetime Columns\n",
        "\n",
        "- Convert the drop off and pickup to datetime\n",
        "- Extract day, date, and time and hour from the datetime columns\n",
        "- Drop off datetime columns."
      ]
    },
    {
      "cell_type": "code",
      "metadata": {
        "id": "rU4eQa7H7DpS",
        "colab_type": "code",
        "colab": {}
      },
      "source": [
        "#data['dropoff_day'] = data['tpep_dropoff_datetime'].dt.day\n",
        "data['dropoff_date'] = data['tpep_dropoff_datetime'].dt.date\n",
        "data['dropoff_time'] = data['tpep_dropoff_datetime'].dt.time\n",
        "data['dropoff_hour'] = data['tpep_dropoff_datetime'].dt.hour\n",
        "\n",
        "#data['pickup_day'] = data['tpep_pickup_datetime'].dt.day\n",
        "data['pickup_date'] = data['tpep_pickup_datetime'].dt.date\n",
        "data['pickup_time'] = data['tpep_pickup_datetime'].dt.time\n",
        "data['pickup_hour'] = data['tpep_pickup_datetime'].dt.hour"
      ],
      "execution_count": 0,
      "outputs": []
    },
    {
      "cell_type": "markdown",
      "metadata": {
        "id": "O_-Hv_CG7WrX",
        "colab_type": "text"
      },
      "source": [
        "- Categorize hour columns into time period(Morning, Night or Evening)\n",
        "- Drop the hour column."
      ]
    },
    {
      "cell_type": "code",
      "metadata": {
        "id": "NBVNt83Q7H3O",
        "colab_type": "code",
        "colab": {}
      },
      "source": [
        "bins = [0,6,12,16,20,24]\n",
        "time_period = ['Early Morning','Morning','Noon','Evening','Night']\n",
        "data['pickup_time_period'] = pd.cut(data['pickup_hour'], bins=bins, labels=time_period)\n",
        "data['dropoff_time_period'] = pd.cut(data['dropoff_hour'], bins=bins, labels=time_period)"
      ],
      "execution_count": 0,
      "outputs": []
    },
    {
      "cell_type": "code",
      "metadata": {
        "id": "at39_B0m7LDi",
        "colab_type": "code",
        "colab": {}
      },
      "source": [
        "data = data.drop(data[['tpep_dropoff_datetime']], axis=1)\n",
        "data = data.drop(data[['tpep_pickup_datetime']], axis=1)\n",
        "data = data.drop(data[['pickup_hour']], axis=1)\n",
        "data = data.drop(data[['dropoff_hour']], axis=1)"
      ],
      "execution_count": 0,
      "outputs": []
    },
    {
      "cell_type": "markdown",
      "metadata": {
        "id": "7Noilhau8TGI",
        "colab_type": "text"
      },
      "source": [
        "- Drop data where the pickup date is greater than the dropoff date. This means the driver was picked up today and dropped off yesterday."
      ]
    },
    {
      "cell_type": "code",
      "metadata": {
        "id": "07xRuOue8R2g",
        "colab_type": "code",
        "colab": {}
      },
      "source": [
        "data.drop(data[data['pickup_date']> data['dropoff_date']].index, axis=0,inplace=True)"
      ],
      "execution_count": 0,
      "outputs": []
    },
    {
      "cell_type": "markdown",
      "metadata": {
        "id": "yWL9HXtX9wxJ",
        "colab_type": "text"
      },
      "source": [
        "- Check for Cardinality\n",
        "  - No cardinal column in the data"
      ]
    },
    {
      "cell_type": "code",
      "metadata": {
        "id": "cTUnaV_e1oc4",
        "colab_type": "code",
        "outputId": "961e25e5-3076-4404-cf67-9fd91771f4b1",
        "colab": {
          "base_uri": "https://localhost:8080/",
          "height": 412
        }
      },
      "source": [
        "data.nunique().sort_values()"
      ],
      "execution_count": 113,
      "outputs": [
        {
          "output_type": "execute_result",
          "data": {
            "text/plain": [
              "store_and_fwd_flag           2\n",
              "VendorID                     3\n",
              "improvement_surcharge        4\n",
              "payment_type                 4\n",
              "pickup_time_period           5\n",
              "dropoff_time_period          5\n",
              "RatecodeID                   7\n",
              "passenger_count             10\n",
              "mta_tax                     10\n",
              "extra                       35\n",
              "dropoff_date                58\n",
              "pickup_date                 58\n",
              "DOLocationID               261\n",
              "PULocationID               263\n",
              "tolls_amount               880\n",
              "tip_amount                3223\n",
              "trip_distance             4385\n",
              "fare_amount               6102\n",
              "total_amount             11885\n",
              "dropoff_time             86400\n",
              "pickup_time              86400\n",
              "dtype: int64"
            ]
          },
          "metadata": {
            "tags": []
          },
          "execution_count": 113
        }
      ]
    },
    {
      "cell_type": "markdown",
      "metadata": {
        "id": "kD3PdEqnfjdx",
        "colab_type": "text"
      },
      "source": [
        "- Label Encode categorical Feature"
      ]
    },
    {
      "cell_type": "code",
      "metadata": {
        "id": "PxTExY_p-TTg",
        "colab_type": "code",
        "colab": {}
      },
      "source": [
        "#convert the time period columns to object\n",
        "data['pickup_time_period'] = data['pickup_time_period'].astype('str')\n",
        "data['dropoff_time_period'] = data['dropoff_time_period'].astype('str')"
      ],
      "execution_count": 0,
      "outputs": []
    },
    {
      "cell_type": "code",
      "metadata": {
        "id": "IE0A0GDh9irY",
        "colab_type": "code",
        "colab": {}
      },
      "source": [
        "col = ['store_and_fwd_flag', 'pickup_time_period', 'dropoff_time_period']\n",
        "\n",
        "encoder = LabelEncoder()\n",
        "for column in col:\n",
        "  data[column] = encoder.fit_transform(data[column])\n"
      ],
      "execution_count": 0,
      "outputs": []
    },
    {
      "cell_type": "code",
      "metadata": {
        "id": "twVTMNYPg5io",
        "colab_type": "code",
        "colab": {
          "base_uri": "https://localhost:8080/",
          "height": 209
        },
        "outputId": "dea4ac67-4990-4bbd-829c-26635994ab31"
      },
      "source": [
        "data.head()"
      ],
      "execution_count": 116,
      "outputs": [
        {
          "output_type": "execute_result",
          "data": {
            "text/html": [
              "<div>\n",
              "<style scoped>\n",
              "    .dataframe tbody tr th:only-of-type {\n",
              "        vertical-align: middle;\n",
              "    }\n",
              "\n",
              "    .dataframe tbody tr th {\n",
              "        vertical-align: top;\n",
              "    }\n",
              "\n",
              "    .dataframe thead th {\n",
              "        text-align: right;\n",
              "    }\n",
              "</style>\n",
              "<table border=\"1\" class=\"dataframe\">\n",
              "  <thead>\n",
              "    <tr style=\"text-align: right;\">\n",
              "      <th></th>\n",
              "      <th>VendorID</th>\n",
              "      <th>passenger_count</th>\n",
              "      <th>trip_distance</th>\n",
              "      <th>RatecodeID</th>\n",
              "      <th>store_and_fwd_flag</th>\n",
              "      <th>PULocationID</th>\n",
              "      <th>DOLocationID</th>\n",
              "      <th>payment_type</th>\n",
              "      <th>fare_amount</th>\n",
              "      <th>extra</th>\n",
              "      <th>mta_tax</th>\n",
              "      <th>tip_amount</th>\n",
              "      <th>tolls_amount</th>\n",
              "      <th>improvement_surcharge</th>\n",
              "      <th>total_amount</th>\n",
              "      <th>dropoff_date</th>\n",
              "      <th>dropoff_time</th>\n",
              "      <th>pickup_date</th>\n",
              "      <th>pickup_time</th>\n",
              "      <th>pickup_time_period</th>\n",
              "      <th>dropoff_time_period</th>\n",
              "    </tr>\n",
              "  </thead>\n",
              "  <tbody>\n",
              "    <tr>\n",
              "      <th>0</th>\n",
              "      <td>1</td>\n",
              "      <td>1</td>\n",
              "      <td>1.5</td>\n",
              "      <td>1</td>\n",
              "      <td>0</td>\n",
              "      <td>151</td>\n",
              "      <td>239</td>\n",
              "      <td>1</td>\n",
              "      <td>7.0</td>\n",
              "      <td>0.5</td>\n",
              "      <td>0.5</td>\n",
              "      <td>1.65</td>\n",
              "      <td>0.0</td>\n",
              "      <td>0.3</td>\n",
              "      <td>9.95</td>\n",
              "      <td>2019-01-01</td>\n",
              "      <td>00:53:20</td>\n",
              "      <td>2019-01-01</td>\n",
              "      <td>00:46:40</td>\n",
              "      <td>5</td>\n",
              "      <td>5</td>\n",
              "    </tr>\n",
              "    <tr>\n",
              "      <th>1</th>\n",
              "      <td>1</td>\n",
              "      <td>1</td>\n",
              "      <td>2.6</td>\n",
              "      <td>1</td>\n",
              "      <td>0</td>\n",
              "      <td>239</td>\n",
              "      <td>246</td>\n",
              "      <td>1</td>\n",
              "      <td>14.0</td>\n",
              "      <td>0.5</td>\n",
              "      <td>0.5</td>\n",
              "      <td>1.00</td>\n",
              "      <td>0.0</td>\n",
              "      <td>0.3</td>\n",
              "      <td>16.30</td>\n",
              "      <td>2019-01-01</td>\n",
              "      <td>01:18:59</td>\n",
              "      <td>2019-01-01</td>\n",
              "      <td>00:59:47</td>\n",
              "      <td>5</td>\n",
              "      <td>0</td>\n",
              "    </tr>\n",
              "    <tr>\n",
              "      <th>2</th>\n",
              "      <td>2</td>\n",
              "      <td>3</td>\n",
              "      <td>0.0</td>\n",
              "      <td>1</td>\n",
              "      <td>0</td>\n",
              "      <td>236</td>\n",
              "      <td>236</td>\n",
              "      <td>1</td>\n",
              "      <td>4.5</td>\n",
              "      <td>0.5</td>\n",
              "      <td>0.5</td>\n",
              "      <td>0.00</td>\n",
              "      <td>0.0</td>\n",
              "      <td>0.3</td>\n",
              "      <td>5.80</td>\n",
              "      <td>2018-12-21</td>\n",
              "      <td>13:52:40</td>\n",
              "      <td>2018-12-21</td>\n",
              "      <td>13:48:30</td>\n",
              "      <td>4</td>\n",
              "      <td>4</td>\n",
              "    </tr>\n",
              "    <tr>\n",
              "      <th>3</th>\n",
              "      <td>2</td>\n",
              "      <td>5</td>\n",
              "      <td>0.0</td>\n",
              "      <td>1</td>\n",
              "      <td>0</td>\n",
              "      <td>193</td>\n",
              "      <td>193</td>\n",
              "      <td>2</td>\n",
              "      <td>3.5</td>\n",
              "      <td>0.5</td>\n",
              "      <td>0.5</td>\n",
              "      <td>0.00</td>\n",
              "      <td>0.0</td>\n",
              "      <td>0.3</td>\n",
              "      <td>7.55</td>\n",
              "      <td>2018-11-28</td>\n",
              "      <td>15:55:45</td>\n",
              "      <td>2018-11-28</td>\n",
              "      <td>15:52:25</td>\n",
              "      <td>4</td>\n",
              "      <td>4</td>\n",
              "    </tr>\n",
              "    <tr>\n",
              "      <th>4</th>\n",
              "      <td>2</td>\n",
              "      <td>5</td>\n",
              "      <td>0.0</td>\n",
              "      <td>2</td>\n",
              "      <td>0</td>\n",
              "      <td>193</td>\n",
              "      <td>193</td>\n",
              "      <td>2</td>\n",
              "      <td>52.0</td>\n",
              "      <td>0.0</td>\n",
              "      <td>0.5</td>\n",
              "      <td>0.00</td>\n",
              "      <td>0.0</td>\n",
              "      <td>0.3</td>\n",
              "      <td>55.55</td>\n",
              "      <td>2018-11-28</td>\n",
              "      <td>15:58:33</td>\n",
              "      <td>2018-11-28</td>\n",
              "      <td>15:56:57</td>\n",
              "      <td>4</td>\n",
              "      <td>4</td>\n",
              "    </tr>\n",
              "  </tbody>\n",
              "</table>\n",
              "</div>"
            ],
            "text/plain": [
              "   VendorID  passenger_count  ...  pickup_time_period  dropoff_time_period\n",
              "0         1                1  ...                   5                    5\n",
              "1         1                1  ...                   5                    0\n",
              "2         2                3  ...                   4                    4\n",
              "3         2                5  ...                   4                    4\n",
              "4         2                5  ...                   4                    4\n",
              "\n",
              "[5 rows x 21 columns]"
            ]
          },
          "metadata": {
            "tags": []
          },
          "execution_count": 116
        }
      ]
    },
    {
      "cell_type": "markdown",
      "metadata": {
        "id": "oDyZkBMfvHfh",
        "colab_type": "text"
      },
      "source": [
        "- Drop the date and time column because of data leakages and overfitting."
      ]
    },
    {
      "cell_type": "code",
      "metadata": {
        "id": "A28zHZ9qmW9y",
        "colab_type": "code",
        "colab": {}
      },
      "source": [
        "column = ['dropoff_date', 'dropoff_time', 'pickup_date', 'pickup_time']\n",
        "data = data.drop(columns=column, axis=1)"
      ],
      "execution_count": 0,
      "outputs": []
    },
    {
      "cell_type": "code",
      "metadata": {
        "id": "gmNq0Wb8CCUa",
        "colab_type": "code",
        "colab": {}
      },
      "source": [
        ""
      ],
      "execution_count": 0,
      "outputs": []
    },
    {
      "cell_type": "markdown",
      "metadata": {
        "id": "gRMjTYA-wlAj",
        "colab_type": "text"
      },
      "source": [
        "- Split the dataset into train, test and validation."
      ]
    },
    {
      "cell_type": "code",
      "metadata": {
        "id": "VsbW22YLxIVf",
        "colab_type": "code",
        "colab": {}
      },
      "source": [
        "label = data['tip_amount']\n",
        "data = data.drop(data[['tip_amount']], axis=1)"
      ],
      "execution_count": 0,
      "outputs": []
    },
    {
      "cell_type": "code",
      "metadata": {
        "id": "YcVUzbF8FExC",
        "colab_type": "code",
        "colab": {}
      },
      "source": [
        "scale = StandardScaler()\n",
        "scaled_data = scale.fit_transform(data)"
      ],
      "execution_count": 0,
      "outputs": []
    },
    {
      "cell_type": "code",
      "metadata": {
        "id": "j_T14IV-hIJH",
        "colab_type": "code",
        "colab": {}
      },
      "source": [
        "dev_set_X, X_test, dev_set_y, y_test = train_test_split(scaled_data, label, test_size=0.1, random_state=42)\n",
        "X_train, X_val, y_train, y_val = train_test_split(dev_set_X, dev_set_y, test_size=0.1, random_state=42)"
      ],
      "execution_count": 0,
      "outputs": []
    },
    {
      "cell_type": "markdown",
      "metadata": {
        "id": "KEsR0yjCENDY",
        "colab_type": "text"
      },
      "source": [
        "# Model"
      ]
    },
    {
      "cell_type": "code",
      "metadata": {
        "id": "-TrPMd2ghHOU",
        "colab_type": "code",
        "colab": {
          "base_uri": "https://localhost:8080/",
          "height": 34
        },
        "outputId": "299fe87f-5355-4715-9844-9c7c448f2e98"
      },
      "source": [
        "reg = LinearRegression()\n",
        "reg.fit(X_train, y_train)"
      ],
      "execution_count": 121,
      "outputs": [
        {
          "output_type": "execute_result",
          "data": {
            "text/plain": [
              "LinearRegression(copy_X=True, fit_intercept=True, n_jobs=None, normalize=False)"
            ]
          },
          "metadata": {
            "tags": []
          },
          "execution_count": 121
        }
      ]
    },
    {
      "cell_type": "code",
      "metadata": {
        "id": "K4pjMbXhAuNg",
        "colab_type": "code",
        "colab": {}
      },
      "source": [
        "pred= reg.predict(X_val)"
      ],
      "execution_count": 0,
      "outputs": []
    },
    {
      "cell_type": "code",
      "metadata": {
        "id": "33tr9wbHhHIs",
        "colab_type": "code",
        "colab": {
          "base_uri": "https://localhost:8080/",
          "height": 34
        },
        "outputId": "7b5354c4-4158-4fcd-da53-8396db71061b"
      },
      "source": [
        "print(reg.score(X_train, y_train))"
      ],
      "execution_count": 123,
      "outputs": [
        {
          "output_type": "stream",
          "text": [
            "0.9983360913084012\n"
          ],
          "name": "stdout"
        }
      ]
    },
    {
      "cell_type": "code",
      "metadata": {
        "id": "rfsPXCWrhG8U",
        "colab_type": "code",
        "colab": {
          "base_uri": "https://localhost:8080/",
          "height": 34
        },
        "outputId": "e6f76341-862f-418c-c9ac-66b721e056ea"
      },
      "source": [
        "print(reg.score(X_val, y_val))"
      ],
      "execution_count": 124,
      "outputs": [
        {
          "output_type": "stream",
          "text": [
            "0.9983899424595478\n"
          ],
          "name": "stdout"
        }
      ]
    },
    {
      "cell_type": "code",
      "metadata": {
        "id": "eC0mkCGXhG27",
        "colab_type": "code",
        "colab": {
          "base_uri": "https://localhost:8080/",
          "height": 34
        },
        "outputId": "71e87e30-7014-4cf3-e992-a5d5ddee5b95"
      },
      "source": [
        "rmse = np.sqrt(mean_squared_error(y_val, pred))\n",
        "print(\"Root Mean Squared Error: {}\".format(rmse))"
      ],
      "execution_count": 125,
      "outputs": [
        {
          "output_type": "stream",
          "text": [
            "Root Mean Squared Error: 0.09814050847657745\n"
          ],
          "name": "stdout"
        }
      ]
    },
    {
      "cell_type": "markdown",
      "metadata": {
        "id": "KkDlnipKEFHD",
        "colab_type": "text"
      },
      "source": [
        "#Regularization"
      ]
    },
    {
      "cell_type": "code",
      "metadata": {
        "id": "2ZlhxHaOg9bW",
        "colab_type": "code",
        "colab": {
          "base_uri": "https://localhost:8080/",
          "height": 70
        },
        "outputId": "81875cb7-3efe-4f7c-a827-b9a18dcc6c11"
      },
      "source": [
        "lasso = Lasso(alpha=0.4, normalize=True)\n",
        "\n",
        "# Fit the regressor to the data\n",
        "lasso.fit(X_train,y_train)"
      ],
      "execution_count": 126,
      "outputs": [
        {
          "output_type": "execute_result",
          "data": {
            "text/plain": [
              "Lasso(alpha=0.4, copy_X=True, fit_intercept=True, max_iter=1000, normalize=True,\n",
              "      positive=False, precompute=False, random_state=None, selection='cyclic',\n",
              "      tol=0.0001, warm_start=False)"
            ]
          },
          "metadata": {
            "tags": []
          },
          "execution_count": 126
        }
      ]
    },
    {
      "cell_type": "code",
      "metadata": {
        "id": "gf29XcB4EWrc",
        "colab_type": "code",
        "colab": {
          "base_uri": "https://localhost:8080/",
          "height": 34
        },
        "outputId": "87a1714e-4055-407e-be68-b173e2a6dff1"
      },
      "source": [
        "# Compute and print the coefficients\n",
        "lasso_coef = lasso.coef_\n",
        "len(lasso_coef)"
      ],
      "execution_count": 127,
      "outputs": [
        {
          "output_type": "execute_result",
          "data": {
            "text/plain": [
              "16"
            ]
          },
          "metadata": {
            "tags": []
          },
          "execution_count": 127
        }
      ]
    },
    {
      "cell_type": "code",
      "metadata": {
        "id": "Q2KU9J_2EYe5",
        "colab_type": "code",
        "colab": {
          "base_uri": "https://localhost:8080/",
          "height": 367
        },
        "outputId": "658264c3-af41-4d59-de27-b43153bcb055"
      },
      "source": [
        "# Plot the coefficients\n",
        "plt.plot(range(len(data.columns)), lasso_coef)\n",
        "plt.xticks(range(len(data.columns)), data.columns.values, rotation=60)\n",
        "plt.margins(0.02)\n",
        "plt.show()"
      ],
      "execution_count": 128,
      "outputs": [
        {
          "output_type": "display_data",
          "data": {
            "image/png": "[encoded data removed]",
            "text/plain": [
              "<Figure size 432x288 with 1 Axes>"
            ]
          },
          "metadata": {
            "tags": []
          }
        }
      ]
    },
    {
      "cell_type": "code",
      "metadata": {
        "id": "9SZnHX7UH6BH",
        "colab_type": "code",
        "colab": {}
      },
      "source": [
        "# Setup the array of alphas and lists to store scores\n",
        "alpha_space = np.logspace(-4, 0, 50)\n",
        "ridge_scores = []\n",
        "ridge_scores_std = []\n",
        "\n",
        "# Create a ridge regressor: ridge\n",
        "ridge = Ridge(normalize=True)\n",
        "\n",
        "# Compute scores over range of alphas\n",
        "for alpha in alpha_space:\n",
        "\n",
        "    # Specify the alpha value to use: ridge.alpha\n",
        "    ridge.alpha = alpha\n",
        "    \n",
        "    # Perform 10-fold CV: ridge_cv_scores\n",
        "    ridge_cv_scores = cross_val_score(ridge, X_train, y_train, cv=10)\n",
        "    \n",
        "    # Append the mean of ridge_cv_scores to ridge_scores\n",
        "    ridge_scores.append(np.mean(ridge_cv_scores))\n",
        "    \n",
        "    # Append the std of ridge_cv_scores to ridge_scores_std\n",
        "    ridge_scores_std.append(np.std(ridge_cv_scores))\n",
        "\n",
        "# Display the plot\n",
        "display_plot(ridge_scores, ridge_scores_std)"
      ],
      "execution_count": 0,
      "outputs": []
    },
    {
      "cell_type": "code",
      "metadata": {
        "id": "6hZ5kJbQIJof",
        "colab_type": "code",
        "colab": {}
      },
      "source": [
        ""
      ],
      "execution_count": 0,
      "outputs": []
    }
  ]
}