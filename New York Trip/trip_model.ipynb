{
  "nbformat": 4,
  "nbformat_minor": 0,
  "metadata": {
    "colab": {
      "name": "trip_model.ipynb",
      "provenance": [],
      "collapsed_sections": [],
      "machine_shape": "hm"
    },
    "kernelspec": {
      "name": "python3",
      "display_name": "Python 3"
    },
    "accelerator": "GPU"
  },
  "cells": [
    {
      "cell_type": "code",
      "metadata": {
        "id": "9joxugMimDiK",
        "colab_type": "code",
        "colab": {}
      },
      "source": [
        "import pandas as pd\n",
        "import numpy as np\n",
        "import seaborn as sns\n",
        "import matplotlib.pyplot as plt\n",
        "import plotly.graph_objects as go\n"
      ],
      "execution_count": 0,
      "outputs": []
    },
    {
      "cell_type": "code",
      "metadata": {
        "id": "addcTn0MpguN",
        "colab_type": "code",
        "colab": {
          "base_uri": "https://localhost:8080/",
          "height": 214
        },
        "outputId": "f2ea3a5f-4de0-4f1f-e604-29025c6a605d"
      },
      "source": [
        "!wget https://s3.amazonaws.com/nyc-tlc/trip+data/yellow_tripdata_2019-01.csv"
      ],
      "execution_count": 26,
      "outputs": [
        {
          "output_type": "stream",
          "text": [
            "--2020-01-15 16:00:36--  https://s3.amazonaws.com/nyc-tlc/trip+data/yellow_tripdata_2019-01.csv\n",
            "Resolving s3.amazonaws.com (s3.amazonaws.com)... 52.216.227.227\n",
            "Connecting to s3.amazonaws.com (s3.amazonaws.com)|52.216.227.227|:443... connected.\n",
            "HTTP request sent, awaiting response... 200 OK\n",
            "Length: 687088084 (655M) [text/csv]\n",
            "Saving to: ‘yellow_tripdata_2019-01.csv.1’\n",
            "\n",
            "yellow_tripdata_201 100%[===================>] 655.26M  83.2MB/s    in 7.4s    \n",
            "\n",
            "2020-01-15 16:00:43 (88.5 MB/s) - ‘yellow_tripdata_2019-01.csv.1’ saved [687088084/687088084]\n",
            "\n"
          ],
          "name": "stdout"
        }
      ]
    },
    {
      "cell_type": "markdown",
      "metadata": {
        "id": "gxWXdQ3bp9r2",
        "colab_type": "text"
      },
      "source": [
        "# Data PreProcessing"
      ]
    },
    {
      "cell_type": "code",
      "metadata": {
        "id": "l_EKexDTpiVf",
        "colab_type": "code",
        "colab": {
          "base_uri": "https://localhost:8080/",
          "height": 209
        },
        "outputId": "4a3ab0fe-9e16-43f9-c784-4f6f8da8b560"
      },
      "source": [
        "data = pd.read_csv('/content/yellow_tripdata_2019-01.csv')\n",
        "data.head()"
      ],
      "execution_count": 27,
      "outputs": [
        {
          "output_type": "execute_result",
          "data": {
            "text/html": [
              "<div>\n",
              "<style scoped>\n",
              "    .dataframe tbody tr th:only-of-type {\n",
              "        vertical-align: middle;\n",
              "    }\n",
              "\n",
              "    .dataframe tbody tr th {\n",
              "        vertical-align: top;\n",
              "    }\n",
              "\n",
              "    .dataframe thead th {\n",
              "        text-align: right;\n",
              "    }\n",
              "</style>\n",
              "<table border=\"1\" class=\"dataframe\">\n",
              "  <thead>\n",
              "    <tr style=\"text-align: right;\">\n",
              "      <th></th>\n",
              "      <th>VendorID</th>\n",
              "      <th>tpep_pickup_datetime</th>\n",
              "      <th>tpep_dropoff_datetime</th>\n",
              "      <th>passenger_count</th>\n",
              "      <th>trip_distance</th>\n",
              "      <th>RatecodeID</th>\n",
              "      <th>store_and_fwd_flag</th>\n",
              "      <th>PULocationID</th>\n",
              "      <th>DOLocationID</th>\n",
              "      <th>payment_type</th>\n",
              "      <th>fare_amount</th>\n",
              "      <th>extra</th>\n",
              "      <th>mta_tax</th>\n",
              "      <th>tip_amount</th>\n",
              "      <th>tolls_amount</th>\n",
              "      <th>improvement_surcharge</th>\n",
              "      <th>total_amount</th>\n",
              "      <th>congestion_surcharge</th>\n",
              "    </tr>\n",
              "  </thead>\n",
              "  <tbody>\n",
              "    <tr>\n",
              "      <th>0</th>\n",
              "      <td>1</td>\n",
              "      <td>2019-01-01 00:46:40</td>\n",
              "      <td>2019-01-01 00:53:20</td>\n",
              "      <td>1</td>\n",
              "      <td>1.5</td>\n",
              "      <td>1</td>\n",
              "      <td>N</td>\n",
              "      <td>151</td>\n",
              "      <td>239</td>\n",
              "      <td>1</td>\n",
              "      <td>7.0</td>\n",
              "      <td>0.5</td>\n",
              "      <td>0.5</td>\n",
              "      <td>1.65</td>\n",
              "      <td>0.0</td>\n",
              "      <td>0.3</td>\n",
              "      <td>9.95</td>\n",
              "      <td>NaN</td>\n",
              "    </tr>\n",
              "    <tr>\n",
              "      <th>1</th>\n",
              "      <td>1</td>\n",
              "      <td>2019-01-01 00:59:47</td>\n",
              "      <td>2019-01-01 01:18:59</td>\n",
              "      <td>1</td>\n",
              "      <td>2.6</td>\n",
              "      <td>1</td>\n",
              "      <td>N</td>\n",
              "      <td>239</td>\n",
              "      <td>246</td>\n",
              "      <td>1</td>\n",
              "      <td>14.0</td>\n",
              "      <td>0.5</td>\n",
              "      <td>0.5</td>\n",
              "      <td>1.00</td>\n",
              "      <td>0.0</td>\n",
              "      <td>0.3</td>\n",
              "      <td>16.30</td>\n",
              "      <td>NaN</td>\n",
              "    </tr>\n",
              "    <tr>\n",
              "      <th>2</th>\n",
              "      <td>2</td>\n",
              "      <td>2018-12-21 13:48:30</td>\n",
              "      <td>2018-12-21 13:52:40</td>\n",
              "      <td>3</td>\n",
              "      <td>0.0</td>\n",
              "      <td>1</td>\n",
              "      <td>N</td>\n",
              "      <td>236</td>\n",
              "      <td>236</td>\n",
              "      <td>1</td>\n",
              "      <td>4.5</td>\n",
              "      <td>0.5</td>\n",
              "      <td>0.5</td>\n",
              "      <td>0.00</td>\n",
              "      <td>0.0</td>\n",
              "      <td>0.3</td>\n",
              "      <td>5.80</td>\n",
              "      <td>NaN</td>\n",
              "    </tr>\n",
              "    <tr>\n",
              "      <th>3</th>\n",
              "      <td>2</td>\n",
              "      <td>2018-11-28 15:52:25</td>\n",
              "      <td>2018-11-28 15:55:45</td>\n",
              "      <td>5</td>\n",
              "      <td>0.0</td>\n",
              "      <td>1</td>\n",
              "      <td>N</td>\n",
              "      <td>193</td>\n",
              "      <td>193</td>\n",
              "      <td>2</td>\n",
              "      <td>3.5</td>\n",
              "      <td>0.5</td>\n",
              "      <td>0.5</td>\n",
              "      <td>0.00</td>\n",
              "      <td>0.0</td>\n",
              "      <td>0.3</td>\n",
              "      <td>7.55</td>\n",
              "      <td>NaN</td>\n",
              "    </tr>\n",
              "    <tr>\n",
              "      <th>4</th>\n",
              "      <td>2</td>\n",
              "      <td>2018-11-28 15:56:57</td>\n",
              "      <td>2018-11-28 15:58:33</td>\n",
              "      <td>5</td>\n",
              "      <td>0.0</td>\n",
              "      <td>2</td>\n",
              "      <td>N</td>\n",
              "      <td>193</td>\n",
              "      <td>193</td>\n",
              "      <td>2</td>\n",
              "      <td>52.0</td>\n",
              "      <td>0.0</td>\n",
              "      <td>0.5</td>\n",
              "      <td>0.00</td>\n",
              "      <td>0.0</td>\n",
              "      <td>0.3</td>\n",
              "      <td>55.55</td>\n",
              "      <td>NaN</td>\n",
              "    </tr>\n",
              "  </tbody>\n",
              "</table>\n",
              "</div>"
            ],
            "text/plain": [
              "   VendorID tpep_pickup_datetime  ... total_amount  congestion_surcharge\n",
              "0         1  2019-01-01 00:46:40  ...         9.95                   NaN\n",
              "1         1  2019-01-01 00:59:47  ...        16.30                   NaN\n",
              "2         2  2018-12-21 13:48:30  ...         5.80                   NaN\n",
              "3         2  2018-11-28 15:52:25  ...         7.55                   NaN\n",
              "4         2  2018-11-28 15:56:57  ...        55.55                   NaN\n",
              "\n",
              "[5 rows x 18 columns]"
            ]
          },
          "metadata": {
            "tags": []
          },
          "execution_count": 27
        }
      ]
    },
    {
      "cell_type": "code",
      "metadata": {
        "id": "FavxWalnpv4D",
        "colab_type": "code",
        "colab": {
          "base_uri": "https://localhost:8080/",
          "height": 430
        },
        "outputId": "60c13e72-68d5-402a-ba45-ab5b994e58cb"
      },
      "source": [
        "data.info()"
      ],
      "execution_count": 28,
      "outputs": [
        {
          "output_type": "stream",
          "text": [
            "<class 'pandas.core.frame.DataFrame'>\n",
            "RangeIndex: 7667792 entries, 0 to 7667791\n",
            "Data columns (total 18 columns):\n",
            "VendorID                 int64\n",
            "tpep_pickup_datetime     object\n",
            "tpep_dropoff_datetime    object\n",
            "passenger_count          int64\n",
            "trip_distance            float64\n",
            "RatecodeID               int64\n",
            "store_and_fwd_flag       object\n",
            "PULocationID             int64\n",
            "DOLocationID             int64\n",
            "payment_type             int64\n",
            "fare_amount              float64\n",
            "extra                    float64\n",
            "mta_tax                  float64\n",
            "tip_amount               float64\n",
            "tolls_amount             float64\n",
            "improvement_surcharge    float64\n",
            "total_amount             float64\n",
            "congestion_surcharge     float64\n",
            "dtypes: float64(9), int64(6), object(3)\n",
            "memory usage: 1.0+ GB\n"
          ],
          "name": "stdout"
        }
      ]
    },
    {
      "cell_type": "markdown",
      "metadata": {
        "id": "IwVFe5pWqC9U",
        "colab_type": "text"
      },
      "source": [
        "- Check for Missing Value"
      ]
    },
    {
      "cell_type": "code",
      "metadata": {
        "id": "t_YUvtkNp7Fv",
        "colab_type": "code",
        "colab": {
          "base_uri": "https://localhost:8080/",
          "height": 358
        },
        "outputId": "3696b8e1-9aaa-4bd1-ef23-447cd876c8ec"
      },
      "source": [
        "data.isnull().sum()"
      ],
      "execution_count": 29,
      "outputs": [
        {
          "output_type": "execute_result",
          "data": {
            "text/plain": [
              "VendorID                       0\n",
              "tpep_pickup_datetime           0\n",
              "tpep_dropoff_datetime          0\n",
              "passenger_count                0\n",
              "trip_distance                  0\n",
              "RatecodeID                     0\n",
              "store_and_fwd_flag             0\n",
              "PULocationID                   0\n",
              "DOLocationID                   0\n",
              "payment_type                   0\n",
              "fare_amount                    0\n",
              "extra                          0\n",
              "mta_tax                        0\n",
              "tip_amount                     0\n",
              "tolls_amount                   0\n",
              "improvement_surcharge          0\n",
              "total_amount                   0\n",
              "congestion_surcharge     4855978\n",
              "dtype: int64"
            ]
          },
          "metadata": {
            "tags": []
          },
          "execution_count": 29
        }
      ]
    },
    {
      "cell_type": "markdown",
      "metadata": {
        "id": "OrOiqw2sqM93",
        "colab_type": "text"
      },
      "source": [
        "- Apart from congestion surchage, there are no missing values. \n",
        "- Drop the column becuase over 50% of it's content are missing."
      ]
    },
    {
      "cell_type": "code",
      "metadata": {
        "id": "fzKORoCoqLVG",
        "colab_type": "code",
        "colab": {}
      },
      "source": [
        "#drop congestion surchage\n",
        "data = data.drop(['congestion_surcharge'], axis=1)"
      ],
      "execution_count": 0,
      "outputs": []
    },
    {
      "cell_type": "code",
      "metadata": {
        "id": "2KyGSca5qrV0",
        "colab_type": "code",
        "colab": {
          "base_uri": "https://localhost:8080/",
          "height": 34
        },
        "outputId": "a38e294f-9fc5-4168-b794-60b8c9572975"
      },
      "source": [
        "data.shape"
      ],
      "execution_count": 31,
      "outputs": [
        {
          "output_type": "execute_result",
          "data": {
            "text/plain": [
              "(7667792, 17)"
            ]
          },
          "metadata": {
            "tags": []
          },
          "execution_count": 31
        }
      ]
    },
    {
      "cell_type": "markdown",
      "metadata": {
        "id": "4FLdhHoTq6OZ",
        "colab_type": "text"
      },
      "source": [
        "- Over 7 million rows and 17 columns"
      ]
    },
    {
      "cell_type": "markdown",
      "metadata": {
        "id": "j4lB6lPMrHE3",
        "colab_type": "text"
      },
      "source": [
        "Handling Datetime Columns\n",
        "\n",
        "- Convert the drop off and pickup to datetime\n",
        "- Extract day, date, and time from the datetime columns\n",
        "- Drop off datetime columns."
      ]
    },
    {
      "cell_type": "code",
      "metadata": {
        "id": "apNI7JYCq5BC",
        "colab_type": "code",
        "colab": {}
      },
      "source": [
        "data['tpep_dropoff_datetime'] = pd.to_datetime(data['tpep_dropoff_datetime'])\n",
        "data['tpep_pickup_datetime'] = pd.to_datetime(data['tpep_pickup_datetime'])\n"
      ],
      "execution_count": 0,
      "outputs": []
    },
    {
      "cell_type": "code",
      "metadata": {
        "id": "QFIMzU52v0YE",
        "colab_type": "code",
        "colab": {}
      },
      "source": [
        "#data['dropoff_day'] = data['tpep_dropoff_datetime'].dt.day\n",
        "data['dropoff_date'] = data['tpep_dropoff_datetime'].dt.date\n",
        "data['dropoff_time'] = data['tpep_dropoff_datetime'].dt.time\n",
        "\n",
        "#data['pickup_day'] = data['tpep_pickup_datetime'].dt.day\n",
        "data['pickup_date'] = data['tpep_pickup_datetime'].dt.date\n",
        "data['pickup_time'] = data['tpep_pickup_datetime'].dt.time"
      ],
      "execution_count": 0,
      "outputs": []
    },
    {
      "cell_type": "code",
      "metadata": {
        "id": "B8FD8g1fwyCZ",
        "colab_type": "code",
        "colab": {}
      },
      "source": [
        "data = data.drop(data[['tpep_dropoff_datetime']], axis=1)\n",
        "data = data.drop(data[['tpep_pickup_datetime']], axis=1)"
      ],
      "execution_count": 0,
      "outputs": []
    },
    {
      "cell_type": "markdown",
      "metadata": {
        "id": "iqTvZu9Gr7VC",
        "colab_type": "text"
      },
      "source": [
        "- Handling Outliers\n",
        "- From the analysis from the analysis notebook. There where outliers in both the trip distance and fare amount.\n"
      ]
    },
    {
      "cell_type": "code",
      "metadata": {
        "id": "gTyuaqswrX21",
        "colab_type": "code",
        "colab": {}
      },
      "source": [
        "data.drop(data[data['fare_amount'] > 5000].index, axis=0, inplace=True)\n",
        "data.drop(data[data['trip_distance'] > 200].index, axis=0, inplace=True)\n"
      ],
      "execution_count": 0,
      "outputs": []
    },
    {
      "cell_type": "code",
      "metadata": {
        "id": "4Fe9DVUmshRr",
        "colab_type": "code",
        "colab": {}
      },
      "source": [
        "data.drop(data[(data['tip_amount'] > 0) & (data['trip_distance'] == 0)].index, axis=0, inplace=True)"
      ],
      "execution_count": 0,
      "outputs": []
    },
    {
      "cell_type": "code",
      "metadata": {
        "id": "A197HJuqtAnM",
        "colab_type": "code",
        "colab": {
          "base_uri": "https://localhost:8080/",
          "height": 34
        },
        "outputId": "0ec2890b-9d3f-4f93-afbb-f7305101779d"
      },
      "source": [
        "data.shape"
      ],
      "execution_count": 37,
      "outputs": [
        {
          "output_type": "execute_result",
          "data": {
            "text/plain": [
              "(7648755, 19)"
            ]
          },
          "metadata": {
            "tags": []
          },
          "execution_count": 37
        }
      ]
    },
    {
      "cell_type": "markdown",
      "metadata": {
        "id": "m95_nLaZy4M-",
        "colab_type": "text"
      },
      "source": [
        "# Feature Engineering and Selection"
      ]
    },
    {
      "cell_type": "code",
      "metadata": {
        "id": "R62CI_X5tE61",
        "colab_type": "code",
        "colab": {
          "base_uri": "https://localhost:8080/",
          "height": 209
        },
        "outputId": "4759a6ba-ac4a-405c-deda-16b020e396af"
      },
      "source": [
        "data.head()"
      ],
      "execution_count": 38,
      "outputs": [
        {
          "output_type": "execute_result",
          "data": {
            "text/html": [
              "<div>\n",
              "<style scoped>\n",
              "    .dataframe tbody tr th:only-of-type {\n",
              "        vertical-align: middle;\n",
              "    }\n",
              "\n",
              "    .dataframe tbody tr th {\n",
              "        vertical-align: top;\n",
              "    }\n",
              "\n",
              "    .dataframe thead th {\n",
              "        text-align: right;\n",
              "    }\n",
              "</style>\n",
              "<table border=\"1\" class=\"dataframe\">\n",
              "  <thead>\n",
              "    <tr style=\"text-align: right;\">\n",
              "      <th></th>\n",
              "      <th>VendorID</th>\n",
              "      <th>passenger_count</th>\n",
              "      <th>trip_distance</th>\n",
              "      <th>RatecodeID</th>\n",
              "      <th>store_and_fwd_flag</th>\n",
              "      <th>PULocationID</th>\n",
              "      <th>DOLocationID</th>\n",
              "      <th>payment_type</th>\n",
              "      <th>fare_amount</th>\n",
              "      <th>extra</th>\n",
              "      <th>mta_tax</th>\n",
              "      <th>tip_amount</th>\n",
              "      <th>tolls_amount</th>\n",
              "      <th>improvement_surcharge</th>\n",
              "      <th>total_amount</th>\n",
              "      <th>dropoff_date</th>\n",
              "      <th>dropoff_time</th>\n",
              "      <th>pickup_date</th>\n",
              "      <th>pickup_time</th>\n",
              "    </tr>\n",
              "  </thead>\n",
              "  <tbody>\n",
              "    <tr>\n",
              "      <th>0</th>\n",
              "      <td>1</td>\n",
              "      <td>1</td>\n",
              "      <td>1.5</td>\n",
              "      <td>1</td>\n",
              "      <td>N</td>\n",
              "      <td>151</td>\n",
              "      <td>239</td>\n",
              "      <td>1</td>\n",
              "      <td>7.0</td>\n",
              "      <td>0.5</td>\n",
              "      <td>0.5</td>\n",
              "      <td>1.65</td>\n",
              "      <td>0.0</td>\n",
              "      <td>0.3</td>\n",
              "      <td>9.95</td>\n",
              "      <td>2019-01-01</td>\n",
              "      <td>00:53:20</td>\n",
              "      <td>2019-01-01</td>\n",
              "      <td>00:46:40</td>\n",
              "    </tr>\n",
              "    <tr>\n",
              "      <th>1</th>\n",
              "      <td>1</td>\n",
              "      <td>1</td>\n",
              "      <td>2.6</td>\n",
              "      <td>1</td>\n",
              "      <td>N</td>\n",
              "      <td>239</td>\n",
              "      <td>246</td>\n",
              "      <td>1</td>\n",
              "      <td>14.0</td>\n",
              "      <td>0.5</td>\n",
              "      <td>0.5</td>\n",
              "      <td>1.00</td>\n",
              "      <td>0.0</td>\n",
              "      <td>0.3</td>\n",
              "      <td>16.30</td>\n",
              "      <td>2019-01-01</td>\n",
              "      <td>01:18:59</td>\n",
              "      <td>2019-01-01</td>\n",
              "      <td>00:59:47</td>\n",
              "    </tr>\n",
              "    <tr>\n",
              "      <th>2</th>\n",
              "      <td>2</td>\n",
              "      <td>3</td>\n",
              "      <td>0.0</td>\n",
              "      <td>1</td>\n",
              "      <td>N</td>\n",
              "      <td>236</td>\n",
              "      <td>236</td>\n",
              "      <td>1</td>\n",
              "      <td>4.5</td>\n",
              "      <td>0.5</td>\n",
              "      <td>0.5</td>\n",
              "      <td>0.00</td>\n",
              "      <td>0.0</td>\n",
              "      <td>0.3</td>\n",
              "      <td>5.80</td>\n",
              "      <td>2018-12-21</td>\n",
              "      <td>13:52:40</td>\n",
              "      <td>2018-12-21</td>\n",
              "      <td>13:48:30</td>\n",
              "    </tr>\n",
              "    <tr>\n",
              "      <th>3</th>\n",
              "      <td>2</td>\n",
              "      <td>5</td>\n",
              "      <td>0.0</td>\n",
              "      <td>1</td>\n",
              "      <td>N</td>\n",
              "      <td>193</td>\n",
              "      <td>193</td>\n",
              "      <td>2</td>\n",
              "      <td>3.5</td>\n",
              "      <td>0.5</td>\n",
              "      <td>0.5</td>\n",
              "      <td>0.00</td>\n",
              "      <td>0.0</td>\n",
              "      <td>0.3</td>\n",
              "      <td>7.55</td>\n",
              "      <td>2018-11-28</td>\n",
              "      <td>15:55:45</td>\n",
              "      <td>2018-11-28</td>\n",
              "      <td>15:52:25</td>\n",
              "    </tr>\n",
              "    <tr>\n",
              "      <th>4</th>\n",
              "      <td>2</td>\n",
              "      <td>5</td>\n",
              "      <td>0.0</td>\n",
              "      <td>2</td>\n",
              "      <td>N</td>\n",
              "      <td>193</td>\n",
              "      <td>193</td>\n",
              "      <td>2</td>\n",
              "      <td>52.0</td>\n",
              "      <td>0.0</td>\n",
              "      <td>0.5</td>\n",
              "      <td>0.00</td>\n",
              "      <td>0.0</td>\n",
              "      <td>0.3</td>\n",
              "      <td>55.55</td>\n",
              "      <td>2018-11-28</td>\n",
              "      <td>15:58:33</td>\n",
              "      <td>2018-11-28</td>\n",
              "      <td>15:56:57</td>\n",
              "    </tr>\n",
              "  </tbody>\n",
              "</table>\n",
              "</div>"
            ],
            "text/plain": [
              "   VendorID  passenger_count  ...  pickup_date  pickup_time\n",
              "0         1                1  ...   2019-01-01     00:46:40\n",
              "1         1                1  ...   2019-01-01     00:59:47\n",
              "2         2                3  ...   2018-12-21     13:48:30\n",
              "3         2                5  ...   2018-11-28     15:52:25\n",
              "4         2                5  ...   2018-11-28     15:56:57\n",
              "\n",
              "[5 rows x 19 columns]"
            ]
          },
          "metadata": {
            "tags": []
          },
          "execution_count": 38
        }
      ]
    },
    {
      "cell_type": "markdown",
      "metadata": {
        "id": "yWL9HXtX9wxJ",
        "colab_type": "text"
      },
      "source": [
        "- Check for Cardinality\n",
        "  - No cardinal column in the data"
      ]
    },
    {
      "cell_type": "code",
      "metadata": {
        "id": "cTUnaV_e1oc4",
        "colab_type": "code",
        "colab": {
          "base_uri": "https://localhost:8080/",
          "height": 376
        },
        "outputId": "5b2566a6-5302-4a8a-b676-866c6320bbf8"
      },
      "source": [
        "data.nunique().sort_values()"
      ],
      "execution_count": 39,
      "outputs": [
        {
          "output_type": "execute_result",
          "data": {
            "text/plain": [
              "store_and_fwd_flag           2\n",
              "VendorID                     3\n",
              "improvement_surcharge        4\n",
              "payment_type                 4\n",
              "RatecodeID                   7\n",
              "passenger_count             10\n",
              "mta_tax                     10\n",
              "extra                       35\n",
              "pickup_date                 58\n",
              "dropoff_date                60\n",
              "DOLocationID               261\n",
              "PULocationID               263\n",
              "tolls_amount               880\n",
              "tip_amount                3223\n",
              "trip_distance             4385\n",
              "fare_amount               6102\n",
              "total_amount             11885\n",
              "dropoff_time             86400\n",
              "pickup_time              86400\n",
              "dtype: int64"
            ]
          },
          "metadata": {
            "tags": []
          },
          "execution_count": 39
        }
      ]
    },
    {
      "cell_type": "code",
      "metadata": {
        "id": "IE0A0GDh9irY",
        "colab_type": "code",
        "colab": {}
      },
      "source": [
        ""
      ],
      "execution_count": 0,
      "outputs": []
    }
  ]
}