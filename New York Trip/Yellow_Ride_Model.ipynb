{
  "nbformat": 4,
  "nbformat_minor": 0,
  "metadata": {
    "colab": {
      "name": "trip_analysis",
      "provenance": [],
      "collapsed_sections": [],
      "machine_shape": "hm"
    },
    "kernelspec": {
      "name": "python3",
      "display_name": "Python 3"
    },
    "accelerator": "GPU"
  },
  "cells": [
    {
      "cell_type": "markdown",
      "metadata": {
        "id": "Ea3fohOiUJam",
        "colab_type": "text"
      },
      "source": [
        "# Import Packages"
      ]
    },
    {
      "cell_type": "code",
      "metadata": {
        "id": "9joxugMimDiK",
        "colab_type": "code",
        "colab": {}
      },
      "source": [
        "import pandas as pd\n",
        "import numpy as np\n",
        "import seaborn as sns\n",
        "import matplotlib.pyplot as plt\n",
        "import plotly.graph_objects as go\n",
        "from sklearn.preprocessing import LabelEncoder, StandardScaler\n",
        "from sklearn.model_selection import train_test_split, GridSearchCV\n",
        "from sklearn.linear_model import LinearRegression, Lasso, Ridge, ElasticNet, LassoCV\n",
        "from sklearn.metrics import mean_squared_error\n",
        "from sklearn.model_selection import cross_val_score\n",
        "from sklearn.svm import SVR\n",
        "from sklearn.ensemble import GradientBoostingRegressor\n",
        "from sklearn.feature_selection import RFE"
      ],
      "execution_count": 0,
      "outputs": []
    },
    {
      "cell_type": "code",
      "metadata": {
        "id": "addcTn0MpguN",
        "colab_type": "code",
        "outputId": "4bd248b6-ce06-48ed-cb4f-1304d861248b",
        "colab": {
          "base_uri": "https://localhost:8080/",
          "height": 214
        }
      },
      "source": [
        "!wget https://s3.amazonaws.com/nyc-tlc/trip+data/yellow_tripdata_2019-01.csv"
      ],
      "execution_count": 2,
      "outputs": [
        {
          "output_type": "stream",
          "text": [
            "--2020-01-28 10:16:25--  https://s3.amazonaws.com/nyc-tlc/trip+data/yellow_tripdata_2019-01.csv\n",
            "Resolving s3.amazonaws.com (s3.amazonaws.com)... 52.217.1.166\n",
            "Connecting to s3.amazonaws.com (s3.amazonaws.com)|52.217.1.166|:443... connected.\n",
            "HTTP request sent, awaiting response... 200 OK\n",
            "Length: 687088084 (655M) [text/csv]\n",
            "Saving to: ‘yellow_tripdata_2019-01.csv’\n",
            "\n",
            "yellow_tripdata_201 100%[===================>] 655.26M  88.9MB/s    in 7.9s    \n",
            "\n",
            "2020-01-28 10:16:33 (83.4 MB/s) - ‘yellow_tripdata_2019-01.csv’ saved [687088084/687088084]\n",
            "\n"
          ],
          "name": "stdout"
        }
      ]
    },
    {
      "cell_type": "markdown",
      "metadata": {
        "id": "gxWXdQ3bp9r2",
        "colab_type": "text"
      },
      "source": [
        "# Data PreProcessing"
      ]
    },
    {
      "cell_type": "code",
      "metadata": {
        "id": "l_EKexDTpiVf",
        "colab_type": "code",
        "outputId": "a912ce1c-a9ae-4aff-c319-264a545b476b",
        "colab": {
          "base_uri": "https://localhost:8080/",
          "height": 209
        }
      },
      "source": [
        "data = pd.read_csv('/content/yellow_tripdata_2019-01.csv')\n",
        "data.head()"
      ],
      "execution_count": 3,
      "outputs": [
        {
          "output_type": "execute_result",
          "data": {
            "text/html": [
              "<div>\n",
              "<style scoped>\n",
              "    .dataframe tbody tr th:only-of-type {\n",
              "        vertical-align: middle;\n",
              "    }\n",
              "\n",
              "    .dataframe tbody tr th {\n",
              "        vertical-align: top;\n",
              "    }\n",
              "\n",
              "    .dataframe thead th {\n",
              "        text-align: right;\n",
              "    }\n",
              "</style>\n",
              "<table border=\"1\" class=\"dataframe\">\n",
              "  <thead>\n",
              "    <tr style=\"text-align: right;\">\n",
              "      <th></th>\n",
              "      <th>VendorID</th>\n",
              "      <th>tpep_pickup_datetime</th>\n",
              "      <th>tpep_dropoff_datetime</th>\n",
              "      <th>passenger_count</th>\n",
              "      <th>trip_distance</th>\n",
              "      <th>RatecodeID</th>\n",
              "      <th>store_and_fwd_flag</th>\n",
              "      <th>PULocationID</th>\n",
              "      <th>DOLocationID</th>\n",
              "      <th>payment_type</th>\n",
              "      <th>fare_amount</th>\n",
              "      <th>extra</th>\n",
              "      <th>mta_tax</th>\n",
              "      <th>tip_amount</th>\n",
              "      <th>tolls_amount</th>\n",
              "      <th>improvement_surcharge</th>\n",
              "      <th>total_amount</th>\n",
              "      <th>congestion_surcharge</th>\n",
              "    </tr>\n",
              "  </thead>\n",
              "  <tbody>\n",
              "    <tr>\n",
              "      <th>0</th>\n",
              "      <td>1</td>\n",
              "      <td>2019-01-01 00:46:40</td>\n",
              "      <td>2019-01-01 00:53:20</td>\n",
              "      <td>1</td>\n",
              "      <td>1.5</td>\n",
              "      <td>1</td>\n",
              "      <td>N</td>\n",
              "      <td>151</td>\n",
              "      <td>239</td>\n",
              "      <td>1</td>\n",
              "      <td>7.0</td>\n",
              "      <td>0.5</td>\n",
              "      <td>0.5</td>\n",
              "      <td>1.65</td>\n",
              "      <td>0.0</td>\n",
              "      <td>0.3</td>\n",
              "      <td>9.95</td>\n",
              "      <td>NaN</td>\n",
              "    </tr>\n",
              "    <tr>\n",
              "      <th>1</th>\n",
              "      <td>1</td>\n",
              "      <td>2019-01-01 00:59:47</td>\n",
              "      <td>2019-01-01 01:18:59</td>\n",
              "      <td>1</td>\n",
              "      <td>2.6</td>\n",
              "      <td>1</td>\n",
              "      <td>N</td>\n",
              "      <td>239</td>\n",
              "      <td>246</td>\n",
              "      <td>1</td>\n",
              "      <td>14.0</td>\n",
              "      <td>0.5</td>\n",
              "      <td>0.5</td>\n",
              "      <td>1.00</td>\n",
              "      <td>0.0</td>\n",
              "      <td>0.3</td>\n",
              "      <td>16.30</td>\n",
              "      <td>NaN</td>\n",
              "    </tr>\n",
              "    <tr>\n",
              "      <th>2</th>\n",
              "      <td>2</td>\n",
              "      <td>2018-12-21 13:48:30</td>\n",
              "      <td>2018-12-21 13:52:40</td>\n",
              "      <td>3</td>\n",
              "      <td>0.0</td>\n",
              "      <td>1</td>\n",
              "      <td>N</td>\n",
              "      <td>236</td>\n",
              "      <td>236</td>\n",
              "      <td>1</td>\n",
              "      <td>4.5</td>\n",
              "      <td>0.5</td>\n",
              "      <td>0.5</td>\n",
              "      <td>0.00</td>\n",
              "      <td>0.0</td>\n",
              "      <td>0.3</td>\n",
              "      <td>5.80</td>\n",
              "      <td>NaN</td>\n",
              "    </tr>\n",
              "    <tr>\n",
              "      <th>3</th>\n",
              "      <td>2</td>\n",
              "      <td>2018-11-28 15:52:25</td>\n",
              "      <td>2018-11-28 15:55:45</td>\n",
              "      <td>5</td>\n",
              "      <td>0.0</td>\n",
              "      <td>1</td>\n",
              "      <td>N</td>\n",
              "      <td>193</td>\n",
              "      <td>193</td>\n",
              "      <td>2</td>\n",
              "      <td>3.5</td>\n",
              "      <td>0.5</td>\n",
              "      <td>0.5</td>\n",
              "      <td>0.00</td>\n",
              "      <td>0.0</td>\n",
              "      <td>0.3</td>\n",
              "      <td>7.55</td>\n",
              "      <td>NaN</td>\n",
              "    </tr>\n",
              "    <tr>\n",
              "      <th>4</th>\n",
              "      <td>2</td>\n",
              "      <td>2018-11-28 15:56:57</td>\n",
              "      <td>2018-11-28 15:58:33</td>\n",
              "      <td>5</td>\n",
              "      <td>0.0</td>\n",
              "      <td>2</td>\n",
              "      <td>N</td>\n",
              "      <td>193</td>\n",
              "      <td>193</td>\n",
              "      <td>2</td>\n",
              "      <td>52.0</td>\n",
              "      <td>0.0</td>\n",
              "      <td>0.5</td>\n",
              "      <td>0.00</td>\n",
              "      <td>0.0</td>\n",
              "      <td>0.3</td>\n",
              "      <td>55.55</td>\n",
              "      <td>NaN</td>\n",
              "    </tr>\n",
              "  </tbody>\n",
              "</table>\n",
              "</div>"
            ],
            "text/plain": [
              "   VendorID tpep_pickup_datetime  ... total_amount  congestion_surcharge\n",
              "0         1  2019-01-01 00:46:40  ...         9.95                   NaN\n",
              "1         1  2019-01-01 00:59:47  ...        16.30                   NaN\n",
              "2         2  2018-12-21 13:48:30  ...         5.80                   NaN\n",
              "3         2  2018-11-28 15:52:25  ...         7.55                   NaN\n",
              "4         2  2018-11-28 15:56:57  ...        55.55                   NaN\n",
              "\n",
              "[5 rows x 18 columns]"
            ]
          },
          "metadata": {
            "tags": []
          },
          "execution_count": 3
        }
      ]
    },
    {
      "cell_type": "code",
      "metadata": {
        "id": "FavxWalnpv4D",
        "colab_type": "code",
        "outputId": "33afb3a1-65ed-4e48-d0bc-7f7b15353314",
        "colab": {
          "base_uri": "https://localhost:8080/",
          "height": 430
        }
      },
      "source": [
        "data.info()"
      ],
      "execution_count": 4,
      "outputs": [
        {
          "output_type": "stream",
          "text": [
            "<class 'pandas.core.frame.DataFrame'>\n",
            "RangeIndex: 7667792 entries, 0 to 7667791\n",
            "Data columns (total 18 columns):\n",
            "VendorID                 int64\n",
            "tpep_pickup_datetime     object\n",
            "tpep_dropoff_datetime    object\n",
            "passenger_count          int64\n",
            "trip_distance            float64\n",
            "RatecodeID               int64\n",
            "store_and_fwd_flag       object\n",
            "PULocationID             int64\n",
            "DOLocationID             int64\n",
            "payment_type             int64\n",
            "fare_amount              float64\n",
            "extra                    float64\n",
            "mta_tax                  float64\n",
            "tip_amount               float64\n",
            "tolls_amount             float64\n",
            "improvement_surcharge    float64\n",
            "total_amount             float64\n",
            "congestion_surcharge     float64\n",
            "dtypes: float64(9), int64(6), object(3)\n",
            "memory usage: 1.0+ GB\n"
          ],
          "name": "stdout"
        }
      ]
    },
    {
      "cell_type": "markdown",
      "metadata": {
        "id": "IwVFe5pWqC9U",
        "colab_type": "text"
      },
      "source": [
        "- Check for Missing Value"
      ]
    },
    {
      "cell_type": "code",
      "metadata": {
        "id": "t_YUvtkNp7Fv",
        "colab_type": "code",
        "outputId": "c02926a2-1f02-43a4-8154-1d258350ca78",
        "colab": {
          "base_uri": "https://localhost:8080/",
          "height": 358
        }
      },
      "source": [
        "data.isnull().sum()"
      ],
      "execution_count": 5,
      "outputs": [
        {
          "output_type": "execute_result",
          "data": {
            "text/plain": [
              "VendorID                       0\n",
              "tpep_pickup_datetime           0\n",
              "tpep_dropoff_datetime          0\n",
              "passenger_count                0\n",
              "trip_distance                  0\n",
              "RatecodeID                     0\n",
              "store_and_fwd_flag             0\n",
              "PULocationID                   0\n",
              "DOLocationID                   0\n",
              "payment_type                   0\n",
              "fare_amount                    0\n",
              "extra                          0\n",
              "mta_tax                        0\n",
              "tip_amount                     0\n",
              "tolls_amount                   0\n",
              "improvement_surcharge          0\n",
              "total_amount                   0\n",
              "congestion_surcharge     4855978\n",
              "dtype: int64"
            ]
          },
          "metadata": {
            "tags": []
          },
          "execution_count": 5
        }
      ]
    },
    {
      "cell_type": "markdown",
      "metadata": {
        "id": "OrOiqw2sqM93",
        "colab_type": "text"
      },
      "source": [
        "- Apart from congestion surchage, there are no missing values. \n",
        "- Drop the column becuase over 50% of it's content are missing."
      ]
    },
    {
      "cell_type": "code",
      "metadata": {
        "id": "fzKORoCoqLVG",
        "colab_type": "code",
        "colab": {}
      },
      "source": [
        "#drop congestion surchage\n",
        "data = data.drop(['congestion_surcharge'], axis=1)"
      ],
      "execution_count": 0,
      "outputs": []
    },
    {
      "cell_type": "code",
      "metadata": {
        "id": "2KyGSca5qrV0",
        "colab_type": "code",
        "outputId": "8bbef630-5898-41dd-a24a-7e0e4d1112d1",
        "colab": {
          "base_uri": "https://localhost:8080/",
          "height": 34
        }
      },
      "source": [
        "data.shape"
      ],
      "execution_count": 7,
      "outputs": [
        {
          "output_type": "execute_result",
          "data": {
            "text/plain": [
              "(7667792, 17)"
            ]
          },
          "metadata": {
            "tags": []
          },
          "execution_count": 7
        }
      ]
    },
    {
      "cell_type": "markdown",
      "metadata": {
        "id": "4FLdhHoTq6OZ",
        "colab_type": "text"
      },
      "source": [
        "- Over 7 million rows and 17 columns"
      ]
    },
    {
      "cell_type": "code",
      "metadata": {
        "id": "apNI7JYCq5BC",
        "colab_type": "code",
        "colab": {}
      },
      "source": [
        "data['tpep_dropoff_datetime'] = pd.to_datetime(data['tpep_dropoff_datetime'])\n",
        "data['tpep_pickup_datetime'] = pd.to_datetime(data['tpep_pickup_datetime'])\n"
      ],
      "execution_count": 0,
      "outputs": []
    },
    {
      "cell_type": "markdown",
      "metadata": {
        "id": "iqTvZu9Gr7VC",
        "colab_type": "text"
      },
      "source": [
        "- Handling Outliers\n",
        "- From the analysis from the analysis notebook. There where outliers in both the trip distance and fare amount.\n"
      ]
    },
    {
      "cell_type": "code",
      "metadata": {
        "id": "gTyuaqswrX21",
        "colab_type": "code",
        "colab": {}
      },
      "source": [
        "data.drop(data[data['fare_amount'] > 5000].index, axis=0, inplace=True)\n",
        "data.drop(data[data['trip_distance'] > 200].index, axis=0, inplace=True)\n"
      ],
      "execution_count": 0,
      "outputs": []
    },
    {
      "cell_type": "markdown",
      "metadata": {
        "id": "9aBTAKFAlR1l",
        "colab_type": "text"
      },
      "source": [
        "- Drop data where the tip amount is greater than 0 but the trip distance is 0. These are possible outliers."
      ]
    },
    {
      "cell_type": "code",
      "metadata": {
        "id": "4Fe9DVUmshRr",
        "colab_type": "code",
        "colab": {}
      },
      "source": [
        "data.drop(data[(data['tip_amount'] > 0) & (data['trip_distance'] == 0)].index, axis=0, inplace=True)"
      ],
      "execution_count": 0,
      "outputs": []
    },
    {
      "cell_type": "code",
      "metadata": {
        "id": "A197HJuqtAnM",
        "colab_type": "code",
        "outputId": "e2811666-4ef8-4188-ba67-24b26a8c5b61",
        "colab": {
          "base_uri": "https://localhost:8080/",
          "height": 34
        }
      },
      "source": [
        "data.shape"
      ],
      "execution_count": 11,
      "outputs": [
        {
          "output_type": "execute_result",
          "data": {
            "text/plain": [
              "(7648755, 17)"
            ]
          },
          "metadata": {
            "tags": []
          },
          "execution_count": 11
        }
      ]
    },
    {
      "cell_type": "markdown",
      "metadata": {
        "id": "m95_nLaZy4M-",
        "colab_type": "text"
      },
      "source": [
        "# Feature Engineering and Selection"
      ]
    },
    {
      "cell_type": "markdown",
      "metadata": {
        "id": "dWyPAHpU7QC5",
        "colab_type": "text"
      },
      "source": [
        "Handling Datetime Columns\n",
        "\n",
        "- Convert the drop off and pickup to datetime\n",
        "- Extract day, date, and time and hour from the datetime columns\n",
        "- Drop off datetime columns."
      ]
    },
    {
      "cell_type": "code",
      "metadata": {
        "id": "rU4eQa7H7DpS",
        "colab_type": "code",
        "colab": {}
      },
      "source": [
        "#data['dropoff_day'] = data['tpep_dropoff_datetime'].dt.day\n",
        "data['dropoff_date'] = data['tpep_dropoff_datetime'].dt.date\n",
        "data['dropoff_time'] = data['tpep_dropoff_datetime'].dt.time\n",
        "data['dropoff_hour'] = data['tpep_dropoff_datetime'].dt.hour\n",
        "\n",
        "#data['pickup_day'] = data['tpep_pickup_datetime'].dt.day\n",
        "data['pickup_date'] = data['tpep_pickup_datetime'].dt.date\n",
        "data['pickup_time'] = data['tpep_pickup_datetime'].dt.time\n",
        "data['pickup_hour'] = data['tpep_pickup_datetime'].dt.hour"
      ],
      "execution_count": 0,
      "outputs": []
    },
    {
      "cell_type": "markdown",
      "metadata": {
        "id": "O_-Hv_CG7WrX",
        "colab_type": "text"
      },
      "source": [
        "- Categorize hour columns into time period(Morning, Night or Evening)\n",
        "- Drop the hour column."
      ]
    },
    {
      "cell_type": "code",
      "metadata": {
        "id": "NBVNt83Q7H3O",
        "colab_type": "code",
        "colab": {}
      },
      "source": [
        "bins = [0,6,12,16,20,24]\n",
        "time_period = ['Early Morning','Morning','Noon','Evening','Night']\n",
        "data['pickup_time_period'] = pd.cut(data['pickup_hour'], bins=bins, labels=time_period)\n",
        "data['dropoff_time_period'] = pd.cut(data['dropoff_hour'], bins=bins, labels=time_period)"
      ],
      "execution_count": 0,
      "outputs": []
    },
    {
      "cell_type": "code",
      "metadata": {
        "id": "at39_B0m7LDi",
        "colab_type": "code",
        "colab": {}
      },
      "source": [
        "data = data.drop(data[['tpep_dropoff_datetime']], axis=1)\n",
        "data = data.drop(data[['tpep_pickup_datetime']], axis=1)\n",
        "data = data.drop(data[['pickup_hour']], axis=1)\n",
        "data = data.drop(data[['dropoff_hour']], axis=1)"
      ],
      "execution_count": 0,
      "outputs": []
    },
    {
      "cell_type": "markdown",
      "metadata": {
        "id": "7Noilhau8TGI",
        "colab_type": "text"
      },
      "source": [
        "- Drop data where the pickup date is greater than the dropoff date. This means the driver was picked up today and dropped off yesterday."
      ]
    },
    {
      "cell_type": "code",
      "metadata": {
        "id": "07xRuOue8R2g",
        "colab_type": "code",
        "colab": {}
      },
      "source": [
        "data.drop(data[data['pickup_date']> data['dropoff_date']].index, axis=0,inplace=True)"
      ],
      "execution_count": 0,
      "outputs": []
    },
    {
      "cell_type": "markdown",
      "metadata": {
        "id": "yWL9HXtX9wxJ",
        "colab_type": "text"
      },
      "source": [
        "- Check for Cardinality\n",
        "  - No cardinal column in the data"
      ]
    },
    {
      "cell_type": "code",
      "metadata": {
        "id": "cTUnaV_e1oc4",
        "colab_type": "code",
        "outputId": "3ee4ae00-8d7c-4008-ff9c-1fd347bd3b13",
        "colab": {
          "base_uri": "https://localhost:8080/",
          "height": 412
        }
      },
      "source": [
        "data.nunique().sort_values()"
      ],
      "execution_count": 16,
      "outputs": [
        {
          "output_type": "execute_result",
          "data": {
            "text/plain": [
              "store_and_fwd_flag           2\n",
              "VendorID                     3\n",
              "improvement_surcharge        4\n",
              "payment_type                 4\n",
              "pickup_time_period           5\n",
              "dropoff_time_period          5\n",
              "RatecodeID                   7\n",
              "passenger_count             10\n",
              "mta_tax                     10\n",
              "extra                       35\n",
              "dropoff_date                58\n",
              "pickup_date                 58\n",
              "DOLocationID               261\n",
              "PULocationID               263\n",
              "tolls_amount               880\n",
              "tip_amount                3223\n",
              "trip_distance             4385\n",
              "fare_amount               6102\n",
              "total_amount             11885\n",
              "dropoff_time             86400\n",
              "pickup_time              86400\n",
              "dtype: int64"
            ]
          },
          "metadata": {
            "tags": []
          },
          "execution_count": 16
        }
      ]
    },
    {
      "cell_type": "markdown",
      "metadata": {
        "id": "kD3PdEqnfjdx",
        "colab_type": "text"
      },
      "source": [
        "- Label Encode categorical Feature"
      ]
    },
    {
      "cell_type": "code",
      "metadata": {
        "id": "PxTExY_p-TTg",
        "colab_type": "code",
        "colab": {}
      },
      "source": [
        "#convert the time period columns to object\n",
        "data['pickup_time_period'] = data['pickup_time_period'].astype('str')\n",
        "data['dropoff_time_period'] = data['dropoff_time_period'].astype('str')"
      ],
      "execution_count": 0,
      "outputs": []
    },
    {
      "cell_type": "code",
      "metadata": {
        "id": "IE0A0GDh9irY",
        "colab_type": "code",
        "colab": {}
      },
      "source": [
        "col = ['store_and_fwd_flag', 'pickup_time_period', 'dropoff_time_period']\n",
        "\n",
        "encoder = LabelEncoder()\n",
        "for column in col:\n",
        "  data[column] = encoder.fit_transform(data[column])\n"
      ],
      "execution_count": 0,
      "outputs": []
    },
    {
      "cell_type": "code",
      "metadata": {
        "id": "twVTMNYPg5io",
        "colab_type": "code",
        "outputId": "5d58c53a-55f4-4816-c9ec-09eb6e1e90bb",
        "colab": {
          "base_uri": "https://localhost:8080/",
          "height": 209
        }
      },
      "source": [
        "data.head()"
      ],
      "execution_count": 19,
      "outputs": [
        {
          "output_type": "execute_result",
          "data": {
            "text/html": [
              "<div>\n",
              "<style scoped>\n",
              "    .dataframe tbody tr th:only-of-type {\n",
              "        vertical-align: middle;\n",
              "    }\n",
              "\n",
              "    .dataframe tbody tr th {\n",
              "        vertical-align: top;\n",
              "    }\n",
              "\n",
              "    .dataframe thead th {\n",
              "        text-align: right;\n",
              "    }\n",
              "</style>\n",
              "<table border=\"1\" class=\"dataframe\">\n",
              "  <thead>\n",
              "    <tr style=\"text-align: right;\">\n",
              "      <th></th>\n",
              "      <th>VendorID</th>\n",
              "      <th>passenger_count</th>\n",
              "      <th>trip_distance</th>\n",
              "      <th>RatecodeID</th>\n",
              "      <th>store_and_fwd_flag</th>\n",
              "      <th>PULocationID</th>\n",
              "      <th>DOLocationID</th>\n",
              "      <th>payment_type</th>\n",
              "      <th>fare_amount</th>\n",
              "      <th>extra</th>\n",
              "      <th>mta_tax</th>\n",
              "      <th>tip_amount</th>\n",
              "      <th>tolls_amount</th>\n",
              "      <th>improvement_surcharge</th>\n",
              "      <th>total_amount</th>\n",
              "      <th>dropoff_date</th>\n",
              "      <th>dropoff_time</th>\n",
              "      <th>pickup_date</th>\n",
              "      <th>pickup_time</th>\n",
              "      <th>pickup_time_period</th>\n",
              "      <th>dropoff_time_period</th>\n",
              "    </tr>\n",
              "  </thead>\n",
              "  <tbody>\n",
              "    <tr>\n",
              "      <th>0</th>\n",
              "      <td>1</td>\n",
              "      <td>1</td>\n",
              "      <td>1.5</td>\n",
              "      <td>1</td>\n",
              "      <td>0</td>\n",
              "      <td>151</td>\n",
              "      <td>239</td>\n",
              "      <td>1</td>\n",
              "      <td>7.0</td>\n",
              "      <td>0.5</td>\n",
              "      <td>0.5</td>\n",
              "      <td>1.65</td>\n",
              "      <td>0.0</td>\n",
              "      <td>0.3</td>\n",
              "      <td>9.95</td>\n",
              "      <td>2019-01-01</td>\n",
              "      <td>00:53:20</td>\n",
              "      <td>2019-01-01</td>\n",
              "      <td>00:46:40</td>\n",
              "      <td>5</td>\n",
              "      <td>5</td>\n",
              "    </tr>\n",
              "    <tr>\n",
              "      <th>1</th>\n",
              "      <td>1</td>\n",
              "      <td>1</td>\n",
              "      <td>2.6</td>\n",
              "      <td>1</td>\n",
              "      <td>0</td>\n",
              "      <td>239</td>\n",
              "      <td>246</td>\n",
              "      <td>1</td>\n",
              "      <td>14.0</td>\n",
              "      <td>0.5</td>\n",
              "      <td>0.5</td>\n",
              "      <td>1.00</td>\n",
              "      <td>0.0</td>\n",
              "      <td>0.3</td>\n",
              "      <td>16.30</td>\n",
              "      <td>2019-01-01</td>\n",
              "      <td>01:18:59</td>\n",
              "      <td>2019-01-01</td>\n",
              "      <td>00:59:47</td>\n",
              "      <td>5</td>\n",
              "      <td>0</td>\n",
              "    </tr>\n",
              "    <tr>\n",
              "      <th>2</th>\n",
              "      <td>2</td>\n",
              "      <td>3</td>\n",
              "      <td>0.0</td>\n",
              "      <td>1</td>\n",
              "      <td>0</td>\n",
              "      <td>236</td>\n",
              "      <td>236</td>\n",
              "      <td>1</td>\n",
              "      <td>4.5</td>\n",
              "      <td>0.5</td>\n",
              "      <td>0.5</td>\n",
              "      <td>0.00</td>\n",
              "      <td>0.0</td>\n",
              "      <td>0.3</td>\n",
              "      <td>5.80</td>\n",
              "      <td>2018-12-21</td>\n",
              "      <td>13:52:40</td>\n",
              "      <td>2018-12-21</td>\n",
              "      <td>13:48:30</td>\n",
              "      <td>4</td>\n",
              "      <td>4</td>\n",
              "    </tr>\n",
              "    <tr>\n",
              "      <th>3</th>\n",
              "      <td>2</td>\n",
              "      <td>5</td>\n",
              "      <td>0.0</td>\n",
              "      <td>1</td>\n",
              "      <td>0</td>\n",
              "      <td>193</td>\n",
              "      <td>193</td>\n",
              "      <td>2</td>\n",
              "      <td>3.5</td>\n",
              "      <td>0.5</td>\n",
              "      <td>0.5</td>\n",
              "      <td>0.00</td>\n",
              "      <td>0.0</td>\n",
              "      <td>0.3</td>\n",
              "      <td>7.55</td>\n",
              "      <td>2018-11-28</td>\n",
              "      <td>15:55:45</td>\n",
              "      <td>2018-11-28</td>\n",
              "      <td>15:52:25</td>\n",
              "      <td>4</td>\n",
              "      <td>4</td>\n",
              "    </tr>\n",
              "    <tr>\n",
              "      <th>4</th>\n",
              "      <td>2</td>\n",
              "      <td>5</td>\n",
              "      <td>0.0</td>\n",
              "      <td>2</td>\n",
              "      <td>0</td>\n",
              "      <td>193</td>\n",
              "      <td>193</td>\n",
              "      <td>2</td>\n",
              "      <td>52.0</td>\n",
              "      <td>0.0</td>\n",
              "      <td>0.5</td>\n",
              "      <td>0.00</td>\n",
              "      <td>0.0</td>\n",
              "      <td>0.3</td>\n",
              "      <td>55.55</td>\n",
              "      <td>2018-11-28</td>\n",
              "      <td>15:58:33</td>\n",
              "      <td>2018-11-28</td>\n",
              "      <td>15:56:57</td>\n",
              "      <td>4</td>\n",
              "      <td>4</td>\n",
              "    </tr>\n",
              "  </tbody>\n",
              "</table>\n",
              "</div>"
            ],
            "text/plain": [
              "   VendorID  passenger_count  ...  pickup_time_period  dropoff_time_period\n",
              "0         1                1  ...                   5                    5\n",
              "1         1                1  ...                   5                    0\n",
              "2         2                3  ...                   4                    4\n",
              "3         2                5  ...                   4                    4\n",
              "4         2                5  ...                   4                    4\n",
              "\n",
              "[5 rows x 21 columns]"
            ]
          },
          "metadata": {
            "tags": []
          },
          "execution_count": 19
        }
      ]
    },
    {
      "cell_type": "markdown",
      "metadata": {
        "id": "oDyZkBMfvHfh",
        "colab_type": "text"
      },
      "source": [
        "- Drop the date and time column because of data leakages and overfitting."
      ]
    },
    {
      "cell_type": "code",
      "metadata": {
        "id": "A28zHZ9qmW9y",
        "colab_type": "code",
        "colab": {}
      },
      "source": [
        "column = ['dropoff_date', 'dropoff_time', 'pickup_date', 'pickup_time']\n",
        "data = data.drop(columns=column, axis=1)"
      ],
      "execution_count": 0,
      "outputs": []
    },
    {
      "cell_type": "code",
      "metadata": {
        "id": "gmNq0Wb8CCUa",
        "colab_type": "code",
        "colab": {}
      },
      "source": [
        ""
      ],
      "execution_count": 0,
      "outputs": []
    },
    {
      "cell_type": "markdown",
      "metadata": {
        "id": "gRMjTYA-wlAj",
        "colab_type": "text"
      },
      "source": [
        "- Split the dataset into train, test and validation."
      ]
    },
    {
      "cell_type": "code",
      "metadata": {
        "id": "VsbW22YLxIVf",
        "colab_type": "code",
        "colab": {}
      },
      "source": [
        "label = data['tip_amount']\n",
        "data = data.drop(data[['tip_amount']], axis=1)"
      ],
      "execution_count": 0,
      "outputs": []
    },
    {
      "cell_type": "markdown",
      "metadata": {
        "id": "lcPPS6kcGhqP",
        "colab_type": "text"
      },
      "source": [
        "- Scale the dataset"
      ]
    },
    {
      "cell_type": "code",
      "metadata": {
        "id": "YcVUzbF8FExC",
        "colab_type": "code",
        "colab": {}
      },
      "source": [
        "scale = StandardScaler()\n",
        "scaled_data = scale.fit_transform(data)"
      ],
      "execution_count": 0,
      "outputs": []
    },
    {
      "cell_type": "markdown",
      "metadata": {
        "id": "7qMTSx3GGmgs",
        "colab_type": "text"
      },
      "source": [
        "- Split the data into train, validation and test.\n",
        "- Train takes 80% \n",
        "- Validation takes 10%\n",
        "- Test takes 10% "
      ]
    },
    {
      "cell_type": "code",
      "metadata": {
        "id": "j_T14IV-hIJH",
        "colab_type": "code",
        "colab": {}
      },
      "source": [
        "dev_set_X, X_test, dev_set_y, y_test = train_test_split(scaled_data, label, test_size=0.1, random_state=42)\n",
        "X_train, X_val, y_train, y_val = train_test_split(dev_set_X, dev_set_y, test_size=0.1, random_state=42)"
      ],
      "execution_count": 0,
      "outputs": []
    },
    {
      "cell_type": "markdown",
      "metadata": {
        "id": "KEsR0yjCENDY",
        "colab_type": "text"
      },
      "source": [
        "# Model"
      ]
    },
    {
      "cell_type": "markdown",
      "metadata": {
        "id": "qyxu2fsbHFWF",
        "colab_type": "text"
      },
      "source": [
        "  # Linear Regression"
      ]
    },
    {
      "cell_type": "markdown",
      "metadata": {
        "id": "_CtqYKWEIYSR",
        "colab_type": "text"
      },
      "source": [
        "- Instantiate and fit the linear regression model on our training set"
      ]
    },
    {
      "cell_type": "code",
      "metadata": {
        "id": "-TrPMd2ghHOU",
        "colab_type": "code",
        "outputId": "5a7b4a39-384a-45db-bab5-6b34306999e9",
        "colab": {
          "base_uri": "https://localhost:8080/",
          "height": 34
        }
      },
      "source": [
        "reg = LinearRegression()\n",
        "reg.fit(X_train, y_train)"
      ],
      "execution_count": 24,
      "outputs": [
        {
          "output_type": "execute_result",
          "data": {
            "text/plain": [
              "LinearRegression(copy_X=True, fit_intercept=True, n_jobs=None, normalize=False)"
            ]
          },
          "metadata": {
            "tags": []
          },
          "execution_count": 24
        }
      ]
    },
    {
      "cell_type": "code",
      "metadata": {
        "id": "K4pjMbXhAuNg",
        "colab_type": "code",
        "colab": {}
      },
      "source": [
        "#predict on our validation set\n",
        "\n",
        "pred= reg.predict(X_val)"
      ],
      "execution_count": 0,
      "outputs": []
    },
    {
      "cell_type": "markdown",
      "metadata": {
        "id": "uqW-OiTdIxFB",
        "colab_type": "text"
      },
      "source": [
        "- Print R2 score on both train and validation set.\n",
        "  - R2 score s pretty high"
      ]
    },
    {
      "cell_type": "code",
      "metadata": {
        "id": "33tr9wbHhHIs",
        "colab_type": "code",
        "outputId": "4059b9ea-b1e9-4870-96ac-08029104a766",
        "colab": {
          "base_uri": "https://localhost:8080/",
          "height": 34
        }
      },
      "source": [
        "print(reg.score(X_train, y_train))"
      ],
      "execution_count": 26,
      "outputs": [
        {
          "output_type": "stream",
          "text": [
            "0.9983360913084012\n"
          ],
          "name": "stdout"
        }
      ]
    },
    {
      "cell_type": "code",
      "metadata": {
        "id": "rfsPXCWrhG8U",
        "colab_type": "code",
        "outputId": "c91bc3c5-9073-4a9a-d4cf-43b68dc89e7b",
        "colab": {
          "base_uri": "https://localhost:8080/",
          "height": 34
        }
      },
      "source": [
        "print(reg.score(X_val, y_val))"
      ],
      "execution_count": 27,
      "outputs": [
        {
          "output_type": "stream",
          "text": [
            "0.9983899424595478\n"
          ],
          "name": "stdout"
        }
      ]
    },
    {
      "cell_type": "markdown",
      "metadata": {
        "id": "BqdFiZeoJEFD",
        "colab_type": "text"
      },
      "source": [
        "- Both the training and test R2 score are okay. This means we don't have a bias and variance problem."
      ]
    },
    {
      "cell_type": "code",
      "metadata": {
        "id": "eC0mkCGXhG27",
        "colab_type": "code",
        "outputId": "b2509f9c-fc4a-40a4-aad0-bb2eed193444",
        "colab": {
          "base_uri": "https://localhost:8080/",
          "height": 34
        }
      },
      "source": [
        "rmse = np.sqrt(mean_squared_error(y_val, pred))\n",
        "print(\"Root Mean Squared Error: {}\".format(rmse *100))"
      ],
      "execution_count": 28,
      "outputs": [
        {
          "output_type": "stream",
          "text": [
            "Root Mean Squared Error: 9.814050847657745\n"
          ],
          "name": "stdout"
        }
      ]
    },
    {
      "cell_type": "markdown",
      "metadata": {
        "id": "ZSwEvDjFL7rs",
        "colab_type": "text"
      },
      "source": [
        "- Root mean square error for linear regression model is 9.81.\n",
        "- This is descent but can be improved upon."
      ]
    },
    {
      "cell_type": "markdown",
      "metadata": {
        "id": "KkDlnipKEFHD",
        "colab_type": "text"
      },
      "source": [
        "#Regularization"
      ]
    },
    {
      "cell_type": "code",
      "metadata": {
        "id": "2ZlhxHaOg9bW",
        "colab_type": "code",
        "outputId": "cbb0381c-a9ba-4bbf-b93b-0db12b71a2cd",
        "colab": {
          "base_uri": "https://localhost:8080/",
          "height": 70
        }
      },
      "source": [
        "lasso = Lasso(alpha=0.4, normalize=True)\n",
        "\n",
        "# Fit the regressor to the data\n",
        "lasso.fit(X_train,y_train)"
      ],
      "execution_count": 29,
      "outputs": [
        {
          "output_type": "execute_result",
          "data": {
            "text/plain": [
              "Lasso(alpha=0.4, copy_X=True, fit_intercept=True, max_iter=1000, normalize=True,\n",
              "      positive=False, precompute=False, random_state=None, selection='cyclic',\n",
              "      tol=0.0001, warm_start=False)"
            ]
          },
          "metadata": {
            "tags": []
          },
          "execution_count": 29
        }
      ]
    },
    {
      "cell_type": "code",
      "metadata": {
        "id": "gf29XcB4EWrc",
        "colab_type": "code",
        "outputId": "60d70d26-2d15-4683-a9b5-2f95d43b5f90",
        "colab": {
          "base_uri": "https://localhost:8080/",
          "height": 34
        }
      },
      "source": [
        "# Compute and print the coefficients\n",
        "lasso_coef = lasso.coef_\n",
        "len(lasso_coef)"
      ],
      "execution_count": 30,
      "outputs": [
        {
          "output_type": "execute_result",
          "data": {
            "text/plain": [
              "16"
            ]
          },
          "metadata": {
            "tags": []
          },
          "execution_count": 30
        }
      ]
    },
    {
      "cell_type": "code",
      "metadata": {
        "id": "Q2KU9J_2EYe5",
        "colab_type": "code",
        "outputId": "d14a5971-d3f8-4873-8c52-4671aeaa3bcf",
        "colab": {
          "base_uri": "https://localhost:8080/",
          "height": 367
        }
      },
      "source": [
        "# Plot the coefficients\n",
        "plt.plot(range(len(data.columns)), lasso_coef)\n",
        "plt.xticks(range(len(data.columns)), data.columns.values, rotation=60)\n",
        "plt.margins(0.02)\n",
        "plt.show()"
      ],
      "execution_count": 31,
      "outputs": [
        {
          "output_type": "display_data",
          "data": {
            "image/png": "[encoded data removed]",
            "text/plain": [
              "<Figure size 432x288 with 1 Axes>"
            ]
          },
          "metadata": {
            "tags": []
          }
        }
      ]
    },
    {
      "cell_type": "code",
      "metadata": {
        "id": "4lhfoAxCCWUe",
        "colab_type": "code",
        "colab": {
          "base_uri": "https://localhost:8080/",
          "height": 34
        },
        "outputId": "9becbdb8-8a06-4992-c6dc-a1baa12a1164"
      },
      "source": [
        "# Create and fit the LassoCV model on the training set\n",
        "\n",
        "lcv = LassoCV()\n",
        "\n",
        "lcv.fit(X_train, y_train)\n",
        "\n",
        "print('Optimal alpha = {0:.3f}'.format(lcv.alpha_))"
      ],
      "execution_count": 68,
      "outputs": [
        {
          "output_type": "stream",
          "text": [
            "Optimal alpha = 0.002\n"
          ],
          "name": "stdout"
        }
      ]
    },
    {
      "cell_type": "code",
      "metadata": {
        "id": "HHN2KarnCl9i",
        "colab_type": "code",
        "colab": {
          "base_uri": "https://localhost:8080/",
          "height": 34
        },
        "outputId": "44cdfb3c-23e0-4533-ea36-7589fa911560"
      },
      "source": [
        "# Calculate R squared on the test set\n",
        "\n",
        "r_squared = lcv.score(X_test, y_test)\n",
        "\n",
        "print('The model explains {0:.1%} of the test set variance'.format(r_squared))"
      ],
      "execution_count": 69,
      "outputs": [
        {
          "output_type": "stream",
          "text": [
            "The model explains 99.8% of the test set variance\n"
          ],
          "name": "stdout"
        }
      ]
    },
    {
      "cell_type": "code",
      "metadata": {
        "id": "e7fkhlt-CpoM",
        "colab_type": "code",
        "colab": {
          "base_uri": "https://localhost:8080/",
          "height": 34
        },
        "outputId": "3e740056-d0ab-4d17-a8fa-220e85c7903c"
      },
      "source": [
        "# Create a mask for coefficients not equal to zero\n",
        "\n",
        "lcv_mask = lcv.coef_ != 0\n",
        "\n",
        "print('{} features out of {} selected'.format(sum(lcv_mask), len(lcv_mask)))"
      ],
      "execution_count": 70,
      "outputs": [
        {
          "output_type": "stream",
          "text": [
            "10 features out of 16 selected\n"
          ],
          "name": "stdout"
        }
      ]
    },
    {
      "cell_type": "code",
      "metadata": {
        "id": "hYLFsfPCDicu",
        "colab_type": "code",
        "colab": {
          "base_uri": "https://localhost:8080/",
          "height": 304
        },
        "outputId": "155d5ded-bda0-4d8c-f34c-ee48ac56dddb"
      },
      "source": [
        "list(zip(data.columns, lcv.coef_))"
      ],
      "execution_count": 75,
      "outputs": [
        {
          "output_type": "execute_result",
          "data": {
            "text/plain": [
              "[('VendorID', -0.0013343364494424247),\n",
              " ('passenger_count', -0.0),\n",
              " ('trip_distance', 0.0),\n",
              " ('RatecodeID', -0.0009093643821384867),\n",
              " ('store_and_fwd_flag', 0.0),\n",
              " ('PULocationID', 0.0),\n",
              " ('DOLocationID', 0.0),\n",
              " ('payment_type', -0.017750257135925096),\n",
              " ('fare_amount', -10.796814086685346),\n",
              " ('extra', -0.4534267650218814),\n",
              " ('mta_tax', -0.04699802732561209),\n",
              " ('tolls_amount', -1.9713430821424414),\n",
              " ('improvement_surcharge', -0.021659228039724778),\n",
              " ('total_amount', 13.387321813948759),\n",
              " ('pickup_time_period', 0.0),\n",
              " ('dropoff_time_period', 5.9107252205773994e-05)]"
            ]
          },
          "metadata": {
            "tags": []
          },
          "execution_count": 75
        }
      ]
    },
    {
      "cell_type": "markdown",
      "metadata": {
        "id": "3uIG3m5DroLp",
        "colab_type": "text"
      },
      "source": [
        "- The lassocv model compresses the irrelevant features to 0. A sure way of identifying the relevant features.\n",
        "\n",
        "- The compressed features to not add any value to the model and can be seen as noise or irrelevant."
      ]
    },
    {
      "cell_type": "code",
      "metadata": {
        "id": "06gpdQWoEu2A",
        "colab_type": "code",
        "colab": {
          "base_uri": "https://localhost:8080/",
          "height": 88
        },
        "outputId": "92f3dd54-f5e9-4377-a00a-c26796789d4c"
      },
      "source": [
        "\n",
        "reduced = data.loc[:, lcv_mask]\n",
        "reduced.columns"
      ],
      "execution_count": 76,
      "outputs": [
        {
          "output_type": "execute_result",
          "data": {
            "text/plain": [
              "Index(['VendorID', 'RatecodeID', 'payment_type', 'fare_amount', 'extra',\n",
              "       'mta_tax', 'tolls_amount', 'improvement_surcharge', 'total_amount',\n",
              "       'dropoff_time_period'],\n",
              "      dtype='object')"
            ]
          },
          "metadata": {
            "tags": []
          },
          "execution_count": 76
        }
      ]
    },
    {
      "cell_type": "markdown",
      "metadata": {
        "id": "Gn-qbmNrMZus",
        "colab_type": "text"
      },
      "source": [
        "# Linear Regression Residual Plot"
      ]
    },
    {
      "cell_type": "markdown",
      "metadata": {
        "id": "1feCYY7LMeBr",
        "colab_type": "text"
      },
      "source": [
        "- Residual shows the difference between the predicted value and the true value on the validation data."
      ]
    },
    {
      "cell_type": "code",
      "metadata": {
        "id": "vAhrKbJQOjt7",
        "colab_type": "code",
        "colab": {}
      },
      "source": [
        "residuals = y_val - pred"
      ],
      "execution_count": 0,
      "outputs": []
    },
    {
      "cell_type": "code",
      "metadata": {
        "id": "ZSCzXpnlYN8d",
        "colab_type": "code",
        "outputId": "dc6a1a52-0b7b-4194-ef86-0bf188340166",
        "colab": {
          "base_uri": "https://localhost:8080/",
          "height": 297
        }
      },
      "source": [
        "fig, ax = plt.subplots()\n",
        "ax.scatter(y_val, residuals)\n",
        "ax.axhline(lw=2, color='black')\n",
        "ax.set_xlabel('observed')\n",
        "ax.set_ylabel('residuals')"
      ],
      "execution_count": 36,
      "outputs": [
        {
          "output_type": "execute_result",
          "data": {
            "text/plain": [
              "Text(0, 0.5, 'residuals')"
            ]
          },
          "metadata": {
            "tags": []
          },
          "execution_count": 36
        },
        {
          "output_type": "display_data",
          "data": {
            "image/png": "[encoded data removed]",
            "text/plain": [
              "<Figure size 432x288 with 1 Axes>"
            ]
          },
          "metadata": {
            "tags": []
          }
        }
      ]
    },
    {
      "cell_type": "markdown",
      "metadata": {
        "id": "T26NswXlO8D_",
        "colab_type": "text"
      },
      "source": [
        "- Let's look at the coefficint for each of our features."
      ]
    },
    {
      "cell_type": "code",
      "metadata": {
        "id": "gw3OQe81YpBw",
        "colab_type": "code",
        "outputId": "20dde4e1-d394-4c78-d2de-77c145cfeafe",
        "colab": {
          "base_uri": "https://localhost:8080/",
          "height": 304
        }
      },
      "source": [
        "list(zip(data.columns, reg.coef_))"
      ],
      "execution_count": 37,
      "outputs": [
        {
          "output_type": "execute_result",
          "data": {
            "text/plain": [
              "[('VendorID', -0.0028439128489107647),\n",
              " ('passenger_count', -9.865133203557086e-06),\n",
              " ('trip_distance', 0.00272110004679413),\n",
              " ('RatecodeID', -0.0006327509561202746),\n",
              " ('store_and_fwd_flag', 3.8433138805950284e-05),\n",
              " ('PULocationID', 0.00047445677024484344),\n",
              " ('DOLocationID', 0.00044406474020638846),\n",
              " ('payment_type', -0.001662275136237765),\n",
              " ('fare_amount', -11.010747057724307),\n",
              " ('extra', -0.46435276135521264),\n",
              " ('mta_tax', -0.05058322810189735),\n",
              " ('tolls_amount', -2.0108747194020027),\n",
              " ('improvement_surcharge', -0.019413036093862565),\n",
              " ('total_amount', 13.620967658849066),\n",
              " ('pickup_time_period', 0.00031687416938320796),\n",
              " ('dropoff_time_period', 0.0007002911784407101)]"
            ]
          },
          "metadata": {
            "tags": []
          },
          "execution_count": 37
        }
      ]
    },
    {
      "cell_type": "code",
      "metadata": {
        "id": "PIkzmYIDh7f-",
        "colab_type": "code",
        "outputId": "0707d5c9-0402-43c3-fe66-2b61b3977210",
        "colab": {
          "base_uri": "https://localhost:8080/",
          "height": 34
        }
      },
      "source": [
        "reg.intercept_"
      ],
      "execution_count": 38,
      "outputs": [
        {
          "output_type": "execute_result",
          "data": {
            "text/plain": [
              "1.8110033586919616"
            ]
          },
          "metadata": {
            "tags": []
          },
          "execution_count": 38
        }
      ]
    },
    {
      "cell_type": "markdown",
      "metadata": {
        "id": "_pmzfKcyPWtn",
        "colab_type": "text"
      },
      "source": [
        "- Intercept is on 1.81\n",
        "- Will another model perform better?"
      ]
    },
    {
      "cell_type": "markdown",
      "metadata": {
        "id": "QdCWZBkDlJum",
        "colab_type": "text"
      },
      "source": [
        "#ElasticNet"
      ]
    },
    {
      "cell_type": "code",
      "metadata": {
        "id": "_wb1SfhWkxWP",
        "colab_type": "code",
        "outputId": "3491a472-bd11-468b-9cde-d4d75be66f47",
        "colab": {
          "base_uri": "https://localhost:8080/",
          "height": 70
        }
      },
      "source": [
        "el_model = ElasticNet(l1_ratio=0.2, alpha=0.01, random_state=42)\n",
        "el_model.fit(X_train, y_train)"
      ],
      "execution_count": 40,
      "outputs": [
        {
          "output_type": "execute_result",
          "data": {
            "text/plain": [
              "ElasticNet(alpha=0.01, copy_X=True, fit_intercept=True, l1_ratio=0.2,\n",
              "           max_iter=1000, normalize=False, positive=False, precompute=False,\n",
              "           random_state=42, selection='cyclic', tol=0.0001, warm_start=False)"
            ]
          },
          "metadata": {
            "tags": []
          },
          "execution_count": 40
        }
      ]
    },
    {
      "cell_type": "markdown",
      "metadata": {
        "id": "NgWzDDM7Pv5t",
        "colab_type": "text"
      },
      "source": [
        "- Instantiate the elastic net model and pass in l1 regularization of 0.2 and alpha of 0.01.\n",
        "- Fit the model on training set."
      ]
    },
    {
      "cell_type": "code",
      "metadata": {
        "id": "NwhbiqdOlka1",
        "colab_type": "code",
        "colab": {}
      },
      "source": [
        "el_pred = el_model.predict(X_val)"
      ],
      "execution_count": 0,
      "outputs": []
    },
    {
      "cell_type": "code",
      "metadata": {
        "id": "HUXwRMFiWbxQ",
        "colab_type": "code",
        "outputId": "47dd0ca9-a48e-48e6-b43a-5dc1395e8542",
        "colab": {
          "base_uri": "https://localhost:8080/",
          "height": 304
        }
      },
      "source": [
        "list(zip(data.columns, el_model.coef_))"
      ],
      "execution_count": 42,
      "outputs": [
        {
          "output_type": "execute_result",
          "data": {
            "text/plain": [
              "[('VendorID', -0.005534504259206016),\n",
              " ('passenger_count', 0.0009725812322060225),\n",
              " ('trip_distance', -0.0),\n",
              " ('RatecodeID', -0.06298025395199347),\n",
              " ('store_and_fwd_flag', -0.0),\n",
              " ('PULocationID', 0.0001948907218490471),\n",
              " ('DOLocationID', 0.00584516855889982),\n",
              " ('payment_type', -0.510768692229252),\n",
              " ('fare_amount', -4.943410507262785),\n",
              " ('extra', -0.18809621859170897),\n",
              " ('mta_tax', -0.0026386621136569952),\n",
              " ('tolls_amount', -0.9315756956016676),\n",
              " ('improvement_surcharge', -0.10328985520829524),\n",
              " ('total_amount', 6.949984163864964),\n",
              " ('pickup_time_period', 0.0),\n",
              " ('dropoff_time_period', 0.012019454202482838)]"
            ]
          },
          "metadata": {
            "tags": []
          },
          "execution_count": 42
        }
      ]
    },
    {
      "cell_type": "markdown",
      "metadata": {
        "id": "R_PMw0wwQSCo",
        "colab_type": "text"
      },
      "source": [
        "- Get the coefficients of each features.\n",
        "\n",
        "- A lot of features have coeficient close to zero and thus do not add any performance to the model.\n",
        "\n",
        "- total amount has the heighest coeficient and look like the determinant factor in the model. "
      ]
    },
    {
      "cell_type": "code",
      "metadata": {
        "id": "kkj_ctsHW4ui",
        "colab_type": "code",
        "outputId": "c36ca381-8631-47c0-9cb1-575aab92b703",
        "colab": {
          "base_uri": "https://localhost:8080/",
          "height": 34
        }
      },
      "source": [
        "el_model.intercept_"
      ],
      "execution_count": 43,
      "outputs": [
        {
          "output_type": "execute_result",
          "data": {
            "text/plain": [
              "1.8109028629550648"
            ]
          },
          "metadata": {
            "tags": []
          },
          "execution_count": 43
        }
      ]
    },
    {
      "cell_type": "markdown",
      "metadata": {
        "id": "5WSDeADnQgqJ",
        "colab_type": "text"
      },
      "source": [
        "- Intercept is the same as the linear regression model."
      ]
    },
    {
      "cell_type": "code",
      "metadata": {
        "id": "cfVohWhdXHuu",
        "colab_type": "code",
        "outputId": "33f6cbfd-caf6-4df7-df1d-c24fd7a9911d",
        "colab": {
          "base_uri": "https://localhost:8080/",
          "height": 34
        }
      },
      "source": [
        "el_model.score(X_val, y_val)"
      ],
      "execution_count": 44,
      "outputs": [
        {
          "output_type": "execute_result",
          "data": {
            "text/plain": [
              "0.8846540363621467"
            ]
          },
          "metadata": {
            "tags": []
          },
          "execution_count": 44
        }
      ]
    },
    {
      "cell_type": "code",
      "metadata": {
        "id": "pbL1IX0CXTAT",
        "colab_type": "code",
        "outputId": "7959a0e2-a82f-4660-e9c5-43f211131ab1",
        "colab": {
          "base_uri": "https://localhost:8080/",
          "height": 34
        }
      },
      "source": [
        "el_model.score(X_train, y_train)"
      ],
      "execution_count": 45,
      "outputs": [
        {
          "output_type": "execute_result",
          "data": {
            "text/plain": [
              "0.886713258015232"
            ]
          },
          "metadata": {
            "tags": []
          },
          "execution_count": 45
        }
      ]
    },
    {
      "cell_type": "markdown",
      "metadata": {
        "id": "O_wHLryxQo0O",
        "colab_type": "text"
      },
      "source": [
        "- R2 score is 88% for both train and validation set."
      ]
    },
    {
      "cell_type": "code",
      "metadata": {
        "id": "03iWgWqsR0Rt",
        "colab_type": "code",
        "outputId": "8b386c40-122b-4cb6-95ef-44b11a358362",
        "colab": {
          "base_uri": "https://localhost:8080/",
          "height": 34
        }
      },
      "source": [
        "el_mse = mean_squared_error(y_val, el_pred)\n",
        "print(\"Mean Squared Error: {}\".format(el_mse))"
      ],
      "execution_count": 46,
      "outputs": [
        {
          "output_type": "stream",
          "text": [
            "Mean Squared Error: 0.6900135385735222\n"
          ],
          "name": "stdout"
        }
      ]
    },
    {
      "cell_type": "code",
      "metadata": {
        "id": "CmuH8zdARn_x",
        "colab_type": "code",
        "outputId": "8005b3ee-1049-41f2-cb26-543a385b020d",
        "colab": {
          "base_uri": "https://localhost:8080/",
          "height": 34
        }
      },
      "source": [
        "rmse = np.sqrt(mean_squared_error(y_val, el_pred))\n",
        "print(\"Root Mean Squared Error: {}\".format(rmse))"
      ],
      "execution_count": 47,
      "outputs": [
        {
          "output_type": "stream",
          "text": [
            "Root Mean Squared Error: 0.8306705355154487\n"
          ],
          "name": "stdout"
        }
      ]
    },
    {
      "cell_type": "code",
      "metadata": {
        "id": "flZXih5_Xcj_",
        "colab_type": "code",
        "outputId": "b4cd15a1-7f57-4d49-c78c-f4fe8f8f68c1",
        "colab": {
          "base_uri": "https://localhost:8080/",
          "height": 297
        }
      },
      "source": [
        "residuals = y_val - el_pred\n",
        "fig, ax = plt.subplots()\n",
        "ax.scatter(y_val, residuals)\n",
        "ax.axhline(lw=2, color='black')\n",
        "ax.set_xlabel('observed')\n",
        "ax.set_ylabel('residuals')"
      ],
      "execution_count": 48,
      "outputs": [
        {
          "output_type": "execute_result",
          "data": {
            "text/plain": [
              "Text(0, 0.5, 'residuals')"
            ]
          },
          "metadata": {
            "tags": []
          },
          "execution_count": 48
        },
        {
          "output_type": "display_data",
          "data": {
            "image/png": "[encoded data removed]",
            "text/plain": [
              "<Figure size 432x288 with 1 Axes>"
            ]
          },
          "metadata": {
            "tags": []
          }
        }
      ]
    },
    {
      "cell_type": "markdown",
      "metadata": {
        "id": "Pt_pybwgRC5y",
        "colab_type": "text"
      },
      "source": [
        "- Residual plot is better than that of the linear regression model."
      ]
    },
    {
      "cell_type": "markdown",
      "metadata": {
        "id": "W8R1OqDPwxWN",
        "colab_type": "text"
      },
      "source": [
        "# Tuning Elastic Net Hyperparameter"
      ]
    },
    {
      "cell_type": "markdown",
      "metadata": {
        "id": "HQB_BtRUTDTd",
        "colab_type": "text"
      },
      "source": [
        "- Tune the hyperparameter of the elastic to find the best l1 regularization value that gives the model the best parameter."
      ]
    },
    {
      "cell_type": "code",
      "metadata": {
        "id": "HpTO3K8ZwMko",
        "colab_type": "code",
        "outputId": "22a5cb1e-678c-4975-f66f-d21b7fb84e13",
        "colab": {
          "base_uri": "https://localhost:8080/",
          "height": 430
        }
      },
      "source": [
        "parameters = {'l1_ratio':np.linspace(0,1,10)}\n",
        "\n",
        "gridsearch_cv = GridSearchCV(el_model, param_grid=parameters, cv=3)\n",
        "\n",
        "gridsearch_cv.fit(X_train,y_train)"
      ],
      "execution_count": 49,
      "outputs": [
        {
          "output_type": "stream",
          "text": [
            "/usr/local/lib/python3.6/dist-packages/sklearn/linear_model/_coordinate_descent.py:476: ConvergenceWarning:\n",
            "\n",
            "Objective did not converge. You might want to increase the number of iterations. Duality gap: 2874996.985696639, tolerance: 2395.6486707171143\n",
            "\n",
            "/usr/local/lib/python3.6/dist-packages/sklearn/linear_model/_coordinate_descent.py:476: ConvergenceWarning:\n",
            "\n",
            "Objective did not converge. You might want to increase the number of iterations. Duality gap: 2842118.73628526, tolerance: 2370.0955185543894\n",
            "\n",
            "/usr/local/lib/python3.6/dist-packages/sklearn/linear_model/_coordinate_descent.py:476: ConvergenceWarning:\n",
            "\n",
            "Objective did not converge. You might want to increase the number of iterations. Duality gap: 2829387.360811934, tolerance: 2386.888168230289\n",
            "\n"
          ],
          "name": "stderr"
        },
        {
          "output_type": "execute_result",
          "data": {
            "text/plain": [
              "GridSearchCV(cv=3, error_score=nan,\n",
              "             estimator=ElasticNet(alpha=0.01, copy_X=True, fit_intercept=True,\n",
              "                                  l1_ratio=0.2, max_iter=1000, normalize=False,\n",
              "                                  positive=False, precompute=False,\n",
              "                                  random_state=42, selection='cyclic',\n",
              "                                  tol=0.0001, warm_start=False),\n",
              "             iid='deprecated', n_jobs=None,\n",
              "             param_grid={'l1_ratio': array([0.        , 0.11111111, 0.22222222, 0.33333333, 0.44444444,\n",
              "       0.55555556, 0.66666667, 0.77777778, 0.88888889, 1.        ])},\n",
              "             pre_dispatch='2*n_jobs', refit=True, return_train_score=False,\n",
              "             scoring=None, verbose=0)"
            ]
          },
          "metadata": {
            "tags": []
          },
          "execution_count": 49
        }
      ]
    },
    {
      "cell_type": "code",
      "metadata": {
        "id": "EE60EY48xLLP",
        "colab_type": "code",
        "outputId": "6a7450af-d675-429e-92e2-c06543f71cc6",
        "colab": {
          "base_uri": "https://localhost:8080/",
          "height": 52
        }
      },
      "source": [
        "r2 = gridsearch_cv.score(X_val, y_val)\n",
        "print(\"Tuned ElasticNet Alpha: {}\".format(gridsearch_cv.best_params_))\n",
        "print(\"Tuned ElasticNet R squared: {}\".format(r2))"
      ],
      "execution_count": 50,
      "outputs": [
        {
          "output_type": "stream",
          "text": [
            "Tuned ElasticNet Alpha: {'l1_ratio': 1.0}\n",
            "Tuned ElasticNet R squared: 0.9933305760411675\n"
          ],
          "name": "stdout"
        }
      ]
    },
    {
      "cell_type": "markdown",
      "metadata": {
        "id": "QPViawrpYCms",
        "colab_type": "text"
      },
      "source": [
        "- We can see that the best parameter for l1_ratio is 1.0 while the R2 score is 99%."
      ]
    },
    {
      "cell_type": "code",
      "metadata": {
        "id": "sgqpTssVIJ4X",
        "colab_type": "code",
        "outputId": "dad59156-fef0-4043-cac3-f7d90a53d682",
        "colab": {
          "base_uri": "https://localhost:8080/",
          "height": 34
        }
      },
      "source": [
        "print(\"Tuned ElasticNet Best Score: {}\".format(gridsearch_cv.best_score_))"
      ],
      "execution_count": 51,
      "outputs": [
        {
          "output_type": "stream",
          "text": [
            "Tuned ElasticNet Best Score: 0.9929159118522044\n"
          ],
          "name": "stdout"
        }
      ]
    },
    {
      "cell_type": "code",
      "metadata": {
        "id": "PLp7en0VxWZ4",
        "colab_type": "code",
        "outputId": "ee23286a-51bf-491e-8ea3-d2e70c04758d",
        "colab": {
          "base_uri": "https://localhost:8080/",
          "height": 34
        }
      },
      "source": [
        "grid_pred = gridsearch_cv.predict(X_val)\n",
        "\n",
        "grid_mse = mean_squared_error(y_val, grid_pred)\n",
        "print(\"Tuned ElasticNet MSE Score: {}\".format(grid_mse))"
      ],
      "execution_count": 52,
      "outputs": [
        {
          "output_type": "stream",
          "text": [
            "Tuned ElasticNet MSE Score: 0.03989730269651867\n"
          ],
          "name": "stdout"
        }
      ]
    },
    {
      "cell_type": "markdown",
      "metadata": {
        "id": "jnbZfeZUT4F7",
        "colab_type": "text"
      },
      "source": [
        "- MSE for the grid search model is better than the previous elastic net model."
      ]
    },
    {
      "cell_type": "code",
      "metadata": {
        "id": "N-OKmJeWEzQo",
        "colab_type": "code",
        "outputId": "025050fe-a40b-404a-a741-a369c3a05cf2",
        "colab": {
          "base_uri": "https://localhost:8080/",
          "height": 34
        }
      },
      "source": [
        "grid_rmse = np.sqrt(grid_mse)\n",
        "\n",
        "print(\"Tuned ElasticNet RMSE Score: {}\".format(grid_rmse))"
      ],
      "execution_count": 53,
      "outputs": [
        {
          "output_type": "stream",
          "text": [
            "Tuned ElasticNet RMSE Score: 0.19974309173665725\n"
          ],
          "name": "stdout"
        }
      ]
    },
    {
      "cell_type": "markdown",
      "metadata": {
        "id": "3gjIPvyyTwGW",
        "colab_type": "text"
      },
      "source": [
        "- RMSE is far better than the previous non tuned model."
      ]
    },
    {
      "cell_type": "markdown",
      "metadata": {
        "id": "0RZm6Udo_JFX",
        "colab_type": "text"
      },
      "source": [
        "# Decision Tree Regressor\n",
        "\n",
        "- Trying out decision tree regressor to see if we have a different result.\n",
        "\n",
        "- The first tree model built will be without hyperparameters tuning."
      ]
    },
    {
      "cell_type": "code",
      "metadata": {
        "id": "b5ui6oth_IIw",
        "colab_type": "code",
        "outputId": "76dbdaf3-c5d2-49ec-9256-c56eddf83947",
        "colab": {
          "base_uri": "https://localhost:8080/",
          "height": 124
        }
      },
      "source": [
        "from sklearn.tree import DecisionTreeRegressor\n",
        "\n",
        "#instantiate the decision tree regressor\n",
        "dt = DecisionTreeRegressor()\n",
        "\n",
        "\n",
        "#fit the model on the training data\n",
        "dt.fit(X_train, y_train)"
      ],
      "execution_count": 54,
      "outputs": [
        {
          "output_type": "execute_result",
          "data": {
            "text/plain": [
              "DecisionTreeRegressor(ccp_alpha=0.0, criterion='mse', max_depth=None,\n",
              "                      max_features=None, max_leaf_nodes=None,\n",
              "                      min_impurity_decrease=0.0, min_impurity_split=None,\n",
              "                      min_samples_leaf=1, min_samples_split=2,\n",
              "                      min_weight_fraction_leaf=0.0, presort='deprecated',\n",
              "                      random_state=None, splitter='best')"
            ]
          },
          "metadata": {
            "tags": []
          },
          "execution_count": 54
        }
      ]
    },
    {
      "cell_type": "code",
      "metadata": {
        "id": "wG8jkfSF_IF4",
        "colab_type": "code",
        "colab": {}
      },
      "source": [
        "# perform prediction on the validaton set\n",
        "\n",
        "dt_pred = dt.predict(X_val)"
      ],
      "execution_count": 0,
      "outputs": []
    },
    {
      "cell_type": "code",
      "metadata": {
        "id": "AylNIig9Bc7L",
        "colab_type": "code",
        "outputId": "e5dca02d-94e8-47e3-c544-2fffb88c06a5",
        "colab": {
          "base_uri": "https://localhost:8080/",
          "height": 34
        }
      },
      "source": [
        "# print the r2 score on val set\n",
        "\n",
        "dt_r2 = dt.score(X_val, y_val)\n",
        "\n",
        "print('The R2 score is: {:.2f}'.format(dt_r2))"
      ],
      "execution_count": 56,
      "outputs": [
        {
          "output_type": "stream",
          "text": [
            "The R2 score is: 0.97\n"
          ],
          "name": "stdout"
        }
      ]
    },
    {
      "cell_type": "markdown",
      "metadata": {
        "id": "TAnnb72kCBf6",
        "colab_type": "text"
      },
      "source": [
        "- R2 score is 98%. What are the mse and rmse score."
      ]
    },
    {
      "cell_type": "code",
      "metadata": {
        "id": "lipA5FYS_ICR",
        "colab_type": "code",
        "outputId": "e536cee2-ff84-4108-e3fc-178d99b99b03",
        "colab": {
          "base_uri": "https://localhost:8080/",
          "height": 34
        }
      },
      "source": [
        "# get the mean squared error\n",
        "dt_mse = mean_squared_error(y_val, dt_pred)\n",
        "\n",
        "print(\"Test set MSE of dt: {:.2f}\".format(dt_mse))"
      ],
      "execution_count": 57,
      "outputs": [
        {
          "output_type": "stream",
          "text": [
            "Test set MSE of dt: 0.16\n"
          ],
          "name": "stdout"
        }
      ]
    },
    {
      "cell_type": "markdown",
      "metadata": {
        "id": "RNZaIKVHCScT",
        "colab_type": "text"
      },
      "source": [
        "- The decision tree model has a MSE of 14%. This is a bit high for our model.\n",
        "- Will the model perfom better on the rmse?"
      ]
    },
    {
      "cell_type": "code",
      "metadata": {
        "id": "4D5BehXG_H6T",
        "colab_type": "code",
        "outputId": "3ea261bb-4fc3-4d0a-8684-2e498899d52e",
        "colab": {
          "base_uri": "https://localhost:8080/",
          "height": 34
        }
      },
      "source": [
        "dt_rmse = np.sqrt(dt_mse)\n",
        "\n",
        "print(\"Test set RMSE of dt: {:.2f}\".format(dt_rmse))"
      ],
      "execution_count": 58,
      "outputs": [
        {
          "output_type": "stream",
          "text": [
            "Test set RMSE of dt: 0.41\n"
          ],
          "name": "stdout"
        }
      ]
    },
    {
      "cell_type": "markdown",
      "metadata": {
        "id": "sXVXlDKxCidX",
        "colab_type": "text"
      },
      "source": [
        "- On the rmse, the model performance is not suitable and can be further improved.\n",
        "\n",
        "- Lets perform some hyperparameter tuning."
      ]
    },
    {
      "cell_type": "markdown",
      "metadata": {
        "id": "TlxW4jk_CwFy",
        "colab_type": "text"
      },
      "source": [
        "# Tuning Decision Tree Regressor\n",
        "\n",
        "- First create a new decision tree model and passing max_depth-8, min_samples_leaf=0.13, random_state=3"
      ]
    },
    {
      "cell_type": "code",
      "metadata": {
        "id": "LE5viPZFAmxr",
        "colab_type": "code",
        "colab": {}
      },
      "source": [
        "new_dt = DecisionTreeRegressor( \n",
        "                               max_depth=7,\n",
        "                              min_samples_leaf=0.13,\n",
        "                              random_state=3)"
      ],
      "execution_count": 0,
      "outputs": []
    },
    {
      "cell_type": "markdown",
      "metadata": {
        "id": "zgt12_axKu2k",
        "colab_type": "text"
      },
      "source": [
        "- Tune the Decision tree regression model using the cross_val_score method of sklearn model selection.\n",
        "\n",
        "- Used a 10 fold CV and print the mean of the rmse "
      ]
    },
    {
      "cell_type": "code",
      "metadata": {
        "id": "EHULGSKEEALC",
        "colab_type": "code",
        "outputId": "86382b82-901b-4cd8-a64b-4e0e08427fe7",
        "colab": {
          "base_uri": "https://localhost:8080/",
          "height": 34
        }
      },
      "source": [
        "mse_cv_scores = - cross_val_score(new_dt, X_train, y_train, cv=5, \n",
        "                       scoring='neg_mean_squared_error',\n",
        "                       n_jobs=-1)\n",
        "\n",
        "# Compute the 10-folds CV RMSE\n",
        "rmse_cv = (mse_cv_scores.mean())**(0.5)\n",
        "\n",
        "# Print RMSE_CV\n",
        "print('CV RMSE: {:.2f}'.format(rmse_cv))"
      ],
      "execution_count": 60,
      "outputs": [
        {
          "output_type": "stream",
          "text": [
            "CV RMSE: 1.79\n"
          ],
          "name": "stdout"
        }
      ]
    },
    {
      "cell_type": "markdown",
      "metadata": {
        "id": "e9fcyDaVLNW2",
        "colab_type": "text"
      },
      "source": [
        "- The mean rmse score is 1.79 which is quite okay for our model."
      ]
    },
    {
      "cell_type": "code",
      "metadata": {
        "id": "vfvjPJBtFYP7",
        "colab_type": "code",
        "colab": {}
      },
      "source": [
        "#fit the model on the train set\n",
        "new_dt.fit(X_train, y_train)\n",
        "\n",
        "#train prediction\n",
        "new_dt_pred_train = new_dt.predict(X_train)\n",
        "\n",
        "\n",
        "#test prediction\n",
        "new_dt_pred_test = new_dt.predict(X_val)"
      ],
      "execution_count": 0,
      "outputs": []
    },
    {
      "cell_type": "code",
      "metadata": {
        "id": "8sQsmFAREkeU",
        "colab_type": "code",
        "outputId": "e26b65e6-952f-48c9-c8a4-bae0d2a040fe",
        "colab": {
          "base_uri": "https://localhost:8080/",
          "height": 52
        }
      },
      "source": [
        "#get the rmse of both the train and test set\n",
        "\n",
        "rmse_train = (mean_squared_error(y_train, new_dt_pred_train))**(0.5)\n",
        "rmse_val = (mean_squared_error(y_val, new_dt_pred_test))**(0.5)\n",
        "\n",
        "\n",
        "# Print RMSE_train\n",
        "print('Train RMSE: {:.2f}'.format(rmse_train))\n",
        "\n",
        "print('Test RMSE: {:.2f}'.format(rmse_val))"
      ],
      "execution_count": 62,
      "outputs": [
        {
          "output_type": "stream",
          "text": [
            "Train RMSE: 1.79\n",
            "Test RMSE: 1.85\n"
          ],
          "name": "stdout"
        }
      ]
    },
    {
      "cell_type": "markdown",
      "metadata": {
        "id": "qX_69IZMLpVN",
        "colab_type": "text"
      },
      "source": [
        "- Train score is 1.79 and Test score is 1.85 is not bad. A little bias though on the model."
      ]
    },
    {
      "cell_type": "code",
      "metadata": {
        "id": "SA9sEVvnfAc8",
        "colab_type": "code",
        "colab": {}
      },
      "source": [
        "# Select 10 features with RFE on a GradientBoostingRegressor, drop 2 features on each step\n",
        "rfe_gb = RFE(estimator=GradientBoostingRegressor(), \n",
        "             n_features_to_select=10, step=2, verbose=1)\n",
        "\n",
        "rfe_gb.fit(X_train, y_train)"
      ],
      "execution_count": 0,
      "outputs": []
    },
    {
      "cell_type": "code",
      "metadata": {
        "id": "-pPLo6sWfAIE",
        "colab_type": "code",
        "colab": {}
      },
      "source": [
        ""
      ],
      "execution_count": 0,
      "outputs": []
    },
    {
      "cell_type": "code",
      "metadata": {
        "id": "hYdOpBIse_9w",
        "colab_type": "code",
        "colab": {}
      },
      "source": [
        ""
      ],
      "execution_count": 0,
      "outputs": []
    },
    {
      "cell_type": "code",
      "metadata": {
        "id": "M-hU13aYe_1Z",
        "colab_type": "code",
        "colab": {}
      },
      "source": [
        ""
      ],
      "execution_count": 0,
      "outputs": []
    },
    {
      "cell_type": "markdown",
      "metadata": {
        "id": "fYVukZYLIK7p",
        "colab_type": "text"
      },
      "source": [
        "# Gradient Boosting Regression\n",
        "\n",
        "- Intsatiate a gradient boosting regression model with a max_depth of 4, n_estimator of 200 and random_state of 2"
      ]
    },
    {
      "cell_type": "code",
      "metadata": {
        "id": "3gUFEBChHvbj",
        "colab_type": "code",
        "colab": {}
      },
      "source": [
        "# Instantiate gb\n",
        "gb = GradientBoostingRegressor(max_depth=4, \n",
        "            n_estimators=200,\n",
        "            random_state=2)"
      ],
      "execution_count": 0,
      "outputs": []
    },
    {
      "cell_type": "code",
      "metadata": {
        "id": "i-GR07dIIggF",
        "colab_type": "code",
        "colab": {
          "base_uri": "https://localhost:8080/",
          "height": 178
        },
        "outputId": "49a26db3-c7ca-48a8-c11b-1d7eff5f5cef"
      },
      "source": [
        "# Fit gb to the training set\n",
        "gb.fit(X_train, y_train)\n",
        "\n"
      ],
      "execution_count": 64,
      "outputs": [
        {
          "output_type": "execute_result",
          "data": {
            "text/plain": [
              "GradientBoostingRegressor(alpha=0.9, ccp_alpha=0.0, criterion='friedman_mse',\n",
              "                          init=None, learning_rate=0.1, loss='ls', max_depth=4,\n",
              "                          max_features=None, max_leaf_nodes=None,\n",
              "                          min_impurity_decrease=0.0, min_impurity_split=None,\n",
              "                          min_samples_leaf=1, min_samples_split=2,\n",
              "                          min_weight_fraction_leaf=0.0, n_estimators=200,\n",
              "                          n_iter_no_change=None, presort='deprecated',\n",
              "                          random_state=2, subsample=1.0, tol=0.0001,\n",
              "                          validation_fraction=0.1, verbose=0, warm_start=False)"
            ]
          },
          "metadata": {
            "tags": []
          },
          "execution_count": 64
        }
      ]
    },
    {
      "cell_type": "code",
      "metadata": {
        "id": "ArzYaSKLbSwI",
        "colab_type": "code",
        "colab": {}
      },
      "source": [
        "# Predict test set labels\n",
        "gb_pred = gb.predict(X_val)"
      ],
      "execution_count": 0,
      "outputs": []
    },
    {
      "cell_type": "code",
      "metadata": {
        "id": "qwCp06hCInSP",
        "colab_type": "code",
        "colab": {
          "base_uri": "https://localhost:8080/",
          "height": 34
        },
        "outputId": "6ef6f96d-8b48-40da-ba26-7119c728928e"
      },
      "source": [
        "# Compute MSE\n",
        "mse_test = mean_squared_error(y_val, gb_pred)\n",
        "\n",
        "# Compute RMSE\n",
        "rmse_test = mse_test ** 0.5\n",
        "\n",
        "# Print RMSE\n",
        "print('Test set RMSE of gb: {:.3f}'.format(rmse_test))"
      ],
      "execution_count": 66,
      "outputs": [
        {
          "output_type": "stream",
          "text": [
            "Test set RMSE of gb: 0.574\n"
          ],
          "name": "stdout"
        }
      ]
    },
    {
      "cell_type": "markdown",
      "metadata": {
        "id": "5CdJhMr1nYaG",
        "colab_type": "text"
      },
      "source": [
        "- Gradient Boosting performed poorly."
      ]
    },
    {
      "cell_type": "markdown",
      "metadata": {
        "id": "vP_V3cCIFKbn",
        "colab_type": "text"
      },
      "source": [
        "# Feature Selection with RFE for Gradient Boosting Algorithm\n",
        "\n",
        "- Using recurcive feature engineering to select features from the Gradient boosting model."
      ]
    },
    {
      "cell_type": "code",
      "metadata": {
        "id": "EAZnWxdubOJm",
        "colab_type": "code",
        "colab": {
          "base_uri": "https://localhost:8080/",
          "height": 340
        },
        "outputId": "4bf151c2-2c95-4978-d5e7-9907d1a38164"
      },
      "source": [
        "# Select 10 features with RFE on a GradientBoostingRegressor, drop 2 features on each step\n",
        "rfe_gb = RFE(estimator=GradientBoostingRegressor(), \n",
        "             n_features_to_select=10, step=2, verbose=1)\n",
        "\n",
        "rfe_gb.fit(X_train, y_train)"
      ],
      "execution_count": 78,
      "outputs": [
        {
          "output_type": "stream",
          "text": [
            "Fitting estimator with 16 features.\n",
            "Fitting estimator with 14 features.\n",
            "Fitting estimator with 12 features.\n"
          ],
          "name": "stdout"
        },
        {
          "output_type": "execute_result",
          "data": {
            "text/plain": [
              "RFE(estimator=GradientBoostingRegressor(alpha=0.9, ccp_alpha=0.0,\n",
              "                                        criterion='friedman_mse', init=None,\n",
              "                                        learning_rate=0.1, loss='ls',\n",
              "                                        max_depth=3, max_features=None,\n",
              "                                        max_leaf_nodes=None,\n",
              "                                        min_impurity_decrease=0.0,\n",
              "                                        min_impurity_split=None,\n",
              "                                        min_samples_leaf=1, min_samples_split=2,\n",
              "                                        min_weight_fraction_leaf=0.0,\n",
              "                                        n_estimators=100, n_iter_no_change=None,\n",
              "                                        presort='deprecated', random_state=None,\n",
              "                                        subsample=1.0, tol=0.0001,\n",
              "                                        validation_fraction=0.1, verbose=0,\n",
              "                                        warm_start=False),\n",
              "    n_features_to_select=10, step=2, verbose=1)"
            ]
          },
          "metadata": {
            "tags": []
          },
          "execution_count": 78
        }
      ]
    },
    {
      "cell_type": "code",
      "metadata": {
        "id": "u2yoXRdgGD0o",
        "colab_type": "code",
        "colab": {
          "base_uri": "https://localhost:8080/",
          "height": 34
        },
        "outputId": "5121bab5-2c24-44d9-9cda-20371ea2ccca"
      },
      "source": [
        "# Calculate the R squared on the test set\n",
        "r_squared = rfe_gb.score(X_val, y_val)\n",
        "print('The model can explain {0:.1%} of the variance in the test set'.format(r_squared))"
      ],
      "execution_count": 79,
      "outputs": [
        {
          "output_type": "stream",
          "text": [
            "The model can explain 85.6% of the variance in the test set\n"
          ],
          "name": "stdout"
        }
      ]
    },
    {
      "cell_type": "code",
      "metadata": {
        "id": "jDUmOmwCK-5I",
        "colab_type": "code",
        "colab": {}
      },
      "source": [
        "mask = rfe_gb.support_"
      ],
      "execution_count": 0,
      "outputs": []
    },
    {
      "cell_type": "code",
      "metadata": {
        "id": "UStMLEWZGExJ",
        "colab_type": "code",
        "colab": {
          "base_uri": "https://localhost:8080/",
          "height": 304
        },
        "outputId": "7b3aa421-c3bb-4adf-da98-9484d162678d"
      },
      "source": [
        "list(zip(data.columns, mask))"
      ],
      "execution_count": 83,
      "outputs": [
        {
          "output_type": "execute_result",
          "data": {
            "text/plain": [
              "[('VendorID', False),\n",
              " ('passenger_count', False),\n",
              " ('trip_distance', True),\n",
              " ('RatecodeID', True),\n",
              " ('store_and_fwd_flag', False),\n",
              " ('PULocationID', True),\n",
              " ('DOLocationID', True),\n",
              " ('payment_type', True),\n",
              " ('fare_amount', True),\n",
              " ('extra', True),\n",
              " ('mta_tax', False),\n",
              " ('tolls_amount', True),\n",
              " ('improvement_surcharge', True),\n",
              " ('total_amount', True),\n",
              " ('pickup_time_period', False),\n",
              " ('dropoff_time_period', False)]"
            ]
          },
          "metadata": {
            "tags": []
          },
          "execution_count": 83
        }
      ]
    },
    {
      "cell_type": "markdown",
      "metadata": {
        "id": "Gsx0euJGp-5Z",
        "colab_type": "text"
      },
      "source": [
        "- All the columns mapped as true are the selected features."
      ]
    },
    {
      "cell_type": "code",
      "metadata": {
        "id": "pm_4A9rfWgkz",
        "colab_type": "code",
        "colab": {
          "base_uri": "https://localhost:8080/",
          "height": 88
        },
        "outputId": "3ed19544-7238-4b40-883b-fffea52c6021"
      },
      "source": [
        "kept_feature = data.loc[:, mask]\n",
        "kept_feature.columns"
      ],
      "execution_count": 84,
      "outputs": [
        {
          "output_type": "execute_result",
          "data": {
            "text/plain": [
              "Index(['trip_distance', 'RatecodeID', 'PULocationID', 'DOLocationID',\n",
              "       'payment_type', 'fare_amount', 'extra', 'tolls_amount',\n",
              "       'improvement_surcharge', 'total_amount'],\n",
              "      dtype='object')"
            ]
          },
          "metadata": {
            "tags": []
          },
          "execution_count": 84
        }
      ]
    },
    {
      "cell_type": "markdown",
      "metadata": {
        "id": "WKXCEX3Gqiga",
        "colab_type": "text"
      },
      "source": [
        "- Above we can see the features the rfe selected for us."
      ]
    },
    {
      "cell_type": "code",
      "metadata": {
        "id": "6JUsY2FufljY",
        "colab_type": "code",
        "colab": {}
      },
      "source": [
        ""
      ],
      "execution_count": 0,
      "outputs": []
    }
  ]
}