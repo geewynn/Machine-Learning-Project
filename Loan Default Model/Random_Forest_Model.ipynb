{
  "nbformat": 4,
  "nbformat_minor": 0,
  "metadata": {
    "colab": {
      "name": "Random Forest ekainugodwin@gmail.com.ipynb",
      "provenance": [],
      "collapsed_sections": [],
      "toc_visible": true
    },
    "kernelspec": {
      "name": "python3",
      "display_name": "Python 3"
    },
    "accelerator": "GPU"
  },
  "cells": [
    {
      "cell_type": "markdown",
      "metadata": {
        "id": "FME0wsn1wYEh",
        "colab_type": "text"
      },
      "source": [
        "# RANDOM FOREST CLASSIFIER"
      ]
    },
    {
      "cell_type": "markdown",
      "metadata": {
        "id": "oOn74m715MIN",
        "colab_type": "text"
      },
      "source": [
        "# Import Modules"
      ]
    },
    {
      "cell_type": "code",
      "metadata": {
        "id": "QXRkqF-H5MIP",
        "colab_type": "code",
        "colab": {}
      },
      "source": [
        "import pandas as pd\n",
        "import numpy as np\n",
        "import matplotlib.pyplot as plt\n",
        "import seaborn as sns\n",
        "from sklearn.ensemble import RandomForestClassifier\n",
        "from sklearn.preprocessing import LabelEncoder\n",
        "from sklearn.model_selection import train_test_split, GridSearchCV\n",
        "from sklearn.metrics import classification_report\n",
        "from sklearn.pipeline import Pipeline\n",
        "from sklearn.metrics import roc_curve, auc, roc_auc_score\n",
        "from sklearn.model_selection import learning_curve"
      ],
      "execution_count": 0,
      "outputs": []
    },
    {
      "cell_type": "markdown",
      "metadata": {
        "id": "V5u2blPk5MIT",
        "colab_type": "text"
      },
      "source": [
        "# Read The Data\n",
        "\n",
        "Print out the first 5 rows of the data"
      ]
    },
    {
      "cell_type": "code",
      "metadata": {
        "id": "ARIHvR1P5MIU",
        "colab_type": "code",
        "outputId": "874d091b-d1f6-4800-e425-314105a5d45f",
        "colab": {
          "base_uri": "https://localhost:8080/",
          "height": 433
        }
      },
      "source": [
        "data = pd.read_csv('final_loan.csv')\n",
        "data.head()"
      ],
      "execution_count": 0,
      "outputs": [
        {
          "output_type": "stream",
          "text": [
            "/usr/local/lib/python3.6/dist-packages/IPython/core/interactiveshell.py:2718: DtypeWarning: Columns (17) have mixed types. Specify dtype option on import or set low_memory=False.\n",
            "  interactivity=interactivity, compiler=compiler, result=result)\n"
          ],
          "name": "stderr"
        },
        {
          "output_type": "execute_result",
          "data": {
            "text/html": [
              "<div>\n",
              "<style scoped>\n",
              "    .dataframe tbody tr th:only-of-type {\n",
              "        vertical-align: middle;\n",
              "    }\n",
              "\n",
              "    .dataframe tbody tr th {\n",
              "        vertical-align: top;\n",
              "    }\n",
              "\n",
              "    .dataframe thead th {\n",
              "        text-align: right;\n",
              "    }\n",
              "</style>\n",
              "<table border=\"1\" class=\"dataframe\">\n",
              "  <thead>\n",
              "    <tr style=\"text-align: right;\">\n",
              "      <th></th>\n",
              "      <th>clientId</th>\n",
              "      <th>clientIncome</th>\n",
              "      <th>incomeVerified</th>\n",
              "      <th>clientAge</th>\n",
              "      <th>clientGender</th>\n",
              "      <th>clientMaritalStatus</th>\n",
              "      <th>clientLoanPurpose</th>\n",
              "      <th>clientResidentialStauts</th>\n",
              "      <th>clientState</th>\n",
              "      <th>clientTimeAtEmployer</th>\n",
              "      <th>...</th>\n",
              "      <th>loanAmount</th>\n",
              "      <th>interestRate</th>\n",
              "      <th>loanTerm</th>\n",
              "      <th>max_amount_taken</th>\n",
              "      <th>max_tenor_taken</th>\n",
              "      <th>repaidDate</th>\n",
              "      <th>settleDays</th>\n",
              "      <th>firstPaymentRatio</th>\n",
              "      <th>firstPaymentDefault</th>\n",
              "      <th>loanDefault</th>\n",
              "    </tr>\n",
              "  </thead>\n",
              "  <tbody>\n",
              "    <tr>\n",
              "      <th>0</th>\n",
              "      <td>755398623</td>\n",
              "      <td>52500.0</td>\n",
              "      <td>False</td>\n",
              "      <td>29</td>\n",
              "      <td>FEMALE</td>\n",
              "      <td>Single</td>\n",
              "      <td>business</td>\n",
              "      <td>Rented</td>\n",
              "      <td>KANO</td>\n",
              "      <td>7</td>\n",
              "      <td>...</td>\n",
              "      <td>16000</td>\n",
              "      <td>20.0</td>\n",
              "      <td>60</td>\n",
              "      <td>1</td>\n",
              "      <td>1</td>\n",
              "      <td>2018-08-01 11:30:31 UTC</td>\n",
              "      <td>-12</td>\n",
              "      <td>0.0</td>\n",
              "      <td>0</td>\n",
              "      <td>0</td>\n",
              "    </tr>\n",
              "    <tr>\n",
              "      <th>1</th>\n",
              "      <td>915689736</td>\n",
              "      <td>52500.0</td>\n",
              "      <td>False</td>\n",
              "      <td>25</td>\n",
              "      <td>MALE</td>\n",
              "      <td>Single</td>\n",
              "      <td>business</td>\n",
              "      <td>Rented</td>\n",
              "      <td>LAGOS</td>\n",
              "      <td>21</td>\n",
              "      <td>...</td>\n",
              "      <td>14500</td>\n",
              "      <td>15.0</td>\n",
              "      <td>60</td>\n",
              "      <td>0</td>\n",
              "      <td>1</td>\n",
              "      <td>2018-09-06 17:34:55 UTC</td>\n",
              "      <td>-15</td>\n",
              "      <td>0.0</td>\n",
              "      <td>0</td>\n",
              "      <td>0</td>\n",
              "    </tr>\n",
              "    <tr>\n",
              "      <th>2</th>\n",
              "      <td>292629156</td>\n",
              "      <td>35000.0</td>\n",
              "      <td>False</td>\n",
              "      <td>32</td>\n",
              "      <td>MALE</td>\n",
              "      <td>Single</td>\n",
              "      <td>education</td>\n",
              "      <td>Rented</td>\n",
              "      <td>ANAMBRA</td>\n",
              "      <td>29</td>\n",
              "      <td>...</td>\n",
              "      <td>19500</td>\n",
              "      <td>15.0</td>\n",
              "      <td>60</td>\n",
              "      <td>0</td>\n",
              "      <td>1</td>\n",
              "      <td>2018-11-27 01:33:56 UTC</td>\n",
              "      <td>64</td>\n",
              "      <td>0.0</td>\n",
              "      <td>1</td>\n",
              "      <td>1</td>\n",
              "    </tr>\n",
              "    <tr>\n",
              "      <th>3</th>\n",
              "      <td>671710636</td>\n",
              "      <td>35000.0</td>\n",
              "      <td>False</td>\n",
              "      <td>28</td>\n",
              "      <td>FEMALE</td>\n",
              "      <td>Married</td>\n",
              "      <td>business</td>\n",
              "      <td>Own Residence</td>\n",
              "      <td>OSUN</td>\n",
              "      <td>36+</td>\n",
              "      <td>...</td>\n",
              "      <td>19500</td>\n",
              "      <td>15.0</td>\n",
              "      <td>60</td>\n",
              "      <td>1</td>\n",
              "      <td>1</td>\n",
              "      <td>2018-07-09 18:48:44 UTC</td>\n",
              "      <td>-10</td>\n",
              "      <td>0.0</td>\n",
              "      <td>0</td>\n",
              "      <td>0</td>\n",
              "    </tr>\n",
              "    <tr>\n",
              "      <th>4</th>\n",
              "      <td>367769827</td>\n",
              "      <td>35000.0</td>\n",
              "      <td>False</td>\n",
              "      <td>34</td>\n",
              "      <td>MALE</td>\n",
              "      <td>Married</td>\n",
              "      <td>medical</td>\n",
              "      <td>Rented</td>\n",
              "      <td>ONDO</td>\n",
              "      <td>36+</td>\n",
              "      <td>...</td>\n",
              "      <td>17500</td>\n",
              "      <td>12.5</td>\n",
              "      <td>60</td>\n",
              "      <td>1</td>\n",
              "      <td>1</td>\n",
              "      <td>2018-07-14 02:28:10 UTC</td>\n",
              "      <td>12</td>\n",
              "      <td>0.0</td>\n",
              "      <td>1</td>\n",
              "      <td>0</td>\n",
              "    </tr>\n",
              "  </tbody>\n",
              "</table>\n",
              "<p>5 rows × 32 columns</p>\n",
              "</div>"
            ],
            "text/plain": [
              "    clientId  clientIncome incomeVerified  clientAge clientGender  \\\n",
              "0  755398623       52500.0          False         29       FEMALE   \n",
              "1  915689736       52500.0          False         25         MALE   \n",
              "2  292629156       35000.0          False         32         MALE   \n",
              "3  671710636       35000.0          False         28       FEMALE   \n",
              "4  367769827       35000.0          False         34         MALE   \n",
              "\n",
              "  clientMaritalStatus clientLoanPurpose clientResidentialStauts clientState  \\\n",
              "0              Single          business                  Rented        KANO   \n",
              "1              Single          business                  Rented       LAGOS   \n",
              "2              Single         education                  Rented     ANAMBRA   \n",
              "3             Married          business           Own Residence        OSUN   \n",
              "4             Married           medical                  Rented        ONDO   \n",
              "\n",
              "  clientTimeAtEmployer     ...      loanAmount  interestRate loanTerm  \\\n",
              "0                    7     ...           16000          20.0       60   \n",
              "1                   21     ...           14500          15.0       60   \n",
              "2                   29     ...           19500          15.0       60   \n",
              "3                  36+     ...           19500          15.0       60   \n",
              "4                  36+     ...           17500          12.5       60   \n",
              "\n",
              "  max_amount_taken  max_tenor_taken               repaidDate settleDays  \\\n",
              "0                1                1  2018-08-01 11:30:31 UTC        -12   \n",
              "1                0                1  2018-09-06 17:34:55 UTC        -15   \n",
              "2                0                1  2018-11-27 01:33:56 UTC         64   \n",
              "3                1                1  2018-07-09 18:48:44 UTC        -10   \n",
              "4                1                1  2018-07-14 02:28:10 UTC         12   \n",
              "\n",
              "  firstPaymentRatio firstPaymentDefault loanDefault  \n",
              "0               0.0                   0           0  \n",
              "1               0.0                   0           0  \n",
              "2               0.0                   1           1  \n",
              "3               0.0                   0           0  \n",
              "4               0.0                   1           0  \n",
              "\n",
              "[5 rows x 32 columns]"
            ]
          },
          "metadata": {
            "tags": []
          },
          "execution_count": 19
        }
      ]
    },
    {
      "cell_type": "markdown",
      "metadata": {
        "id": "ckN0boEw5MIa",
        "colab_type": "text"
      },
      "source": [
        "Get the info about the data"
      ]
    },
    {
      "cell_type": "code",
      "metadata": {
        "id": "9Gj6Zdhl5MIc",
        "colab_type": "code",
        "outputId": "1c5d1c67-075f-4c6b-937f-c29489ee760e",
        "colab": {
          "base_uri": "https://localhost:8080/",
          "height": 618
        }
      },
      "source": [
        "data.info()"
      ],
      "execution_count": 0,
      "outputs": [
        {
          "output_type": "stream",
          "text": [
            "<class 'pandas.core.frame.DataFrame'>\n",
            "RangeIndex: 159596 entries, 0 to 159595\n",
            "Data columns (total 32 columns):\n",
            "clientId                     159596 non-null int64\n",
            "clientIncome                 159596 non-null float64\n",
            "incomeVerified               159493 non-null object\n",
            "clientAge                    159596 non-null int64\n",
            "clientGender                 159596 non-null object\n",
            "clientMaritalStatus          159590 non-null object\n",
            "clientLoanPurpose            159596 non-null object\n",
            "clientResidentialStauts      158460 non-null object\n",
            "clientState                  159595 non-null object\n",
            "clientTimeAtEmployer         155402 non-null object\n",
            "clientNumberPhoneContacts    156888 non-null float64\n",
            "clientAvgCallsPerDay         156909 non-null float64\n",
            "loanId                       159596 non-null object\n",
            "loanType                     159596 non-null object\n",
            "loanNumber                   159596 non-null int64\n",
            "applicationDate              159596 non-null object\n",
            "approvalDate                 159596 non-null object\n",
            "declinedDate                 7 non-null object\n",
            "disbursementDate             159596 non-null object\n",
            "payout_status                159596 non-null object\n",
            "dueDate                      159596 non-null object\n",
            "paidAt                       129796 non-null object\n",
            "loanAmount                   159596 non-null int64\n",
            "interestRate                 159596 non-null float64\n",
            "loanTerm                     159596 non-null int64\n",
            "max_amount_taken             159596 non-null int64\n",
            "max_tenor_taken              159596 non-null int64\n",
            "repaidDate                   140125 non-null object\n",
            "settleDays                   159596 non-null int64\n",
            "firstPaymentRatio            159596 non-null float64\n",
            "firstPaymentDefault          159596 non-null int64\n",
            "loanDefault                  159596 non-null int64\n",
            "dtypes: float64(5), int64(10), object(17)\n",
            "memory usage: 39.0+ MB\n"
          ],
          "name": "stdout"
        }
      ]
    },
    {
      "cell_type": "markdown",
      "metadata": {
        "id": "C_ILMzcx5MIg",
        "colab_type": "text"
      },
      "source": [
        "Get the statistical description of the data "
      ]
    },
    {
      "cell_type": "code",
      "metadata": {
        "id": "BJIVUEvo5MIh",
        "colab_type": "code",
        "outputId": "49a8dc27-5858-4ef9-ac9c-635d7bf0f224",
        "colab": {
          "base_uri": "https://localhost:8080/",
          "height": 297
        }
      },
      "source": [
        "data.describe()"
      ],
      "execution_count": 0,
      "outputs": [
        {
          "output_type": "execute_result",
          "data": {
            "text/html": [
              "<div>\n",
              "<style scoped>\n",
              "    .dataframe tbody tr th:only-of-type {\n",
              "        vertical-align: middle;\n",
              "    }\n",
              "\n",
              "    .dataframe tbody tr th {\n",
              "        vertical-align: top;\n",
              "    }\n",
              "\n",
              "    .dataframe thead th {\n",
              "        text-align: right;\n",
              "    }\n",
              "</style>\n",
              "<table border=\"1\" class=\"dataframe\">\n",
              "  <thead>\n",
              "    <tr style=\"text-align: right;\">\n",
              "      <th></th>\n",
              "      <th>clientId</th>\n",
              "      <th>clientIncome</th>\n",
              "      <th>clientAge</th>\n",
              "      <th>clientNumberPhoneContacts</th>\n",
              "      <th>clientAvgCallsPerDay</th>\n",
              "      <th>loanNumber</th>\n",
              "      <th>loanAmount</th>\n",
              "      <th>interestRate</th>\n",
              "      <th>loanTerm</th>\n",
              "      <th>max_amount_taken</th>\n",
              "      <th>max_tenor_taken</th>\n",
              "      <th>settleDays</th>\n",
              "      <th>firstPaymentRatio</th>\n",
              "      <th>firstPaymentDefault</th>\n",
              "      <th>loanDefault</th>\n",
              "    </tr>\n",
              "  </thead>\n",
              "  <tbody>\n",
              "    <tr>\n",
              "      <th>count</th>\n",
              "      <td>1.595960e+05</td>\n",
              "      <td>1.595960e+05</td>\n",
              "      <td>159596.000000</td>\n",
              "      <td>156888.000000</td>\n",
              "      <td>156909.000000</td>\n",
              "      <td>159596.000000</td>\n",
              "      <td>159596.000000</td>\n",
              "      <td>159596.000000</td>\n",
              "      <td>159596.000000</td>\n",
              "      <td>159596.000000</td>\n",
              "      <td>159596.000000</td>\n",
              "      <td>159596.000000</td>\n",
              "      <td>159596.000000</td>\n",
              "      <td>159596.000000</td>\n",
              "      <td>159596.000000</td>\n",
              "    </tr>\n",
              "    <tr>\n",
              "      <th>mean</th>\n",
              "      <td>4.980082e+08</td>\n",
              "      <td>9.083906e+04</td>\n",
              "      <td>33.691847</td>\n",
              "      <td>1262.284936</td>\n",
              "      <td>59.137352</td>\n",
              "      <td>3.556806</td>\n",
              "      <td>35324.184190</td>\n",
              "      <td>13.331235</td>\n",
              "      <td>85.385599</td>\n",
              "      <td>0.705275</td>\n",
              "      <td>0.915374</td>\n",
              "      <td>32.602127</td>\n",
              "      <td>0.097991</td>\n",
              "      <td>0.294268</td>\n",
              "      <td>0.277526</td>\n",
              "    </tr>\n",
              "    <tr>\n",
              "      <th>std</th>\n",
              "      <td>2.938655e+08</td>\n",
              "      <td>9.728033e+04</td>\n",
              "      <td>7.180870</td>\n",
              "      <td>1525.329265</td>\n",
              "      <td>102.064134</td>\n",
              "      <td>2.471578</td>\n",
              "      <td>27840.824297</td>\n",
              "      <td>4.467938</td>\n",
              "      <td>39.323756</td>\n",
              "      <td>0.455921</td>\n",
              "      <td>0.278325</td>\n",
              "      <td>84.552571</td>\n",
              "      <td>0.278058</td>\n",
              "      <td>0.455714</td>\n",
              "      <td>0.447779</td>\n",
              "    </tr>\n",
              "    <tr>\n",
              "      <th>min</th>\n",
              "      <td>5.060000e+02</td>\n",
              "      <td>3.000000e+01</td>\n",
              "      <td>18.000000</td>\n",
              "      <td>0.000000</td>\n",
              "      <td>0.000000</td>\n",
              "      <td>1.000000</td>\n",
              "      <td>11000.000000</td>\n",
              "      <td>4.500000</td>\n",
              "      <td>60.000000</td>\n",
              "      <td>0.000000</td>\n",
              "      <td>0.000000</td>\n",
              "      <td>-32.000000</td>\n",
              "      <td>0.000000</td>\n",
              "      <td>0.000000</td>\n",
              "      <td>0.000000</td>\n",
              "    </tr>\n",
              "    <tr>\n",
              "      <th>25%</th>\n",
              "      <td>2.475166e+08</td>\n",
              "      <td>3.500000e+04</td>\n",
              "      <td>28.000000</td>\n",
              "      <td>429.000000</td>\n",
              "      <td>9.885246</td>\n",
              "      <td>2.000000</td>\n",
              "      <td>20000.000000</td>\n",
              "      <td>10.000000</td>\n",
              "      <td>60.000000</td>\n",
              "      <td>0.000000</td>\n",
              "      <td>1.000000</td>\n",
              "      <td>-2.000000</td>\n",
              "      <td>0.000000</td>\n",
              "      <td>0.000000</td>\n",
              "      <td>0.000000</td>\n",
              "    </tr>\n",
              "    <tr>\n",
              "      <th>50%</th>\n",
              "      <td>4.971904e+08</td>\n",
              "      <td>5.511621e+04</td>\n",
              "      <td>33.000000</td>\n",
              "      <td>825.000000</td>\n",
              "      <td>29.383838</td>\n",
              "      <td>3.000000</td>\n",
              "      <td>25500.000000</td>\n",
              "      <td>12.500000</td>\n",
              "      <td>60.000000</td>\n",
              "      <td>1.000000</td>\n",
              "      <td>1.000000</td>\n",
              "      <td>0.000000</td>\n",
              "      <td>0.000000</td>\n",
              "      <td>0.000000</td>\n",
              "      <td>0.000000</td>\n",
              "    </tr>\n",
              "    <tr>\n",
              "      <th>75%</th>\n",
              "      <td>7.463713e+08</td>\n",
              "      <td>1.050000e+05</td>\n",
              "      <td>38.000000</td>\n",
              "      <td>1550.000000</td>\n",
              "      <td>70.046763</td>\n",
              "      <td>4.000000</td>\n",
              "      <td>37500.000000</td>\n",
              "      <td>15.000000</td>\n",
              "      <td>90.000000</td>\n",
              "      <td>1.000000</td>\n",
              "      <td>1.000000</td>\n",
              "      <td>13.000000</td>\n",
              "      <td>0.000000</td>\n",
              "      <td>1.000000</td>\n",
              "      <td>1.000000</td>\n",
              "    </tr>\n",
              "    <tr>\n",
              "      <th>max</th>\n",
              "      <td>9.365832e+09</td>\n",
              "      <td>3.925000e+06</td>\n",
              "      <td>138.000000</td>\n",
              "      <td>60595.000000</td>\n",
              "      <td>10994.500000</td>\n",
              "      <td>32.000000</td>\n",
              "      <td>500000.000000</td>\n",
              "      <td>20.000000</td>\n",
              "      <td>180.000000</td>\n",
              "      <td>1.000000</td>\n",
              "      <td>1.000000</td>\n",
              "      <td>386.000000</td>\n",
              "      <td>1.000000</td>\n",
              "      <td>1.000000</td>\n",
              "      <td>1.000000</td>\n",
              "    </tr>\n",
              "  </tbody>\n",
              "</table>\n",
              "</div>"
            ],
            "text/plain": [
              "           clientId  clientIncome      clientAge  clientNumberPhoneContacts  \\\n",
              "count  1.595960e+05  1.595960e+05  159596.000000              156888.000000   \n",
              "mean   4.980082e+08  9.083906e+04      33.691847                1262.284936   \n",
              "std    2.938655e+08  9.728033e+04       7.180870                1525.329265   \n",
              "min    5.060000e+02  3.000000e+01      18.000000                   0.000000   \n",
              "25%    2.475166e+08  3.500000e+04      28.000000                 429.000000   \n",
              "50%    4.971904e+08  5.511621e+04      33.000000                 825.000000   \n",
              "75%    7.463713e+08  1.050000e+05      38.000000                1550.000000   \n",
              "max    9.365832e+09  3.925000e+06     138.000000               60595.000000   \n",
              "\n",
              "       clientAvgCallsPerDay     loanNumber     loanAmount   interestRate  \\\n",
              "count         156909.000000  159596.000000  159596.000000  159596.000000   \n",
              "mean              59.137352       3.556806   35324.184190      13.331235   \n",
              "std              102.064134       2.471578   27840.824297       4.467938   \n",
              "min                0.000000       1.000000   11000.000000       4.500000   \n",
              "25%                9.885246       2.000000   20000.000000      10.000000   \n",
              "50%               29.383838       3.000000   25500.000000      12.500000   \n",
              "75%               70.046763       4.000000   37500.000000      15.000000   \n",
              "max            10994.500000      32.000000  500000.000000      20.000000   \n",
              "\n",
              "            loanTerm  max_amount_taken  max_tenor_taken     settleDays  \\\n",
              "count  159596.000000     159596.000000    159596.000000  159596.000000   \n",
              "mean       85.385599          0.705275         0.915374      32.602127   \n",
              "std        39.323756          0.455921         0.278325      84.552571   \n",
              "min        60.000000          0.000000         0.000000     -32.000000   \n",
              "25%        60.000000          0.000000         1.000000      -2.000000   \n",
              "50%        60.000000          1.000000         1.000000       0.000000   \n",
              "75%        90.000000          1.000000         1.000000      13.000000   \n",
              "max       180.000000          1.000000         1.000000     386.000000   \n",
              "\n",
              "       firstPaymentRatio  firstPaymentDefault    loanDefault  \n",
              "count      159596.000000        159596.000000  159596.000000  \n",
              "mean            0.097991             0.294268       0.277526  \n",
              "std             0.278058             0.455714       0.447779  \n",
              "min             0.000000             0.000000       0.000000  \n",
              "25%             0.000000             0.000000       0.000000  \n",
              "50%             0.000000             0.000000       0.000000  \n",
              "75%             0.000000             1.000000       1.000000  \n",
              "max             1.000000             1.000000       1.000000  "
            ]
          },
          "metadata": {
            "tags": []
          },
          "execution_count": 21
        }
      ]
    },
    {
      "cell_type": "markdown",
      "metadata": {
        "id": "YmePI0sE5MIl",
        "colab_type": "text"
      },
      "source": [
        "# Checking for  Null Values"
      ]
    },
    {
      "cell_type": "markdown",
      "metadata": {
        "id": "HHEbBF585MIm",
        "colab_type": "text"
      },
      "source": [
        "Find out the percentage of missing values of each column"
      ]
    },
    {
      "cell_type": "code",
      "metadata": {
        "id": "fxt9NmW85MIn",
        "colab_type": "code",
        "outputId": "6227a27a-2402-4108-f424-b83741b0231e",
        "colab": {
          "base_uri": "https://localhost:8080/",
          "height": 553
        }
      },
      "source": [
        "data_null = data.isnull().mean() * 100\n",
        "data_null"
      ],
      "execution_count": 0,
      "outputs": [
        {
          "output_type": "execute_result",
          "data": {
            "text/plain": [
              "clientId                      0.000000\n",
              "clientIncome                  0.000000\n",
              "incomeVerified                0.064538\n",
              "clientAge                     0.000000\n",
              "clientGender                  0.000000\n",
              "clientMaritalStatus           0.003759\n",
              "clientLoanPurpose             0.000000\n",
              "clientResidentialStauts       0.711797\n",
              "clientState                   0.000627\n",
              "clientTimeAtEmployer          2.627885\n",
              "clientNumberPhoneContacts     1.696784\n",
              "clientAvgCallsPerDay          1.683626\n",
              "loanId                        0.000000\n",
              "loanType                      0.000000\n",
              "loanNumber                    0.000000\n",
              "applicationDate               0.000000\n",
              "approvalDate                  0.000000\n",
              "declinedDate                 99.995614\n",
              "disbursementDate              0.000000\n",
              "payout_status                 0.000000\n",
              "dueDate                       0.000000\n",
              "paidAt                       18.672147\n",
              "loanAmount                    0.000000\n",
              "interestRate                  0.000000\n",
              "loanTerm                      0.000000\n",
              "max_amount_taken              0.000000\n",
              "max_tenor_taken               0.000000\n",
              "repaidDate                   12.200180\n",
              "settleDays                    0.000000\n",
              "firstPaymentRatio             0.000000\n",
              "firstPaymentDefault           0.000000\n",
              "loanDefault                   0.000000\n",
              "dtype: float64"
            ]
          },
          "metadata": {
            "tags": []
          },
          "execution_count": 22
        }
      ]
    },
    {
      "cell_type": "markdown",
      "metadata": {
        "id": "lKSiqFxK5MIs",
        "colab_type": "text"
      },
      "source": [
        "# Drop Irrelevant Columns\n",
        "Reasons for dropping values\n",
        "* declinedDate has 99% missing values\n",
        "* loanType contains only a singl value 'paylater'\n",
        "* payout_status contains only a single value 'SUCCESS'\n",
        "The single value has no variability with the target class and will have no effect on the model performance\n",
        "\n",
        "* The other row or columns with null values where not dropped because they had a small percentage of missing values and that can be easily fixed."
      ]
    },
    {
      "cell_type": "code",
      "metadata": {
        "id": "q-5dzyiH5MIt",
        "colab_type": "code",
        "colab": {}
      },
      "source": [
        "labels =['declinedDate', 'loanType', 'payout_status']\n",
        "data = data.drop(columns= labels)"
      ],
      "execution_count": 0,
      "outputs": []
    },
    {
      "cell_type": "markdown",
      "metadata": {
        "id": "iPxrjUX_5MIw",
        "colab_type": "text"
      },
      "source": [
        "# Fill Missing Values\n",
        "* For the datatime columns I used the forward fill method in filling the missing dates.\n",
        "* incomeVerified was filled with True because the False class was the dominating class.\n",
        "* ClientResidentialStatus, ClientTimeAtEmployer, clientMaritalStatus and clientState were all filled with the forward fill method as they all represent categorical features\n",
        "* clientAvgCallsPerDay, clientNumberPhoneContacts were all filled with the average values. I found it to be the most convinient way of filling the missing values"
      ]
    },
    {
      "cell_type": "code",
      "metadata": {
        "id": "PNcAp7q15MIx",
        "colab_type": "code",
        "colab": {}
      },
      "source": [
        "data['repaidDate'] = data['repaidDate'].ffill()\n",
        "data['paidAt'] = data['paidAt'].ffill()\n",
        "data['incomeVerified'] = data['incomeVerified'].replace(np.NaN, 'False')\n",
        "data['clientResidentialStauts'] = data['clientResidentialStauts'].ffill()\n",
        "data['clientTimeAtEmployer'] = data['clientTimeAtEmployer'].ffill()\n",
        "data['clientAvgCallsPerDay'] = data['clientAvgCallsPerDay'].replace(np.NAN, np.mean(data['clientAvgCallsPerDay']))\n",
        "data['clientNumberPhoneContacts'] = data['clientNumberPhoneContacts'].replace(np.NAN, np.mean(data['clientNumberPhoneContacts']))\n",
        "data['clientMaritalStatus'] = data['clientMaritalStatus'].ffill()\n",
        "data['clientState'] = data['clientState'].ffill()"
      ],
      "execution_count": 0,
      "outputs": []
    },
    {
      "cell_type": "markdown",
      "metadata": {
        "id": "OSmEzKNd5MI0",
        "colab_type": "text"
      },
      "source": [
        "Convert datatime columns represented as object to datetime"
      ]
    },
    {
      "cell_type": "code",
      "metadata": {
        "id": "7KqmMCrW5MI2",
        "colab_type": "code",
        "colab": {}
      },
      "source": [
        "#covert date columns to datetime\n",
        "datetime = ['applicationDate', 'approvalDate', 'disbursementDate', 'dueDate', 'paidAt', 'repaidDate']\n",
        "for date in datetime:\n",
        "    data[date] = pd.to_datetime(data[date])\n"
      ],
      "execution_count": 0,
      "outputs": []
    },
    {
      "cell_type": "markdown",
      "metadata": {
        "id": "z1IHiO9x5MI5",
        "colab_type": "text"
      },
      "source": [
        "Convert columns that are have categorical characteristics to type category"
      ]
    },
    {
      "cell_type": "code",
      "metadata": {
        "id": "7aW-NvFt5MI6",
        "colab_type": "code",
        "colab": {}
      },
      "source": [
        "#covert object columns to categorical as they all represent a categorical form\n",
        "obj_col = ['incomeVerified','clientGender', 'clientMaritalStatus', 'clientLoanPurpose', 'clientResidentialStauts',\n",
        "           'clientState', 'clientTimeAtEmployer']\n",
        "for col in obj_col:\n",
        "    data[col] = data[col].astype('category')"
      ],
      "execution_count": 0,
      "outputs": []
    },
    {
      "cell_type": "markdown",
      "metadata": {
        "scrolled": true,
        "id": "JDm1eOAZ5MI9",
        "colab_type": "text"
      },
      "source": [
        "Using the value_counts() method to check the distribution of each categorical values"
      ]
    },
    {
      "cell_type": "code",
      "metadata": {
        "id": "PvWGK_Pd5MI-",
        "colab_type": "code",
        "outputId": "bbee300c-bd8e-43db-ba66-acfdd3781398",
        "colab": {
          "base_uri": "https://localhost:8080/",
          "height": 1886
        }
      },
      "source": [
        "cat_cols= ['incomeVerified', 'clientMaritalStatus', 'clientLoanPurpose', 'clientResidentialStauts', 'clientState', 'clientTimeAtEmployer']\n",
        "for name in cat_cols:\n",
        "    print(name,':')\n",
        "    print(data[name].value_counts(),'\\n')"
      ],
      "execution_count": 0,
      "outputs": [
        {
          "output_type": "stream",
          "text": [
            "incomeVerified :\n",
            "False    133286\n",
            "True      26207\n",
            "False       103\n",
            "Name: incomeVerified, dtype: int64 \n",
            "\n",
            "clientMaritalStatus :\n",
            "Married      85493\n",
            "Single       71365\n",
            "Separated     1796\n",
            "Widowed        939\n",
            "Divorced         3\n",
            "Name: clientMaritalStatus, dtype: int64 \n",
            "\n",
            "clientLoanPurpose :\n",
            "business     78976\n",
            "other        31554\n",
            "house        22240\n",
            "education    15737\n",
            "medical      11089\n",
            "Name: clientLoanPurpose, dtype: int64 \n",
            "\n",
            "clientResidentialStauts :\n",
            "Rented               101271\n",
            "Own Residence         26592\n",
            "Family Owned          25837\n",
            "Employer Provided      5628\n",
            "Temp. Residence         268\n",
            "Name: clientResidentialStauts, dtype: int64 \n",
            "\n",
            "clientState :\n",
            "LAGOS          60667\n",
            "OGUN           14798\n",
            "ABUJA          13999\n",
            "OYO            12731\n",
            "RIVERS          7829\n",
            "DELTA           5081\n",
            "KWARA           3969\n",
            "OSUN            3816\n",
            "ONDO            3571\n",
            "KADUNA          3496\n",
            "EDO             2663\n",
            "NIGER           2462\n",
            "BENUE           2043\n",
            "EKITI           2023\n",
            "AKWA IBOM       1960\n",
            "KOGI            1896\n",
            "PLATEAU         1715\n",
            "CROSS RIVER     1608\n",
            "NASARAWA        1589\n",
            "ENUGU           1566\n",
            "ANAMBRA         1496\n",
            "ABIA            1426\n",
            "IMO             1287\n",
            "KANO            1233\n",
            "BAYELSA         1179\n",
            "ADAMAWA          569\n",
            "BAUCHI           418\n",
            "SOKOTO           398\n",
            "EBONYI           392\n",
            "TARABA           336\n",
            "KEBBI            279\n",
            "GOMBE            265\n",
            "KATSINA          248\n",
            "ZAMFARA          221\n",
            "BORNO            210\n",
            "YOBE              83\n",
            "JIGAWA            72\n",
            "LAGOS              1\n",
            "OJO                1\n",
            "Name: clientState, dtype: int64 \n",
            "\n",
            "clientTimeAtEmployer :\n",
            "36+    89538\n",
            "0       3472\n",
            "24      3010\n",
            "12      2729\n",
            "3       2453\n",
            "2       2434\n",
            "13      2426\n",
            "1       2403\n",
            "4       2365\n",
            "5       2270\n",
            "6       2202\n",
            "7       2112\n",
            "9       2039\n",
            "8       1966\n",
            "15      1941\n",
            "14      1940\n",
            "16      1910\n",
            "25      1899\n",
            "11      1855\n",
            "17      1820\n",
            "26      1806\n",
            "10      1789\n",
            "27      1772\n",
            "23      1747\n",
            "28      1738\n",
            "18      1718\n",
            "22      1621\n",
            "29      1613\n",
            "20      1606\n",
            "21      1561\n",
            "19      1546\n",
            "30      1469\n",
            "31      1462\n",
            "32      1413\n",
            "34      1323\n",
            "35      1320\n",
            "33      1304\n",
            "-6         2\n",
            "-7         1\n",
            "-5         1\n",
            "Name: clientTimeAtEmployer, dtype: int64 \n",
            "\n"
          ],
          "name": "stdout"
        }
      ]
    },
    {
      "cell_type": "markdown",
      "metadata": {
        "id": "8N-xngTv5MJC",
        "colab_type": "text"
      },
      "source": [
        "Convert the clientTimeAtEmployer to type int and strip the '+' sign from the figures"
      ]
    },
    {
      "cell_type": "code",
      "metadata": {
        "id": "T2BxtcER5MJE",
        "colab_type": "code",
        "colab": {}
      },
      "source": [
        "data['clientTimeAtEmployer'] = data['clientTimeAtEmployer'].str.rstrip('+').astype('int')\n"
      ],
      "execution_count": 0,
      "outputs": []
    },
    {
      "cell_type": "markdown",
      "metadata": {
        "id": "k53CU87_5MJH",
        "colab_type": "text"
      },
      "source": [
        "One hot encode the categorical features using pd.get_dummies()"
      ]
    },
    {
      "cell_type": "code",
      "metadata": {
        "id": "rWFuXu6U5MJI",
        "colab_type": "code",
        "colab": {}
      },
      "source": [
        "nominal_columns = ['incomeVerified', 'clientMaritalStatus', 'clientGender', 'clientLoanPurpose', 'clientResidentialStauts']\n",
        "dummy_df = pd.get_dummies(data[nominal_columns])\n",
        "filtered_loans = pd.concat([data, dummy_df], axis=1)\n",
        "filtered_loans = filtered_loans.drop(nominal_columns, axis=1)"
      ],
      "execution_count": 0,
      "outputs": []
    },
    {
      "cell_type": "markdown",
      "metadata": {
        "id": "3CawtEEj5MJO",
        "colab_type": "text"
      },
      "source": [
        "# Drop Columns\n",
        "* loanId and clientId were dropped because they are randomly generated values used to represent each loan and each clients\n",
        "\n",
        "* clientState was dropped because it contains too many categorical variable and adds no performance to our model.\n",
        "\n",
        "* All the datetime columns were dropped too, because some of them has been used for feature generation such as paidAt and dueDate and the rest will serve as too much information to our models and will cause over fitting on the train data."
      ]
    },
    {
      "cell_type": "code",
      "metadata": {
        "id": "c1oyOZBd5MJQ",
        "colab_type": "code",
        "colab": {}
      },
      "source": [
        "col = ['loanId', 'clientId', 'clientState']\n",
        "filtered_loans = filtered_loans.drop(col, axis=1)\n",
        "filtered_loans =filtered_loans.drop(datetime, axis=1)"
      ],
      "execution_count": 0,
      "outputs": []
    },
    {
      "cell_type": "markdown",
      "metadata": {
        "id": "jbEJTtkA5MJV",
        "colab_type": "text"
      },
      "source": [
        "Check the shape of our final Dataset"
      ]
    },
    {
      "cell_type": "code",
      "metadata": {
        "id": "870PjNa75MJY",
        "colab_type": "code",
        "outputId": "2b86579e-e912-45d5-dd2e-a46b85619850",
        "colab": {
          "base_uri": "https://localhost:8080/",
          "height": 667
        }
      },
      "source": [
        "filtered_loans.info()"
      ],
      "execution_count": 0,
      "outputs": [
        {
          "output_type": "stream",
          "text": [
            "<class 'pandas.core.frame.DataFrame'>\n",
            "RangeIndex: 159596 entries, 0 to 159595\n",
            "Data columns (total 35 columns):\n",
            "clientIncome                                 159596 non-null float64\n",
            "clientAge                                    159596 non-null int64\n",
            "clientTimeAtEmployer                         159596 non-null int64\n",
            "clientNumberPhoneContacts                    159596 non-null float64\n",
            "clientAvgCallsPerDay                         159596 non-null float64\n",
            "loanNumber                                   159596 non-null int64\n",
            "loanAmount                                   159596 non-null int64\n",
            "interestRate                                 159596 non-null float64\n",
            "loanTerm                                     159596 non-null int64\n",
            "max_amount_taken                             159596 non-null int64\n",
            "max_tenor_taken                              159596 non-null int64\n",
            "settleDays                                   159596 non-null int64\n",
            "firstPaymentRatio                            159596 non-null float64\n",
            "firstPaymentDefault                          159596 non-null int64\n",
            "loanDefault                                  159596 non-null int64\n",
            "incomeVerified_False                         159596 non-null uint8\n",
            "incomeVerified_True                          159596 non-null uint8\n",
            "incomeVerified_False                         159596 non-null uint8\n",
            "clientMaritalStatus_Divorced                 159596 non-null uint8\n",
            "clientMaritalStatus_Married                  159596 non-null uint8\n",
            "clientMaritalStatus_Separated                159596 non-null uint8\n",
            "clientMaritalStatus_Single                   159596 non-null uint8\n",
            "clientMaritalStatus_Widowed                  159596 non-null uint8\n",
            "clientGender_FEMALE                          159596 non-null uint8\n",
            "clientGender_MALE                            159596 non-null uint8\n",
            "clientLoanPurpose_business                   159596 non-null uint8\n",
            "clientLoanPurpose_education                  159596 non-null uint8\n",
            "clientLoanPurpose_house                      159596 non-null uint8\n",
            "clientLoanPurpose_medical                    159596 non-null uint8\n",
            "clientLoanPurpose_other                      159596 non-null uint8\n",
            "clientResidentialStauts_Employer Provided    159596 non-null uint8\n",
            "clientResidentialStauts_Family Owned         159596 non-null uint8\n",
            "clientResidentialStauts_Own Residence        159596 non-null uint8\n",
            "clientResidentialStauts_Rented               159596 non-null uint8\n",
            "clientResidentialStauts_Temp. Residence      159596 non-null uint8\n",
            "dtypes: float64(5), int64(10), uint8(20)\n",
            "memory usage: 21.3 MB\n"
          ],
          "name": "stdout"
        }
      ]
    },
    {
      "cell_type": "markdown",
      "metadata": {
        "id": "8lJ9frPN5MJb",
        "colab_type": "text"
      },
      "source": [
        "# Building The Model: Random Forest Classifier"
      ]
    },
    {
      "cell_type": "markdown",
      "metadata": {
        "id": "hd8Qc9uI5MJc",
        "colab_type": "text"
      },
      "source": [
        "For the model, some set of values are passed to the each parameters.\n",
        "The parameters are passed to the GridSearchCV along side our classifier,  the number of cross validation, the number of jobs.\n",
        "* The classifier is our RandomForestClassifier\n",
        "* cv = 5, Five cross validation,\n",
        "* n_jobs=3, runs the jobs in parallel.\n",
        "lastly we fit our model to the train data."
      ]
    },
    {
      "cell_type": "code",
      "metadata": {
        "id": "-IrMeKpG5MJd",
        "colab_type": "code",
        "outputId": "ec51c5a9-dfa9-470d-9aeb-a4ff6b49c84e",
        "colab": {
          "base_uri": "https://localhost:8080/",
          "height": 232
        }
      },
      "source": [
        "X = filtered_loans.drop('loanDefault', axis = 1)\n",
        "y = filtered_loans['loanDefault']\n",
        "\n",
        "\n",
        "clf = RandomForestClassifier()\n",
        "\n",
        "parameters = {'n_estimators': [10, 11, 13],\n",
        "              'max_features': ['sqrt', 'auto', 'log2', None],\n",
        "              'criterion': ['entropy', 'gini'],\n",
        "              'bootstrap': [True, False],\n",
        "              'max_depth': [2, 3, 4],\n",
        "              'min_samples_leaf': [2, 3, 5]}\n",
        "\n",
        "X_train, X_test, y_train, y_test = train_test_split(X, y, test_size=0.3, random_state=42, stratify=y)\n",
        "\n",
        "cv = GridSearchCV(clf, param_grid=parameters, cv=5, n_jobs=3)\n",
        "\n",
        "cv.fit(X_train, y_train)"
      ],
      "execution_count": 0,
      "outputs": [
        {
          "output_type": "execute_result",
          "data": {
            "text/plain": [
              "GridSearchCV(cv=5, error_score='raise-deprecating',\n",
              "       estimator=RandomForestClassifier(bootstrap=True, class_weight=None, criterion='gini',\n",
              "            max_depth=None, max_features='auto', max_leaf_nodes=None,\n",
              "            min_impurity_decrease=0.0, min_impurity_split=None,\n",
              "            min_samples_leaf=1, min_samples_split=2,\n",
              "            min_weight_fraction_leaf=0.0, n_estimators='warn', n_jobs=None,\n",
              "            oob_score=False, random_state=None, verbose=0,\n",
              "            warm_start=False),\n",
              "       fit_params=None, iid='warn', n_jobs=3,\n",
              "       param_grid={'n_estimators': [10, 11, 13], 'max_features': ['sqrt', 'auto', 'log2', None], 'criterion': ['entropy', 'gini'], 'bootstrap': [True, False], 'max_depth': [2, 3, 4], 'min_samples_leaf': [2, 3, 5]},\n",
              "       pre_dispatch='2*n_jobs', refit=True, return_train_score='warn',\n",
              "       scoring=None, verbose=0)"
            ]
          },
          "metadata": {
            "tags": []
          },
          "execution_count": 32
        }
      ]
    },
    {
      "cell_type": "markdown",
      "metadata": {
        "id": "0H54LxV85MJh",
        "colab_type": "text"
      },
      "source": [
        "The **best_params_** attribute is used to get the values of the best parameters from the number of parameters passed the the grid search cv."
      ]
    },
    {
      "cell_type": "code",
      "metadata": {
        "id": "KbF2rC_15MJi",
        "colab_type": "code",
        "outputId": "74847f73-c0b7-4044-f6a9-ac0024985821",
        "colab": {
          "base_uri": "https://localhost:8080/",
          "height": 115
        }
      },
      "source": [
        "cv.best_params_"
      ],
      "execution_count": 0,
      "outputs": [
        {
          "output_type": "execute_result",
          "data": {
            "text/plain": [
              "{'bootstrap': True,\n",
              " 'criterion': 'gini',\n",
              " 'max_depth': 4,\n",
              " 'max_features': None,\n",
              " 'min_samples_leaf': 3,\n",
              " 'n_estimators': 10}"
            ]
          },
          "metadata": {
            "tags": []
          },
          "execution_count": 44
        }
      ]
    },
    {
      "cell_type": "markdown",
      "metadata": {
        "id": "CQaBgzoO5MJn",
        "colab_type": "text"
      },
      "source": [
        "* Set the best parameters to the classifier\n",
        "* Fit the classifier to the training datasets\n",
        "* Class weight was set to balanced, the parameter is used to handle imbalance classes for ensemble tree models."
      ]
    },
    {
      "cell_type": "code",
      "metadata": {
        "id": "z3LCvMxD5MJn",
        "colab_type": "code",
        "outputId": "ea5d6ee9-454f-4dd8-95c5-2cd8b1d4dcd2",
        "colab": {
          "base_uri": "https://localhost:8080/",
          "height": 131
        }
      },
      "source": [
        "clf.set_params(criterion = 'gini',\n",
        "              n_estimators=10,\n",
        "              max_features=None,\n",
        "              min_samples_leaf=3,\n",
        "              max_depth = 4,\n",
        "              class_weight = 'balanced',\n",
        "              bootstrap = True)\n",
        "clf.fit(X_train, y_train)"
      ],
      "execution_count": 0,
      "outputs": [
        {
          "output_type": "execute_result",
          "data": {
            "text/plain": [
              "RandomForestClassifier(bootstrap=True, class_weight='balanced',\n",
              "            criterion='gini', max_depth=4, max_features=None,\n",
              "            max_leaf_nodes=None, min_impurity_decrease=0.0,\n",
              "            min_impurity_split=None, min_samples_leaf=3,\n",
              "            min_samples_split=2, min_weight_fraction_leaf=0.0,\n",
              "            n_estimators=10, n_jobs=None, oob_score=False,\n",
              "            random_state=None, verbose=0, warm_start=False)"
            ]
          },
          "metadata": {
            "tags": []
          },
          "execution_count": 46
        }
      ]
    },
    {
      "cell_type": "markdown",
      "metadata": {
        "id": "2wrpU_Ao5MJr",
        "colab_type": "text"
      },
      "source": [
        "Accuracy Score on the Train Data\n",
        "* The accuracy on the train data is 85% which is a goog thing as it looks like the model is not over fitting on the training data set."
      ]
    },
    {
      "cell_type": "code",
      "metadata": {
        "id": "B-6FmkqE5MJr",
        "colab_type": "code",
        "outputId": "90d79e0f-2bc0-43d7-f9bd-46f62e655557",
        "colab": {
          "base_uri": "https://localhost:8080/",
          "height": 33
        }
      },
      "source": [
        "clf.score(X_train, y_train)\n",
        "print('The model performance on the training set is: {}'.format(clf.score(X_train, y_train)))"
      ],
      "execution_count": 0,
      "outputs": [
        {
          "output_type": "stream",
          "text": [
            "The model performance on the training set is: 0.8481341246184556\n"
          ],
          "name": "stdout"
        }
      ]
    },
    {
      "cell_type": "markdown",
      "metadata": {
        "id": "Q0bQ_Xpq5MJx",
        "colab_type": "text"
      },
      "source": [
        "Getting the Predictions probability"
      ]
    },
    {
      "cell_type": "code",
      "metadata": {
        "id": "Xs_5fric5MJz",
        "colab_type": "code",
        "outputId": "493fcfa1-ae68-4a86-eb18-0e492391cf95",
        "colab": {
          "base_uri": "https://localhost:8080/",
          "height": 131
        }
      },
      "source": [
        "y_prob = clf.predict_proba(X_test)\n",
        "y_prob"
      ],
      "execution_count": 0,
      "outputs": [
        {
          "output_type": "execute_result",
          "data": {
            "text/plain": [
              "array([[0.90528892, 0.09471108],\n",
              "       [0.7910701 , 0.2089299 ],\n",
              "       [0.93910174, 0.06089826],\n",
              "       ...,\n",
              "       [0.90528892, 0.09471108],\n",
              "       [0.54063571, 0.45936429],\n",
              "       [0.25225445, 0.74774555]])"
            ]
          },
          "metadata": {
            "tags": []
          },
          "execution_count": 48
        }
      ]
    },
    {
      "cell_type": "markdown",
      "metadata": {
        "id": "MolSQ0hD5MJ3",
        "colab_type": "text"
      },
      "source": [
        "Print the accuracy of the Test Data\n",
        "* Here we also got an accuracy of 85% on the test set which is the same as the accuracy on the train data set"
      ]
    },
    {
      "cell_type": "code",
      "metadata": {
        "id": "BQPlxqgn5MJ5",
        "colab_type": "code",
        "outputId": "8399247d-94b7-4113-9734-26195380666d",
        "colab": {
          "base_uri": "https://localhost:8080/",
          "height": 33
        }
      },
      "source": [
        "print(\"Accuracy: {}\".format(clf.score(X_test, y_test)))"
      ],
      "execution_count": 0,
      "outputs": [
        {
          "output_type": "stream",
          "text": [
            "Accuracy: 0.8474070051588379\n"
          ],
          "name": "stdout"
        }
      ]
    },
    {
      "cell_type": "markdown",
      "metadata": {
        "id": "NdCM1El35MJ-",
        "colab_type": "text"
      },
      "source": [
        "Perform Prediction"
      ]
    },
    {
      "cell_type": "code",
      "metadata": {
        "id": "BaQh6Z5t5MKA",
        "colab_type": "code",
        "outputId": "51a4a360-afeb-47d5-9835-4f924c095249",
        "colab": {
          "base_uri": "https://localhost:8080/",
          "height": 33
        }
      },
      "source": [
        "y_pred = clf.predict(X_test)\n",
        "print('Predictions on test set are: ' + str(y_pred))"
      ],
      "execution_count": 0,
      "outputs": [
        {
          "output_type": "stream",
          "text": [
            "Predictions on test set are: [0 0 0 ... 0 0 1]\n"
          ],
          "name": "stdout"
        }
      ]
    },
    {
      "cell_type": "markdown",
      "metadata": {
        "id": "Nsoyeou-5MKG",
        "colab_type": "text"
      },
      "source": [
        "Print the classification Report"
      ]
    },
    {
      "cell_type": "code",
      "metadata": {
        "id": "0zQm2IgV5MKI",
        "colab_type": "code",
        "outputId": "8a6a1958-458e-473b-d4a8-3a154344a124",
        "colab": {
          "base_uri": "https://localhost:8080/",
          "height": 163
        }
      },
      "source": [
        "print(classification_report(y_test, y_pred))\n"
      ],
      "execution_count": 0,
      "outputs": [
        {
          "output_type": "stream",
          "text": [
            "              precision    recall  f1-score   support\n",
            "\n",
            "           0       0.91      0.88      0.89     34591\n",
            "           1       0.71      0.76      0.73     13288\n",
            "\n",
            "   micro avg       0.85      0.85      0.85     47879\n",
            "   macro avg       0.81      0.82      0.81     47879\n",
            "weighted avg       0.85      0.85      0.85     47879\n",
            "\n"
          ],
          "name": "stdout"
        }
      ]
    },
    {
      "cell_type": "markdown",
      "metadata": {
        "id": "HFWarGw75MKN",
        "colab_type": "text"
      },
      "source": [
        "From the classification report we can see that the model had an average of 85% on all the metrics( precision, recall, f1-score, support)\n",
        "\n",
        "* Based on my knowledge of the case study, the important thing to note is the percentage predictions on the class 1 for the precision and recall.\n",
        "\n",
        "* For this case study it is important for the model to have a high recall and precision for the predicting clients who will default on their loans.\n",
        "\n",
        "* Here 72% precison and 75% recall means the model has the ability of predicting and recalling over 70% of clients with potentials of dfaulting on their loans."
      ]
    },
    {
      "cell_type": "markdown",
      "metadata": {
        "id": "1avJRuuj5MKO",
        "colab_type": "text"
      },
      "source": [
        "Initialise the prediction probability, fpr, tpr and thresholds"
      ]
    },
    {
      "cell_type": "code",
      "metadata": {
        "id": "6wx4XGKK5MKP",
        "colab_type": "code",
        "colab": {}
      },
      "source": [
        "#fpr, tpr, thresholds = roc_curve(y_pred,\n",
        "#                     y_test)\n",
        "predictions_prob = clf.predict_proba(X_test)[:,1]\n",
        "fpr, tpr, thresholds = roc_curve(y_test, predictions_prob)"
      ],
      "execution_count": 0,
      "outputs": []
    },
    {
      "cell_type": "code",
      "metadata": {
        "id": "3LBU3YauqSG8",
        "colab_type": "code",
        "outputId": "254fafb1-4eb4-4f87-fe1b-50846990da58",
        "colab": {
          "base_uri": "https://localhost:8080/",
          "height": 33
        }
      },
      "source": [
        "print('The model model thresholds is: ' + str(np.mean(thresholds)))"
      ],
      "execution_count": 0,
      "outputs": [
        {
          "output_type": "stream",
          "text": [
            "The model model thresholds is: 0.5580618704261391\n"
          ],
          "name": "stdout"
        }
      ]
    },
    {
      "cell_type": "markdown",
      "metadata": {
        "id": "FYwfL3Jw5MKR",
        "colab_type": "text"
      },
      "source": [
        "Print the AUC score\n",
        "\n",
        "* Here the auc score for the model is 89% which is a very good score and it shows that the model is a good model."
      ]
    },
    {
      "cell_type": "code",
      "metadata": {
        "id": "r-_nA7P35MKS",
        "colab_type": "code",
        "outputId": "a54c2a0e-8f64-40c3-db96-d7701e1decfe",
        "colab": {
          "base_uri": "https://localhost:8080/",
          "height": 33
        }
      },
      "source": [
        "auc_score = auc(fpr, tpr)\n",
        "print('the auc score for the model is: {}'.format(auc_score))"
      ],
      "execution_count": 0,
      "outputs": [
        {
          "output_type": "stream",
          "text": [
            "the auc score for the model is: 0.9043357327898\n"
          ],
          "name": "stdout"
        }
      ]
    },
    {
      "cell_type": "markdown",
      "metadata": {
        "id": "Bfuka4v-5MKV",
        "colab_type": "text"
      },
      "source": [
        "# Plot AUC and ROC"
      ]
    },
    {
      "cell_type": "code",
      "metadata": {
        "id": "KKR4VDTI5MKW",
        "colab_type": "code",
        "outputId": "6ce358b6-2ec7-4f8b-f05e-f11607c753d1",
        "colab": {
          "base_uri": "https://localhost:8080/",
          "height": 376
        }
      },
      "source": [
        "plt.plot([0, 1], [0, 1], 'k--')\n",
        "plt.plot(fpr, tpr, label='RF (area = {:.3f})'.format(auc))\n",
        "plt.xlabel('False positive rate')\n",
        "plt.ylabel('True positive rate')\n",
        "plt.title('ROC curve')\n",
        "plt.legend(loc='best')\n",
        "plt.show()"
      ],
      "execution_count": 0,
      "outputs": [
        {
          "output_type": "display_data",
          "data": {
            "image/png": "[encoded data removed]",
            "text/plain": [
              "<Figure size 576x396 with 1 Axes>"
            ]
          },
          "metadata": {
            "tags": []
          }
        }
      ]
    },
    {
      "cell_type": "markdown",
      "metadata": {
        "id": "6HtwzBSs5MKY",
        "colab_type": "text"
      },
      "source": [
        "# Plot Learning Curve "
      ]
    },
    {
      "cell_type": "markdown",
      "metadata": {
        "id": "rV4BPxYn5MKZ",
        "colab_type": "text"
      },
      "source": [
        "Plot the learning curve to show if the model is over fitting or under fitting on our training set\n",
        "\n",
        "* The learning curve of the training score is compared to the learning curve of the cross validation score on a fold of 5 \n",
        "* The evaluation metric used here was roc-auc which is better metric that accuracy for this case study."
      ]
    },
    {
      "cell_type": "code",
      "metadata": {
        "id": "qEzRLuF25MKa",
        "colab_type": "code",
        "outputId": "bed06348-f5e8-41a5-9cf7-723f13f8c2fa",
        "colab": {
          "base_uri": "https://localhost:8080/",
          "height": 401
        }
      },
      "source": [
        "train_sizes, train_scores, test_scores = learning_curve(clf, \n",
        "                                                        X_train, \n",
        "                                                        y_train,\n",
        "                                                        # Number of folds in cross-validation\n",
        "                                                        cv=5,\n",
        "                                                        # Evaluation metric\n",
        "                                                        scoring='roc_auc',\n",
        "                                                        # Use all computer cores\n",
        "                                                        n_jobs=1, \n",
        "                                                        # 50 different sizes of the training set\n",
        "                                                        train_sizes=np.linspace(0.01, 1.0, 50))\n",
        "\n",
        "# Create means and standard deviations of training set scores\n",
        "train_mean = np.mean(train_scores, axis=1)\n",
        "train_std = np.std(train_scores, axis=1)\n",
        "\n",
        "# Create means and standard deviations of test set scores\n",
        "test_mean = np.mean(test_scores, axis=1)\n",
        "test_std = np.std(test_scores, axis=1)\n",
        "\n",
        "# Draw lines\n",
        "plt.plot(train_sizes, train_mean, '--', color=\"#111111\",  label=\"Training score\")\n",
        "plt.plot(train_sizes, test_mean, color=\"#111111\", label=\"Cross-validation score\")\n",
        "\n",
        "# Draw bands\n",
        "plt.fill_between(train_sizes, train_mean - train_std, train_mean + train_std, color=\"#DDDDDD\")\n",
        "plt.fill_between(train_sizes, test_mean - test_std, test_mean + test_std, color=\"#DDDDDD\")\n",
        "\n",
        "# Create plot\n",
        "plt.title(\"Learning Curve\")\n",
        "plt.xlabel(\"Training Set Size\"), plt.ylabel(\"roc-auc Score\"), plt.legend(loc=\"best\")\n",
        "plt.tight_layout()\n",
        "plt.show()\n"
      ],
      "execution_count": 0,
      "outputs": [
        {
          "output_type": "display_data",
          "data": {
            "image/png": "[encoded data removed]",
            "text/plain": [
              "<Figure size 576x396 with 1 Axes>"
            ]
          },
          "metadata": {
            "tags": []
          }
        }
      ]
    },
    {
      "cell_type": "markdown",
      "metadata": {
        "id": "e_VNqoMy5MKd",
        "colab_type": "text"
      },
      "source": [
        "From the above learning curve\n",
        "* It shows that the training data is not over fitting or under fitting on our training data\n",
        "* At data point 0 the learning curve started on a high roc- auc score and dropped to below 91%  where it moves along the x-axis on a single accuracy of 90%.\n",
        "* For the cv score we can see that at data point 0 the model started with a low accuracy but moved upwards towards the 90% and moves slightly upwards from there till it converges with the training roc-auc score.\n",
        "* We can note here that both the training score and validation score converges at a little above 90% which is a good auc-roc score.\n",
        "* Th roc-auc score gotten depicts that the model is a good one beating the average threshold of 56%"
      ]
    },
    {
      "cell_type": "code",
      "metadata": {
        "id": "FuqVUsUS5MKf",
        "colab_type": "code",
        "colab": {}
      },
      "source": [
        ""
      ],
      "execution_count": 0,
      "outputs": []
    }
  ]
}