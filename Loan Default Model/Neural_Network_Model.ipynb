{
 "cells": [
  {
   "cell_type": "markdown",
   "metadata": {
    "colab_type": "text",
    "id": "oqYX4QS6wuhP"
   },
   "source": [
    "# NEURAL NETWORKS"
   ]
  },
  {
   "cell_type": "markdown",
   "metadata": {
    "colab_type": "text",
    "id": "0PYppaxl5BQ4"
   },
   "source": [
    "# Import Modules"
   ]
  },
  {
   "cell_type": "code",
   "execution_count": 0,
   "metadata": {
    "colab": {},
    "colab_type": "code",
    "id": "2VzVPp7D5BQ5"
   },
   "outputs": [],
   "source": [
    "import numpy as np\n",
    "import pandas as pd\n",
    "import matplotlib.pyplot as plt\n",
    "from keras.models import Sequential\n",
    "from keras.layers import Dense, Dropout\n",
    "from keras.wrappers.scikit_learn import KerasClassifier\n",
    "from sklearn.preprocessing import StandardScaler\n",
    "from sklearn.model_selection import train_test_split\n",
    "from sklearn.metrics import confusion_matrix, classification_report\n",
    "from keras.callbacks import EarlyStopping\n",
    "from keras.optimizers import SGD\n",
    "from sklearn.utils import resample\n",
    "from sklearn.metrics import accuracy_score\n",
    "from sklearn.metrics import roc_curve, auc\n",
    "import warnings;\n",
    "warnings.simplefilter('ignore')"
   ]
  },
  {
   "cell_type": "markdown",
   "metadata": {
    "colab_type": "text",
    "id": "MTR7MJhM5BQ9"
   },
   "source": [
    "# Read Data\n",
    "* Drop Unnecessary column 'Unnamed: 0', it was a duplicate of the row numbers\n",
    "* Show a preview of the first 5 rows of the dataset\n",
    "* The data set has already been pre proceesed and was used for the random forest classifier"
   ]
  },
  {
   "cell_type": "code",
   "execution_count": 2,
   "metadata": {
    "colab": {
     "base_uri": "https://localhost:8080/",
     "height": 255
    },
    "colab_type": "code",
    "id": "GF8sFaqp5BQ-",
    "outputId": "c3a0402c-f001-4d2a-eed7-b2558cfb5cfa"
   },
   "outputs": [
    {
     "data": {
      "text/html": [
       "<div>\n",
       "<style scoped>\n",
       "    .dataframe tbody tr th:only-of-type {\n",
       "        vertical-align: middle;\n",
       "    }\n",
       "\n",
       "    .dataframe tbody tr th {\n",
       "        vertical-align: top;\n",
       "    }\n",
       "\n",
       "    .dataframe thead th {\n",
       "        text-align: right;\n",
       "    }\n",
       "</style>\n",
       "<table border=\"1\" class=\"dataframe\">\n",
       "  <thead>\n",
       "    <tr style=\"text-align: right;\">\n",
       "      <th></th>\n",
       "      <th>clientIncome</th>\n",
       "      <th>clientAge</th>\n",
       "      <th>clientTimeAtEmployer</th>\n",
       "      <th>clientNumberPhoneContacts</th>\n",
       "      <th>clientAvgCallsPerDay</th>\n",
       "      <th>loanNumber</th>\n",
       "      <th>loanAmount</th>\n",
       "      <th>interestRate</th>\n",
       "      <th>loanTerm</th>\n",
       "      <th>max_amount_taken</th>\n",
       "      <th>...</th>\n",
       "      <th>clientMaritalStatus_Single</th>\n",
       "      <th>clientMaritalStatus_Widowed</th>\n",
       "      <th>incomeVerified_False</th>\n",
       "      <th>incomeVerified_True</th>\n",
       "      <th>incomeVerified_False.1</th>\n",
       "      <th>clientResidentialStauts_Employer Provided</th>\n",
       "      <th>clientResidentialStauts_Family Owned</th>\n",
       "      <th>clientResidentialStauts_Own Residence</th>\n",
       "      <th>clientResidentialStauts_Rented</th>\n",
       "      <th>clientResidentialStauts_Temp. Residence</th>\n",
       "    </tr>\n",
       "  </thead>\n",
       "  <tbody>\n",
       "    <tr>\n",
       "      <th>0</th>\n",
       "      <td>52500.0</td>\n",
       "      <td>29</td>\n",
       "      <td>7</td>\n",
       "      <td>257.0</td>\n",
       "      <td>153.000000</td>\n",
       "      <td>6</td>\n",
       "      <td>16000</td>\n",
       "      <td>20.0</td>\n",
       "      <td>60</td>\n",
       "      <td>1</td>\n",
       "      <td>...</td>\n",
       "      <td>1</td>\n",
       "      <td>0</td>\n",
       "      <td>1</td>\n",
       "      <td>0</td>\n",
       "      <td>0</td>\n",
       "      <td>0</td>\n",
       "      <td>0</td>\n",
       "      <td>0</td>\n",
       "      <td>1</td>\n",
       "      <td>0</td>\n",
       "    </tr>\n",
       "    <tr>\n",
       "      <th>1</th>\n",
       "      <td>52500.0</td>\n",
       "      <td>25</td>\n",
       "      <td>21</td>\n",
       "      <td>3964.0</td>\n",
       "      <td>269.426415</td>\n",
       "      <td>9</td>\n",
       "      <td>14500</td>\n",
       "      <td>15.0</td>\n",
       "      <td>60</td>\n",
       "      <td>0</td>\n",
       "      <td>...</td>\n",
       "      <td>1</td>\n",
       "      <td>0</td>\n",
       "      <td>1</td>\n",
       "      <td>0</td>\n",
       "      <td>0</td>\n",
       "      <td>0</td>\n",
       "      <td>0</td>\n",
       "      <td>0</td>\n",
       "      <td>1</td>\n",
       "      <td>0</td>\n",
       "    </tr>\n",
       "    <tr>\n",
       "      <th>2</th>\n",
       "      <td>35000.0</td>\n",
       "      <td>32</td>\n",
       "      <td>29</td>\n",
       "      <td>1140.0</td>\n",
       "      <td>77.147826</td>\n",
       "      <td>2</td>\n",
       "      <td>19500</td>\n",
       "      <td>15.0</td>\n",
       "      <td>60</td>\n",
       "      <td>0</td>\n",
       "      <td>...</td>\n",
       "      <td>1</td>\n",
       "      <td>0</td>\n",
       "      <td>1</td>\n",
       "      <td>0</td>\n",
       "      <td>0</td>\n",
       "      <td>0</td>\n",
       "      <td>0</td>\n",
       "      <td>0</td>\n",
       "      <td>1</td>\n",
       "      <td>0</td>\n",
       "    </tr>\n",
       "    <tr>\n",
       "      <th>3</th>\n",
       "      <td>35000.0</td>\n",
       "      <td>28</td>\n",
       "      <td>36</td>\n",
       "      <td>2764.0</td>\n",
       "      <td>31.678112</td>\n",
       "      <td>4</td>\n",
       "      <td>19500</td>\n",
       "      <td>15.0</td>\n",
       "      <td>60</td>\n",
       "      <td>1</td>\n",
       "      <td>...</td>\n",
       "      <td>0</td>\n",
       "      <td>0</td>\n",
       "      <td>1</td>\n",
       "      <td>0</td>\n",
       "      <td>0</td>\n",
       "      <td>0</td>\n",
       "      <td>0</td>\n",
       "      <td>1</td>\n",
       "      <td>0</td>\n",
       "      <td>0</td>\n",
       "    </tr>\n",
       "    <tr>\n",
       "      <th>4</th>\n",
       "      <td>35000.0</td>\n",
       "      <td>34</td>\n",
       "      <td>36</td>\n",
       "      <td>504.0</td>\n",
       "      <td>3.000000</td>\n",
       "      <td>5</td>\n",
       "      <td>17500</td>\n",
       "      <td>12.5</td>\n",
       "      <td>60</td>\n",
       "      <td>1</td>\n",
       "      <td>...</td>\n",
       "      <td>0</td>\n",
       "      <td>0</td>\n",
       "      <td>1</td>\n",
       "      <td>0</td>\n",
       "      <td>0</td>\n",
       "      <td>0</td>\n",
       "      <td>0</td>\n",
       "      <td>0</td>\n",
       "      <td>1</td>\n",
       "      <td>0</td>\n",
       "    </tr>\n",
       "  </tbody>\n",
       "</table>\n",
       "<p>5 rows × 35 columns</p>\n",
       "</div>"
      ],
      "text/plain": [
       "   clientIncome  clientAge  clientTimeAtEmployer  clientNumberPhoneContacts  \\\n",
       "0       52500.0         29                     7                      257.0   \n",
       "1       52500.0         25                    21                     3964.0   \n",
       "2       35000.0         32                    29                     1140.0   \n",
       "3       35000.0         28                    36                     2764.0   \n",
       "4       35000.0         34                    36                      504.0   \n",
       "\n",
       "   clientAvgCallsPerDay  loanNumber  loanAmount  interestRate  loanTerm  \\\n",
       "0            153.000000           6       16000          20.0        60   \n",
       "1            269.426415           9       14500          15.0        60   \n",
       "2             77.147826           2       19500          15.0        60   \n",
       "3             31.678112           4       19500          15.0        60   \n",
       "4              3.000000           5       17500          12.5        60   \n",
       "\n",
       "   max_amount_taken                   ...                     \\\n",
       "0                 1                   ...                      \n",
       "1                 0                   ...                      \n",
       "2                 0                   ...                      \n",
       "3                 1                   ...                      \n",
       "4                 1                   ...                      \n",
       "\n",
       "   clientMaritalStatus_Single  clientMaritalStatus_Widowed  \\\n",
       "0                           1                            0   \n",
       "1                           1                            0   \n",
       "2                           1                            0   \n",
       "3                           0                            0   \n",
       "4                           0                            0   \n",
       "\n",
       "   incomeVerified_False  incomeVerified_True  incomeVerified_False.1  \\\n",
       "0                     1                    0                       0   \n",
       "1                     1                    0                       0   \n",
       "2                     1                    0                       0   \n",
       "3                     1                    0                       0   \n",
       "4                     1                    0                       0   \n",
       "\n",
       "   clientResidentialStauts_Employer Provided  \\\n",
       "0                                          0   \n",
       "1                                          0   \n",
       "2                                          0   \n",
       "3                                          0   \n",
       "4                                          0   \n",
       "\n",
       "   clientResidentialStauts_Family Owned  \\\n",
       "0                                     0   \n",
       "1                                     0   \n",
       "2                                     0   \n",
       "3                                     0   \n",
       "4                                     0   \n",
       "\n",
       "   clientResidentialStauts_Own Residence  clientResidentialStauts_Rented  \\\n",
       "0                                      0                               1   \n",
       "1                                      0                               1   \n",
       "2                                      0                               1   \n",
       "3                                      1                               0   \n",
       "4                                      0                               1   \n",
       "\n",
       "   clientResidentialStauts_Temp. Residence  \n",
       "0                                        0  \n",
       "1                                        0  \n",
       "2                                        0  \n",
       "3                                        0  \n",
       "4                                        0  \n",
       "\n",
       "[5 rows x 35 columns]"
      ]
     },
     "execution_count": 2,
     "metadata": {
      "tags": []
     },
     "output_type": "execute_result"
    }
   ],
   "source": [
    "data = pd.read_csv('filtered_loans.csv',)\n",
    "data =data.drop('Unnamed: 0', axis=1)\n",
    "data.head()"
   ]
  },
  {
   "cell_type": "markdown",
   "metadata": {
    "colab_type": "text",
    "id": "Yopa2-CP5BRE"
   },
   "source": [
    "# Handling Imbalanced Class Set\n",
    "* This was done by performing an Up-sample on the Minority Class\n",
    "* The value of the minority class was up sampled to match the value of the majority class"
   ]
  },
  {
   "cell_type": "code",
   "execution_count": 0,
   "metadata": {
    "colab": {},
    "colab_type": "code",
    "id": "tV5ZLkkK5BRF"
   },
   "outputs": [],
   "source": [
    "df_maj = data[data.loanDefault==0]\n",
    "df_min = data[data.loanDefault==1]\n",
    "\n",
    "df_min_upsampled = resample(df_min, \n",
    "                            replace=True,     # sample with replacement\n",
    "                            n_samples=115304,    # to match majority class\n",
    "                            random_state=42) "
   ]
  },
  {
   "cell_type": "markdown",
   "metadata": {
    "colab_type": "text",
    "id": "UI0GC_P45BRI"
   },
   "source": [
    "* Concatenate the up-sampled minority class the to the majority class"
   ]
  },
  {
   "cell_type": "code",
   "execution_count": 0,
   "metadata": {
    "colab": {},
    "colab_type": "code",
    "id": "-vNZLgwH5BRJ"
   },
   "outputs": [],
   "source": [
    "df_sampled = pd.concat([df_maj, df_min_upsampled])"
   ]
  },
  {
   "cell_type": "code",
   "execution_count": 5,
   "metadata": {
    "colab": {
     "base_uri": "https://localhost:8080/",
     "height": 33
    },
    "colab_type": "code",
    "id": "0c5OvIBJ5BRL",
    "outputId": "fa62e741-656f-4dd9-b19b-de2c5f97e3d3"
   },
   "outputs": [
    {
     "data": {
      "text/plain": [
       "(230608, 35)"
      ]
     },
     "execution_count": 5,
     "metadata": {
      "tags": []
     },
     "output_type": "execute_result"
    }
   ],
   "source": [
    "df_sampled.shape"
   ]
  },
  {
   "cell_type": "markdown",
   "metadata": {
    "colab_type": "text",
    "id": "t1PTUlKi5BRQ"
   },
   "source": [
    "* Confirming the number of samples of each class\n",
    "* They are both equal now and th data set is now balanced"
   ]
  },
  {
   "cell_type": "code",
   "execution_count": 6,
   "metadata": {
    "colab": {
     "base_uri": "https://localhost:8080/",
     "height": 66
    },
    "colab_type": "code",
    "id": "tDbOZX_c5BRR",
    "outputId": "2a9c851b-ae13-4a1e-bdf1-29b103f37294"
   },
   "outputs": [
    {
     "data": {
      "text/plain": [
       "1    115304\n",
       "0    115304\n",
       "Name: loanDefault, dtype: int64"
      ]
     },
     "execution_count": 6,
     "metadata": {
      "tags": []
     },
     "output_type": "execute_result"
    }
   ],
   "source": [
    "df_sampled.loanDefault.value_counts()"
   ]
  },
  {
   "cell_type": "markdown",
   "metadata": {
    "colab_type": "text",
    "id": "Jok_VYeh5BRV"
   },
   "source": [
    "* Assinging the target class to 'y' and data to 'X'"
   ]
  },
  {
   "cell_type": "code",
   "execution_count": 0,
   "metadata": {
    "colab": {},
    "colab_type": "code",
    "id": "Y7NpvV9O5BRW"
   },
   "outputs": [],
   "source": [
    "X = df_sampled.drop('loanDefault', axis = 1)\n",
    "y = df_sampled['loanDefault']"
   ]
  },
  {
   "cell_type": "markdown",
   "metadata": {
    "colab_type": "text",
    "id": "2JJ6lOKB5BRZ"
   },
   "source": [
    "* Split the data into train and test data using the train_test_split()"
   ]
  },
  {
   "cell_type": "code",
   "execution_count": 0,
   "metadata": {
    "colab": {},
    "colab_type": "code",
    "id": "GDwczRyl5BRa"
   },
   "outputs": [],
   "source": [
    "X_train, X_test, y_train, y_test = train_test_split(X, y, test_size=0.3, random_state=42)"
   ]
  },
  {
   "cell_type": "markdown",
   "metadata": {
    "colab_type": "text",
    "id": "ES10nFpo5BRd"
   },
   "source": [
    "# Scaled both the X_train and X_test data"
   ]
  },
  {
   "cell_type": "code",
   "execution_count": 0,
   "metadata": {
    "colab": {},
    "colab_type": "code",
    "id": "u35w7tbL5BRe"
   },
   "outputs": [],
   "source": [
    "scaled = StandardScaler()\n",
    "X_train_scaled = scaled.fit_transform(X_train)\n",
    "X_test_scaled = scaled.transform(X_test)"
   ]
  },
  {
   "cell_type": "markdown",
   "metadata": {
    "colab_type": "text",
    "id": "4s7-n3E35BRh"
   },
   "source": [
    "# Initalize Parameters"
   ]
  },
  {
   "cell_type": "code",
   "execution_count": 0,
   "metadata": {
    "colab": {},
    "colab_type": "code",
    "id": "2UZsEMz75BRi"
   },
   "outputs": [],
   "source": [
    "# number of epochs\n",
    "NUM_EPOCHS = 30\n",
    "\n",
    "# batch size\n",
    "BS = 32"
   ]
  },
  {
   "cell_type": "markdown",
   "metadata": {
    "colab_type": "text",
    "id": "FaXSFlI25BRn"
   },
   "source": [
    "# Build the Model"
   ]
  },
  {
   "cell_type": "markdown",
   "metadata": {
    "colab_type": "text",
    "id": "u5lrCBiH5BRp"
   },
   "source": [
    "# Model Architecture"
   ]
  },
  {
   "cell_type": "markdown",
   "metadata": {
    "colab_type": "text",
    "id": "3X0onNHS5BRq"
   },
   "source": [
    "* The neural network model first initialised\n",
    "* The input layer was added with 100 units, activation function used was the relu activation function, also the input shape was initialized.\n",
    "* Added two hidden layers with a 100 units and relu activation function. 100 units of hidden layer was added to increase model complexity.\n",
    "* The output layer was finally added with just a unit for the output and a sigmoid activation function which is better for binary classification problem.\n",
    "* The Dropout was used to prevent the model from overfitting. Dropout randomly reduces the neurons during the model training and limits their contribution both to activation of downstream neuron on forward pass and no weight update is passed to them on the backward pass.  Herwe the set percentage of dropout neuron was by 0.3 and 0.2 on the hidden layer.\n",
    "* The kernel_initializer set to random_uniform means the layers weight updates will be applied randomly and also uniformly \n",
    "\n",
    "* The relu activation function for the input and hidden layers and sigmoid for the output layer was used because we expect binary results from our classifier\n",
    "* print out the summary\n"
   ]
  },
  {
   "cell_type": "code",
   "execution_count": 11,
   "metadata": {
    "colab": {
     "base_uri": "https://localhost:8080/",
     "height": 443
    },
    "colab_type": "code",
    "id": "-nuKjDI_5BRs",
    "outputId": "d74787ae-e502-4333-83a8-34f19cb8dc0c"
   },
   "outputs": [
    {
     "name": "stdout",
     "output_type": "stream",
     "text": [
      "WARNING:tensorflow:From /usr/local/lib/python3.6/dist-packages/tensorflow/python/framework/op_def_library.py:263: colocate_with (from tensorflow.python.framework.ops) is deprecated and will be removed in a future version.\n",
      "Instructions for updating:\n",
      "Colocations handled automatically by placer.\n",
      "WARNING:tensorflow:From /usr/local/lib/python3.6/dist-packages/keras/backend/tensorflow_backend.py:3445: calling dropout (from tensorflow.python.ops.nn_ops) with keep_prob is deprecated and will be removed in a future version.\n",
      "Instructions for updating:\n",
      "Please use `rate` instead of `keep_prob`. Rate should be set to `rate = 1 - keep_prob`.\n",
      "_________________________________________________________________\n",
      "Layer (type)                 Output Shape              Param #   \n",
      "=================================================================\n",
      "dense_1 (Dense)              (None, 100)               3500      \n",
      "_________________________________________________________________\n",
      "dropout_1 (Dropout)          (None, 100)               0         \n",
      "_________________________________________________________________\n",
      "dense_2 (Dense)              (None, 100)               10100     \n",
      "_________________________________________________________________\n",
      "dropout_2 (Dropout)          (None, 100)               0         \n",
      "_________________________________________________________________\n",
      "dense_3 (Dense)              (None, 100)               10100     \n",
      "_________________________________________________________________\n",
      "dense_4 (Dense)              (None, 1)                 101       \n",
      "=================================================================\n",
      "Total params: 23,801\n",
      "Trainable params: 23,801\n",
      "Non-trainable params: 0\n",
      "_________________________________________________________________\n"
     ]
    }
   ],
   "source": [
    "early_stopping_monitor = EarlyStopping(patience=4)\n",
    "\n",
    "\n",
    "n_cols = X_train_scaled.shape[1]\n",
    "input_shape = (n_cols,)\n",
    "model = Sequential()\n",
    "\n",
    "#input layer\n",
    "model.add(Dense(100, activation='relu',  kernel_initializer='random_uniform', input_shape = input_shape))\n",
    "\n",
    "#hidden layers\n",
    "model.add(Dropout(0.3, noise_shape=None, seed=None))\n",
    "model.add(Dense(100, activation='relu',  kernel_initializer='random_uniform'))\n",
    "model.add(Dropout(0.2, noise_shape=None, seed=None))\n",
    "model.add(Dense(100, activation='relu',  kernel_initializer='random_uniform'))\n",
    "\n",
    "#output layers\n",
    "model.add(Dense(1, activation='sigmoid'))\n",
    "model.summary()"
   ]
  },
  {
   "cell_type": "markdown",
   "metadata": {
    "colab_type": "text",
    "id": "XzWzB0av5BRw"
   },
   "source": [
    "# Compile the Model"
   ]
  },
  {
   "cell_type": "markdown",
   "metadata": {
    "colab_type": "text",
    "id": "ltcOL8Uo5BRx"
   },
   "source": [
    "* Compile the model using the adam optimizer, binary_crossentropy loss as this is a binary classification problem and accuracy as its metrics because that is what we will test the model performance on."
   ]
  },
  {
   "cell_type": "code",
   "execution_count": 0,
   "metadata": {
    "colab": {},
    "colab_type": "code",
    "id": "LooceTJP5BRy"
   },
   "outputs": [],
   "source": [
    "model.compile(optimizer='adam', loss='binary_crossentropy', metrics=['accuracy'])"
   ]
  },
  {
   "cell_type": "markdown",
   "metadata": {
    "colab_type": "text",
    "id": "FSaBmbYi5BR3"
   },
   "source": [
    "# Train the Model "
   ]
  },
  {
   "cell_type": "markdown",
   "metadata": {
    "colab_type": "text",
    "id": "oZ7xHQ8t5BR4"
   },
   "source": [
    "* Train the model and test it on the validation data with a batch size as initialised from my hyper parameters and epoch also described from the hyper parameter tuning"
   ]
  },
  {
   "cell_type": "code",
   "execution_count": 13,
   "metadata": {
    "colab": {
     "base_uri": "https://localhost:8080/",
     "height": 1077
    },
    "colab_type": "code",
    "id": "iJwsXYyk5BR7",
    "outputId": "ffcda72e-bb2d-4b52-b40d-1e336f377b16"
   },
   "outputs": [
    {
     "name": "stdout",
     "output_type": "stream",
     "text": [
      "WARNING:tensorflow:From /usr/local/lib/python3.6/dist-packages/tensorflow/python/ops/math_ops.py:3066: to_int32 (from tensorflow.python.ops.math_ops) is deprecated and will be removed in a future version.\n",
      "Instructions for updating:\n",
      "Use tf.cast instead.\n",
      "Train on 161425 samples, validate on 69183 samples\n",
      "Epoch 1/30\n",
      "161425/161425 [==============================] - 51s 315us/step - loss: 0.3987 - acc: 0.8173 - val_loss: 0.3869 - val_acc: 0.8184\n",
      "Epoch 2/30\n",
      "161425/161425 [==============================] - 50s 311us/step - loss: 0.3864 - acc: 0.8196 - val_loss: 0.3829 - val_acc: 0.8176\n",
      "Epoch 3/30\n",
      "161425/161425 [==============================] - 50s 309us/step - loss: 0.3827 - acc: 0.8196 - val_loss: 0.3794 - val_acc: 0.8186\n",
      "Epoch 4/30\n",
      "161425/161425 [==============================] - 42s 259us/step - loss: 0.3799 - acc: 0.8198 - val_loss: 0.3770 - val_acc: 0.8188\n",
      "Epoch 5/30\n",
      "161425/161425 [==============================] - 45s 276us/step - loss: 0.3777 - acc: 0.8202 - val_loss: 0.3763 - val_acc: 0.8192\n",
      "Epoch 6/30\n",
      "161425/161425 [==============================] - 50s 311us/step - loss: 0.3766 - acc: 0.8204 - val_loss: 0.3732 - val_acc: 0.8197\n",
      "Epoch 7/30\n",
      "161425/161425 [==============================] - 51s 315us/step - loss: 0.3749 - acc: 0.8206 - val_loss: 0.3723 - val_acc: 0.8190\n",
      "Epoch 8/30\n",
      "161425/161425 [==============================] - 50s 309us/step - loss: 0.3739 - acc: 0.8209 - val_loss: 0.3708 - val_acc: 0.8198\n",
      "Epoch 9/30\n",
      "161425/161425 [==============================] - 56s 345us/step - loss: 0.3723 - acc: 0.8208 - val_loss: 0.3695 - val_acc: 0.8198\n",
      "Epoch 10/30\n",
      "161425/161425 [==============================] - 61s 379us/step - loss: 0.3716 - acc: 0.8212 - val_loss: 0.3706 - val_acc: 0.8198\n",
      "Epoch 11/30\n",
      "161425/161425 [==============================] - 60s 373us/step - loss: 0.3716 - acc: 0.8213 - val_loss: 0.3705 - val_acc: 0.8205\n",
      "Epoch 12/30\n",
      "161425/161425 [==============================] - 57s 356us/step - loss: 0.3699 - acc: 0.8217 - val_loss: 0.3676 - val_acc: 0.8201\n",
      "Epoch 13/30\n",
      "161425/161425 [==============================] - 61s 376us/step - loss: 0.3690 - acc: 0.8222 - val_loss: 0.3697 - val_acc: 0.8199\n",
      "Epoch 14/30\n",
      "161425/161425 [==============================] - 61s 380us/step - loss: 0.3682 - acc: 0.8220 - val_loss: 0.3669 - val_acc: 0.8205\n",
      "Epoch 15/30\n",
      "161425/161425 [==============================] - 60s 372us/step - loss: 0.3680 - acc: 0.8224 - val_loss: 0.3661 - val_acc: 0.8224\n",
      "Epoch 16/30\n",
      "161425/161425 [==============================] - 58s 357us/step - loss: 0.3666 - acc: 0.8230 - val_loss: 0.3673 - val_acc: 0.8226\n",
      "Epoch 17/30\n",
      "161425/161425 [==============================] - 58s 361us/step - loss: 0.3664 - acc: 0.8229 - val_loss: 0.3653 - val_acc: 0.8201\n",
      "Epoch 18/30\n",
      "161425/161425 [==============================] - 60s 371us/step - loss: 0.3661 - acc: 0.8223 - val_loss: 0.3651 - val_acc: 0.8211\n",
      "Epoch 19/30\n",
      "161425/161425 [==============================] - 59s 362us/step - loss: 0.3659 - acc: 0.8228 - val_loss: 0.3644 - val_acc: 0.8219\n",
      "Epoch 20/30\n",
      "161425/161425 [==============================] - 57s 350us/step - loss: 0.3653 - acc: 0.8229 - val_loss: 0.3657 - val_acc: 0.8215\n",
      "Epoch 21/30\n",
      "161425/161425 [==============================] - 60s 371us/step - loss: 0.3642 - acc: 0.8229 - val_loss: 0.3637 - val_acc: 0.8222\n",
      "Epoch 22/30\n",
      "161425/161425 [==============================] - 65s 405us/step - loss: 0.3644 - acc: 0.8228 - val_loss: 0.3633 - val_acc: 0.8223\n",
      "Epoch 23/30\n",
      "161425/161425 [==============================] - 65s 401us/step - loss: 0.3636 - acc: 0.8236 - val_loss: 0.3627 - val_acc: 0.8223\n",
      "Epoch 24/30\n",
      "161425/161425 [==============================] - 64s 394us/step - loss: 0.3634 - acc: 0.8234 - val_loss: 0.3635 - val_acc: 0.8210\n",
      "Epoch 25/30\n",
      "161425/161425 [==============================] - 63s 391us/step - loss: 0.3632 - acc: 0.8237 - val_loss: 0.3623 - val_acc: 0.8218\n",
      "Epoch 26/30\n",
      "161425/161425 [==============================] - 64s 395us/step - loss: 0.3623 - acc: 0.8241 - val_loss: 0.3622 - val_acc: 0.8223\n",
      "Epoch 27/30\n",
      "161425/161425 [==============================] - 65s 404us/step - loss: 0.3623 - acc: 0.8248 - val_loss: 0.3626 - val_acc: 0.8228\n",
      "Epoch 28/30\n",
      "161425/161425 [==============================] - 65s 402us/step - loss: 0.3623 - acc: 0.8240 - val_loss: 0.3609 - val_acc: 0.8222\n",
      "Epoch 29/30\n",
      "161425/161425 [==============================] - 63s 391us/step - loss: 0.3616 - acc: 0.8242 - val_loss: 0.3612 - val_acc: 0.8229\n",
      "Epoch 30/30\n",
      "161425/161425 [==============================] - 65s 403us/step - loss: 0.3610 - acc: 0.8243 - val_loss: 0.3604 - val_acc: 0.8236\n"
     ]
    }
   ],
   "source": [
    "results = model.fit(X_train_scaled, y_train, validation_data=(X_test_scaled, y_test), batch_size=BS, epochs=NUM_EPOCHS)"
   ]
  },
  {
   "cell_type": "markdown",
   "metadata": {
    "colab_type": "text",
    "id": "Pao1J9n95BSD"
   },
   "source": [
    "# Get the Test Prediction"
   ]
  },
  {
   "cell_type": "markdown",
   "metadata": {
    "colab_type": "text",
    "id": "uIzpmJaW5BSE"
   },
   "source": [
    "* Get our test prediction, convert it to binary and set the prediction threshold to 0.5"
   ]
  },
  {
   "cell_type": "code",
   "execution_count": 0,
   "metadata": {
    "colab": {},
    "colab_type": "code",
    "id": "BfuWUaN05BSF"
   },
   "outputs": [],
   "source": [
    "y_pred = model.predict(X_test_scaled)\n",
    "y_pred = (y_pred>0.4)"
   ]
  },
  {
   "cell_type": "markdown",
   "metadata": {
    "colab_type": "text",
    "id": "SKox4rzG5BSI"
   },
   "source": [
    "* Get the accuracy score from our test target data.\n",
    "* Here we got an accuracy of 82% which is decent "
   ]
  },
  {
   "cell_type": "code",
   "execution_count": 28,
   "metadata": {
    "colab": {
     "base_uri": "https://localhost:8080/",
     "height": 33
    },
    "colab_type": "code",
    "id": "18A3KqrS5BSJ",
    "outputId": "fc0ff975-b3a7-4fac-a893-3ceceaf34659"
   },
   "outputs": [
    {
     "name": "stdout",
     "output_type": "stream",
     "text": [
      "The model accuracy on test set is: 0.8201870401688276\n"
     ]
    }
   ],
   "source": [
    "print('The model accuracy on test set is: {}'.format(accuracy_score(y_test, y_pred)))"
   ]
  },
  {
   "cell_type": "code",
   "execution_count": 0,
   "metadata": {
    "colab": {},
    "colab_type": "code",
    "id": "1BgP31yisZLa"
   },
   "outputs": [],
   "source": []
  },
  {
   "cell_type": "markdown",
   "metadata": {
    "colab_type": "text",
    "id": "SbuL7ZwZ5BSM"
   },
   "source": [
    "* Print the confusion matrix"
   ]
  },
  {
   "cell_type": "code",
   "execution_count": 23,
   "metadata": {
    "colab": {
     "base_uri": "https://localhost:8080/",
     "height": 50
    },
    "colab_type": "code",
    "id": "TLTIs5wl5BSN",
    "outputId": "5d441faf-ca5f-4708-8791-3cd04090d782"
   },
   "outputs": [
    {
     "name": "stdout",
     "output_type": "stream",
     "text": [
      "[[27970  6425]\n",
      " [ 6015 28773]]\n"
     ]
    }
   ],
   "source": [
    "print(confusion_matrix(y_test, y_pred))"
   ]
  },
  {
   "cell_type": "markdown",
   "metadata": {
    "colab_type": "text",
    "id": "rbe5bfs25BSV"
   },
   "source": [
    "* Print the classification report"
   ]
  },
  {
   "cell_type": "code",
   "execution_count": 24,
   "metadata": {
    "colab": {
     "base_uri": "https://localhost:8080/",
     "height": 163
    },
    "colab_type": "code",
    "id": "_RBpvRYj5BSX",
    "outputId": "655f96ba-8b17-4ebc-eeb3-06e6b3ba0fb2"
   },
   "outputs": [
    {
     "name": "stdout",
     "output_type": "stream",
     "text": [
      "              precision    recall  f1-score   support\n",
      "\n",
      "           0       0.82      0.81      0.82     34395\n",
      "           1       0.82      0.83      0.82     34788\n",
      "\n",
      "   micro avg       0.82      0.82      0.82     69183\n",
      "   macro avg       0.82      0.82      0.82     69183\n",
      "weighted avg       0.82      0.82      0.82     69183\n",
      "\n"
     ]
    }
   ],
   "source": [
    "print(classification_report(y_test, y_pred))"
   ]
  },
  {
   "cell_type": "markdown",
   "metadata": {
    "colab_type": "text",
    "id": "jE7DlXYV5BSl"
   },
   "source": [
    "From the above classification report we can see that the model got an average accuracy of 82% on recall and f1-score while we got 83% accuracy on precision. \n",
    "\n",
    "\n",
    "From the classification report, the model is said to be a good model since we both have a high precision and recall value and the difference between the both values is not high.\n",
    "\n",
    "Also, the model has a high precision for the class one which means it has an 85% accuracy in prediction clients who will default on their loans and a high recall of 80%\n",
    "\n",
    "Also for this use case a high recall indicates that the company will be able to detect a cleint who could default on their loan, preventing the company from getting harmed  "
   ]
  },
  {
   "cell_type": "code",
   "execution_count": 0,
   "metadata": {
    "colab": {},
    "colab_type": "code",
    "id": "oA28Oqlktk1o"
   },
   "outputs": [],
   "source": [
    "predictions_prob = model.predict(X_test_scaled).ravel()\n",
    "fpr, tpr, thresholds = roc_curve(y_test, predictions_prob)"
   ]
  },
  {
   "cell_type": "code",
   "execution_count": 0,
   "metadata": {
    "colab": {},
    "colab_type": "code",
    "id": "Ug-4rR8ltmV4"
   },
   "outputs": [],
   "source": [
    "auc = auc(fpr, tpr)"
   ]
  },
  {
   "cell_type": "code",
   "execution_count": 35,
   "metadata": {
    "colab": {
     "base_uri": "https://localhost:8080/",
     "height": 380
    },
    "colab_type": "code",
    "id": "_0LYg97ntpaV",
    "outputId": "db375eeb-05a6-4fbc-bdb7-975131213dc2"
   },
   "outputs": [
    {
     "data": {
      "image/png": "[encoded data removed]",
      "text/plain": [
       "<Figure size 576x396 with 1 Axes>"
      ]
     },
     "metadata": {
      "tags": []
     },
     "output_type": "display_data"
    }
   ],
   "source": [
    "plt.plot([0, 1], [0, 1], 'k--')\n",
    "plt.plot(fpr, tpr, label='Neural Network (area = {:.3f})'.format(auc))\n",
    "plt.xlabel('False positive rate')\n",
    "plt.ylabel('True positive rate')\n",
    "plt.title('ROC curve')\n",
    "plt.legend(loc='best')\n",
    "plt.show()"
   ]
  },
  {
   "cell_type": "markdown",
   "metadata": {
    "colab_type": "text",
    "id": "HXUG4Mzj5BSn"
   },
   "source": [
    "# PLOT THE TRAINING LOSS AND ACCURACY"
   ]
  },
  {
   "cell_type": "code",
   "execution_count": 25,
   "metadata": {
    "colab": {
     "base_uri": "https://localhost:8080/",
     "height": 396
    },
    "colab_type": "code",
    "id": "VttlZSKI5BSp",
    "outputId": "639c2be6-4954-4edd-fa55-0cde68c223d1"
   },
   "outputs": [
    {
     "data": {
      "text/plain": [
       "<matplotlib.legend.Legend at 0x7f40f52d9978>"
      ]
     },
     "execution_count": 25,
     "metadata": {
      "tags": []
     },
     "output_type": "execute_result"
    },
    {
     "data": {
      "image/png": "[encoded data removed]",
      "text/plain": [
       "<Figure size 576x396 with 1 Axes>"
      ]
     },
     "metadata": {
      "tags": []
     },
     "output_type": "display_data"
    }
   ],
   "source": [
    "# plot the training loss and accuracy\n",
    "N = NUM_EPOCHS\n",
    "plt.style.use(\"ggplot\")\n",
    "plt.figure()\n",
    "plt.plot(np.arange(0, N), results.history[\"loss\"], label=\"train_loss\")\n",
    "plt.plot(np.arange(0, N), results.history[\"val_loss\"], label=\"val_loss\")\n",
    "plt.plot(np.arange(0, N), results.history[\"acc\"], label=\"train_acc\")\n",
    "plt.plot(np.arange(0, N), results.history[\"val_acc\"], label=\"val_acc\")\n",
    "plt.title(\"Training Loss and Accuracy on Dataset\")\n",
    "plt.xlabel(\"Epoch #\")\n",
    "plt.ylabel(\"Loss/Accuracy\")\n",
    "plt.legend(loc=\"best\")"
   ]
  },
  {
   "cell_type": "markdown",
   "metadata": {
    "colab_type": "text",
    "id": "6eJjofbx5BSs"
   },
   "source": [
    "The above curve shows that the both the training loss and validation loss decreases at alomost the same rate as the model was training and the number of epoch increased.\n",
    "\n",
    "Also, the train accuracy and validation accuracy slightly increases as the model trains and is validated on the validation data. We got a good train accuracy of 82% and validation accuracy of 82% which shows that the model was not over fitting as there was no difference or no much difference between the train accuracy and test accuracy.\n",
    "\n",
    "The model would have been seen as over fitting on the training data if the training accuracy was much higher that the validation accuracy e.g training accuracy as 95% and test accuracy as 56%\n",
    "\n",
    "or it would have been under fitting on the training data if the training accuracy was much lower that the validation accuracy e.g training accuracy 56% and validation accuracy as 90%"
   ]
  },
  {
   "cell_type": "code",
   "execution_count": 26,
   "metadata": {
    "colab": {
     "base_uri": "https://localhost:8080/",
     "height": 33
    },
    "colab_type": "code",
    "id": "D-FW_M6l5BSt",
    "outputId": "2875cfb5-df36-4782-c10a-67a4af5122be"
   },
   "outputs": [
    {
     "name": "stdout",
     "output_type": "stream",
     "text": [
      "Test-Accuracy: 0.820817734603516\n"
     ]
    }
   ],
   "source": [
    "print(\"Test-Accuracy:\", np.mean(results.history[\"val_acc\"]))"
   ]
  },
  {
   "cell_type": "code",
   "execution_count": 27,
   "metadata": {
    "colab": {
     "base_uri": "https://localhost:8080/",
     "height": 33
    },
    "colab_type": "code",
    "id": "868DVSWk5BSw",
    "outputId": "a969f3aa-88bc-4ffa-acaa-bbd0037b113f"
   },
   "outputs": [
    {
     "name": "stdout",
     "output_type": "stream",
     "text": [
      "Train-Accuracy: 0.8220618450270915\n"
     ]
    }
   ],
   "source": [
    "print(\"Train-Accuracy:\", np.mean(results.history[\"acc\"]))"
   ]
  },
  {
   "cell_type": "markdown",
   "metadata": {
    "colab_type": "text",
    "id": "r7KuidlH5BSz"
   },
   "source": [
    "# Final Comparison"
   ]
  },
  {
   "cell_type": "code",
   "execution_count": 0,
   "metadata": {
    "colab": {},
    "colab_type": "code",
    "id": "JGawuK0r5BS0"
   },
   "outputs": [],
   "source": []
  },
  {
   "cell_type": "markdown",
   "metadata": {
    "colab_type": "text",
    "id": "Eo8gQ82ytIVC"
   },
   "source": [
    "For the final model comparison, I will be comparing the models based on their auc score and roc curve because when we do have a model built on a balanced class ROC-AUC is the better metric for determining which model performs better.\n",
    "\n",
    "* The roc curve of the neural network model has an area under curve as 91%\n",
    "* The roc curve of the random forest model has an area under curve as 90%\n",
    "\n",
    "From the above AUC score we can say that the Neural Network slightly better that the Random Forest Model.\n",
    "\n",
    "Comparing the models based on their precision, recall and f1-score\n",
    "It is important to note that for this use case the class our model is meant to pay attention to is the class 1 which predicts users who could default on their loan. And that lead us in choosing recall as our most important metric to compare performance on.\n",
    "* Precision means the percentage of our models prediction that is accurate\n",
    "* Recall means the percentage of the total relevant class classified by the algorithm. For this use case we should not that we won't b bothered if our model wrongly specify a client as potential loan defaulter. When a client is wrongly classified as non- defualter this decision can be harmful to our business. That is why recall is the best metric here.\n",
    "\n",
    "For the Neural Network. We have a recall of 81% on class 0 and 83% on class 1.\n",
    "For the Random Forest Classifier we have a recall of 88% on class 0 and 76% on class 1.\n",
    "\n",
    "Neural Network is also the best performing model since it has an accuracy of 83% on the class 1 prediction. Correctly identifying potential loan defaulters which will save the company from loss.\n",
    "\n",
    "\n",
    "For my choice of model to pick, I will go with the Neural Network Model as it is the best performing model."
   ]
  },
  {
   "cell_type": "code",
   "execution_count": 0,
   "metadata": {
    "colab": {},
    "colab_type": "code",
    "id": "b9gy6AxY19cW"
   },
   "outputs": [],
   "source": []
  }
 ],
 "metadata": {
  "accelerator": "GPU",
  "colab": {
   "collapsed_sections": [],
   "name": "Neural Network ekainugodwin@gmail.com.ipynb",
   "provenance": [],
   "toc_visible": true,
   "version": "0.3.2"
  },
  "kernelspec": {
   "display_name": "Python 3",
   "language": "python",
   "name": "python3"
  },
  "language_info": {
   "codemirror_mode": {
    "name": "ipython",
    "version": 3
   },
   "file_extension": ".py",
   "mimetype": "text/x-python",
   "name": "python",
   "nbconvert_exporter": "python",
   "pygments_lexer": "ipython3",
   "version": "3.6.8"
  }
 },
 "nbformat": 4,
 "nbformat_minor": 1
}
