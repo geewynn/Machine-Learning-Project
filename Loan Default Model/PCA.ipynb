{
 "cells": [
  {
   "cell_type": "markdown",
   "metadata": {},
   "source": [
    "# Import Modules"
   ]
  },
  {
   "cell_type": "code",
   "execution_count": 1,
   "metadata": {},
   "outputs": [],
   "source": [
    "import pandas as pd\n",
    "import numpy as np\n",
    "from sklearn.preprocessing import StandardScaler\n",
    "from sklearn.decomposition import PCA\n",
    "from sklearn.cluster import KMeans\n",
    "import matplotlib.pyplot as plt\n",
    "import seaborn as sns\n",
    "%matplotlib inline"
   ]
  },
  {
   "cell_type": "markdown",
   "metadata": {},
   "source": [
    "# **Read the Data**\n",
    "\n",
    "Read the data using pd.read_csv()"
   ]
  },
  {
   "cell_type": "code",
   "execution_count": 2,
   "metadata": {},
   "outputs": [
    {
     "data": {
      "text/html": [
       "<div>\n",
       "<style scoped>\n",
       "    .dataframe tbody tr th:only-of-type {\n",
       "        vertical-align: middle;\n",
       "    }\n",
       "\n",
       "    .dataframe tbody tr th {\n",
       "        vertical-align: top;\n",
       "    }\n",
       "\n",
       "    .dataframe thead th {\n",
       "        text-align: right;\n",
       "    }\n",
       "</style>\n",
       "<table border=\"1\" class=\"dataframe\">\n",
       "  <thead>\n",
       "    <tr style=\"text-align: right;\">\n",
       "      <th></th>\n",
       "      <th>createdAt_Month</th>\n",
       "      <th>Reason</th>\n",
       "      <th>application_id</th>\n",
       "      <th>SystemCustomerID</th>\n",
       "      <th>SystemLoanID</th>\n",
       "      <th>income_source</th>\n",
       "      <th>income_verified</th>\n",
       "      <th>next_loan_number</th>\n",
       "      <th>country</th>\n",
       "      <th>DecisionFlag</th>\n",
       "      <th>...</th>\n",
       "      <th>callFeatures_no_distinct_call_numbers_out</th>\n",
       "      <th>callFeatures_no_calls_over_zero_secs_out</th>\n",
       "      <th>callFeatures_no_calls_out</th>\n",
       "      <th>predictedIncome</th>\n",
       "      <th>installationId</th>\n",
       "      <th>obiResult_scorecard</th>\n",
       "      <th>obiResult_score</th>\n",
       "      <th>obiResult_riskLevel</th>\n",
       "      <th>obiResult_ratingClass</th>\n",
       "      <th>obiResult_ncngav2Id</th>\n",
       "    </tr>\n",
       "  </thead>\n",
       "  <tbody>\n",
       "    <tr>\n",
       "      <th>0</th>\n",
       "      <td>201812</td>\n",
       "      <td>Client did not meet approval score.</td>\n",
       "      <td>WRYRieZlqBsT6w53b2HDpA_1544015103274</td>\n",
       "      <td>334043596</td>\n",
       "      <td>302881418623</td>\n",
       "      <td>credit</td>\n",
       "      <td>True</td>\n",
       "      <td>1</td>\n",
       "      <td>NG</td>\n",
       "      <td>Declined</td>\n",
       "      <td>...</td>\n",
       "      <td>139.0</td>\n",
       "      <td>287.0</td>\n",
       "      <td>655.0</td>\n",
       "      <td>105872.674499</td>\n",
       "      <td>374ac87639a74b3e01465993be618360</td>\n",
       "      <td>NC_NGA_V2</td>\n",
       "      <td>337.57000</td>\n",
       "      <td>Decline</td>\n",
       "      <td>NaN</td>\n",
       "      <td>a6e99ddb-2c95-4b1e-90cb-d05ffa9d1c9a</td>\n",
       "    </tr>\n",
       "    <tr>\n",
       "      <th>1</th>\n",
       "      <td>201809</td>\n",
       "      <td>Client did not meet approval score.</td>\n",
       "      <td>oVpQz7tgkPa3bmvVDzYqw_1530858694219</td>\n",
       "      <td>524284563</td>\n",
       "      <td>302328949395</td>\n",
       "      <td>credit</td>\n",
       "      <td>True</td>\n",
       "      <td>4</td>\n",
       "      <td>NG</td>\n",
       "      <td>Declined</td>\n",
       "      <td>...</td>\n",
       "      <td>327.0</td>\n",
       "      <td>1114.0</td>\n",
       "      <td>2923.0</td>\n",
       "      <td>34421.220891</td>\n",
       "      <td>e24749e856614a1ae3734c773670f74c</td>\n",
       "      <td>NaN</td>\n",
       "      <td>NaN</td>\n",
       "      <td>NaN</td>\n",
       "      <td>NaN</td>\n",
       "      <td>NaN</td>\n",
       "    </tr>\n",
       "    <tr>\n",
       "      <th>2</th>\n",
       "      <td>201810</td>\n",
       "      <td>Client did not meet approval score.</td>\n",
       "      <td>WCONqdL9BlaRetaDRERg_1538822524979</td>\n",
       "      <td>481582700</td>\n",
       "      <td>302536536368</td>\n",
       "      <td>credit</td>\n",
       "      <td>True</td>\n",
       "      <td>2</td>\n",
       "      <td>NG</td>\n",
       "      <td>Declined</td>\n",
       "      <td>...</td>\n",
       "      <td>139.0</td>\n",
       "      <td>583.0</td>\n",
       "      <td>1115.0</td>\n",
       "      <td>14447.944277</td>\n",
       "      <td>abe46a8fe9345c0b230c3fcaa5ddbbbc</td>\n",
       "      <td>NaN</td>\n",
       "      <td>NaN</td>\n",
       "      <td>NaN</td>\n",
       "      <td>NaN</td>\n",
       "      <td>NaN</td>\n",
       "    </tr>\n",
       "    <tr>\n",
       "      <th>3</th>\n",
       "      <td>201812</td>\n",
       "      <td>Client did not meet approval score.</td>\n",
       "      <td>Wi5dgyaoGQ9yciK89PEg_1544071630964</td>\n",
       "      <td>234330495</td>\n",
       "      <td>302887567434</td>\n",
       "      <td>credit</td>\n",
       "      <td>True</td>\n",
       "      <td>1</td>\n",
       "      <td>NG</td>\n",
       "      <td>Declined</td>\n",
       "      <td>...</td>\n",
       "      <td>46.0</td>\n",
       "      <td>38.0</td>\n",
       "      <td>108.0</td>\n",
       "      <td>52952.581832</td>\n",
       "      <td>cfe3f3006f8e9799e9d17859df394b18</td>\n",
       "      <td>NC_NGA_V2</td>\n",
       "      <td>394.94000</td>\n",
       "      <td>Decline</td>\n",
       "      <td>18a</td>\n",
       "      <td>da360fe9-8e86-4031-afb9-2143a3f734ee</td>\n",
       "    </tr>\n",
       "    <tr>\n",
       "      <th>4</th>\n",
       "      <td>201901</td>\n",
       "      <td>Client did not meet approval score.</td>\n",
       "      <td>16JgKGioSsWVaWdY7noC8A_1547701922961</td>\n",
       "      <td>563455515</td>\n",
       "      <td>303057983993</td>\n",
       "      <td>credit</td>\n",
       "      <td>True</td>\n",
       "      <td>2</td>\n",
       "      <td>NG</td>\n",
       "      <td>Declined</td>\n",
       "      <td>...</td>\n",
       "      <td>114.0</td>\n",
       "      <td>549.0</td>\n",
       "      <td>1474.0</td>\n",
       "      <td>31577.275467</td>\n",
       "      <td>7af8400ec773914c8d1fed044aa420b7</td>\n",
       "      <td>RC_NGA_V1L</td>\n",
       "      <td>423.70578</td>\n",
       "      <td>Decline</td>\n",
       "      <td>NaN</td>\n",
       "      <td>NaN</td>\n",
       "    </tr>\n",
       "  </tbody>\n",
       "</table>\n",
       "<p>5 rows × 289 columns</p>\n",
       "</div>"
      ],
      "text/plain": [
       "   createdAt_Month                               Reason  \\\n",
       "0           201812  Client did not meet approval score.   \n",
       "1           201809  Client did not meet approval score.   \n",
       "2           201810  Client did not meet approval score.   \n",
       "3           201812  Client did not meet approval score.   \n",
       "4           201901  Client did not meet approval score.   \n",
       "\n",
       "                         application_id  SystemCustomerID  SystemLoanID  \\\n",
       "0  WRYRieZlqBsT6w53b2HDpA_1544015103274         334043596  302881418623   \n",
       "1   oVpQz7tgkPa3bmvVDzYqw_1530858694219         524284563  302328949395   \n",
       "2    WCONqdL9BlaRetaDRERg_1538822524979         481582700  302536536368   \n",
       "3    Wi5dgyaoGQ9yciK89PEg_1544071630964         234330495  302887567434   \n",
       "4  16JgKGioSsWVaWdY7noC8A_1547701922961         563455515  303057983993   \n",
       "\n",
       "  income_source  income_verified  next_loan_number country DecisionFlag  \\\n",
       "0        credit             True                 1      NG     Declined   \n",
       "1        credit             True                 4      NG     Declined   \n",
       "2        credit             True                 2      NG     Declined   \n",
       "3        credit             True                 1      NG     Declined   \n",
       "4        credit             True                 2      NG     Declined   \n",
       "\n",
       "                   ...                   \\\n",
       "0                  ...                    \n",
       "1                  ...                    \n",
       "2                  ...                    \n",
       "3                  ...                    \n",
       "4                  ...                    \n",
       "\n",
       "  callFeatures_no_distinct_call_numbers_out  \\\n",
       "0                                     139.0   \n",
       "1                                     327.0   \n",
       "2                                     139.0   \n",
       "3                                      46.0   \n",
       "4                                     114.0   \n",
       "\n",
       "   callFeatures_no_calls_over_zero_secs_out callFeatures_no_calls_out  \\\n",
       "0                                     287.0                     655.0   \n",
       "1                                    1114.0                    2923.0   \n",
       "2                                     583.0                    1115.0   \n",
       "3                                      38.0                     108.0   \n",
       "4                                     549.0                    1474.0   \n",
       "\n",
       "  predictedIncome                    installationId obiResult_scorecard  \\\n",
       "0   105872.674499  374ac87639a74b3e01465993be618360           NC_NGA_V2   \n",
       "1    34421.220891  e24749e856614a1ae3734c773670f74c                 NaN   \n",
       "2    14447.944277  abe46a8fe9345c0b230c3fcaa5ddbbbc                 NaN   \n",
       "3    52952.581832  cfe3f3006f8e9799e9d17859df394b18           NC_NGA_V2   \n",
       "4    31577.275467  7af8400ec773914c8d1fed044aa420b7          RC_NGA_V1L   \n",
       "\n",
       "   obiResult_score  obiResult_riskLevel  obiResult_ratingClass  \\\n",
       "0        337.57000              Decline                    NaN   \n",
       "1              NaN                  NaN                    NaN   \n",
       "2              NaN                  NaN                    NaN   \n",
       "3        394.94000              Decline                    18a   \n",
       "4        423.70578              Decline                    NaN   \n",
       "\n",
       "                    obiResult_ncngav2Id  \n",
       "0  a6e99ddb-2c95-4b1e-90cb-d05ffa9d1c9a  \n",
       "1                                   NaN  \n",
       "2                                   NaN  \n",
       "3  da360fe9-8e86-4031-afb9-2143a3f734ee  \n",
       "4                                   NaN  \n",
       "\n",
       "[5 rows x 289 columns]"
      ]
     },
     "execution_count": 2,
     "metadata": {},
     "output_type": "execute_result"
    }
   ],
   "source": [
    "df = pd.read_csv('week3_challenge.csv')\n",
    "df = df.drop(\"Unnamed: 0\", axis=1)\n",
    "df.head()"
   ]
  },
  {
   "cell_type": "markdown",
   "metadata": {},
   "source": [
    "# Drop Columns with more than 30% values missing\n",
    "\n"
   ]
  },
  {
   "cell_type": "code",
   "execution_count": 3,
   "metadata": {},
   "outputs": [
    {
     "data": {
      "text/html": [
       "<div>\n",
       "<style scoped>\n",
       "    .dataframe tbody tr th:only-of-type {\n",
       "        vertical-align: middle;\n",
       "    }\n",
       "\n",
       "    .dataframe tbody tr th {\n",
       "        vertical-align: top;\n",
       "    }\n",
       "\n",
       "    .dataframe thead th {\n",
       "        text-align: right;\n",
       "    }\n",
       "</style>\n",
       "<table border=\"1\" class=\"dataframe\">\n",
       "  <thead>\n",
       "    <tr style=\"text-align: right;\">\n",
       "      <th></th>\n",
       "      <th>createdAt_Month</th>\n",
       "      <th>Reason</th>\n",
       "      <th>application_id</th>\n",
       "      <th>SystemCustomerID</th>\n",
       "      <th>SystemLoanID</th>\n",
       "      <th>income_source</th>\n",
       "      <th>income_verified</th>\n",
       "      <th>next_loan_number</th>\n",
       "      <th>country</th>\n",
       "      <th>DecisionFlag</th>\n",
       "      <th>...</th>\n",
       "      <th>callFeatures_vol_calls_2_mnth_out</th>\n",
       "      <th>callFeatures_vol_calls_3_mnth_out</th>\n",
       "      <th>callFeatures_dur_calls_out</th>\n",
       "      <th>callFeatures_dur_calls_contacts_out</th>\n",
       "      <th>callFeatures_ratio_contacts_out</th>\n",
       "      <th>callFeatures_no_distinct_call_numbers_out</th>\n",
       "      <th>callFeatures_no_calls_over_zero_secs_out</th>\n",
       "      <th>callFeatures_no_calls_out</th>\n",
       "      <th>predictedIncome</th>\n",
       "      <th>installationId</th>\n",
       "    </tr>\n",
       "  </thead>\n",
       "  <tbody>\n",
       "    <tr>\n",
       "      <th>0</th>\n",
       "      <td>201812</td>\n",
       "      <td>Client did not meet approval score.</td>\n",
       "      <td>WRYRieZlqBsT6w53b2HDpA_1544015103274</td>\n",
       "      <td>334043596</td>\n",
       "      <td>302881418623</td>\n",
       "      <td>credit</td>\n",
       "      <td>True</td>\n",
       "      <td>1</td>\n",
       "      <td>NG</td>\n",
       "      <td>Declined</td>\n",
       "      <td>...</td>\n",
       "      <td>0.0</td>\n",
       "      <td>0.0</td>\n",
       "      <td>48872.0</td>\n",
       "      <td>0.985554</td>\n",
       "      <td>0.929771</td>\n",
       "      <td>139.0</td>\n",
       "      <td>287.0</td>\n",
       "      <td>655.0</td>\n",
       "      <td>105872.674499</td>\n",
       "      <td>374ac87639a74b3e01465993be618360</td>\n",
       "    </tr>\n",
       "    <tr>\n",
       "      <th>1</th>\n",
       "      <td>201809</td>\n",
       "      <td>Client did not meet approval score.</td>\n",
       "      <td>oVpQz7tgkPa3bmvVDzYqw_1530858694219</td>\n",
       "      <td>524284563</td>\n",
       "      <td>302328949395</td>\n",
       "      <td>credit</td>\n",
       "      <td>True</td>\n",
       "      <td>4</td>\n",
       "      <td>NG</td>\n",
       "      <td>Declined</td>\n",
       "      <td>...</td>\n",
       "      <td>0.0</td>\n",
       "      <td>0.0</td>\n",
       "      <td>65335.0</td>\n",
       "      <td>0.956868</td>\n",
       "      <td>0.917550</td>\n",
       "      <td>327.0</td>\n",
       "      <td>1114.0</td>\n",
       "      <td>2923.0</td>\n",
       "      <td>34421.220891</td>\n",
       "      <td>e24749e856614a1ae3734c773670f74c</td>\n",
       "    </tr>\n",
       "    <tr>\n",
       "      <th>2</th>\n",
       "      <td>201810</td>\n",
       "      <td>Client did not meet approval score.</td>\n",
       "      <td>WCONqdL9BlaRetaDRERg_1538822524979</td>\n",
       "      <td>481582700</td>\n",
       "      <td>302536536368</td>\n",
       "      <td>credit</td>\n",
       "      <td>True</td>\n",
       "      <td>2</td>\n",
       "      <td>NG</td>\n",
       "      <td>Declined</td>\n",
       "      <td>...</td>\n",
       "      <td>0.0</td>\n",
       "      <td>0.0</td>\n",
       "      <td>98762.0</td>\n",
       "      <td>0.000000</td>\n",
       "      <td>0.000000</td>\n",
       "      <td>139.0</td>\n",
       "      <td>583.0</td>\n",
       "      <td>1115.0</td>\n",
       "      <td>14447.944277</td>\n",
       "      <td>abe46a8fe9345c0b230c3fcaa5ddbbbc</td>\n",
       "    </tr>\n",
       "    <tr>\n",
       "      <th>3</th>\n",
       "      <td>201812</td>\n",
       "      <td>Client did not meet approval score.</td>\n",
       "      <td>Wi5dgyaoGQ9yciK89PEg_1544071630964</td>\n",
       "      <td>234330495</td>\n",
       "      <td>302887567434</td>\n",
       "      <td>credit</td>\n",
       "      <td>True</td>\n",
       "      <td>1</td>\n",
       "      <td>NG</td>\n",
       "      <td>Declined</td>\n",
       "      <td>...</td>\n",
       "      <td>50.0</td>\n",
       "      <td>0.0</td>\n",
       "      <td>1530.0</td>\n",
       "      <td>0.762092</td>\n",
       "      <td>0.777778</td>\n",
       "      <td>46.0</td>\n",
       "      <td>38.0</td>\n",
       "      <td>108.0</td>\n",
       "      <td>52952.581832</td>\n",
       "      <td>cfe3f3006f8e9799e9d17859df394b18</td>\n",
       "    </tr>\n",
       "    <tr>\n",
       "      <th>4</th>\n",
       "      <td>201901</td>\n",
       "      <td>Client did not meet approval score.</td>\n",
       "      <td>16JgKGioSsWVaWdY7noC8A_1547701922961</td>\n",
       "      <td>563455515</td>\n",
       "      <td>303057983993</td>\n",
       "      <td>credit</td>\n",
       "      <td>True</td>\n",
       "      <td>2</td>\n",
       "      <td>NG</td>\n",
       "      <td>Declined</td>\n",
       "      <td>...</td>\n",
       "      <td>0.0</td>\n",
       "      <td>0.0</td>\n",
       "      <td>29949.0</td>\n",
       "      <td>0.937828</td>\n",
       "      <td>0.938942</td>\n",
       "      <td>114.0</td>\n",
       "      <td>549.0</td>\n",
       "      <td>1474.0</td>\n",
       "      <td>31577.275467</td>\n",
       "      <td>7af8400ec773914c8d1fed044aa420b7</td>\n",
       "    </tr>\n",
       "  </tbody>\n",
       "</table>\n",
       "<p>5 rows × 271 columns</p>\n",
       "</div>"
      ],
      "text/plain": [
       "   createdAt_Month                               Reason  \\\n",
       "0           201812  Client did not meet approval score.   \n",
       "1           201809  Client did not meet approval score.   \n",
       "2           201810  Client did not meet approval score.   \n",
       "3           201812  Client did not meet approval score.   \n",
       "4           201901  Client did not meet approval score.   \n",
       "\n",
       "                         application_id  SystemCustomerID  SystemLoanID  \\\n",
       "0  WRYRieZlqBsT6w53b2HDpA_1544015103274         334043596  302881418623   \n",
       "1   oVpQz7tgkPa3bmvVDzYqw_1530858694219         524284563  302328949395   \n",
       "2    WCONqdL9BlaRetaDRERg_1538822524979         481582700  302536536368   \n",
       "3    Wi5dgyaoGQ9yciK89PEg_1544071630964         234330495  302887567434   \n",
       "4  16JgKGioSsWVaWdY7noC8A_1547701922961         563455515  303057983993   \n",
       "\n",
       "  income_source  income_verified  next_loan_number country DecisionFlag  \\\n",
       "0        credit             True                 1      NG     Declined   \n",
       "1        credit             True                 4      NG     Declined   \n",
       "2        credit             True                 2      NG     Declined   \n",
       "3        credit             True                 1      NG     Declined   \n",
       "4        credit             True                 2      NG     Declined   \n",
       "\n",
       "                 ...                callFeatures_vol_calls_2_mnth_out  \\\n",
       "0                ...                                              0.0   \n",
       "1                ...                                              0.0   \n",
       "2                ...                                              0.0   \n",
       "3                ...                                             50.0   \n",
       "4                ...                                              0.0   \n",
       "\n",
       "   callFeatures_vol_calls_3_mnth_out callFeatures_dur_calls_out  \\\n",
       "0                                0.0                    48872.0   \n",
       "1                                0.0                    65335.0   \n",
       "2                                0.0                    98762.0   \n",
       "3                                0.0                     1530.0   \n",
       "4                                0.0                    29949.0   \n",
       "\n",
       "  callFeatures_dur_calls_contacts_out  callFeatures_ratio_contacts_out  \\\n",
       "0                            0.985554                         0.929771   \n",
       "1                            0.956868                         0.917550   \n",
       "2                            0.000000                         0.000000   \n",
       "3                            0.762092                         0.777778   \n",
       "4                            0.937828                         0.938942   \n",
       "\n",
       "  callFeatures_no_distinct_call_numbers_out  \\\n",
       "0                                     139.0   \n",
       "1                                     327.0   \n",
       "2                                     139.0   \n",
       "3                                      46.0   \n",
       "4                                     114.0   \n",
       "\n",
       "   callFeatures_no_calls_over_zero_secs_out  callFeatures_no_calls_out  \\\n",
       "0                                     287.0                      655.0   \n",
       "1                                    1114.0                     2923.0   \n",
       "2                                     583.0                     1115.0   \n",
       "3                                      38.0                      108.0   \n",
       "4                                     549.0                     1474.0   \n",
       "\n",
       "  predictedIncome                    installationId  \n",
       "0   105872.674499  374ac87639a74b3e01465993be618360  \n",
       "1    34421.220891  e24749e856614a1ae3734c773670f74c  \n",
       "2    14447.944277  abe46a8fe9345c0b230c3fcaa5ddbbbc  \n",
       "3    52952.581832  cfe3f3006f8e9799e9d17859df394b18  \n",
       "4    31577.275467  7af8400ec773914c8d1fed044aa420b7  \n",
       "\n",
       "[5 rows x 271 columns]"
      ]
     },
     "execution_count": 3,
     "metadata": {},
     "output_type": "execute_result"
    }
   ],
   "source": [
    "df_drop_null = df.dropna(thresh=df.shape[0]*0.6,how='all',axis=1)\n",
    "df_drop_null.head()"
   ]
  },
  {
   "cell_type": "markdown",
   "metadata": {},
   "source": [
    "# Number of Columns Dropped"
   ]
  },
  {
   "cell_type": "code",
   "execution_count": 4,
   "metadata": {},
   "outputs": [
    {
     "name": "stdout",
     "output_type": "stream",
     "text": [
      "The number of columns dropped is 18\n"
     ]
    }
   ],
   "source": [
    "diff = len(df.columns)- len(df_drop_null.columns)\n",
    "print('The number of columns dropped is {}'.format(diff))"
   ]
  },
  {
   "cell_type": "markdown",
   "metadata": {},
   "source": [
    "# Select all Numeric Columns"
   ]
  },
  {
   "cell_type": "code",
   "execution_count": 5,
   "metadata": {},
   "outputs": [
    {
     "data": {
      "text/html": [
       "<div>\n",
       "<style scoped>\n",
       "    .dataframe tbody tr th:only-of-type {\n",
       "        vertical-align: middle;\n",
       "    }\n",
       "\n",
       "    .dataframe tbody tr th {\n",
       "        vertical-align: top;\n",
       "    }\n",
       "\n",
       "    .dataframe thead th {\n",
       "        text-align: right;\n",
       "    }\n",
       "</style>\n",
       "<table border=\"1\" class=\"dataframe\">\n",
       "  <thead>\n",
       "    <tr style=\"text-align: right;\">\n",
       "      <th></th>\n",
       "      <th>createdAt_Month</th>\n",
       "      <th>SystemCustomerID</th>\n",
       "      <th>SystemLoanID</th>\n",
       "      <th>next_loan_number</th>\n",
       "      <th>Income</th>\n",
       "      <th>__v</th>\n",
       "      <th>demofeatures_net_income_band</th>\n",
       "      <th>demofeatures_appweek</th>\n",
       "      <th>demofeatures_age_at_application_yrs</th>\n",
       "      <th>demofeatures_num_children</th>\n",
       "      <th>...</th>\n",
       "      <th>callFeatures_vol_calls_1_mnth_out</th>\n",
       "      <th>callFeatures_vol_calls_2_mnth_out</th>\n",
       "      <th>callFeatures_vol_calls_3_mnth_out</th>\n",
       "      <th>callFeatures_dur_calls_out</th>\n",
       "      <th>callFeatures_dur_calls_contacts_out</th>\n",
       "      <th>callFeatures_ratio_contacts_out</th>\n",
       "      <th>callFeatures_no_distinct_call_numbers_out</th>\n",
       "      <th>callFeatures_no_calls_over_zero_secs_out</th>\n",
       "      <th>callFeatures_no_calls_out</th>\n",
       "      <th>predictedIncome</th>\n",
       "    </tr>\n",
       "  </thead>\n",
       "  <tbody>\n",
       "    <tr>\n",
       "      <th>0</th>\n",
       "      <td>201812</td>\n",
       "      <td>334043596</td>\n",
       "      <td>302881418623</td>\n",
       "      <td>1</td>\n",
       "      <td>200000.0</td>\n",
       "      <td>0.0</td>\n",
       "      <td>200000.0</td>\n",
       "      <td>1.0</td>\n",
       "      <td>28.0</td>\n",
       "      <td>0.0</td>\n",
       "      <td>...</td>\n",
       "      <td>655.0</td>\n",
       "      <td>0.0</td>\n",
       "      <td>0.0</td>\n",
       "      <td>48872.0</td>\n",
       "      <td>0.985554</td>\n",
       "      <td>0.929771</td>\n",
       "      <td>139.0</td>\n",
       "      <td>287.0</td>\n",
       "      <td>655.0</td>\n",
       "      <td>105872.674499</td>\n",
       "    </tr>\n",
       "    <tr>\n",
       "      <th>1</th>\n",
       "      <td>201809</td>\n",
       "      <td>524284563</td>\n",
       "      <td>302328949395</td>\n",
       "      <td>4</td>\n",
       "      <td>80000.0</td>\n",
       "      <td>0.0</td>\n",
       "      <td>100000.0</td>\n",
       "      <td>1.0</td>\n",
       "      <td>33.0</td>\n",
       "      <td>0.0</td>\n",
       "      <td>...</td>\n",
       "      <td>2923.0</td>\n",
       "      <td>0.0</td>\n",
       "      <td>0.0</td>\n",
       "      <td>65335.0</td>\n",
       "      <td>0.956868</td>\n",
       "      <td>0.917550</td>\n",
       "      <td>327.0</td>\n",
       "      <td>1114.0</td>\n",
       "      <td>2923.0</td>\n",
       "      <td>34421.220891</td>\n",
       "    </tr>\n",
       "    <tr>\n",
       "      <th>2</th>\n",
       "      <td>201810</td>\n",
       "      <td>481582700</td>\n",
       "      <td>302536536368</td>\n",
       "      <td>2</td>\n",
       "      <td>39500.0</td>\n",
       "      <td>0.0</td>\n",
       "      <td>50000.0</td>\n",
       "      <td>2.0</td>\n",
       "      <td>26.0</td>\n",
       "      <td>0.0</td>\n",
       "      <td>...</td>\n",
       "      <td>1115.0</td>\n",
       "      <td>0.0</td>\n",
       "      <td>0.0</td>\n",
       "      <td>98762.0</td>\n",
       "      <td>0.000000</td>\n",
       "      <td>0.000000</td>\n",
       "      <td>139.0</td>\n",
       "      <td>583.0</td>\n",
       "      <td>1115.0</td>\n",
       "      <td>14447.944277</td>\n",
       "    </tr>\n",
       "    <tr>\n",
       "      <th>3</th>\n",
       "      <td>201812</td>\n",
       "      <td>234330495</td>\n",
       "      <td>302887567434</td>\n",
       "      <td>1</td>\n",
       "      <td>50000.0</td>\n",
       "      <td>0.0</td>\n",
       "      <td>50000.0</td>\n",
       "      <td>1.0</td>\n",
       "      <td>36.0</td>\n",
       "      <td>1.0</td>\n",
       "      <td>...</td>\n",
       "      <td>58.0</td>\n",
       "      <td>50.0</td>\n",
       "      <td>0.0</td>\n",
       "      <td>1530.0</td>\n",
       "      <td>0.762092</td>\n",
       "      <td>0.777778</td>\n",
       "      <td>46.0</td>\n",
       "      <td>38.0</td>\n",
       "      <td>108.0</td>\n",
       "      <td>52952.581832</td>\n",
       "    </tr>\n",
       "    <tr>\n",
       "      <th>4</th>\n",
       "      <td>201901</td>\n",
       "      <td>563455515</td>\n",
       "      <td>303057983993</td>\n",
       "      <td>2</td>\n",
       "      <td>20000.0</td>\n",
       "      <td>0.0</td>\n",
       "      <td>75000.0</td>\n",
       "      <td>3.0</td>\n",
       "      <td>28.0</td>\n",
       "      <td>3.0</td>\n",
       "      <td>...</td>\n",
       "      <td>1474.0</td>\n",
       "      <td>0.0</td>\n",
       "      <td>0.0</td>\n",
       "      <td>29949.0</td>\n",
       "      <td>0.937828</td>\n",
       "      <td>0.938942</td>\n",
       "      <td>114.0</td>\n",
       "      <td>549.0</td>\n",
       "      <td>1474.0</td>\n",
       "      <td>31577.275467</td>\n",
       "    </tr>\n",
       "  </tbody>\n",
       "</table>\n",
       "<p>5 rows × 248 columns</p>\n",
       "</div>"
      ],
      "text/plain": [
       "   createdAt_Month  SystemCustomerID  SystemLoanID  next_loan_number  \\\n",
       "0           201812         334043596  302881418623                 1   \n",
       "1           201809         524284563  302328949395                 4   \n",
       "2           201810         481582700  302536536368                 2   \n",
       "3           201812         234330495  302887567434                 1   \n",
       "4           201901         563455515  303057983993                 2   \n",
       "\n",
       "     Income  __v  demofeatures_net_income_band  demofeatures_appweek  \\\n",
       "0  200000.0  0.0                      200000.0                   1.0   \n",
       "1   80000.0  0.0                      100000.0                   1.0   \n",
       "2   39500.0  0.0                       50000.0                   2.0   \n",
       "3   50000.0  0.0                       50000.0                   1.0   \n",
       "4   20000.0  0.0                       75000.0                   3.0   \n",
       "\n",
       "   demofeatures_age_at_application_yrs  demofeatures_num_children  \\\n",
       "0                                 28.0                        0.0   \n",
       "1                                 33.0                        0.0   \n",
       "2                                 26.0                        0.0   \n",
       "3                                 36.0                        1.0   \n",
       "4                                 28.0                        3.0   \n",
       "\n",
       "        ...         callFeatures_vol_calls_1_mnth_out  \\\n",
       "0       ...                                     655.0   \n",
       "1       ...                                    2923.0   \n",
       "2       ...                                    1115.0   \n",
       "3       ...                                      58.0   \n",
       "4       ...                                    1474.0   \n",
       "\n",
       "   callFeatures_vol_calls_2_mnth_out  callFeatures_vol_calls_3_mnth_out  \\\n",
       "0                                0.0                                0.0   \n",
       "1                                0.0                                0.0   \n",
       "2                                0.0                                0.0   \n",
       "3                               50.0                                0.0   \n",
       "4                                0.0                                0.0   \n",
       "\n",
       "   callFeatures_dur_calls_out  callFeatures_dur_calls_contacts_out  \\\n",
       "0                     48872.0                             0.985554   \n",
       "1                     65335.0                             0.956868   \n",
       "2                     98762.0                             0.000000   \n",
       "3                      1530.0                             0.762092   \n",
       "4                     29949.0                             0.937828   \n",
       "\n",
       "   callFeatures_ratio_contacts_out  callFeatures_no_distinct_call_numbers_out  \\\n",
       "0                         0.929771                                      139.0   \n",
       "1                         0.917550                                      327.0   \n",
       "2                         0.000000                                      139.0   \n",
       "3                         0.777778                                       46.0   \n",
       "4                         0.938942                                      114.0   \n",
       "\n",
       "   callFeatures_no_calls_over_zero_secs_out  callFeatures_no_calls_out  \\\n",
       "0                                     287.0                      655.0   \n",
       "1                                    1114.0                     2923.0   \n",
       "2                                     583.0                     1115.0   \n",
       "3                                      38.0                      108.0   \n",
       "4                                     549.0                     1474.0   \n",
       "\n",
       "   predictedIncome  \n",
       "0    105872.674499  \n",
       "1     34421.220891  \n",
       "2     14447.944277  \n",
       "3     52952.581832  \n",
       "4     31577.275467  \n",
       "\n",
       "[5 rows x 248 columns]"
      ]
     },
     "execution_count": 5,
     "metadata": {},
     "output_type": "execute_result"
    }
   ],
   "source": [
    "numeric_df = df_drop_null.select_dtypes(include=['float64', 'int64'])\n",
    "numeric_df.head()"
   ]
  },
  {
   "cell_type": "markdown",
   "metadata": {},
   "source": [
    "# Number of Numeric Columns Remaining"
   ]
  },
  {
   "cell_type": "code",
   "execution_count": 6,
   "metadata": {},
   "outputs": [
    {
     "name": "stdout",
     "output_type": "stream",
     "text": [
      "The number of numeric columns left is 248\n"
     ]
    }
   ],
   "source": [
    "numeric_col = len(numeric_df.columns)\n",
    "print('The number of numeric columns left is {}'.format(numeric_col))"
   ]
  },
  {
   "cell_type": "markdown",
   "metadata": {},
   "source": [
    "# Replace Null Values"
   ]
  },
  {
   "cell_type": "code",
   "execution_count": 7,
   "metadata": {},
   "outputs": [
    {
     "data": {
      "text/plain": [
       "createdAt_Month                               0\n",
       "SystemCustomerID                              0\n",
       "SystemLoanID                                  0\n",
       "next_loan_number                              0\n",
       "Income                                        0\n",
       "__v                                           0\n",
       "demofeatures_net_income_band                  0\n",
       "demofeatures_appweek                          0\n",
       "demofeatures_age_at_application_yrs           0\n",
       "demofeatures_num_children                     0\n",
       "smsFeatures_minmaxdebit_tot                   0\n",
       "smsFeatures_mixmaxcredit_tot                  0\n",
       "smsFeatures_minbal_tot                        0\n",
       "smsFeatures_pers_sms_snt_flag                 0\n",
       "smsFeatures_pers_sms_rec_flag                 0\n",
       "smsFeatures_arrears_flag                      0\n",
       "smsFeatures_isp_flag                          0\n",
       "smsFeatures_sattv_flag                        0\n",
       "smsFeatures_avg_mly_airtimecredit_val         0\n",
       "smsFeatures_avg_airtimecredit_tx_val          0\n",
       "smsFeatures_tot_airtimecredit_vol             0\n",
       "smsFeatures_tot_airtimecredit_val             0\n",
       "smsFeatures_avg_mly_uber_val                  0\n",
       "smsFeatures_avg_uber_tx_val                   0\n",
       "smsFeatures_tot_uber_vol                      0\n",
       "smsFeatures_tot_uber_val                      0\n",
       "smsFeatures_avg_mly_gamble_val                0\n",
       "smsFeatures_avg_gamble_tx_val                 0\n",
       "smsFeatures_tot_gamble_vol                    0\n",
       "smsFeatures_tot_gamble_val                    0\n",
       "                                             ..\n",
       "callFeatures_dur_calls_1_mnth_miss            0\n",
       "callFeatures_dur_calls_2_mnth_miss            0\n",
       "callFeatures_dur_calls_3_mnth_miss            0\n",
       "callFeatures_vol_calls_1_mnth_miss            0\n",
       "callFeatures_vol_calls_2_mnth_miss            0\n",
       "callFeatures_vol_calls_3_mnth_miss            0\n",
       "callFeatures_dur_calls_miss                   0\n",
       "callFeatures_dur_calls_contacts_miss          0\n",
       "callFeatures_ratio_contacts_miss              0\n",
       "callFeatures_no_distinct_call_numbers_miss    0\n",
       "callFeatures_no_calls_over_zero_secs_miss     0\n",
       "callFeatures_no_calls_miss                    0\n",
       "callFeatures_avg_dur_per_day_out              0\n",
       "callFeatures_avg_calls_per_day_out            0\n",
       "callFeatures_distinct_contacts_1_mnth_out     0\n",
       "callFeatures_distinct_contacts_2_mnth_out     0\n",
       "callFeatures_distinct_contacts_3_mnth_out     0\n",
       "callFeatures_dur_calls_1_mnth_out             0\n",
       "callFeatures_dur_calls_2_mnth_out             0\n",
       "callFeatures_dur_calls_3_mnth_out             0\n",
       "callFeatures_vol_calls_1_mnth_out             0\n",
       "callFeatures_vol_calls_2_mnth_out             0\n",
       "callFeatures_vol_calls_3_mnth_out             0\n",
       "callFeatures_dur_calls_out                    0\n",
       "callFeatures_dur_calls_contacts_out           0\n",
       "callFeatures_ratio_contacts_out               0\n",
       "callFeatures_no_distinct_call_numbers_out     0\n",
       "callFeatures_no_calls_over_zero_secs_out      0\n",
       "callFeatures_no_calls_out                     0\n",
       "predictedIncome                               0\n",
       "Length: 248, dtype: int64"
      ]
     },
     "execution_count": 7,
     "metadata": {},
     "output_type": "execute_result"
    }
   ],
   "source": [
    "replace_null = numeric_df.replace(np.nan, 0)\n",
    "replace_null.isnull().sum()"
   ]
  },
  {
   "cell_type": "markdown",
   "metadata": {},
   "source": [
    "# Scale the Numeric DataFrame\n",
    "\n",
    "\n",
    "\n"
   ]
  },
  {
   "cell_type": "code",
   "execution_count": 8,
   "metadata": {},
   "outputs": [
    {
     "data": {
      "text/html": [
       "<div>\n",
       "<style scoped>\n",
       "    .dataframe tbody tr th:only-of-type {\n",
       "        vertical-align: middle;\n",
       "    }\n",
       "\n",
       "    .dataframe tbody tr th {\n",
       "        vertical-align: top;\n",
       "    }\n",
       "\n",
       "    .dataframe thead th {\n",
       "        text-align: right;\n",
       "    }\n",
       "</style>\n",
       "<table border=\"1\" class=\"dataframe\">\n",
       "  <thead>\n",
       "    <tr style=\"text-align: right;\">\n",
       "      <th></th>\n",
       "      <th>createdAt_Month</th>\n",
       "      <th>SystemCustomerID</th>\n",
       "      <th>SystemLoanID</th>\n",
       "      <th>next_loan_number</th>\n",
       "      <th>Income</th>\n",
       "      <th>__v</th>\n",
       "      <th>demofeatures_net_income_band</th>\n",
       "      <th>demofeatures_appweek</th>\n",
       "      <th>demofeatures_age_at_application_yrs</th>\n",
       "      <th>demofeatures_num_children</th>\n",
       "      <th>...</th>\n",
       "      <th>callFeatures_vol_calls_1_mnth_out</th>\n",
       "      <th>callFeatures_vol_calls_2_mnth_out</th>\n",
       "      <th>callFeatures_vol_calls_3_mnth_out</th>\n",
       "      <th>callFeatures_dur_calls_out</th>\n",
       "      <th>callFeatures_dur_calls_contacts_out</th>\n",
       "      <th>callFeatures_ratio_contacts_out</th>\n",
       "      <th>callFeatures_no_distinct_call_numbers_out</th>\n",
       "      <th>callFeatures_no_calls_over_zero_secs_out</th>\n",
       "      <th>callFeatures_no_calls_out</th>\n",
       "      <th>predictedIncome</th>\n",
       "    </tr>\n",
       "  </thead>\n",
       "  <tbody>\n",
       "    <tr>\n",
       "      <th>0</th>\n",
       "      <td>-0.552327</td>\n",
       "      <td>-0.542589</td>\n",
       "      <td>0.488975</td>\n",
       "      <td>-0.389585</td>\n",
       "      <td>2.488673</td>\n",
       "      <td>0.0</td>\n",
       "      <td>0.964747</td>\n",
       "      <td>-1.243848</td>\n",
       "      <td>-0.222474</td>\n",
       "      <td>-0.648491</td>\n",
       "      <td>...</td>\n",
       "      <td>0.016726</td>\n",
       "      <td>-0.218086</td>\n",
       "      <td>-0.113863</td>\n",
       "      <td>0.075120</td>\n",
       "      <td>0.792418</td>\n",
       "      <td>0.703710</td>\n",
       "      <td>0.543044</td>\n",
       "      <td>0.004773</td>\n",
       "      <td>-0.006009</td>\n",
       "      <td>2.802797</td>\n",
       "    </tr>\n",
       "    <tr>\n",
       "      <th>1</th>\n",
       "      <td>-0.626734</td>\n",
       "      <td>0.114605</td>\n",
       "      <td>-1.045259</td>\n",
       "      <td>2.823083</td>\n",
       "      <td>0.541326</td>\n",
       "      <td>0.0</td>\n",
       "      <td>0.082888</td>\n",
       "      <td>-1.243848</td>\n",
       "      <td>0.443094</td>\n",
       "      <td>-0.648491</td>\n",
       "      <td>...</td>\n",
       "      <td>1.841329</td>\n",
       "      <td>-0.218086</td>\n",
       "      <td>-0.113863</td>\n",
       "      <td>0.127209</td>\n",
       "      <td>0.709694</td>\n",
       "      <td>0.667245</td>\n",
       "      <td>2.471878</td>\n",
       "      <td>1.408808</td>\n",
       "      <td>1.776958</td>\n",
       "      <td>-0.149962</td>\n",
       "    </tr>\n",
       "    <tr>\n",
       "      <th>2</th>\n",
       "      <td>-0.601932</td>\n",
       "      <td>-0.032910</td>\n",
       "      <td>-0.468779</td>\n",
       "      <td>0.681305</td>\n",
       "      <td>-0.115904</td>\n",
       "      <td>0.0</td>\n",
       "      <td>-0.358041</td>\n",
       "      <td>-0.386424</td>\n",
       "      <td>-0.488701</td>\n",
       "      <td>-0.648491</td>\n",
       "      <td>...</td>\n",
       "      <td>0.386796</td>\n",
       "      <td>-0.218086</td>\n",
       "      <td>-0.113863</td>\n",
       "      <td>0.232974</td>\n",
       "      <td>-2.049741</td>\n",
       "      <td>-2.070640</td>\n",
       "      <td>0.543044</td>\n",
       "      <td>0.507306</td>\n",
       "      <td>0.355615</td>\n",
       "      <td>-0.975365</td>\n",
       "    </tr>\n",
       "    <tr>\n",
       "      <th>3</th>\n",
       "      <td>-0.552327</td>\n",
       "      <td>-0.887051</td>\n",
       "      <td>0.506051</td>\n",
       "      <td>-0.389585</td>\n",
       "      <td>0.054489</td>\n",
       "      <td>0.0</td>\n",
       "      <td>-0.358041</td>\n",
       "      <td>-1.243848</td>\n",
       "      <td>0.842434</td>\n",
       "      <td>0.170522</td>\n",
       "      <td>...</td>\n",
       "      <td>-0.463560</td>\n",
       "      <td>0.348488</td>\n",
       "      <td>-0.113863</td>\n",
       "      <td>-0.074673</td>\n",
       "      <td>0.147992</td>\n",
       "      <td>0.250177</td>\n",
       "      <td>-0.411114</td>\n",
       "      <td>-0.417965</td>\n",
       "      <td>-0.436028</td>\n",
       "      <td>0.615854</td>\n",
       "    </tr>\n",
       "    <tr>\n",
       "      <th>4</th>\n",
       "      <td>1.655065</td>\n",
       "      <td>0.249922</td>\n",
       "      <td>0.979306</td>\n",
       "      <td>0.681305</td>\n",
       "      <td>-0.432348</td>\n",
       "      <td>0.0</td>\n",
       "      <td>-0.137577</td>\n",
       "      <td>0.471001</td>\n",
       "      <td>-0.222474</td>\n",
       "      <td>1.808549</td>\n",
       "      <td>...</td>\n",
       "      <td>0.675611</td>\n",
       "      <td>-0.218086</td>\n",
       "      <td>-0.113863</td>\n",
       "      <td>0.015246</td>\n",
       "      <td>0.654783</td>\n",
       "      <td>0.731075</td>\n",
       "      <td>0.286550</td>\n",
       "      <td>0.449582</td>\n",
       "      <td>0.637840</td>\n",
       "      <td>-0.267489</td>\n",
       "    </tr>\n",
       "  </tbody>\n",
       "</table>\n",
       "<p>5 rows × 248 columns</p>\n",
       "</div>"
      ],
      "text/plain": [
       "   createdAt_Month  SystemCustomerID  SystemLoanID  next_loan_number  \\\n",
       "0        -0.552327         -0.542589      0.488975         -0.389585   \n",
       "1        -0.626734          0.114605     -1.045259          2.823083   \n",
       "2        -0.601932         -0.032910     -0.468779          0.681305   \n",
       "3        -0.552327         -0.887051      0.506051         -0.389585   \n",
       "4         1.655065          0.249922      0.979306          0.681305   \n",
       "\n",
       "     Income  __v  demofeatures_net_income_band  demofeatures_appweek  \\\n",
       "0  2.488673  0.0                      0.964747             -1.243848   \n",
       "1  0.541326  0.0                      0.082888             -1.243848   \n",
       "2 -0.115904  0.0                     -0.358041             -0.386424   \n",
       "3  0.054489  0.0                     -0.358041             -1.243848   \n",
       "4 -0.432348  0.0                     -0.137577              0.471001   \n",
       "\n",
       "   demofeatures_age_at_application_yrs  demofeatures_num_children  \\\n",
       "0                            -0.222474                  -0.648491   \n",
       "1                             0.443094                  -0.648491   \n",
       "2                            -0.488701                  -0.648491   \n",
       "3                             0.842434                   0.170522   \n",
       "4                            -0.222474                   1.808549   \n",
       "\n",
       "        ...         callFeatures_vol_calls_1_mnth_out  \\\n",
       "0       ...                                  0.016726   \n",
       "1       ...                                  1.841329   \n",
       "2       ...                                  0.386796   \n",
       "3       ...                                 -0.463560   \n",
       "4       ...                                  0.675611   \n",
       "\n",
       "   callFeatures_vol_calls_2_mnth_out  callFeatures_vol_calls_3_mnth_out  \\\n",
       "0                          -0.218086                          -0.113863   \n",
       "1                          -0.218086                          -0.113863   \n",
       "2                          -0.218086                          -0.113863   \n",
       "3                           0.348488                          -0.113863   \n",
       "4                          -0.218086                          -0.113863   \n",
       "\n",
       "   callFeatures_dur_calls_out  callFeatures_dur_calls_contacts_out  \\\n",
       "0                    0.075120                             0.792418   \n",
       "1                    0.127209                             0.709694   \n",
       "2                    0.232974                            -2.049741   \n",
       "3                   -0.074673                             0.147992   \n",
       "4                    0.015246                             0.654783   \n",
       "\n",
       "   callFeatures_ratio_contacts_out  callFeatures_no_distinct_call_numbers_out  \\\n",
       "0                         0.703710                                   0.543044   \n",
       "1                         0.667245                                   2.471878   \n",
       "2                        -2.070640                                   0.543044   \n",
       "3                         0.250177                                  -0.411114   \n",
       "4                         0.731075                                   0.286550   \n",
       "\n",
       "   callFeatures_no_calls_over_zero_secs_out  callFeatures_no_calls_out  \\\n",
       "0                                  0.004773                  -0.006009   \n",
       "1                                  1.408808                   1.776958   \n",
       "2                                  0.507306                   0.355615   \n",
       "3                                 -0.417965                  -0.436028   \n",
       "4                                  0.449582                   0.637840   \n",
       "\n",
       "   predictedIncome  \n",
       "0         2.802797  \n",
       "1        -0.149962  \n",
       "2        -0.975365  \n",
       "3         0.615854  \n",
       "4        -0.267489  \n",
       "\n",
       "[5 rows x 248 columns]"
      ]
     },
     "execution_count": 8,
     "metadata": {},
     "output_type": "execute_result"
    }
   ],
   "source": [
    "x = replace_null.values\n",
    "x_scaled = StandardScaler().fit_transform(x)\n",
    "pd.DataFrame(data= x_scaled, columns=replace_null.columns).head()"
   ]
  },
  {
   "cell_type": "markdown",
   "metadata": {},
   "source": [
    "# Perform PCA Redcution "
   ]
  },
  {
   "cell_type": "code",
   "execution_count": 9,
   "metadata": {},
   "outputs": [
    {
     "data": {
      "text/html": [
       "<div>\n",
       "<style scoped>\n",
       "    .dataframe tbody tr th:only-of-type {\n",
       "        vertical-align: middle;\n",
       "    }\n",
       "\n",
       "    .dataframe tbody tr th {\n",
       "        vertical-align: top;\n",
       "    }\n",
       "\n",
       "    .dataframe thead th {\n",
       "        text-align: right;\n",
       "    }\n",
       "</style>\n",
       "<table border=\"1\" class=\"dataframe\">\n",
       "  <thead>\n",
       "    <tr style=\"text-align: right;\">\n",
       "      <th></th>\n",
       "      <th>pca_1</th>\n",
       "      <th>pca_2</th>\n",
       "      <th>pca_3</th>\n",
       "      <th>pca_4</th>\n",
       "      <th>pca_5</th>\n",
       "    </tr>\n",
       "  </thead>\n",
       "  <tbody>\n",
       "    <tr>\n",
       "      <th>0</th>\n",
       "      <td>4.220974</td>\n",
       "      <td>-2.270273</td>\n",
       "      <td>0.757724</td>\n",
       "      <td>-1.598424</td>\n",
       "      <td>4.229971</td>\n",
       "    </tr>\n",
       "    <tr>\n",
       "      <th>1</th>\n",
       "      <td>13.464907</td>\n",
       "      <td>-3.685775</td>\n",
       "      <td>-2.142305</td>\n",
       "      <td>-0.889411</td>\n",
       "      <td>-0.219393</td>\n",
       "    </tr>\n",
       "    <tr>\n",
       "      <th>2</th>\n",
       "      <td>5.900341</td>\n",
       "      <td>-2.368061</td>\n",
       "      <td>0.093610</td>\n",
       "      <td>0.484609</td>\n",
       "      <td>0.240888</td>\n",
       "    </tr>\n",
       "    <tr>\n",
       "      <th>3</th>\n",
       "      <td>-1.884293</td>\n",
       "      <td>1.370643</td>\n",
       "      <td>-0.221699</td>\n",
       "      <td>3.305812</td>\n",
       "      <td>0.306483</td>\n",
       "    </tr>\n",
       "    <tr>\n",
       "      <th>4</th>\n",
       "      <td>2.631881</td>\n",
       "      <td>1.782549</td>\n",
       "      <td>0.575716</td>\n",
       "      <td>-2.894523</td>\n",
       "      <td>-0.848423</td>\n",
       "    </tr>\n",
       "  </tbody>\n",
       "</table>\n",
       "</div>"
      ],
      "text/plain": [
       "       pca_1     pca_2     pca_3     pca_4     pca_5\n",
       "0   4.220974 -2.270273  0.757724 -1.598424  4.229971\n",
       "1  13.464907 -3.685775 -2.142305 -0.889411 -0.219393\n",
       "2   5.900341 -2.368061  0.093610  0.484609  0.240888\n",
       "3  -1.884293  1.370643 -0.221699  3.305812  0.306483\n",
       "4   2.631881  1.782549  0.575716 -2.894523 -0.848423"
      ]
     },
     "execution_count": 9,
     "metadata": {},
     "output_type": "execute_result"
    }
   ],
   "source": [
    "pca = PCA(n_components=5)\n",
    "pcas = pca.fit_transform(x_scaled)\n",
    "pcadf = pd.DataFrame(data=pcas, columns =['pca_1', 'pca_2', 'pca_3', 'pca_4', 'pca_5'])\n",
    "pcadf.head()"
   ]
  },
  {
   "cell_type": "markdown",
   "metadata": {},
   "source": [
    "# Total Explained Variance"
   ]
  },
  {
   "cell_type": "code",
   "execution_count": 25,
   "metadata": {},
   "outputs": [
    {
     "name": "stdout",
     "output_type": "stream",
     "text": [
      "The Total explained variance is 134.0\n"
     ]
    }
   ],
   "source": [
    "pca_exp_var = pca.explained_variance_.sum()\n",
    "print('The Total explained variance is {}' .format(round(pca_exp_var),2))"
   ]
  },
  {
   "cell_type": "markdown",
   "metadata": {},
   "source": [
    "# Perform Kmeans Cluster"
   ]
  },
  {
   "cell_type": "code",
   "execution_count": 11,
   "metadata": {},
   "outputs": [
    {
     "data": {
      "text/plain": [
       "array([0, 2, 0, ..., 0, 0, 0], dtype=int32)"
      ]
     },
     "execution_count": 11,
     "metadata": {},
     "output_type": "execute_result"
    }
   ],
   "source": [
    "model = KMeans(n_clusters=3)\n",
    "model =model.fit(pcadf)\n",
    "clusters = model.predict(pcadf)\n",
    "clusters"
   ]
  },
  {
   "cell_type": "code",
   "execution_count": 12,
   "metadata": {},
   "outputs": [
    {
     "data": {
      "text/plain": [
       "numpy.ndarray"
      ]
     },
     "execution_count": 12,
     "metadata": {},
     "output_type": "execute_result"
    }
   ],
   "source": [
    "pcadf = np.array(pcadf)\n",
    "type(pcadf)"
   ]
  },
  {
   "cell_type": "markdown",
   "metadata": {},
   "source": [
    "# Plot Kmeans Cluster "
   ]
  },
  {
   "cell_type": "code",
   "execution_count": 13,
   "metadata": {},
   "outputs": [
    {
     "data": {
      "image/png": "[encoded data removed]",
      "text/plain": [
       "<matplotlib.figure.Figure at 0x7f06cf1d1b70>"
      ]
     },
     "metadata": {},
     "output_type": "display_data"
    }
   ],
   "source": [
    "for i in range(len(clusters)):\n",
    "    if clusters[i] == 0:\n",
    "        c1 = plt.scatter(pcadf[i, 0], pcadf[i, 1], c='black', marker='+' )\n",
    "    elif clusters[i] == 1:\n",
    "        c2 = plt.scatter(pcadf[i, 0], pcadf[i, 1], c='green', marker='o')\n",
    "    elif clusters[i] == 2:\n",
    "        c3 = plt.scatter(pcadf[i, 0],  pcadf[i, 1], c='blue', marker='*')\n",
    "        \n",
    "plt.scatter(model.cluster_centers_[:,0], model.cluster_centers_[:,1],s=100,marker='s', c='red', alpha=0.7, label='Centroids')\n",
    "plt.title('Cluster Segments')\n",
    "plt.xlabel('x-axis')\n",
    "plt.ylabel('y-axis')\n",
    "plt.legend([c1, c2, c3], ['Cluster 1', 'Cluster 2', 'Cluster3'])\n",
    "plt.show()"
   ]
  },
  {
   "cell_type": "markdown",
   "metadata": {},
   "source": [
    "# Reconnect Cluster to Original DataFrame"
   ]
  },
  {
   "cell_type": "code",
   "execution_count": 14,
   "metadata": {},
   "outputs": [
    {
     "data": {
      "text/html": [
       "<div>\n",
       "<style scoped>\n",
       "    .dataframe tbody tr th:only-of-type {\n",
       "        vertical-align: middle;\n",
       "    }\n",
       "\n",
       "    .dataframe tbody tr th {\n",
       "        vertical-align: top;\n",
       "    }\n",
       "\n",
       "    .dataframe thead th {\n",
       "        text-align: right;\n",
       "    }\n",
       "</style>\n",
       "<table border=\"1\" class=\"dataframe\">\n",
       "  <thead>\n",
       "    <tr style=\"text-align: right;\">\n",
       "      <th></th>\n",
       "      <th>createdAt_Month</th>\n",
       "      <th>Reason</th>\n",
       "      <th>application_id</th>\n",
       "      <th>SystemCustomerID</th>\n",
       "      <th>SystemLoanID</th>\n",
       "      <th>income_source</th>\n",
       "      <th>income_verified</th>\n",
       "      <th>next_loan_number</th>\n",
       "      <th>country</th>\n",
       "      <th>DecisionFlag</th>\n",
       "      <th>...</th>\n",
       "      <th>callFeatures_no_calls_over_zero_secs_out</th>\n",
       "      <th>callFeatures_no_calls_out</th>\n",
       "      <th>predictedIncome</th>\n",
       "      <th>installationId</th>\n",
       "      <th>obiResult_scorecard</th>\n",
       "      <th>obiResult_score</th>\n",
       "      <th>obiResult_riskLevel</th>\n",
       "      <th>obiResult_ratingClass</th>\n",
       "      <th>obiResult_ncngav2Id</th>\n",
       "      <th>clusters</th>\n",
       "    </tr>\n",
       "  </thead>\n",
       "  <tbody>\n",
       "    <tr>\n",
       "      <th>0</th>\n",
       "      <td>201812</td>\n",
       "      <td>Client did not meet approval score.</td>\n",
       "      <td>WRYRieZlqBsT6w53b2HDpA_1544015103274</td>\n",
       "      <td>334043596</td>\n",
       "      <td>302881418623</td>\n",
       "      <td>credit</td>\n",
       "      <td>True</td>\n",
       "      <td>1</td>\n",
       "      <td>NG</td>\n",
       "      <td>Declined</td>\n",
       "      <td>...</td>\n",
       "      <td>287.0</td>\n",
       "      <td>655.0</td>\n",
       "      <td>105872.674499</td>\n",
       "      <td>374ac87639a74b3e01465993be618360</td>\n",
       "      <td>NC_NGA_V2</td>\n",
       "      <td>337.57000</td>\n",
       "      <td>Decline</td>\n",
       "      <td>NaN</td>\n",
       "      <td>a6e99ddb-2c95-4b1e-90cb-d05ffa9d1c9a</td>\n",
       "      <td>0</td>\n",
       "    </tr>\n",
       "    <tr>\n",
       "      <th>1</th>\n",
       "      <td>201809</td>\n",
       "      <td>Client did not meet approval score.</td>\n",
       "      <td>oVpQz7tgkPa3bmvVDzYqw_1530858694219</td>\n",
       "      <td>524284563</td>\n",
       "      <td>302328949395</td>\n",
       "      <td>credit</td>\n",
       "      <td>True</td>\n",
       "      <td>4</td>\n",
       "      <td>NG</td>\n",
       "      <td>Declined</td>\n",
       "      <td>...</td>\n",
       "      <td>1114.0</td>\n",
       "      <td>2923.0</td>\n",
       "      <td>34421.220891</td>\n",
       "      <td>e24749e856614a1ae3734c773670f74c</td>\n",
       "      <td>NaN</td>\n",
       "      <td>NaN</td>\n",
       "      <td>NaN</td>\n",
       "      <td>NaN</td>\n",
       "      <td>NaN</td>\n",
       "      <td>2</td>\n",
       "    </tr>\n",
       "    <tr>\n",
       "      <th>2</th>\n",
       "      <td>201810</td>\n",
       "      <td>Client did not meet approval score.</td>\n",
       "      <td>WCONqdL9BlaRetaDRERg_1538822524979</td>\n",
       "      <td>481582700</td>\n",
       "      <td>302536536368</td>\n",
       "      <td>credit</td>\n",
       "      <td>True</td>\n",
       "      <td>2</td>\n",
       "      <td>NG</td>\n",
       "      <td>Declined</td>\n",
       "      <td>...</td>\n",
       "      <td>583.0</td>\n",
       "      <td>1115.0</td>\n",
       "      <td>14447.944277</td>\n",
       "      <td>abe46a8fe9345c0b230c3fcaa5ddbbbc</td>\n",
       "      <td>NaN</td>\n",
       "      <td>NaN</td>\n",
       "      <td>NaN</td>\n",
       "      <td>NaN</td>\n",
       "      <td>NaN</td>\n",
       "      <td>0</td>\n",
       "    </tr>\n",
       "    <tr>\n",
       "      <th>3</th>\n",
       "      <td>201812</td>\n",
       "      <td>Client did not meet approval score.</td>\n",
       "      <td>Wi5dgyaoGQ9yciK89PEg_1544071630964</td>\n",
       "      <td>234330495</td>\n",
       "      <td>302887567434</td>\n",
       "      <td>credit</td>\n",
       "      <td>True</td>\n",
       "      <td>1</td>\n",
       "      <td>NG</td>\n",
       "      <td>Declined</td>\n",
       "      <td>...</td>\n",
       "      <td>38.0</td>\n",
       "      <td>108.0</td>\n",
       "      <td>52952.581832</td>\n",
       "      <td>cfe3f3006f8e9799e9d17859df394b18</td>\n",
       "      <td>NC_NGA_V2</td>\n",
       "      <td>394.94000</td>\n",
       "      <td>Decline</td>\n",
       "      <td>18a</td>\n",
       "      <td>da360fe9-8e86-4031-afb9-2143a3f734ee</td>\n",
       "      <td>0</td>\n",
       "    </tr>\n",
       "    <tr>\n",
       "      <th>4</th>\n",
       "      <td>201901</td>\n",
       "      <td>Client did not meet approval score.</td>\n",
       "      <td>16JgKGioSsWVaWdY7noC8A_1547701922961</td>\n",
       "      <td>563455515</td>\n",
       "      <td>303057983993</td>\n",
       "      <td>credit</td>\n",
       "      <td>True</td>\n",
       "      <td>2</td>\n",
       "      <td>NG</td>\n",
       "      <td>Declined</td>\n",
       "      <td>...</td>\n",
       "      <td>549.0</td>\n",
       "      <td>1474.0</td>\n",
       "      <td>31577.275467</td>\n",
       "      <td>7af8400ec773914c8d1fed044aa420b7</td>\n",
       "      <td>RC_NGA_V1L</td>\n",
       "      <td>423.70578</td>\n",
       "      <td>Decline</td>\n",
       "      <td>NaN</td>\n",
       "      <td>NaN</td>\n",
       "      <td>0</td>\n",
       "    </tr>\n",
       "  </tbody>\n",
       "</table>\n",
       "<p>5 rows × 290 columns</p>\n",
       "</div>"
      ],
      "text/plain": [
       "   createdAt_Month                               Reason  \\\n",
       "0           201812  Client did not meet approval score.   \n",
       "1           201809  Client did not meet approval score.   \n",
       "2           201810  Client did not meet approval score.   \n",
       "3           201812  Client did not meet approval score.   \n",
       "4           201901  Client did not meet approval score.   \n",
       "\n",
       "                         application_id  SystemCustomerID  SystemLoanID  \\\n",
       "0  WRYRieZlqBsT6w53b2HDpA_1544015103274         334043596  302881418623   \n",
       "1   oVpQz7tgkPa3bmvVDzYqw_1530858694219         524284563  302328949395   \n",
       "2    WCONqdL9BlaRetaDRERg_1538822524979         481582700  302536536368   \n",
       "3    Wi5dgyaoGQ9yciK89PEg_1544071630964         234330495  302887567434   \n",
       "4  16JgKGioSsWVaWdY7noC8A_1547701922961         563455515  303057983993   \n",
       "\n",
       "  income_source  income_verified  next_loan_number country DecisionFlag  \\\n",
       "0        credit             True                 1      NG     Declined   \n",
       "1        credit             True                 4      NG     Declined   \n",
       "2        credit             True                 2      NG     Declined   \n",
       "3        credit             True                 1      NG     Declined   \n",
       "4        credit             True                 2      NG     Declined   \n",
       "\n",
       "     ...    callFeatures_no_calls_over_zero_secs_out  \\\n",
       "0    ...                                       287.0   \n",
       "1    ...                                      1114.0   \n",
       "2    ...                                       583.0   \n",
       "3    ...                                        38.0   \n",
       "4    ...                                       549.0   \n",
       "\n",
       "   callFeatures_no_calls_out predictedIncome  \\\n",
       "0                      655.0   105872.674499   \n",
       "1                     2923.0    34421.220891   \n",
       "2                     1115.0    14447.944277   \n",
       "3                      108.0    52952.581832   \n",
       "4                     1474.0    31577.275467   \n",
       "\n",
       "                     installationId  obiResult_scorecard obiResult_score  \\\n",
       "0  374ac87639a74b3e01465993be618360            NC_NGA_V2       337.57000   \n",
       "1  e24749e856614a1ae3734c773670f74c                  NaN             NaN   \n",
       "2  abe46a8fe9345c0b230c3fcaa5ddbbbc                  NaN             NaN   \n",
       "3  cfe3f3006f8e9799e9d17859df394b18            NC_NGA_V2       394.94000   \n",
       "4  7af8400ec773914c8d1fed044aa420b7           RC_NGA_V1L       423.70578   \n",
       "\n",
       "   obiResult_riskLevel  obiResult_ratingClass  \\\n",
       "0              Decline                    NaN   \n",
       "1                  NaN                    NaN   \n",
       "2                  NaN                    NaN   \n",
       "3              Decline                    18a   \n",
       "4              Decline                    NaN   \n",
       "\n",
       "                    obiResult_ncngav2Id  clusters  \n",
       "0  a6e99ddb-2c95-4b1e-90cb-d05ffa9d1c9a         0  \n",
       "1                                   NaN         2  \n",
       "2                                   NaN         0  \n",
       "3  da360fe9-8e86-4031-afb9-2143a3f734ee         0  \n",
       "4                                   NaN         0  \n",
       "\n",
       "[5 rows x 290 columns]"
      ]
     },
     "execution_count": 14,
     "metadata": {},
     "output_type": "execute_result"
    }
   ],
   "source": [
    "cluster = pd.DataFrame(data =clusters, columns=['clusters'])\n",
    "connected_df = pd.concat([df, cluster], axis=1)\n",
    "connected_df.head()"
   ]
  },
  {
   "cell_type": "markdown",
   "metadata": {},
   "source": [
    "# Exploratory Analysis"
   ]
  },
  {
   "cell_type": "markdown",
   "metadata": {},
   "source": [
    "Getting the mean of both the predicted and main income"
   ]
  },
  {
   "cell_type": "code",
   "execution_count": 15,
   "metadata": {},
   "outputs": [
    {
     "data": {
      "text/html": [
       "<div>\n",
       "<style scoped>\n",
       "    .dataframe tbody tr th:only-of-type {\n",
       "        vertical-align: middle;\n",
       "    }\n",
       "\n",
       "    .dataframe tbody tr th {\n",
       "        vertical-align: top;\n",
       "    }\n",
       "\n",
       "    .dataframe thead th {\n",
       "        text-align: right;\n",
       "    }\n",
       "</style>\n",
       "<table border=\"1\" class=\"dataframe\">\n",
       "  <thead>\n",
       "    <tr style=\"text-align: right;\">\n",
       "      <th></th>\n",
       "      <th>Income</th>\n",
       "      <th>predictedIncome</th>\n",
       "    </tr>\n",
       "    <tr>\n",
       "      <th>clusters</th>\n",
       "      <th></th>\n",
       "      <th></th>\n",
       "    </tr>\n",
       "  </thead>\n",
       "  <tbody>\n",
       "    <tr>\n",
       "      <th>0</th>\n",
       "      <td>45877.739501</td>\n",
       "      <td>37589.374521</td>\n",
       "    </tr>\n",
       "    <tr>\n",
       "      <th>1</th>\n",
       "      <td>84844.563889</td>\n",
       "      <td>57441.201649</td>\n",
       "    </tr>\n",
       "    <tr>\n",
       "      <th>2</th>\n",
       "      <td>54835.434510</td>\n",
       "      <td>43223.926722</td>\n",
       "    </tr>\n",
       "  </tbody>\n",
       "</table>\n",
       "</div>"
      ],
      "text/plain": [
       "                Income  predictedIncome\n",
       "clusters                               \n",
       "0         45877.739501     37589.374521\n",
       "1         84844.563889     57441.201649\n",
       "2         54835.434510     43223.926722"
      ]
     },
     "execution_count": 15,
     "metadata": {},
     "output_type": "execute_result"
    }
   ],
   "source": [
    "prec_df_gr = connected_df.groupby(['clusters'])[['Income', 'predictedIncome']].mean()\n",
    "prec_df_gr.head()"
   ]
  },
  {
   "cell_type": "markdown",
   "metadata": {},
   "source": [
    "A bar plot of the predicted Income and the main income"
   ]
  },
  {
   "cell_type": "code",
   "execution_count": 16,
   "metadata": {},
   "outputs": [
    {
     "data": {
      "text/plain": [
       "Text(0.5,1,'Income vs Predicted Income')"
      ]
     },
     "execution_count": 16,
     "metadata": {},
     "output_type": "execute_result"
    },
    {
     "data": {
      "image/png": "[encoded data removed]",
      "text/plain": [
       "<matplotlib.figure.Figure at 0x7f06cf1d24e0>"
      ]
     },
     "metadata": {},
     "output_type": "display_data"
    }
   ],
   "source": [
    "prec_df_gr.plot(kind='bar')\n",
    "plt.xlabel('Clusters')\n",
    "plt.ylabel('Income')\n",
    "plt.title('Income vs Predicted Income')"
   ]
  },
  {
   "cell_type": "markdown",
   "metadata": {},
   "source": [
    "A DataFrame showing the total sum of both the predicted income and main income of each cluster"
   ]
  },
  {
   "cell_type": "code",
   "execution_count": 17,
   "metadata": {},
   "outputs": [
    {
     "data": {
      "text/html": [
       "<div>\n",
       "<style scoped>\n",
       "    .dataframe tbody tr th:only-of-type {\n",
       "        vertical-align: middle;\n",
       "    }\n",
       "\n",
       "    .dataframe tbody tr th {\n",
       "        vertical-align: top;\n",
       "    }\n",
       "\n",
       "    .dataframe thead th {\n",
       "        text-align: right;\n",
       "    }\n",
       "</style>\n",
       "<table border=\"1\" class=\"dataframe\">\n",
       "  <thead>\n",
       "    <tr style=\"text-align: right;\">\n",
       "      <th></th>\n",
       "      <th>Income</th>\n",
       "      <th>predictedIncome</th>\n",
       "    </tr>\n",
       "    <tr>\n",
       "      <th>clusters</th>\n",
       "      <th></th>\n",
       "      <th></th>\n",
       "    </tr>\n",
       "  </thead>\n",
       "  <tbody>\n",
       "    <tr>\n",
       "      <th>0</th>\n",
       "      <td>5.087841e+08</td>\n",
       "      <td>4.167910e+08</td>\n",
       "    </tr>\n",
       "    <tr>\n",
       "      <th>1</th>\n",
       "      <td>3.054404e+06</td>\n",
       "      <td>2.067883e+06</td>\n",
       "    </tr>\n",
       "    <tr>\n",
       "      <th>2</th>\n",
       "      <td>4.754232e+07</td>\n",
       "      <td>3.747514e+07</td>\n",
       "    </tr>\n",
       "  </tbody>\n",
       "</table>\n",
       "</div>"
      ],
      "text/plain": [
       "                Income  predictedIncome\n",
       "clusters                               \n",
       "0         5.087841e+08     4.167910e+08\n",
       "1         3.054404e+06     2.067883e+06\n",
       "2         4.754232e+07     3.747514e+07"
      ]
     },
     "execution_count": 17,
     "metadata": {},
     "output_type": "execute_result"
    }
   ],
   "source": [
    "rec_df_sum = connected_df.groupby(['clusters'])['Income', 'predictedIncome'].sum()\n",
    "rec_df_sum.head()"
   ]
  },
  {
   "cell_type": "markdown",
   "metadata": {},
   "source": [
    "A bar plot of the sum of the predicted income and main income of each cluster"
   ]
  },
  {
   "cell_type": "code",
   "execution_count": 18,
   "metadata": {},
   "outputs": [
    {
     "data": {
      "text/plain": [
       "Text(0.5,1,'Income vs Clusters')"
      ]
     },
     "execution_count": 18,
     "metadata": {},
     "output_type": "execute_result"
    },
    {
     "data": {
      "image/png": "[encoded data removed]",
      "text/plain": [
       "<matplotlib.figure.Figure at 0x7f06bb06a550>"
      ]
     },
     "metadata": {},
     "output_type": "display_data"
    }
   ],
   "source": [
    "rec_df_sum.plot(kind='bar')\n",
    "plt.xlabel('Clusters')\n",
    "plt.ylabel('Income')\n",
    "plt.title('Income vs Clusters')"
   ]
  },
  {
   "cell_type": "markdown",
   "metadata": {},
   "source": [
    "A seaborn boxplot of the income source and main income grouped by the clusters"
   ]
  },
  {
   "cell_type": "code",
   "execution_count": 19,
   "metadata": {},
   "outputs": [
    {
     "data": {
      "text/plain": [
       "Text(0.5,1,'Income vs Income Source')"
      ]
     },
     "execution_count": 19,
     "metadata": {},
     "output_type": "execute_result"
    },
    {
     "data": {
      "image/png": "[encoded data removed]",
      "text/plain": [
       "<matplotlib.figure.Figure at 0x7f06bb0aa3c8>"
      ]
     },
     "metadata": {},
     "output_type": "display_data"
    }
   ],
   "source": [
    "sns.boxplot(data=connected_df[['income_source','Income']], x='income_source', y='Income', hue=connected_df['clusters'])\n",
    "plt.title('Income vs Income Source')"
   ]
  },
  {
   "cell_type": "markdown",
   "metadata": {},
   "source": [
    "A seaborn barplot of the income source and main income grouped by the clusters"
   ]
  },
  {
   "cell_type": "code",
   "execution_count": 20,
   "metadata": {},
   "outputs": [
    {
     "data": {
      "text/plain": [
       "Text(0.5,1,'Bar Plot of Income vs Income Source')"
      ]
     },
     "execution_count": 20,
     "metadata": {},
     "output_type": "execute_result"
    },
    {
     "data": {
      "image/png": "[encoded data removed]",
      "text/plain": [
       "<matplotlib.figure.Figure at 0x7f06bb867e48>"
      ]
     },
     "metadata": {},
     "output_type": "display_data"
    }
   ],
   "source": [
    "sns.barplot(data=connected_df[['income_source','Income']], x='income_source', y='Income', hue=connected_df['clusters'])\n",
    "plt.title('Bar Plot of Income vs Income Source')"
   ]
  },
  {
   "cell_type": "markdown",
   "metadata": {},
   "source": [
    "A seaborn violinplot of the clients gender and main income seperated by the clusters. "
   ]
  },
  {
   "cell_type": "code",
   "execution_count": 21,
   "metadata": {},
   "outputs": [
    {
     "data": {
      "text/plain": [
       "Text(0.5,1,'Violin Plot of Income vs Gender')"
      ]
     },
     "execution_count": 21,
     "metadata": {},
     "output_type": "execute_result"
    },
    {
     "data": {
      "image/png": "[encoded data removed]",
      "text/plain": [
       "<matplotlib.figure.Figure at 0x7f06bb65dda0>"
      ]
     },
     "metadata": {},
     "output_type": "display_data"
    }
   ],
   "source": [
    "sns.violinplot(data=connected_df[['demofeatures_gender','Income']], x='demofeatures_gender', y='Income', hue=connected_df['clusters'])\n",
    "plt.title('Violin Plot of Income vs Gender')"
   ]
  },
  {
   "cell_type": "markdown",
   "metadata": {},
   "source": [
    "A barplot describing the total income of each gender based on the clusters"
   ]
  },
  {
   "cell_type": "code",
   "execution_count": 22,
   "metadata": {},
   "outputs": [
    {
     "data": {
      "text/plain": [
       "Text(0.5,1,'Bar Plot of Income vs Gender')"
      ]
     },
     "execution_count": 22,
     "metadata": {},
     "output_type": "execute_result"
    },
    {
     "data": {
      "image/png": "[encoded data removed]",
      "text/plain": [
       "<matplotlib.figure.Figure at 0x7f06bb823080>"
      ]
     },
     "metadata": {},
     "output_type": "display_data"
    }
   ],
   "source": [
    "sns.barplot(data=connected_df[['demofeatures_gender','Income']], x='demofeatures_gender', y='Income', hue=connected_df['clusters'])\n",
    "plt.title('Bar Plot of Income vs Gender')"
   ]
  },
  {
   "cell_type": "markdown",
   "metadata": {},
   "source": [
    "A bar plot showing the total income based on the clients employment status based on the clusters"
   ]
  },
  {
   "cell_type": "code",
   "execution_count": 23,
   "metadata": {},
   "outputs": [
    {
     "data": {
      "text/plain": [
       "Text(0.5,1,'Bar Plot of Income vs Employmnt Status')"
      ]
     },
     "execution_count": 23,
     "metadata": {},
     "output_type": "execute_result"
    },
    {
     "data": {
      "image/png": "[encoded data removed]",
      "text/plain": [
       "<matplotlib.figure.Figure at 0x7f06bb565390>"
      ]
     },
     "metadata": {},
     "output_type": "display_data"
    }
   ],
   "source": [
    "sns.barplot(data=connected_df[['demofeatures_employment_status_clients','Income']], x='demofeatures_employment_status_clients', y='Income', hue=connected_df['clusters'])\n",
    "plt.title('Bar Plot of Income vs Employmnt Status')"
   ]
  },
  {
   "cell_type": "markdown",
   "metadata": {},
   "source": [
    "A box plot showing the total income based on the clients employment status based on the clusters"
   ]
  },
  {
   "cell_type": "code",
   "execution_count": 24,
   "metadata": {},
   "outputs": [
    {
     "data": {
      "text/plain": [
       "Text(0.5,1,'Box Plot of Income vs Employment Status')"
      ]
     },
     "execution_count": 24,
     "metadata": {},
     "output_type": "execute_result"
    },
    {
     "data": {
      "image/png": "[encoded data removed]",
      "text/plain": [
       "<matplotlib.figure.Figure at 0x7f06bb5c01d0>"
      ]
     },
     "metadata": {},
     "output_type": "display_data"
    }
   ],
   "source": [
    "sns.boxplot(data=connected_df[['demofeatures_employment_status_clients','Income']], x='demofeatures_employment_status_clients', y='Income', hue=connected_df['clusters'])\n",
    "plt.title('Box Plot of Income vs Employment Status')"
   ]
  },
  {
   "cell_type": "code",
   "execution_count": null,
   "metadata": {},
   "outputs": [],
   "source": []
  }
 ],
 "metadata": {
  "kernelspec": {
   "display_name": "Python 3",
   "language": "python",
   "name": "python3"
  },
  "language_info": {
   "codemirror_mode": {
    "name": "ipython",
    "version": 3
   },
   "file_extension": ".py",
   "mimetype": "text/x-python",
   "name": "python",
   "nbconvert_exporter": "python",
   "pygments_lexer": "ipython3",
   "version": "3.6.8"
  }
 },
 "nbformat": 4,
 "nbformat_minor": 2
}
