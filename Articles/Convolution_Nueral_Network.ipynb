{
  "nbformat": 4,
  "nbformat_minor": 0,
  "metadata": {
    "colab": {
      "name": "Convolution Nueral Network",
      "provenance": []
    },
    "kernelspec": {
      "name": "python3",
      "display_name": "Python 3"
    },
    "accelerator": "GPU"
  },
  "cells": [
    {
      "cell_type": "markdown",
      "metadata": {
        "id": "jw_IVfIg2aFW",
        "colab_type": "text"
      },
      "source": [
        "Install tensorflow version 2"
      ]
    },
    {
      "cell_type": "code",
      "metadata": {
        "id": "y_TrbrR91kng",
        "colab_type": "code",
        "outputId": "1fc53f13-f165-4c86-fc86-627ff199b788",
        "colab": {
          "base_uri": "https://localhost:8080/",
          "height": 970
        }
      },
      "source": [
        "!pip install tensorflow==2"
      ],
      "execution_count": 1,
      "outputs": [
        {
          "output_type": "stream",
          "text": [
            "Collecting tensorflow==2\n",
            "\u001b[?25l  Downloading https://files.pythonhosted.org/packages/46/0f/7bd55361168bb32796b360ad15a25de6966c9c1beb58a8e30c01c8279862/tensorflow-2.0.0-cp36-cp36m-manylinux2010_x86_64.whl (86.3MB)\n",
            "\u001b[K     |████████████████████████████████| 86.3MB 52kB/s \n",
            "\u001b[?25hRequirement already satisfied: opt-einsum>=2.3.2 in /usr/local/lib/python3.6/dist-packages (from tensorflow==2) (3.2.0)\n",
            "Requirement already satisfied: protobuf>=3.6.1 in /usr/local/lib/python3.6/dist-packages (from tensorflow==2) (3.10.0)\n",
            "Requirement already satisfied: numpy<2.0,>=1.16.0 in /usr/local/lib/python3.6/dist-packages (from tensorflow==2) (1.18.2)\n",
            "Requirement already satisfied: six>=1.10.0 in /usr/local/lib/python3.6/dist-packages (from tensorflow==2) (1.12.0)\n",
            "Requirement already satisfied: wheel>=0.26 in /usr/local/lib/python3.6/dist-packages (from tensorflow==2) (0.34.2)\n",
            "Requirement already satisfied: termcolor>=1.1.0 in /usr/local/lib/python3.6/dist-packages (from tensorflow==2) (1.1.0)\n",
            "Requirement already satisfied: absl-py>=0.7.0 in /usr/local/lib/python3.6/dist-packages (from tensorflow==2) (0.9.0)\n",
            "Collecting tensorflow-estimator<2.1.0,>=2.0.0\n",
            "\u001b[?25l  Downloading https://files.pythonhosted.org/packages/fc/08/8b927337b7019c374719145d1dceba21a8bb909b93b1ad6f8fb7d22c1ca1/tensorflow_estimator-2.0.1-py2.py3-none-any.whl (449kB)\n",
            "\u001b[K     |████████████████████████████████| 450kB 58.7MB/s \n",
            "\u001b[?25hRequirement already satisfied: keras-applications>=1.0.8 in /usr/local/lib/python3.6/dist-packages (from tensorflow==2) (1.0.8)\n",
            "Requirement already satisfied: gast==0.2.2 in /usr/local/lib/python3.6/dist-packages (from tensorflow==2) (0.2.2)\n",
            "Requirement already satisfied: wrapt>=1.11.1 in /usr/local/lib/python3.6/dist-packages (from tensorflow==2) (1.12.1)\n",
            "Requirement already satisfied: grpcio>=1.8.6 in /usr/local/lib/python3.6/dist-packages (from tensorflow==2) (1.24.3)\n",
            "Collecting tensorboard<2.1.0,>=2.0.0\n",
            "\u001b[?25l  Downloading https://files.pythonhosted.org/packages/76/54/99b9d5d52d5cb732f099baaaf7740403e83fe6b0cedde940fabd2b13d75a/tensorboard-2.0.2-py3-none-any.whl (3.8MB)\n",
            "\u001b[K     |████████████████████████████████| 3.8MB 45.4MB/s \n",
            "\u001b[?25hRequirement already satisfied: astor>=0.6.0 in /usr/local/lib/python3.6/dist-packages (from tensorflow==2) (0.8.1)\n",
            "Requirement already satisfied: keras-preprocessing>=1.0.5 in /usr/local/lib/python3.6/dist-packages (from tensorflow==2) (1.1.0)\n",
            "Requirement already satisfied: google-pasta>=0.1.6 in /usr/local/lib/python3.6/dist-packages (from tensorflow==2) (0.2.0)\n",
            "Requirement already satisfied: setuptools in /usr/local/lib/python3.6/dist-packages (from protobuf>=3.6.1->tensorflow==2) (46.0.0)\n",
            "Requirement already satisfied: h5py in /usr/local/lib/python3.6/dist-packages (from keras-applications>=1.0.8->tensorflow==2) (2.8.0)\n",
            "Requirement already satisfied: werkzeug>=0.11.15 in /usr/local/lib/python3.6/dist-packages (from tensorboard<2.1.0,>=2.0.0->tensorflow==2) (1.0.0)\n",
            "Requirement already satisfied: google-auth-oauthlib<0.5,>=0.4.1 in /usr/local/lib/python3.6/dist-packages (from tensorboard<2.1.0,>=2.0.0->tensorflow==2) (0.4.1)\n",
            "Requirement already satisfied: google-auth<2,>=1.6.3 in /usr/local/lib/python3.6/dist-packages (from tensorboard<2.1.0,>=2.0.0->tensorflow==2) (1.7.2)\n",
            "Requirement already satisfied: markdown>=2.6.8 in /usr/local/lib/python3.6/dist-packages (from tensorboard<2.1.0,>=2.0.0->tensorflow==2) (3.2.1)\n",
            "Requirement already satisfied: requests<3,>=2.21.0 in /usr/local/lib/python3.6/dist-packages (from tensorboard<2.1.0,>=2.0.0->tensorflow==2) (2.21.0)\n",
            "Requirement already satisfied: requests-oauthlib>=0.7.0 in /usr/local/lib/python3.6/dist-packages (from google-auth-oauthlib<0.5,>=0.4.1->tensorboard<2.1.0,>=2.0.0->tensorflow==2) (1.3.0)\n",
            "Requirement already satisfied: cachetools<3.2,>=2.0.0 in /usr/local/lib/python3.6/dist-packages (from google-auth<2,>=1.6.3->tensorboard<2.1.0,>=2.0.0->tensorflow==2) (3.1.1)\n",
            "Requirement already satisfied: pyasn1-modules>=0.2.1 in /usr/local/lib/python3.6/dist-packages (from google-auth<2,>=1.6.3->tensorboard<2.1.0,>=2.0.0->tensorflow==2) (0.2.8)\n",
            "Requirement already satisfied: rsa<4.1,>=3.1.4 in /usr/local/lib/python3.6/dist-packages (from google-auth<2,>=1.6.3->tensorboard<2.1.0,>=2.0.0->tensorflow==2) (4.0)\n",
            "Requirement already satisfied: idna<2.9,>=2.5 in /usr/local/lib/python3.6/dist-packages (from requests<3,>=2.21.0->tensorboard<2.1.0,>=2.0.0->tensorflow==2) (2.8)\n",
            "Requirement already satisfied: certifi>=2017.4.17 in /usr/local/lib/python3.6/dist-packages (from requests<3,>=2.21.0->tensorboard<2.1.0,>=2.0.0->tensorflow==2) (2019.11.28)\n",
            "Requirement already satisfied: urllib3<1.25,>=1.21.1 in /usr/local/lib/python3.6/dist-packages (from requests<3,>=2.21.0->tensorboard<2.1.0,>=2.0.0->tensorflow==2) (1.24.3)\n",
            "Requirement already satisfied: chardet<3.1.0,>=3.0.2 in /usr/local/lib/python3.6/dist-packages (from requests<3,>=2.21.0->tensorboard<2.1.0,>=2.0.0->tensorflow==2) (3.0.4)\n",
            "Requirement already satisfied: oauthlib>=3.0.0 in /usr/local/lib/python3.6/dist-packages (from requests-oauthlib>=0.7.0->google-auth-oauthlib<0.5,>=0.4.1->tensorboard<2.1.0,>=2.0.0->tensorflow==2) (3.1.0)\n",
            "Requirement already satisfied: pyasn1<0.5.0,>=0.4.6 in /usr/local/lib/python3.6/dist-packages (from pyasn1-modules>=0.2.1->google-auth<2,>=1.6.3->tensorboard<2.1.0,>=2.0.0->tensorflow==2) (0.4.8)\n",
            "\u001b[31mERROR: tensorflow-federated 0.12.0 has requirement tensorflow~=2.1.0, but you'll have tensorflow 2.0.0 which is incompatible.\u001b[0m\n",
            "\u001b[31mERROR: tensorflow-federated 0.12.0 has requirement tensorflow-addons~=0.7.0, but you'll have tensorflow-addons 0.8.3 which is incompatible.\u001b[0m\n",
            "Installing collected packages: tensorflow-estimator, tensorboard, tensorflow\n",
            "  Found existing installation: tensorflow-estimator 1.15.1\n",
            "    Uninstalling tensorflow-estimator-1.15.1:\n",
            "      Successfully uninstalled tensorflow-estimator-1.15.1\n",
            "  Found existing installation: tensorboard 1.15.0\n",
            "    Uninstalling tensorboard-1.15.0:\n",
            "      Successfully uninstalled tensorboard-1.15.0\n",
            "  Found existing installation: tensorflow 1.15.0\n",
            "    Uninstalling tensorflow-1.15.0:\n",
            "      Successfully uninstalled tensorflow-1.15.0\n",
            "Successfully installed tensorboard-2.1.1 tensorflow-2.1.0 tensorflow-estimator-2.1.0\n"
          ],
          "name": "stdout"
        }
      ]
    },
    {
      "cell_type": "markdown",
      "metadata": {
        "id": "nwgsqXV02gfn",
        "colab_type": "text"
      },
      "source": [
        "Import packages"
      ]
    },
    {
      "cell_type": "code",
      "metadata": {
        "id": "tSlRyofZ1mXS",
        "colab_type": "code",
        "outputId": "b1c96a0d-8d46-4718-9989-102b8de327ee",
        "colab": {
          "base_uri": "https://localhost:8080/",
          "height": 34
        }
      },
      "source": [
        "from __future__ import absolute_import, division, print_function, unicode_literals\n",
        "\n",
        "# TensorFlow and tf.keras\n",
        "import tensorflow as tf\n",
        "from tensorflow import keras\n",
        "from tensorflow.keras import datasets, layers, models\n",
        "\n",
        "# Helper libraries\n",
        "import numpy as np\n",
        "import matplotlib.pyplot as plt\n",
        "\n",
        "print(tf.__version__)"
      ],
      "execution_count": 2,
      "outputs": [
        {
          "output_type": "stream",
          "text": [
            "2.0.0\n"
          ],
          "name": "stdout"
        }
      ]
    },
    {
      "cell_type": "markdown",
      "metadata": {
        "id": "38AQci-G2peY",
        "colab_type": "text"
      },
      "source": [
        "## Data\n",
        "\n",
        "- The data we will be using is the MNIST Dataset and it will be downloaded from the tensorflow dataset library. \n",
        "\n",
        "- The Fashion MNIST dataset contains 70,000 grayscale images group into 10 categories.\n",
        "\n",
        "- Each image is a 28x28 pixel low resolution image. \n",
        "\n",
        "- We will divide the dataset into training and testing dataset.\n",
        "\n",
        "- 60,000 will be used to train while 10,000 to test.\n",
        "\n",
        "Each training and test example is assigned to one of the following labels:\n",
        "\n",
        "0. T-shirt/top\n",
        "1. Trouser\n",
        "2. Pullover\n",
        "3. Dress\n",
        "4. Coat\n",
        "5. Sandal\n",
        "6. Shirt\n",
        "7. Sneaker\n",
        "8. Bag\n",
        "9. Ankle boot \n"
      ]
    },
    {
      "cell_type": "code",
      "metadata": {
        "id": "zxovuG_q1qcA",
        "colab_type": "code",
        "outputId": "7d570135-a8ad-4df9-9856-e534bba46fef",
        "colab": {
          "base_uri": "https://localhost:8080/",
          "height": 180
        }
      },
      "source": [
        "# Download the data from the keras dataset library\n",
        "fashion_mnist = keras.datasets.fashion_mnist\n",
        "\n",
        "# Split the data into train and test and load them into a numpy array\n",
        "(train_images, train_labels), (test_images, test_labels) = fashion_mnist.load_data()\n",
        "\n",
        "class_names = ['T-shirt/top', 'Trouser', 'Pullover', 'Dress', 'Coat',\n",
        "               'Sandal', 'Shirt', 'Sneaker', 'Bag', 'Ankle boot']"
      ],
      "execution_count": 3,
      "outputs": [
        {
          "output_type": "stream",
          "text": [
            "Downloading data from https://storage.googleapis.com/tensorflow/tf-keras-datasets/train-labels-idx1-ubyte.gz\n",
            "32768/29515 [=================================] - 0s 0us/step\n",
            "Downloading data from https://storage.googleapis.com/tensorflow/tf-keras-datasets/train-images-idx3-ubyte.gz\n",
            "26427392/26421880 [==============================] - 0s 0us/step\n",
            "Downloading data from https://storage.googleapis.com/tensorflow/tf-keras-datasets/t10k-labels-idx1-ubyte.gz\n",
            "8192/5148 [===============================================] - 0s 0us/step\n",
            "Downloading data from https://storage.googleapis.com/tensorflow/tf-keras-datasets/t10k-images-idx3-ubyte.gz\n",
            "4423680/4422102 [==============================] - 0s 0us/step\n"
          ],
          "name": "stdout"
        }
      ]
    },
    {
      "cell_type": "code",
      "metadata": {
        "id": "mkfraurV1xp1",
        "colab_type": "code",
        "outputId": "2a0905d2-32f3-4ce2-af49-b7321395dd2c",
        "colab": {
          "base_uri": "https://localhost:8080/",
          "height": 52
        }
      },
      "source": [
        "print('The total number of training images is {}'.format(train_images.shape))\n",
        "print('The total number of test images is {}'.format(test_images.shape))"
      ],
      "execution_count": 4,
      "outputs": [
        {
          "output_type": "stream",
          "text": [
            "The total number of training images is (60000, 28, 28)\n",
            "The total number of test images is (10000, 28, 28)\n"
          ],
          "name": "stdout"
        }
      ]
    },
    {
      "cell_type": "markdown",
      "metadata": {
        "id": "LZoOBlbj44eI",
        "colab_type": "text"
      },
      "source": [
        "Scale the images so they can be on the scale of 0 to 1."
      ]
    },
    {
      "cell_type": "code",
      "metadata": {
        "id": "TU4bAe-k11F0",
        "colab_type": "code",
        "colab": {}
      },
      "source": [
        "# Scale the images by dividing each images value by 255.0\n",
        "train_images = train_images / 255.0\n",
        "\n",
        "test_images = test_images / 255.0"
      ],
      "execution_count": 0,
      "outputs": []
    },
    {
      "cell_type": "markdown",
      "metadata": {
        "id": "FTyz4YaF5BrS",
        "colab_type": "text"
      },
      "source": [
        "- Reshape images "
      ]
    },
    {
      "cell_type": "code",
      "metadata": {
        "id": "NNyud8bV15kj",
        "colab_type": "code",
        "colab": {}
      },
      "source": [
        "# reshape images\n",
        "train_images_reshaped = train_images.reshape(-1, 28, 28,1)\n",
        "test_images_reshaped = test_images.reshape(-1,28,28,1)"
      ],
      "execution_count": 0,
      "outputs": []
    },
    {
      "cell_type": "markdown",
      "metadata": {
        "id": "VWSFFTY25LUL",
        "colab_type": "text"
      },
      "source": [
        "# Create the Model\n",
        "- We build the model with 2 conv2d layer, each having, 64 input nodes, 3x3 filter and a relu activation.\n",
        "- Each convolution layer also passes through a max pooling layer with stride of 2x2.\n",
        "- The model is then flattened so as to connect to the fully connected dense layer with 128 input nodes and passes through the relu activation function.\n",
        "- Finally, we have the output layer that outputs 10 nodes,10 for the number of classes and a softmax activation function bacause we are working on a multi-classification problem.\n"
      ]
    },
    {
      "cell_type": "code",
      "metadata": {
        "id": "IYlzeSG319f_",
        "colab_type": "code",
        "outputId": "5553568e-cf2e-4e7b-b0e9-cc1c5f401fea",
        "colab": {
          "base_uri": "https://localhost:8080/",
          "height": 412
        }
      },
      "source": [
        "# model structure\n",
        "model = tf.keras.models.Sequential([\n",
        "# first conv2d model followed by a maxpooling layer\n",
        " tf.keras.layers.Conv2D(64, (3,3), activation='relu', input_shape=(28, 28, 1)),\n",
        " tf.keras.layers.MaxPooling2D(2, 2),\n",
        " # second conv2d model\n",
        " tf.keras.layers.Conv2D(64, (3,3), activation='relu'),\n",
        " tf.keras.layers.MaxPooling2D(2,2),\n",
        " #flatten the output from the second conv2d model\n",
        " tf.keras.layers.Flatten(),\n",
        " tf.keras.layers.Dense(128, activation='relu'),\n",
        " # output layer with softmax activation\n",
        " tf.keras.layers.Dense(10, activation='softmax')\n",
        "])\n",
        "model.summary()\n"
      ],
      "execution_count": 7,
      "outputs": [
        {
          "output_type": "stream",
          "text": [
            "Model: \"sequential\"\n",
            "_________________________________________________________________\n",
            "Layer (type)                 Output Shape              Param #   \n",
            "=================================================================\n",
            "conv2d (Conv2D)              (None, 26, 26, 64)        640       \n",
            "_________________________________________________________________\n",
            "max_pooling2d (MaxPooling2D) (None, 13, 13, 64)        0         \n",
            "_________________________________________________________________\n",
            "conv2d_1 (Conv2D)            (None, 11, 11, 64)        36928     \n",
            "_________________________________________________________________\n",
            "max_pooling2d_1 (MaxPooling2 (None, 5, 5, 64)          0         \n",
            "_________________________________________________________________\n",
            "flatten (Flatten)            (None, 1600)              0         \n",
            "_________________________________________________________________\n",
            "dense (Dense)                (None, 128)               204928    \n",
            "_________________________________________________________________\n",
            "dense_1 (Dense)              (None, 10)                1290      \n",
            "=================================================================\n",
            "Total params: 243,786\n",
            "Trainable params: 243,786\n",
            "Non-trainable params: 0\n",
            "_________________________________________________________________\n"
          ],
          "name": "stdout"
        }
      ]
    },
    {
      "cell_type": "markdown",
      "metadata": {
        "id": "I6MKfqIV52ld",
        "colab_type": "text"
      },
      "source": [
        "- Compile the model with the following parameters\n",
        "  - adam optimizer: This is most effective optimization function, we have others function that can be used.\n",
        "  - sparse_categorical_crossentropy loss\n",
        "  - accuracy metric.\n",
        "\n",
        "- Run the model on the reshaped train and test data. on 10 iterations"
      ]
    },
    {
      "cell_type": "code",
      "metadata": {
        "id": "bkwCjrlQ2C_H",
        "colab_type": "code",
        "outputId": "bdd5d29a-1eaa-40ac-b30e-bd0b685b913a",
        "colab": {
          "base_uri": "https://localhost:8080/",
          "height": 414
        }
      },
      "source": [
        "\n",
        "model.compile(optimizer='adam', loss='sparse_categorical_crossentropy', metrics=['accuracy'])\n",
        "\n",
        "history=model.fit(train_images_reshaped, train_labels, epochs=10, \n",
        "                  validation_data=(test_images_reshaped, test_labels))\n"
      ],
      "execution_count": 8,
      "outputs": [
        {
          "output_type": "stream",
          "text": [
            "Train on 60000 samples, validate on 10000 samples\n",
            "Epoch 1/10\n",
            "60000/60000 [==============================] - 86s 1ms/sample - loss: 0.4378 - accuracy: 0.8406 - val_loss: 0.3375 - val_accuracy: 0.8756\n",
            "Epoch 2/10\n",
            "60000/60000 [==============================] - 84s 1ms/sample - loss: 0.2942 - accuracy: 0.8922 - val_loss: 0.3009 - val_accuracy: 0.8864\n",
            "Epoch 3/10\n",
            "60000/60000 [==============================] - 83s 1ms/sample - loss: 0.2472 - accuracy: 0.9090 - val_loss: 0.2625 - val_accuracy: 0.9017\n",
            "Epoch 4/10\n",
            "60000/60000 [==============================] - 83s 1ms/sample - loss: 0.2141 - accuracy: 0.9193 - val_loss: 0.2422 - val_accuracy: 0.9121\n",
            "Epoch 5/10\n",
            "60000/60000 [==============================] - 82s 1ms/sample - loss: 0.1865 - accuracy: 0.9299 - val_loss: 0.2716 - val_accuracy: 0.9012\n",
            "Epoch 6/10\n",
            "60000/60000 [==============================] - 82s 1ms/sample - loss: 0.1639 - accuracy: 0.9382 - val_loss: 0.2493 - val_accuracy: 0.9123\n",
            "Epoch 7/10\n",
            "60000/60000 [==============================] - 81s 1ms/sample - loss: 0.1424 - accuracy: 0.9460 - val_loss: 0.2607 - val_accuracy: 0.9122\n",
            "Epoch 8/10\n",
            "60000/60000 [==============================] - 81s 1ms/sample - loss: 0.1253 - accuracy: 0.9532 - val_loss: 0.2759 - val_accuracy: 0.9121\n",
            "Epoch 9/10\n",
            "60000/60000 [==============================] - 81s 1ms/sample - loss: 0.1083 - accuracy: 0.9583 - val_loss: 0.2935 - val_accuracy: 0.9100\n",
            "Epoch 10/10\n",
            "60000/60000 [==============================] - 81s 1ms/sample - loss: 0.0967 - accuracy: 0.9633 - val_loss: 0.2997 - val_accuracy: 0.9110\n"
          ],
          "name": "stdout"
        }
      ]
    },
    {
      "cell_type": "markdown",
      "metadata": {
        "id": "8KtPkKEprcOV",
        "colab_type": "text"
      },
      "source": [
        "The following codes plots the training accuracy against the validation accuracy.\n",
        "\n",
        "- We see that "
      ]
    },
    {
      "cell_type": "code",
      "metadata": {
        "id": "5xb4qFaW2Hii",
        "colab_type": "code",
        "outputId": "3dfd8786-d522-440d-f354-b01a9e4794d2",
        "colab": {
          "base_uri": "https://localhost:8080/",
          "height": 301
        }
      },
      "source": [
        "# Plot the model training accuracy and validation accuracy\n",
        "plt.plot(history.history['accuracy'], label='accuracy')\n",
        "plt.plot(history.history['val_accuracy'], label = 'val_accuracy')\n",
        "plt.xlabel('Epoch')\n",
        "plt.ylabel('Accuracy')\n",
        "plt.ylim([0.5, 1])\n",
        "plt.legend(loc='lower right')"
      ],
      "execution_count": 9,
      "outputs": [
        {
          "output_type": "execute_result",
          "data": {
            "text/plain": [
              "<matplotlib.legend.Legend at 0x7fbad826c9b0>"
            ]
          },
          "metadata": {
            "tags": []
          },
          "execution_count": 9
        },
        {
          "output_type": "display_data",
          "data": {
            "image/png": "[encoded data removed]",
            "text/plain": [
              "<Figure size 432x288 with 1 Axes>"
            ]
          },
          "metadata": {
            "tags": []
          }
        }
      ]
    },
    {
      "cell_type": "markdown",
      "metadata": {
        "id": "G1IKtRhuroOn",
        "colab_type": "text"
      },
      "source": [
        "# Prediction\n",
        "\n",
        "- Now we can make predictions to see how the model performs."
      ]
    },
    {
      "cell_type": "code",
      "metadata": {
        "id": "q-jAFdGj6U2c",
        "colab_type": "code",
        "colab": {}
      },
      "source": [
        "probability_model = tf.keras.Sequential([model, \n",
        "                                         tf.keras.layers.Softmax()])\n",
        "\n",
        "predictions = probability_model.predict(test_images_reshaped)"
      ],
      "execution_count": 0,
      "outputs": []
    },
    {
      "cell_type": "markdown",
      "metadata": {
        "id": "OIVCW0pJr5AP",
        "colab_type": "text"
      },
      "source": [
        "- Two functions below are used to create a plot of the model prediction on the test data. The prediction comes along with the model probability score and the name of the prediction."
      ]
    },
    {
      "cell_type": "code",
      "metadata": {
        "id": "T5YadDI5rKp8",
        "colab_type": "code",
        "colab": {}
      },
      "source": [
        "def plot_image(i, predictions_array, true_label, img):\n",
        "  \"\"\"\n",
        "  A function to plot the image and its labels\n",
        "  \"\"\"\n",
        "  predictions_array, true_label, img = predictions_array, true_label[i], img[i]\n",
        "  plt.grid(False)\n",
        "  plt.xticks([])\n",
        "  plt.yticks([])\n",
        "\n",
        "  plt.imshow(img, cmap=plt.cm.binary)\n",
        "\n",
        "# Blue of the prediction is coreect and red for wrong predictions\n",
        "  predicted_label = np.argmax(predictions_array)\n",
        "  if predicted_label == true_label:\n",
        "    color = 'blue'\n",
        "  else:\n",
        "    color = 'red'\n",
        "\n",
        "  plt.xlabel(\"{} {:2.0f}% ({})\".format(class_names[predicted_label],\n",
        "                                100*np.max(predictions_array),\n",
        "                                class_names[true_label]),\n",
        "                                color=color)\n",
        "\n",
        "def plot_value_array(i, predictions_array, true_label):\n",
        "  \"\"\"\n",
        "  A function to plot the value array of the predictions along side it probability score\n",
        "  \"\"\"\n",
        "  predictions_array, true_label = predictions_array, true_label[i]\n",
        "  plt.grid(False)\n",
        "  plt.xticks(range(10))\n",
        "  plt.yticks([])\n",
        "  thisplot = plt.bar(range(10), predictions_array, color=\"#777777\")\n",
        "  plt.ylim([0, 1])\n",
        "  predicted_label = np.argmax(predictions_array)\n",
        "\n",
        "  thisplot[predicted_label].set_color('red')\n",
        "  thisplot[true_label].set_color('blue')"
      ],
      "execution_count": 0,
      "outputs": []
    },
    {
      "cell_type": "markdown",
      "metadata": {
        "id": "h9QCnintv_p7",
        "colab_type": "text"
      },
      "source": [
        "## Plot the predictions\n",
        "- The code below is going to plot the predictions along side their probability."
      ]
    },
    {
      "cell_type": "code",
      "metadata": {
        "id": "dzQ085QurPpo",
        "colab_type": "code",
        "colab": {
          "base_uri": "https://localhost:8080/",
          "height": 729
        },
        "outputId": "fded3715-c5c6-47e1-b021-f10b76e744e1"
      },
      "source": [
        "# Plot the first X test images, their predicted labels, and the true labels.\n",
        "# Color correct predictions in blue and incorrect predictions in red.\n",
        "num_rows = 5\n",
        "num_cols = 3\n",
        "num_images = num_rows*num_cols\n",
        "plt.figure(figsize=(2*2*num_cols, 2*num_rows))\n",
        "for i in range(num_images):\n",
        "  plt.subplot(num_rows, 2*num_cols, 2*i+1)\n",
        "  plot_image(i, predictions[i], test_labels, test_images)\n",
        "  plt.subplot(num_rows, 2*num_cols, 2*i+2)\n",
        "  plot_value_array(i, predictions[i], test_labels)\n",
        "plt.tight_layout()\n",
        "plt.show()"
      ],
      "execution_count": 15,
      "outputs": [
        {
          "output_type": "display_data",
          "data": {
            "image/png": "[encoded data removed]",
            "text/plain": [
              "<Figure size 864x720 with 30 Axes>"
            ]
          },
          "metadata": {
            "tags": []
          }
        }
      ]
    },
    {
      "cell_type": "markdown",
      "metadata": {
        "id": "BUQX0-o8wJT_",
        "colab_type": "text"
      },
      "source": [
        "- Above we can see that out of the 15 predictions, the model only got one wrong with just a small margin."
      ]
    },
    {
      "cell_type": "markdown",
      "metadata": {
        "id": "usbNRlm_wf8e",
        "colab_type": "text"
      },
      "source": [
        "# Excercises\n",
        "- Now is your turn to try out some excercise on your own."
      ]
    },
    {
      "cell_type": "markdown",
      "metadata": {
        "id": "zFGgJuQ01tVI",
        "colab_type": "text"
      },
      "source": [
        "####1. Which of these are the part of the layers that makes up the convoluton neural network architecture.\n",
        "\n",
        "  A) Convolution layer\n",
        "\n",
        "  B) Fully Connected Layer\n",
        "\n",
        "  C) Dynamic layer\n",
        "\n",
        "  D) Pooling layers"
      ]
    },
    {
      "cell_type": "markdown",
      "metadata": {
        "id": "m8sNdev72yzx",
        "colab_type": "text"
      },
      "source": [
        "####2. Average pooling and max pooling are types of pooling filters in a convolution neural network\n",
        "\n",
        "A) True\n",
        "\n",
        "B) False"
      ]
    },
    {
      "cell_type": "markdown",
      "metadata": {
        "id": "7Asok2rCwnKG",
        "colab_type": "text"
      },
      "source": [
        "###3. Complet the convolution neural network\n",
        "\n",
        "- Create the creation of the Sequential model\n"
      ]
    },
    {
      "cell_type": "code",
      "metadata": {
        "id": "UhDQDIiywmFA",
        "colab_type": "code",
        "colab": {}
      },
      "source": [
        "model = tf.______._____._____([\n",
        "  tf.keras.layers.____(___, (___,___), activation='____', input_shape=(28, 28, 1)),\n",
        "  tf.keras.layers._____(____, ____),"
      ],
      "execution_count": 0,
      "outputs": []
    },
    {
      "cell_type": "markdown",
      "metadata": {
        "id": "AOwUUg12ydKm",
        "colab_type": "text"
      },
      "source": [
        "####4. Add another convolution layer"
      ]
    },
    {
      "cell_type": "code",
      "metadata": {
        "id": "38Uf6YrRyj-k",
        "colab_type": "code",
        "colab": {}
      },
      "source": [
        "  tf.keras.layers.Conv2D(64, (3,3), activation='relu'),\n",
        "  tf.keras.layers.MaxPooling2D(2,2)\n",
        "\n",
        "  _____________ # add another layer\n",
        "  _____________# add a max pooling layer"
      ],
      "execution_count": 0,
      "outputs": []
    },
    {
      "cell_type": "markdown",
      "metadata": {
        "id": "WWT_Mqq5y6QA",
        "colab_type": "text"
      },
      "source": [
        "####5. Compile and Train the Model\n",
        "- Complete the code to compile and Train the Model and evaluate the model."
      ]
    },
    {
      "cell_type": "code",
      "metadata": {
        "id": "gn8hpX4DzAtc",
        "colab_type": "code",
        "colab": {}
      },
      "source": [
        "# compile the model\n",
        "model._______________(_____________, _______________________, ______________________)\n",
        "\n",
        "#fit the model\n",
        "____.____(train_images_reshaped, train_labels, _______=10, \n",
        "                  validation_data=(test_images_reshaped, test_labels))\n",
        "\n",
        "# evaluate the model.\n",
        "test_loss, test_acc = model.__________(test_images_reshaped, test_labels)\n",
        "print(test_acc)"
      ],
      "execution_count": 0,
      "outputs": []
    },
    {
      "cell_type": "markdown",
      "metadata": {
        "id": "AFt0bXKMz5tw",
        "colab_type": "text"
      },
      "source": [
        "# Solution\n"
      ]
    },
    {
      "cell_type": "markdown",
      "metadata": {
        "id": "Z3h7sUME2ry7",
        "colab_type": "text"
      },
      "source": [
        "#### Question 1\n",
        "\n",
        "Solution: A, B and D"
      ]
    },
    {
      "cell_type": "markdown",
      "metadata": {
        "id": "zqXq-cgW3MvA",
        "colab_type": "text"
      },
      "source": [
        "#### Question 2\n",
        "\n",
        "Solution:  True"
      ]
    },
    {
      "cell_type": "markdown",
      "metadata": {
        "id": "e7yJOpL00Bf1",
        "colab_type": "text"
      },
      "source": [
        "#### Question 3"
      ]
    },
    {
      "cell_type": "code",
      "metadata": {
        "id": "FUyyRN2Jz7uw",
        "colab_type": "code",
        "colab": {}
      },
      "source": [
        "model = tf.keras.models.Sequential([\n",
        "  tf.keras.layers.Conv2D(32, (3,3), activation='relu', input_shape=(28, 28, 1)),\n",
        "  tf.keras.layers.MaxPooling2D(2, 2),"
      ],
      "execution_count": 0,
      "outputs": []
    },
    {
      "cell_type": "markdown",
      "metadata": {
        "id": "mu8NBQm-0cLS",
        "colab_type": "text"
      },
      "source": [
        "#### Question 4"
      ]
    },
    {
      "cell_type": "code",
      "metadata": {
        "id": "VC98yEqh0eQX",
        "colab_type": "code",
        "colab": {}
      },
      "source": [
        "tf.keras.layers.Conv2D(64, (3,3), activation='relu'),\n",
        "tf.keras.layers.MaxPooling2D(2,2)\n",
        "\n",
        "tf.keras.layers.Conv2D(64, (3,3), activation='relu'),\n",
        "tf.keras.layers.MaxPooling2D(2,2)"
      ],
      "execution_count": 0,
      "outputs": []
    },
    {
      "cell_type": "markdown",
      "metadata": {
        "id": "o0TvkV2H0kd-",
        "colab_type": "text"
      },
      "source": [
        "#### Question 5"
      ]
    },
    {
      "cell_type": "code",
      "metadata": {
        "id": "TdLzzEDm0m1C",
        "colab_type": "code",
        "colab": {}
      },
      "source": [
        "#compile model\n",
        "model.compile(optimizer='adam', loss='sparse_categorical_crossentropy', metrics=['accuracy'])\n",
        "\n",
        "#fit the model\n",
        "model.fit(train_images_reshaped, train_labels, epochs=10, \n",
        "                  validation_data=(test_images_reshaped, test_labels))\n",
        "\n",
        "# get test loss and test accuracy \n",
        "test_loss, test_acc = model.evaluate(test_images, test_labels)\n",
        "\n",
        "print(test_acc)"
      ],
      "execution_count": 0,
      "outputs": []
    }
  ]
}