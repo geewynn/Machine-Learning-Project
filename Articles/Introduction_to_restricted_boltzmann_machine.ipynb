{
  "nbformat": 4,
  "nbformat_minor": 0,
  "metadata": {
    "colab": {
      "name": "Introduction to restricted boltzmann machine.ipynb",
      "provenance": []
    },
    "kernelspec": {
      "name": "python3",
      "display_name": "Python 3"
    },
    "accelerator": "GPU"
  },
  "cells": [
    {
      "cell_type": "markdown",
      "metadata": {
        "id": "LUgeM-K7IV2L",
        "colab_type": "text"
      },
      "source": [
        "#Import Packages"
      ]
    },
    {
      "cell_type": "code",
      "metadata": {
        "id": "Jy7MNdYMxkW_",
        "colab_type": "code",
        "colab": {}
      },
      "source": [
        "import numpy as np\n",
        "import matplotlib.pyplot as plt\n",
        "\n",
        "from scipy.ndimage import convolve\n",
        "from sklearn import linear_model, datasets, metrics\n",
        "from sklearn.model_selection import train_test_split\n",
        "from sklearn.neural_network import BernoulliRBM\n",
        "from sklearn.pipeline import Pipeline\n",
        "from sklearn.base import clone"
      ],
      "execution_count": 0,
      "outputs": []
    },
    {
      "cell_type": "markdown",
      "metadata": {
        "id": "KsW-FJq_IZ-1",
        "colab_type": "text"
      },
      "source": [
        "###Create Nudge Function\n",
        "\n",
        "- This will reproduce dataset 5 times bigger than the original\n",
        "- Can be seen as another way of carrying out data augementation."
      ]
    },
    {
      "cell_type": "code",
      "metadata": {
        "id": "83bu7v000lpt",
        "colab_type": "code",
        "colab": {}
      },
      "source": [
        "def nudge_dataset(X, Y):\n",
        "    \"\"\"\n",
        "    This produces a dataset 5 times bigger than the original one,\n",
        "    by moving the 8x8 images in X around by 1px to left, right, down, up\n",
        "    \"\"\"\n",
        "    direction_vectors = [\n",
        "        [[0, 1, 0],\n",
        "         [0, 0, 0],\n",
        "         [0, 0, 0]],\n",
        "\n",
        "        [[0, 0, 0],\n",
        "         [1, 0, 0],\n",
        "         [0, 0, 0]],\n",
        "\n",
        "        [[0, 0, 0],\n",
        "         [0, 0, 1],\n",
        "         [0, 0, 0]],\n",
        "\n",
        "        [[0, 0, 0],\n",
        "         [0, 0, 0],\n",
        "         [0, 1, 0]]]\n",
        "\n",
        "    def shift(x, w):\n",
        "        return convolve(x.reshape((8, 8)), mode='constant', weights=w).ravel()\n",
        "\n",
        "    X = np.concatenate([X] +\n",
        "                       [np.apply_along_axis(shift, 1, X, vector)\n",
        "                        for vector in direction_vectors])\n",
        "    Y = np.concatenate([Y for _ in range(5)], axis=0)\n",
        "    return X, Y"
      ],
      "execution_count": 0,
      "outputs": []
    },
    {
      "cell_type": "markdown",
      "metadata": {
        "id": "hOPPD2rTIp8u",
        "colab_type": "text"
      },
      "source": [
        "#Load Data\n",
        "\n",
        "- Load the data from the keras dataset library\n",
        "- convert to array of floating points numbers.\n",
        "- Nudge the data.\n",
        "- Sclae the dataset.\n",
        "- Split into train and test."
      ]
    },
    {
      "cell_type": "code",
      "metadata": {
        "id": "6KnzF3qB0tVu",
        "colab_type": "code",
        "colab": {}
      },
      "source": [
        "# Load Data\n",
        "X, Y = datasets.load_digits(return_X_y=True)\n",
        "X = np.asarray(X, 'float32')\n",
        "X, Y = nudge_dataset(X, y)\n",
        "X = (X - np.min(X, 0)) / (np.max(X, 0) + 0.0001)  # 0-1 scaling\n",
        "\n",
        "X_train, X_test, Y_train, Y_test = train_test_split(\n",
        "    X, Y, test_size=0.2, random_state=0)\n"
      ],
      "execution_count": 0,
      "outputs": []
    },
    {
      "cell_type": "markdown",
      "metadata": {
        "id": "DdAry7voJASk",
        "colab_type": "text"
      },
      "source": [
        "#Build The model.\n",
        "- Instantiate both the logistice regression and RBM model\n",
        "- Create a pipeline to run the model."
      ]
    },
    {
      "cell_type": "code",
      "metadata": {
        "id": "iWZ3BE5E0xvk",
        "colab_type": "code",
        "colab": {}
      },
      "source": [
        "# Models we will use\n",
        "logistic = linear_model.LogisticRegression(solver='newton-cg', tol=1)\n",
        "rbm = BernoulliRBM(random_state=0, verbose=True)\n",
        "\n",
        "rbm_features_classifier = Pipeline(\n",
        "    steps=[('rbm', rbm), ('logistic', logistic)])"
      ],
      "execution_count": 0,
      "outputs": []
    },
    {
      "cell_type": "markdown",
      "metadata": {
        "id": "bHaZuOs0JM2q",
        "colab_type": "text"
      },
      "source": [
        "##Model Training\n",
        "- Train the model on the assigned parameters.\n",
        "- Fit the model on the train and test data."
      ]
    },
    {
      "cell_type": "code",
      "metadata": {
        "id": "W2Ykt2sm02Ei",
        "colab_type": "code",
        "colab": {
          "base_uri": "https://localhost:8080/",
          "height": 286
        },
        "outputId": "fa133614-d237-4fd1-a5fc-031a5c80db99"
      },
      "source": [
        "# Training\n",
        "\n",
        "# Hyper-parameters. These were set by cross-validation,\n",
        "# using a GridSearchCV. Here we are not performing cross-validation to\n",
        "# save time.\n",
        "rbm.learning_rate = 0.06\n",
        "rbm.n_iter = 10\n",
        "# More components tend to give better prediction performance, but larger\n",
        "# fitting time\n",
        "rbm.n_components = 100\n",
        "logistic.C = 6000\n",
        "\n",
        "# Training RBM-Logistic Pipeline\n",
        "rbm_features_classifier.fit(X_train, Y_train)\n",
        "\n",
        "# Training the Logistic regression classifier directly on the pixel\n",
        "raw_pixel_classifier = clone(logistic)\n",
        "raw_pixel_classifier.C = 100.\n",
        "raw_pixel_classifier.fit(X_train, Y_train)"
      ],
      "execution_count": 6,
      "outputs": [
        {
          "output_type": "stream",
          "text": [
            "[BernoulliRBM] Iteration 1, pseudo-likelihood = -27.63, time = 0.04s\n",
            "[BernoulliRBM] Iteration 2, pseudo-likelihood = -27.03, time = 0.08s\n",
            "[BernoulliRBM] Iteration 3, pseudo-likelihood = -25.98, time = 0.08s\n",
            "[BernoulliRBM] Iteration 4, pseudo-likelihood = -25.09, time = 0.08s\n",
            "[BernoulliRBM] Iteration 5, pseudo-likelihood = -23.97, time = 0.08s\n",
            "[BernoulliRBM] Iteration 6, pseudo-likelihood = -23.77, time = 0.09s\n",
            "[BernoulliRBM] Iteration 7, pseudo-likelihood = -23.52, time = 0.08s\n",
            "[BernoulliRBM] Iteration 8, pseudo-likelihood = -22.80, time = 0.07s\n",
            "[BernoulliRBM] Iteration 9, pseudo-likelihood = -22.38, time = 0.07s\n",
            "[BernoulliRBM] Iteration 10, pseudo-likelihood = -22.40, time = 0.08s\n"
          ],
          "name": "stdout"
        },
        {
          "output_type": "execute_result",
          "data": {
            "text/plain": [
              "LogisticRegression(C=100.0, class_weight=None, dual=False, fit_intercept=True,\n",
              "                   intercept_scaling=1, l1_ratio=None, max_iter=100,\n",
              "                   multi_class='auto', n_jobs=None, penalty='l2',\n",
              "                   random_state=None, solver='newton-cg', tol=1, verbose=0,\n",
              "                   warm_start=False)"
            ]
          },
          "metadata": {
            "tags": []
          },
          "execution_count": 6
        }
      ]
    },
    {
      "cell_type": "markdown",
      "metadata": {
        "id": "IvLE3Vz3JdLo",
        "colab_type": "text"
      },
      "source": [
        "#Evaluation\n",
        "- Perform evaluation on the test data set.\n",
        "- Print the classification report."
      ]
    },
    {
      "cell_type": "code",
      "metadata": {
        "id": "_R1u1NdL05NE",
        "colab_type": "code",
        "colab": {
          "base_uri": "https://localhost:8080/",
          "height": 700
        },
        "outputId": "d729fa90-3af4-4a18-f304-ce354ea67ece"
      },
      "source": [
        "# Evaluation\n",
        "\n",
        "Y_pred = rbm_features_classifier.predict(X_test)\n",
        "print(\"Logistic regression using RBM features:\\n%s\\n\" % (\n",
        "    metrics.classification_report(Y_test, Y_pred)))\n",
        "\n",
        "Y_pred = raw_pixel_classifier.predict(X_test)\n",
        "print(\"Logistic regression using raw pixel features:\\n%s\\n\" % (\n",
        "    metrics.classification_report(Y_test, Y_pred)))"
      ],
      "execution_count": 7,
      "outputs": [
        {
          "output_type": "stream",
          "text": [
            "Logistic regression using RBM features:\n",
            "              precision    recall  f1-score   support\n",
            "\n",
            "           0       1.00      1.00      1.00        27\n",
            "           1       0.91      0.91      0.91        35\n",
            "           2       1.00      0.86      0.93        36\n",
            "           3       0.79      0.93      0.86        29\n",
            "           4       0.85      0.97      0.91        30\n",
            "           5       0.92      0.90      0.91        40\n",
            "           6       0.98      0.98      0.98        44\n",
            "           7       0.90      0.95      0.92        39\n",
            "           8       0.94      0.87      0.91        39\n",
            "           9       0.85      0.80      0.83        41\n",
            "\n",
            "    accuracy                           0.91       360\n",
            "   macro avg       0.92      0.92      0.91       360\n",
            "weighted avg       0.92      0.91      0.91       360\n",
            "\n",
            "\n",
            "Logistic regression using raw pixel features:\n",
            "              precision    recall  f1-score   support\n",
            "\n",
            "           0       1.00      1.00      1.00        27\n",
            "           1       0.91      0.89      0.90        35\n",
            "           2       0.97      1.00      0.99        36\n",
            "           3       1.00      1.00      1.00        29\n",
            "           4       0.97      1.00      0.98        30\n",
            "           5       0.97      0.93      0.95        40\n",
            "           6       0.98      0.98      0.98        44\n",
            "           7       1.00      0.97      0.99        39\n",
            "           8       0.95      0.92      0.94        39\n",
            "           9       0.89      0.95      0.92        41\n",
            "\n",
            "    accuracy                           0.96       360\n",
            "   macro avg       0.96      0.96      0.96       360\n",
            "weighted avg       0.96      0.96      0.96       360\n",
            "\n",
            "\n"
          ],
          "name": "stdout"
        }
      ]
    },
    {
      "cell_type": "markdown",
      "metadata": {
        "id": "5CKjlVVkJqV-",
        "colab_type": "text"
      },
      "source": [
        "#Plot the components\n",
        "- Here we will plot the rbm components."
      ]
    },
    {
      "cell_type": "code",
      "metadata": {
        "id": "38VQY0OZ1BoO",
        "colab_type": "code",
        "colab": {
          "base_uri": "https://localhost:8080/",
          "height": 517
        },
        "outputId": "32be89ab-6269-4c6b-cc48-57a57227735c"
      },
      "source": [
        "# Plotting\n",
        "\n",
        "plt.figure(figsize=(10, 7))\n",
        "for i, comp in enumerate(rbm.components_):\n",
        "    plt.subplot(10, 10, i + 1)\n",
        "    plt.imshow(comp.reshape((8, 8)), cmap=plt.cm.gray_r,\n",
        "               interpolation='nearest')\n",
        "    plt.xticks(())\n",
        "    plt.yticks(())\n",
        "plt.suptitle('100 components extracted by RBM', fontsize=16)\n",
        "plt.subplots_adjust(0.08, 0.02, 0.92, 0.85, 0.08, 0.23)\n",
        "\n",
        "plt.show()"
      ],
      "execution_count": 11,
      "outputs": [
        {
          "output_type": "display_data",
          "data": {
            "image/png": "[encoded data removed]",
            "text/plain": [
              "<Figure size 720x504 with 100 Axes>"
            ]
          },
          "metadata": {
            "tags": []
          }
        }
      ]
    },
    {
      "cell_type": "markdown",
      "metadata": {
        "id": "2RsacsX9J08t",
        "colab_type": "text"
      },
      "source": [
        "#Excercises\n",
        "\n",
        "###Qustion 1. RBM stands for Restricted Boltzmann Machine\n",
        "  - A) Flase\n",
        "  - B) True"
      ]
    },
    {
      "cell_type": "markdown",
      "metadata": {
        "id": "d5r84FOGJ0y3",
        "colab_type": "text"
      },
      "source": [
        "###Question 2. RBM has ____ number of layers.\n",
        "  - A) 5\n",
        "  - B) 3\n",
        "  - C) 1\n",
        "  - D) 2"
      ]
    },
    {
      "cell_type": "markdown",
      "metadata": {
        "id": "Te_LryDVLHhC",
        "colab_type": "text"
      },
      "source": [
        "###Question 3. Build a RBM model\n",
        "- Complete the instantiation of the model and pipeline"
      ]
    },
    {
      "cell_type": "code",
      "metadata": {
        "id": "3nBHK8_r1E9f",
        "colab_type": "code",
        "colab": {}
      },
      "source": [
        "# Models we will use\n",
        "logistic = linear_model._____________(solver=______, tol=__)\n",
        "rbm = _______(random_state=___, verbose=_______)\n",
        "\n",
        "rbm_features_classifier = ________(\n",
        "    steps=[(_________, _______), (_______, _________)])"
      ],
      "execution_count": 0,
      "outputs": []
    },
    {
      "cell_type": "markdown",
      "metadata": {
        "id": "XY8wk_EFLwuI",
        "colab_type": "text"
      },
      "source": [
        "###Question 4. Train the Model\n",
        "- Complete the code to trian the model."
      ]
    },
    {
      "cell_type": "code",
      "metadata": {
        "id": "pV96EUkyL8WV",
        "colab_type": "code",
        "colab": {}
      },
      "source": [
        "# Training\n",
        "\n",
        "#assign hyperparameters of your choice\n",
        "rbm.learning_rate = _____\n",
        "rbm.n_iter =____\n",
        "\n",
        "\n",
        "rbm.n_components = ___\n",
        "logistic.C = ______\n",
        "\n",
        "# Training RBM-Logistic Pipeline\n",
        "rbm_features_classifier.___________(_____, _________)\n",
        "\n",
        "# Training the Logistic regression classifier directly on the pixel\n",
        "raw_pixel_classifier = __________(_________)\n",
        "raw_pixel_classifier.__________ = __________\n",
        "raw_pixel_classifier.___________(_________, ___________)"
      ],
      "execution_count": 0,
      "outputs": []
    },
    {
      "cell_type": "markdown",
      "metadata": {
        "id": "wN2lSGVEMtfT",
        "colab_type": "text"
      },
      "source": [
        "###Question 5. Evaluate the Model\n",
        "- Complete the code"
      ]
    },
    {
      "cell_type": "code",
      "metadata": {
        "id": "Ry68FUtWM0fQ",
        "colab_type": "code",
        "colab": {}
      },
      "source": [
        "# Evaluation\n",
        "\n",
        "Y_pred = ________________________.________(__________)\n",
        "print(\"Logistic regression using RBM features:\\n%s\\n\" % (\n",
        "    __________.__________________(__________, __________)))\n",
        "\n",
        "Y_pred = ______________.____(________)\n",
        "print(\"Logistic regression using raw pixel features:\\n%s\\n\" % (\n",
        "    ____________._____________(_______,_________)))"
      ],
      "execution_count": 0,
      "outputs": []
    },
    {
      "cell_type": "markdown",
      "metadata": {
        "id": "2rmvHSD9NRj7",
        "colab_type": "text"
      },
      "source": [
        "# Solution"
      ]
    },
    {
      "cell_type": "markdown",
      "metadata": {
        "id": "MQDfclivNRI7",
        "colab_type": "text"
      },
      "source": [
        "###Question 1. \n",
        "- Solution = B- True"
      ]
    },
    {
      "cell_type": "markdown",
      "metadata": {
        "id": "1F42XOhPNQ_h",
        "colab_type": "text"
      },
      "source": [
        "Question 2.  Solution\n",
        " - D) 2"
      ]
    },
    {
      "cell_type": "markdown",
      "metadata": {
        "id": "_6AFEOHHLSEC",
        "colab_type": "text"
      },
      "source": [
        "###Question 3. Solution"
      ]
    },
    {
      "cell_type": "code",
      "metadata": {
        "id": "6GdfW7NvLWMJ",
        "colab_type": "code",
        "colab": {}
      },
      "source": [
        "# Models we will use\n",
        "logistic = linear_model.LogisticRegression(solver='newton-cg', tol=1)\n",
        "rbm = BernoulliRBM(random_state=0, verbose=True)\n",
        "\n",
        "rbm_features_classifier = Pipeline(\n",
        "    steps=[('rbm', rbm), ('logistic', logistic)])"
      ],
      "execution_count": 0,
      "outputs": []
    },
    {
      "cell_type": "markdown",
      "metadata": {
        "id": "8GfuFcT4MYsP",
        "colab_type": "text"
      },
      "source": [
        "###Question 4. Solution"
      ]
    },
    {
      "cell_type": "code",
      "metadata": {
        "id": "2kU3yTOVMbcv",
        "colab_type": "code",
        "colab": {}
      },
      "source": [
        "# Training\n",
        "\n",
        "rbm.learning_rate = 0.06\n",
        "rbm.n_iter = 10\n",
        "\n",
        "\n",
        "rbm.n_components = 100\n",
        "logistic.C = 6000\n",
        "\n",
        "# Training RBM-Logistic Pipeline\n",
        "rbm_features_classifier.fit(X_train, Y_train)\n",
        "\n",
        "# Training the Logistic regression classifier directly on the pixel\n",
        "raw_pixel_classifier = clone(logistic)\n",
        "raw_pixel_classifier.C = 100.\n",
        "raw_pixel_classifier.fit(X_train, Y_train)"
      ],
      "execution_count": 0,
      "outputs": []
    },
    {
      "cell_type": "markdown",
      "metadata": {
        "id": "kgpV-mgONLmX",
        "colab_type": "text"
      },
      "source": [
        "###Question 5. Solution"
      ]
    },
    {
      "cell_type": "code",
      "metadata": {
        "id": "x9Mx38oFNOr9",
        "colab_type": "code",
        "colab": {}
      },
      "source": [
        "# Evaluation\n",
        "\n",
        "Y_pred = rbm_features_classifier.predict(X_test)\n",
        "print(\"Logistic regression using RBM features:\\n%s\\n\" % (\n",
        "    metrics.classification_report(Y_test, Y_pred)))\n",
        "\n",
        "Y_pred = raw_pixel_classifier.predict(X_test)\n",
        "print(\"Logistic regression using raw pixel features:\\n%s\\n\" % (\n",
        "    metrics.classification_report(Y_test, Y_pred)))"
      ],
      "execution_count": 0,
      "outputs": []
    }
  ]
}