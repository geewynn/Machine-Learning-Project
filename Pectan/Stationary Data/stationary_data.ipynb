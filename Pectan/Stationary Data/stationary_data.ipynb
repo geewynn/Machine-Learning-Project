{
 "cells": [
  {
   "cell_type": "markdown",
   "metadata": {},
   "source": [
    "# Import Packages"
   ]
  },
  {
   "cell_type": "code",
   "execution_count": 1,
   "metadata": {},
   "outputs": [],
   "source": [
    "import pandas as pd\n",
    "import numpy as np\n",
    "import seaborn as sns\n",
    "import matplotlib.pyplot as plt\n",
    "from sklearn.cluster import KMeans\n",
    "from mpl_toolkits.mplot3d import Axes3D\n",
    "from sklearn.preprocessing import StandardScaler\n",
    "from sklearn.decomposition import PCA\n",
    "from sklearn.ensemble import IsolationForest\n",
    "from sklearn.svm import OneClassSVM\n",
    "import pickle"
   ]
  },
  {
   "cell_type": "markdown",
   "metadata": {},
   "source": [
    "# Read Data"
   ]
  },
  {
   "cell_type": "code",
   "execution_count": 2,
   "metadata": {},
   "outputs": [
    {
     "data": {
      "text/html": [
       "<div>\n",
       "<style scoped>\n",
       "    .dataframe tbody tr th:only-of-type {\n",
       "        vertical-align: middle;\n",
       "    }\n",
       "\n",
       "    .dataframe tbody tr th {\n",
       "        vertical-align: top;\n",
       "    }\n",
       "\n",
       "    .dataframe thead th {\n",
       "        text-align: right;\n",
       "    }\n",
       "</style>\n",
       "<table border=\"1\" class=\"dataframe\">\n",
       "  <thead>\n",
       "    <tr style=\"text-align: right;\">\n",
       "      <th></th>\n",
       "      <th>bid_count</th>\n",
       "      <th>bid_quantity</th>\n",
       "      <th>bid</th>\n",
       "      <th>ask</th>\n",
       "      <th>ask_quantity</th>\n",
       "      <th>ask_count</th>\n",
       "      <th>price</th>\n",
       "      <th>volume</th>\n",
       "      <th>datetime</th>\n",
       "    </tr>\n",
       "  </thead>\n",
       "  <tbody>\n",
       "    <tr>\n",
       "      <td>0</td>\n",
       "      <td>1</td>\n",
       "      <td>45</td>\n",
       "      <td>272.75</td>\n",
       "      <td>273.15</td>\n",
       "      <td>11</td>\n",
       "      <td>1</td>\n",
       "      <td>272.75</td>\n",
       "      <td>45</td>\n",
       "      <td>2019-08-07 09:02:17 UTC</td>\n",
       "    </tr>\n",
       "    <tr>\n",
       "      <td>1</td>\n",
       "      <td>1</td>\n",
       "      <td>45</td>\n",
       "      <td>272.75</td>\n",
       "      <td>273.15</td>\n",
       "      <td>11</td>\n",
       "      <td>1</td>\n",
       "      <td>272.40</td>\n",
       "      <td>45</td>\n",
       "      <td>2019-08-07 09:02:19 UTC</td>\n",
       "    </tr>\n",
       "    <tr>\n",
       "      <td>2</td>\n",
       "      <td>1</td>\n",
       "      <td>45</td>\n",
       "      <td>272.75</td>\n",
       "      <td>273.15</td>\n",
       "      <td>11</td>\n",
       "      <td>1</td>\n",
       "      <td>272.25</td>\n",
       "      <td>39</td>\n",
       "      <td>2019-08-07 09:02:20 UTC</td>\n",
       "    </tr>\n",
       "    <tr>\n",
       "      <td>3</td>\n",
       "      <td>1</td>\n",
       "      <td>45</td>\n",
       "      <td>272.75</td>\n",
       "      <td>273.15</td>\n",
       "      <td>11</td>\n",
       "      <td>1</td>\n",
       "      <td>271.75</td>\n",
       "      <td>44</td>\n",
       "      <td>2019-08-07 09:02:21 UTC</td>\n",
       "    </tr>\n",
       "    <tr>\n",
       "      <td>4</td>\n",
       "      <td>2</td>\n",
       "      <td>284</td>\n",
       "      <td>271.75</td>\n",
       "      <td>272.20</td>\n",
       "      <td>60</td>\n",
       "      <td>1</td>\n",
       "      <td>271.75</td>\n",
       "      <td>72</td>\n",
       "      <td>2019-08-07 09:02:22 UTC</td>\n",
       "    </tr>\n",
       "  </tbody>\n",
       "</table>\n",
       "</div>"
      ],
      "text/plain": [
       "   bid_count  bid_quantity     bid     ask  ask_quantity  ask_count   price  \\\n",
       "0          1            45  272.75  273.15            11          1  272.75   \n",
       "1          1            45  272.75  273.15            11          1  272.40   \n",
       "2          1            45  272.75  273.15            11          1  272.25   \n",
       "3          1            45  272.75  273.15            11          1  271.75   \n",
       "4          2           284  271.75  272.20            60          1  271.75   \n",
       "\n",
       "   volume                 datetime  \n",
       "0      45  2019-08-07 09:02:17 UTC  \n",
       "1      45  2019-08-07 09:02:19 UTC  \n",
       "2      39  2019-08-07 09:02:20 UTC  \n",
       "3      44  2019-08-07 09:02:21 UTC  \n",
       "4      72  2019-08-07 09:02:22 UTC  "
      ]
     },
     "execution_count": 2,
     "metadata": {},
     "output_type": "execute_result"
    }
   ],
   "source": [
    "data = pd.read_csv('orderbook_dataset')\n",
    "data.head()"
   ]
  },
  {
   "cell_type": "markdown",
   "metadata": {},
   "source": [
    "- Data contains 100l rows and 9 columns"
   ]
  },
  {
   "cell_type": "code",
   "execution_count": 3,
   "metadata": {},
   "outputs": [
    {
     "data": {
      "text/plain": [
       "(100000, 9)"
      ]
     },
     "execution_count": 3,
     "metadata": {},
     "output_type": "execute_result"
    }
   ],
   "source": [
    "data.shape"
   ]
  },
  {
   "cell_type": "code",
   "execution_count": 4,
   "metadata": {},
   "outputs": [
    {
     "data": {
      "text/html": [
       "<div>\n",
       "<style scoped>\n",
       "    .dataframe tbody tr th:only-of-type {\n",
       "        vertical-align: middle;\n",
       "    }\n",
       "\n",
       "    .dataframe tbody tr th {\n",
       "        vertical-align: top;\n",
       "    }\n",
       "\n",
       "    .dataframe thead th {\n",
       "        text-align: right;\n",
       "    }\n",
       "</style>\n",
       "<table border=\"1\" class=\"dataframe\">\n",
       "  <thead>\n",
       "    <tr style=\"text-align: right;\">\n",
       "      <th></th>\n",
       "      <th>bid_count</th>\n",
       "      <th>bid_quantity</th>\n",
       "      <th>bid</th>\n",
       "      <th>ask</th>\n",
       "      <th>ask_quantity</th>\n",
       "      <th>ask_count</th>\n",
       "      <th>price</th>\n",
       "      <th>volume</th>\n",
       "    </tr>\n",
       "  </thead>\n",
       "  <tbody>\n",
       "    <tr>\n",
       "      <td>count</td>\n",
       "      <td>100000.000000</td>\n",
       "      <td>1.000000e+05</td>\n",
       "      <td>100000.000000</td>\n",
       "      <td>100000.000000</td>\n",
       "      <td>1.000000e+05</td>\n",
       "      <td>100000.000000</td>\n",
       "      <td>100000.000000</td>\n",
       "      <td>100000.000000</td>\n",
       "    </tr>\n",
       "    <tr>\n",
       "      <td>mean</td>\n",
       "      <td>4.086490</td>\n",
       "      <td>-9.223372e+10</td>\n",
       "      <td>261.894429</td>\n",
       "      <td>261.994726</td>\n",
       "      <td>-9.223372e+10</td>\n",
       "      <td>3.993910</td>\n",
       "      <td>261.948569</td>\n",
       "      <td>97.356650</td>\n",
       "    </tr>\n",
       "    <tr>\n",
       "      <td>std</td>\n",
       "      <td>4.244162</td>\n",
       "      <td>2.916686e+13</td>\n",
       "      <td>4.158083</td>\n",
       "      <td>4.162489</td>\n",
       "      <td>2.916686e+13</td>\n",
       "      <td>3.099495</td>\n",
       "      <td>4.075739</td>\n",
       "      <td>2368.185947</td>\n",
       "    </tr>\n",
       "    <tr>\n",
       "      <td>min</td>\n",
       "      <td>0.000000</td>\n",
       "      <td>-9.223372e+15</td>\n",
       "      <td>0.000000</td>\n",
       "      <td>0.000000</td>\n",
       "      <td>-9.223372e+15</td>\n",
       "      <td>0.000000</td>\n",
       "      <td>253.200000</td>\n",
       "      <td>1.000000</td>\n",
       "    </tr>\n",
       "    <tr>\n",
       "      <td>25%</td>\n",
       "      <td>2.000000</td>\n",
       "      <td>7.700000e+01</td>\n",
       "      <td>259.600000</td>\n",
       "      <td>259.700000</td>\n",
       "      <td>7.000000e+01</td>\n",
       "      <td>2.000000</td>\n",
       "      <td>259.650000</td>\n",
       "      <td>20.000000</td>\n",
       "    </tr>\n",
       "    <tr>\n",
       "      <td>50%</td>\n",
       "      <td>3.000000</td>\n",
       "      <td>1.530000e+02</td>\n",
       "      <td>261.500000</td>\n",
       "      <td>261.600000</td>\n",
       "      <td>1.440000e+02</td>\n",
       "      <td>3.000000</td>\n",
       "      <td>261.550000</td>\n",
       "      <td>46.000000</td>\n",
       "    </tr>\n",
       "    <tr>\n",
       "      <td>75%</td>\n",
       "      <td>6.000000</td>\n",
       "      <td>2.750000e+02</td>\n",
       "      <td>263.450000</td>\n",
       "      <td>263.550000</td>\n",
       "      <td>2.580000e+02</td>\n",
       "      <td>6.000000</td>\n",
       "      <td>263.500000</td>\n",
       "      <td>88.000000</td>\n",
       "    </tr>\n",
       "    <tr>\n",
       "      <td>max</td>\n",
       "      <td>896.000000</td>\n",
       "      <td>3.205000e+03</td>\n",
       "      <td>276.300000</td>\n",
       "      <td>276.350000</td>\n",
       "      <td>3.083000e+03</td>\n",
       "      <td>336.000000</td>\n",
       "      <td>276.300000</td>\n",
       "      <td>263336.000000</td>\n",
       "    </tr>\n",
       "  </tbody>\n",
       "</table>\n",
       "</div>"
      ],
      "text/plain": [
       "           bid_count  bid_quantity            bid            ask  \\\n",
       "count  100000.000000  1.000000e+05  100000.000000  100000.000000   \n",
       "mean        4.086490 -9.223372e+10     261.894429     261.994726   \n",
       "std         4.244162  2.916686e+13       4.158083       4.162489   \n",
       "min         0.000000 -9.223372e+15       0.000000       0.000000   \n",
       "25%         2.000000  7.700000e+01     259.600000     259.700000   \n",
       "50%         3.000000  1.530000e+02     261.500000     261.600000   \n",
       "75%         6.000000  2.750000e+02     263.450000     263.550000   \n",
       "max       896.000000  3.205000e+03     276.300000     276.350000   \n",
       "\n",
       "       ask_quantity      ask_count          price         volume  \n",
       "count  1.000000e+05  100000.000000  100000.000000  100000.000000  \n",
       "mean  -9.223372e+10       3.993910     261.948569      97.356650  \n",
       "std    2.916686e+13       3.099495       4.075739    2368.185947  \n",
       "min   -9.223372e+15       0.000000     253.200000       1.000000  \n",
       "25%    7.000000e+01       2.000000     259.650000      20.000000  \n",
       "50%    1.440000e+02       3.000000     261.550000      46.000000  \n",
       "75%    2.580000e+02       6.000000     263.500000      88.000000  \n",
       "max    3.083000e+03     336.000000     276.300000  263336.000000  "
      ]
     },
     "execution_count": 4,
     "metadata": {},
     "output_type": "execute_result"
    }
   ],
   "source": [
    "data.describe()"
   ]
  },
  {
   "cell_type": "markdown",
   "metadata": {},
   "source": [
    "- From the description, ask count and volume clearly contain outliers and this outliers can be seen to be the ,ax value of he 2 columns.\n",
    "\n",
    "- Remove the outliers because they can affect the visual representation of the rest of our data points and can statistically affect other datapoints as well."
   ]
  },
  {
   "cell_type": "code",
   "execution_count": 5,
   "metadata": {},
   "outputs": [
    {
     "data": {
      "text/html": [
       "<div>\n",
       "<style scoped>\n",
       "    .dataframe tbody tr th:only-of-type {\n",
       "        vertical-align: middle;\n",
       "    }\n",
       "\n",
       "    .dataframe tbody tr th {\n",
       "        vertical-align: top;\n",
       "    }\n",
       "\n",
       "    .dataframe thead th {\n",
       "        text-align: right;\n",
       "    }\n",
       "</style>\n",
       "<table border=\"1\" class=\"dataframe\">\n",
       "  <thead>\n",
       "    <tr style=\"text-align: right;\">\n",
       "      <th></th>\n",
       "      <th>bid_count</th>\n",
       "      <th>bid_quantity</th>\n",
       "      <th>bid</th>\n",
       "      <th>ask</th>\n",
       "      <th>ask_quantity</th>\n",
       "      <th>ask_count</th>\n",
       "      <th>price</th>\n",
       "      <th>volume</th>\n",
       "      <th>datetime</th>\n",
       "    </tr>\n",
       "  </thead>\n",
       "  <tbody>\n",
       "    <tr>\n",
       "      <td>95997</td>\n",
       "      <td>3</td>\n",
       "      <td>202</td>\n",
       "      <td>263.15</td>\n",
       "      <td>263.25</td>\n",
       "      <td>71</td>\n",
       "      <td>2</td>\n",
       "      <td>264.1</td>\n",
       "      <td>263336</td>\n",
       "      <td>2019-08-27 17:35:08 UTC</td>\n",
       "    </tr>\n",
       "  </tbody>\n",
       "</table>\n",
       "</div>"
      ],
      "text/plain": [
       "       bid_count  bid_quantity     bid     ask  ask_quantity  ask_count  \\\n",
       "95997          3           202  263.15  263.25            71          2   \n",
       "\n",
       "       price  volume                 datetime  \n",
       "95997  264.1  263336  2019-08-27 17:35:08 UTC  "
      ]
     },
     "execution_count": 5,
     "metadata": {},
     "output_type": "execute_result"
    }
   ],
   "source": [
    "data[data['volume'] == 263336.000000 ]"
   ]
  },
  {
   "cell_type": "code",
   "execution_count": 6,
   "metadata": {},
   "outputs": [
    {
     "data": {
      "text/html": [
       "<div>\n",
       "<style scoped>\n",
       "    .dataframe tbody tr th:only-of-type {\n",
       "        vertical-align: middle;\n",
       "    }\n",
       "\n",
       "    .dataframe tbody tr th {\n",
       "        vertical-align: top;\n",
       "    }\n",
       "\n",
       "    .dataframe thead th {\n",
       "        text-align: right;\n",
       "    }\n",
       "</style>\n",
       "<table border=\"1\" class=\"dataframe\">\n",
       "  <thead>\n",
       "    <tr style=\"text-align: right;\">\n",
       "      <th></th>\n",
       "      <th>bid_count</th>\n",
       "      <th>bid_quantity</th>\n",
       "      <th>bid</th>\n",
       "      <th>ask</th>\n",
       "      <th>ask_quantity</th>\n",
       "      <th>ask_count</th>\n",
       "      <th>price</th>\n",
       "      <th>volume</th>\n",
       "      <th>datetime</th>\n",
       "    </tr>\n",
       "  </thead>\n",
       "  <tbody>\n",
       "    <tr>\n",
       "      <td>46598</td>\n",
       "      <td>896</td>\n",
       "      <td>-9223372036854776</td>\n",
       "      <td>0.0</td>\n",
       "      <td>0.0</td>\n",
       "      <td>-9223372036854776</td>\n",
       "      <td>336</td>\n",
       "      <td>256.4</td>\n",
       "      <td>50</td>\n",
       "      <td>2019-08-16 12:25:09 UTC</td>\n",
       "    </tr>\n",
       "  </tbody>\n",
       "</table>\n",
       "</div>"
      ],
      "text/plain": [
       "       bid_count      bid_quantity  bid  ask      ask_quantity  ask_count  \\\n",
       "46598        896 -9223372036854776  0.0  0.0 -9223372036854776        336   \n",
       "\n",
       "       price  volume                 datetime  \n",
       "46598  256.4      50  2019-08-16 12:25:09 UTC  "
      ]
     },
     "execution_count": 6,
     "metadata": {},
     "output_type": "execute_result"
    }
   ],
   "source": [
    "data[data['ask_count'] == 336.000000]"
   ]
  },
  {
   "cell_type": "code",
   "execution_count": 7,
   "metadata": {},
   "outputs": [],
   "source": [
    "data.drop(data[data['volume'] == 263336.000000 ].index, inplace=True)\n",
    "data.drop(data[data['ask_count'] == 336.000000].index, inplace=True)"
   ]
  },
  {
   "cell_type": "code",
   "execution_count": 8,
   "metadata": {},
   "outputs": [
    {
     "name": "stdout",
     "output_type": "stream",
     "text": [
      "<class 'pandas.core.frame.DataFrame'>\n",
      "Int64Index: 99998 entries, 0 to 99999\n",
      "Data columns (total 9 columns):\n",
      "bid_count       99998 non-null int64\n",
      "bid_quantity    99998 non-null int64\n",
      "bid             99998 non-null float64\n",
      "ask             99998 non-null float64\n",
      "ask_quantity    99998 non-null int64\n",
      "ask_count       99998 non-null int64\n",
      "price           99998 non-null float64\n",
      "volume          99998 non-null int64\n",
      "datetime        99998 non-null object\n",
      "dtypes: float64(3), int64(5), object(1)\n",
      "memory usage: 7.6+ MB\n"
     ]
    }
   ],
   "source": [
    "data.info()"
   ]
  },
  {
   "cell_type": "markdown",
   "metadata": {},
   "source": [
    "- Data info shows that there are no missing value and all the features are either int or floats except for the datetime columns which will have to be converted to datetime."
   ]
  },
  {
   "cell_type": "code",
   "execution_count": 9,
   "metadata": {},
   "outputs": [],
   "source": [
    "data['datetime'] = pd.to_datetime(data['datetime'])"
   ]
  },
  {
   "cell_type": "code",
   "execution_count": 10,
   "metadata": {},
   "outputs": [
    {
     "data": {
      "text/plain": [
       "Text(0.5, 1.0, 'Time Series of price by date time')"
      ]
     },
     "execution_count": 10,
     "metadata": {},
     "output_type": "execute_result"
    },
    {
     "data": {
      "image/png": "[encoded data removed]",
      "text/plain": [
       "<Figure size 864x432 with 1 Axes>"
      ]
     },
     "metadata": {},
     "output_type": "display_data"
    }
   ],
   "source": [
    "data.plot(x='datetime', y='price', figsize=(12,6))\n",
    "plt.xlabel('Date time')\n",
    "plt.ylabel('Price in USD')\n",
    "plt.title('Time Series of price by date time')"
   ]
  },
  {
   "cell_type": "markdown",
   "metadata": {},
   "source": [
    "- From the plot above, the price for one is not stationary with time, there's also a pattern on the price with time.\n",
    "- There are occasional upward spikes and sharp falls in price also accompanied by a normal movements.\n",
    "\n",
    "- To go on with the anomaly detection. Create a new dataframe without the datetime column."
   ]
  },
  {
   "cell_type": "code",
   "execution_count": 11,
   "metadata": {},
   "outputs": [
    {
     "data": {
      "text/plain": [
       "<matplotlib.axes._subplots.AxesSubplot at 0x7ff81f7e3358>"
      ]
     },
     "execution_count": 11,
     "metadata": {},
     "output_type": "execute_result"
    },
    {
     "data": {
      "image/png": "[encoded data removed]",
      "text/plain": [
       "<Figure size 864x432 with 1 Axes>"
      ]
     },
     "metadata": {},
     "output_type": "display_data"
    }
   ],
   "source": [
    "data['price_log'] = np.log(data['price']).diff()\n",
    "data['price_log'].dropna()\n",
    "data['price_log'].plot(kind='line', figsize=(12, 6))"
   ]
  },
  {
   "cell_type": "code",
   "execution_count": 12,
   "metadata": {},
   "outputs": [],
   "source": [
    "#drop datetime and price column\n",
    "new_data = data.drop(data[['datetime', 'price']], axis=1)"
   ]
  },
  {
   "cell_type": "code",
   "execution_count": 13,
   "metadata": {},
   "outputs": [],
   "source": [
    "#drop null columns\n",
    "new_data.dropna(inplace=True)"
   ]
  },
  {
   "cell_type": "code",
   "execution_count": 14,
   "metadata": {},
   "outputs": [
    {
     "data": {
      "text/html": [
       "<div>\n",
       "<style scoped>\n",
       "    .dataframe tbody tr th:only-of-type {\n",
       "        vertical-align: middle;\n",
       "    }\n",
       "\n",
       "    .dataframe tbody tr th {\n",
       "        vertical-align: top;\n",
       "    }\n",
       "\n",
       "    .dataframe thead th {\n",
       "        text-align: right;\n",
       "    }\n",
       "</style>\n",
       "<table border=\"1\" class=\"dataframe\">\n",
       "  <thead>\n",
       "    <tr style=\"text-align: right;\">\n",
       "      <th></th>\n",
       "      <th>bid_count</th>\n",
       "      <th>bid_quantity</th>\n",
       "      <th>bid</th>\n",
       "      <th>ask</th>\n",
       "      <th>ask_quantity</th>\n",
       "      <th>ask_count</th>\n",
       "      <th>volume</th>\n",
       "      <th>price_log</th>\n",
       "    </tr>\n",
       "  </thead>\n",
       "  <tbody>\n",
       "    <tr>\n",
       "      <td>1</td>\n",
       "      <td>1</td>\n",
       "      <td>45</td>\n",
       "      <td>272.75</td>\n",
       "      <td>273.15</td>\n",
       "      <td>11</td>\n",
       "      <td>1</td>\n",
       "      <td>45</td>\n",
       "      <td>-0.001284</td>\n",
       "    </tr>\n",
       "    <tr>\n",
       "      <td>2</td>\n",
       "      <td>1</td>\n",
       "      <td>45</td>\n",
       "      <td>272.75</td>\n",
       "      <td>273.15</td>\n",
       "      <td>11</td>\n",
       "      <td>1</td>\n",
       "      <td>39</td>\n",
       "      <td>-0.000551</td>\n",
       "    </tr>\n",
       "    <tr>\n",
       "      <td>3</td>\n",
       "      <td>1</td>\n",
       "      <td>45</td>\n",
       "      <td>272.75</td>\n",
       "      <td>273.15</td>\n",
       "      <td>11</td>\n",
       "      <td>1</td>\n",
       "      <td>44</td>\n",
       "      <td>-0.001838</td>\n",
       "    </tr>\n",
       "    <tr>\n",
       "      <td>4</td>\n",
       "      <td>2</td>\n",
       "      <td>284</td>\n",
       "      <td>271.75</td>\n",
       "      <td>272.20</td>\n",
       "      <td>60</td>\n",
       "      <td>1</td>\n",
       "      <td>72</td>\n",
       "      <td>0.000000</td>\n",
       "    </tr>\n",
       "    <tr>\n",
       "      <td>5</td>\n",
       "      <td>2</td>\n",
       "      <td>124</td>\n",
       "      <td>271.75</td>\n",
       "      <td>272.15</td>\n",
       "      <td>27</td>\n",
       "      <td>1</td>\n",
       "      <td>32</td>\n",
       "      <td>0.000000</td>\n",
       "    </tr>\n",
       "  </tbody>\n",
       "</table>\n",
       "</div>"
      ],
      "text/plain": [
       "   bid_count  bid_quantity     bid     ask  ask_quantity  ask_count  volume  \\\n",
       "1          1            45  272.75  273.15            11          1      45   \n",
       "2          1            45  272.75  273.15            11          1      39   \n",
       "3          1            45  272.75  273.15            11          1      44   \n",
       "4          2           284  271.75  272.20            60          1      72   \n",
       "5          2           124  271.75  272.15            27          1      32   \n",
       "\n",
       "   price_log  \n",
       "1  -0.001284  \n",
       "2  -0.000551  \n",
       "3  -0.001838  \n",
       "4   0.000000  \n",
       "5   0.000000  "
      ]
     },
     "execution_count": 14,
     "metadata": {},
     "output_type": "execute_result"
    }
   ],
   "source": [
    "new_data.head()"
   ]
  },
  {
   "cell_type": "markdown",
   "metadata": {},
   "source": [
    "# Kmeans Cluster\n",
    "- First an elbow plot to determine the number of clusters to use"
   ]
  },
  {
   "cell_type": "code",
   "execution_count": 15,
   "metadata": {},
   "outputs": [],
   "source": [
    "sse = {}\n",
    "# Fit KMeans and calculate SSE for each k\n",
    "for c in range(1, 10):\n",
    "  \n",
    "    # Initialize KMeans with k clusters\n",
    "    kmeans = KMeans(n_clusters=c, random_state=1)\n",
    "    \n",
    "    # Fit KMeans on the normalized dataset\n",
    "    kmeans.fit(new_data)\n",
    "    \n",
    "    # Assign sum of squared distances to k element of dictionary\n",
    "    sse[c] = kmeans.inertia_"
   ]
  },
  {
   "cell_type": "code",
   "execution_count": 16,
   "metadata": {},
   "outputs": [
    {
     "data": {
      "image/png": "[encoded data removed]",
      "text/plain": [
       "<Figure size 432x288 with 1 Axes>"
      ]
     },
     "metadata": {},
     "output_type": "display_data"
    }
   ],
   "source": [
    "# Plot SSE for each *c*\n",
    "plt.title('The Elbow Method')\n",
    "plt.xlabel('No Of Clusters'); plt.ylabel('SSE')\n",
    "sns.pointplot(x=list(sse.keys()), y=list(sse.values()))\n",
    "plt.show()"
   ]
  },
  {
   "cell_type": "markdown",
   "metadata": {},
   "source": [
    "- From the above plot, the number of clusters to use is between 2 and 3. Any one the two numbers can be used.\n",
    "\n",
    "- Build a Kmeans model with 3 clusters.\n"
   ]
  },
  {
   "cell_type": "code",
   "execution_count": 17,
   "metadata": {},
   "outputs": [],
   "source": [
    "X = new_data\n",
    "X = X.reset_index(drop=True)\n",
    "\n",
    "knn = KMeans(n_clusters=3)\n",
    "knn.fit(X)\n",
    "knn.predict(X)\n",
    "labels = knn.labels_"
   ]
  },
  {
   "cell_type": "markdown",
   "metadata": {},
   "source": [
    "- Find the number of components that explains the most variance in the data."
   ]
  },
  {
   "cell_type": "code",
   "execution_count": 18,
   "metadata": {},
   "outputs": [
    {
     "data": {
      "image/png": "[encoded data removed]",
      "text/plain": [
       "<Figure size 720x360 with 1 Axes>"
      ]
     },
     "metadata": {},
     "output_type": "display_data"
    }
   ],
   "source": [
    "new_df = new_data\n",
    "\n",
    "#get the values of the data\n",
    "X = new_df.values\n",
    "#scale the data using standard scaler\n",
    "std_scaler = StandardScaler()\n",
    "X_scaled = std_scaler.fit_transform(X)\n",
    "\n",
    "#mean vectorizer of the scaled data\n",
    "mean_vec = np.mean(X_scaled, axis=0)\n",
    "\n",
    "#covariance matrix, eigen values and vectors\n",
    "covariance_matrix = np.cov(X_scaled.T)\n",
    "eigen_values, eigen_vectors = np.linalg.eig(covariance_matrix)\n",
    "eigen_pairs = [np.absolute(eigen_values[i], eigen_vectors[:,i]) for i in range(len(eigen_values))]\n",
    "eigen_pairs.sort(key= lambda x: x[0], reverse=True)\n",
    "\n",
    "total = sum(eigen_values)\n",
    "\n",
    "# get the variance explained and cummulative variance explained\n",
    "variance_explained = [(i/total) * 100 for i in sorted(eigen_values, reverse=True)]\n",
    "cummulative_variance_explained = np.cumsum(variance_explained)\n",
    "\n",
    "\n",
    "#plot of the principal components and explained variance\n",
    "plt.figure(figsize=(10, 5))\n",
    "plt.bar(range(len(variance_explained)), variance_explained,\n",
    "        alpha=0.3, \n",
    "        align='center', \n",
    "        label='individual explained variance',\n",
    "        color = 'g')\n",
    "\n",
    "plt.step(range(len(cummulative_variance_explained)), \n",
    "         cummulative_variance_explained,\n",
    "         where='mid',\n",
    "         label='cumulative explained variance')\n",
    "\n",
    "plt.ylabel('Explained variance ratio')\n",
    "plt.xlabel('Principal components')\n",
    "plt.legend(loc='best')\n",
    "plt.show()"
   ]
  },
  {
   "cell_type": "markdown",
   "metadata": {},
   "source": [
    "- The first 4 componets explains over 80% of the variance with the first component explaining almost 40% variance."
   ]
  },
  {
   "cell_type": "code",
   "execution_count": 19,
   "metadata": {},
   "outputs": [
    {
     "data": {
      "text/html": [
       "<div>\n",
       "<style scoped>\n",
       "    .dataframe tbody tr th:only-of-type {\n",
       "        vertical-align: middle;\n",
       "    }\n",
       "\n",
       "    .dataframe tbody tr th {\n",
       "        vertical-align: top;\n",
       "    }\n",
       "\n",
       "    .dataframe thead th {\n",
       "        text-align: right;\n",
       "    }\n",
       "</style>\n",
       "<table border=\"1\" class=\"dataframe\">\n",
       "  <thead>\n",
       "    <tr style=\"text-align: right;\">\n",
       "      <th></th>\n",
       "      <th>0</th>\n",
       "      <th>1</th>\n",
       "      <th>2</th>\n",
       "      <th>3</th>\n",
       "      <th>4</th>\n",
       "      <th>5</th>\n",
       "      <th>6</th>\n",
       "      <th>7</th>\n",
       "    </tr>\n",
       "  </thead>\n",
       "  <tbody>\n",
       "    <tr>\n",
       "      <td>0</td>\n",
       "      <td>-0.970428</td>\n",
       "      <td>-0.917704</td>\n",
       "      <td>2.663550</td>\n",
       "      <td>2.734135</td>\n",
       "      <td>-1.081975</td>\n",
       "      <td>-1.025503</td>\n",
       "      <td>-0.022428</td>\n",
       "      <td>-4.332052</td>\n",
       "    </tr>\n",
       "    <tr>\n",
       "      <td>1</td>\n",
       "      <td>-0.970428</td>\n",
       "      <td>-0.917704</td>\n",
       "      <td>2.663550</td>\n",
       "      <td>2.734135</td>\n",
       "      <td>-1.081975</td>\n",
       "      <td>-1.025503</td>\n",
       "      <td>-0.025134</td>\n",
       "      <td>-1.857368</td>\n",
       "    </tr>\n",
       "    <tr>\n",
       "      <td>2</td>\n",
       "      <td>-0.970428</td>\n",
       "      <td>-0.917704</td>\n",
       "      <td>2.663550</td>\n",
       "      <td>2.734135</td>\n",
       "      <td>-1.081975</td>\n",
       "      <td>-1.025503</td>\n",
       "      <td>-0.022879</td>\n",
       "      <td>-6.202432</td>\n",
       "    </tr>\n",
       "    <tr>\n",
       "      <td>3</td>\n",
       "      <td>-0.655110</td>\n",
       "      <td>0.526769</td>\n",
       "      <td>2.418131</td>\n",
       "      <td>2.501240</td>\n",
       "      <td>-0.772146</td>\n",
       "      <td>-1.025503</td>\n",
       "      <td>-0.010250</td>\n",
       "      <td>0.001629</td>\n",
       "    </tr>\n",
       "    <tr>\n",
       "      <td>4</td>\n",
       "      <td>-0.655110</td>\n",
       "      <td>-0.440242</td>\n",
       "      <td>2.418131</td>\n",
       "      <td>2.488982</td>\n",
       "      <td>-0.980806</td>\n",
       "      <td>-1.025503</td>\n",
       "      <td>-0.028292</td>\n",
       "      <td>0.001629</td>\n",
       "    </tr>\n",
       "  </tbody>\n",
       "</table>\n",
       "</div>"
      ],
      "text/plain": [
       "          0         1         2         3         4         5         6  \\\n",
       "0 -0.970428 -0.917704  2.663550  2.734135 -1.081975 -1.025503 -0.022428   \n",
       "1 -0.970428 -0.917704  2.663550  2.734135 -1.081975 -1.025503 -0.025134   \n",
       "2 -0.970428 -0.917704  2.663550  2.734135 -1.081975 -1.025503 -0.022879   \n",
       "3 -0.655110  0.526769  2.418131  2.501240 -0.772146 -1.025503 -0.010250   \n",
       "4 -0.655110 -0.440242  2.418131  2.488982 -0.980806 -1.025503 -0.028292   \n",
       "\n",
       "          7  \n",
       "0 -4.332052  \n",
       "1 -1.857368  \n",
       "2 -6.202432  \n",
       "3  0.001629  \n",
       "4  0.001629  "
      ]
     },
     "execution_count": 19,
     "metadata": {},
     "output_type": "execute_result"
    }
   ],
   "source": [
    "new_df = data\n",
    "new_df = pd.DataFrame(X_scaled)\n",
    "\n",
    "new_df.head()"
   ]
  },
  {
   "cell_type": "markdown",
   "metadata": {},
   "source": [
    "- Create and scale the 4 new principal components"
   ]
  },
  {
   "cell_type": "code",
   "execution_count": 20,
   "metadata": {},
   "outputs": [
    {
     "data": {
      "text/html": [
       "<div>\n",
       "<style scoped>\n",
       "    .dataframe tbody tr th:only-of-type {\n",
       "        vertical-align: middle;\n",
       "    }\n",
       "\n",
       "    .dataframe tbody tr th {\n",
       "        vertical-align: top;\n",
       "    }\n",
       "\n",
       "    .dataframe thead th {\n",
       "        text-align: right;\n",
       "    }\n",
       "</style>\n",
       "<table border=\"1\" class=\"dataframe\">\n",
       "  <thead>\n",
       "    <tr style=\"text-align: right;\">\n",
       "      <th></th>\n",
       "      <th>0</th>\n",
       "      <th>1</th>\n",
       "      <th>2</th>\n",
       "      <th>3</th>\n",
       "      <th>4</th>\n",
       "    </tr>\n",
       "  </thead>\n",
       "  <tbody>\n",
       "    <tr>\n",
       "      <td>0</td>\n",
       "      <td>-2.953337</td>\n",
       "      <td>-0.104891</td>\n",
       "      <td>0.258471</td>\n",
       "      <td>2.990926</td>\n",
       "      <td>-3.169647</td>\n",
       "    </tr>\n",
       "    <tr>\n",
       "      <td>1</td>\n",
       "      <td>-2.966068</td>\n",
       "      <td>-0.083756</td>\n",
       "      <td>0.201946</td>\n",
       "      <td>1.266776</td>\n",
       "      <td>-1.394805</td>\n",
       "    </tr>\n",
       "    <tr>\n",
       "      <td>2</td>\n",
       "      <td>-2.943701</td>\n",
       "      <td>-0.120842</td>\n",
       "      <td>0.301210</td>\n",
       "      <td>4.292276</td>\n",
       "      <td>-4.512843</td>\n",
       "    </tr>\n",
       "    <tr>\n",
       "      <td>3</td>\n",
       "      <td>-2.482428</td>\n",
       "      <td>0.719066</td>\n",
       "      <td>-0.107190</td>\n",
       "      <td>0.007314</td>\n",
       "      <td>-0.050740</td>\n",
       "    </tr>\n",
       "    <tr>\n",
       "      <td>4</td>\n",
       "      <td>-2.640352</td>\n",
       "      <td>0.226252</td>\n",
       "      <td>-0.019860</td>\n",
       "      <td>-0.019039</td>\n",
       "      <td>-0.062881</td>\n",
       "    </tr>\n",
       "  </tbody>\n",
       "</table>\n",
       "</div>"
      ],
      "text/plain": [
       "          0         1         2         3         4\n",
       "0 -2.953337 -0.104891  0.258471  2.990926 -3.169647\n",
       "1 -2.966068 -0.083756  0.201946  1.266776 -1.394805\n",
       "2 -2.943701 -0.120842  0.301210  4.292276 -4.512843\n",
       "3 -2.482428  0.719066 -0.107190  0.007314 -0.050740\n",
       "4 -2.640352  0.226252 -0.019860 -0.019039 -0.062881"
      ]
     },
     "execution_count": 20,
     "metadata": {},
     "output_type": "execute_result"
    }
   ],
   "source": [
    "# apply pca with 4 component analysis\n",
    "pca = PCA(n_components=5)\n",
    "new_df = pca.fit_transform(new_df)\n",
    "\n",
    "#scale the new created columns and create a new dataframe\n",
    "std_scaler = StandardScaler()\n",
    "scaled = std_scaler.fit_transform(new_df)\n",
    "new_df = pd.DataFrame(scaled)\n",
    "new_df.head()"
   ]
  },
  {
   "cell_type": "markdown",
   "metadata": {},
   "source": [
    "- Train a kmeans cluster model on the new dataframe and combine them with the old data frame"
   ]
  },
  {
   "cell_type": "code",
   "execution_count": 21,
   "metadata": {},
   "outputs": [
    {
     "data": {
      "text/plain": [
       "1    68859\n",
       "0    31119\n",
       "2       19\n",
       "Name: cluster, dtype: int64"
      ]
     },
     "execution_count": 21,
     "metadata": {},
     "output_type": "execute_result"
    }
   ],
   "source": [
    "n_clusters = range(1, 10)\n",
    "\n",
    "kmeans = [KMeans(n_clusters=i).fit(new_df) for i in n_clusters]\n",
    "new_data['cluster'] = kmeans[2].predict(new_df)\n",
    "\n",
    "new_data.index = new_df.index\n",
    "\n",
    "new_data['principal_feature_1'] = new_df[0]\n",
    "new_data['principal_feature_2'] = new_df[1]\n",
    "new_data['principal_feature_3'] = new_df[2]\n",
    "new_data['principal_feature_4'] = new_df[3]\n",
    "new_data['principal_feature_5'] = new_df[4]\n",
    "\n",
    "new_data['cluster'].value_counts()"
   ]
  },
  {
   "cell_type": "markdown",
   "metadata": {},
   "source": [
    "- From the 3 clusters, 1 has the lowest number with just 19 data points"
   ]
  },
  {
   "cell_type": "code",
   "execution_count": 22,
   "metadata": {},
   "outputs": [
    {
     "data": {
      "text/html": [
       "<div>\n",
       "<style scoped>\n",
       "    .dataframe tbody tr th:only-of-type {\n",
       "        vertical-align: middle;\n",
       "    }\n",
       "\n",
       "    .dataframe tbody tr th {\n",
       "        vertical-align: top;\n",
       "    }\n",
       "\n",
       "    .dataframe thead th {\n",
       "        text-align: right;\n",
       "    }\n",
       "</style>\n",
       "<table border=\"1\" class=\"dataframe\">\n",
       "  <thead>\n",
       "    <tr style=\"text-align: right;\">\n",
       "      <th></th>\n",
       "      <th>bid_count</th>\n",
       "      <th>bid_quantity</th>\n",
       "      <th>bid</th>\n",
       "      <th>ask</th>\n",
       "      <th>ask_quantity</th>\n",
       "      <th>ask_count</th>\n",
       "      <th>volume</th>\n",
       "      <th>price_log</th>\n",
       "      <th>cluster</th>\n",
       "      <th>principal_feature_1</th>\n",
       "      <th>principal_feature_2</th>\n",
       "      <th>principal_feature_3</th>\n",
       "      <th>principal_feature_4</th>\n",
       "      <th>principal_feature_5</th>\n",
       "    </tr>\n",
       "  </thead>\n",
       "  <tbody>\n",
       "    <tr>\n",
       "      <td>0</td>\n",
       "      <td>1</td>\n",
       "      <td>45</td>\n",
       "      <td>272.75</td>\n",
       "      <td>273.15</td>\n",
       "      <td>11</td>\n",
       "      <td>1</td>\n",
       "      <td>45</td>\n",
       "      <td>-0.001284</td>\n",
       "      <td>1</td>\n",
       "      <td>-2.953337</td>\n",
       "      <td>-0.104891</td>\n",
       "      <td>0.258471</td>\n",
       "      <td>2.990926</td>\n",
       "      <td>-3.169647</td>\n",
       "    </tr>\n",
       "    <tr>\n",
       "      <td>1</td>\n",
       "      <td>1</td>\n",
       "      <td>45</td>\n",
       "      <td>272.75</td>\n",
       "      <td>273.15</td>\n",
       "      <td>11</td>\n",
       "      <td>1</td>\n",
       "      <td>39</td>\n",
       "      <td>-0.000551</td>\n",
       "      <td>1</td>\n",
       "      <td>-2.966068</td>\n",
       "      <td>-0.083756</td>\n",
       "      <td>0.201946</td>\n",
       "      <td>1.266776</td>\n",
       "      <td>-1.394805</td>\n",
       "    </tr>\n",
       "    <tr>\n",
       "      <td>2</td>\n",
       "      <td>1</td>\n",
       "      <td>45</td>\n",
       "      <td>272.75</td>\n",
       "      <td>273.15</td>\n",
       "      <td>11</td>\n",
       "      <td>1</td>\n",
       "      <td>44</td>\n",
       "      <td>-0.001838</td>\n",
       "      <td>1</td>\n",
       "      <td>-2.943701</td>\n",
       "      <td>-0.120842</td>\n",
       "      <td>0.301210</td>\n",
       "      <td>4.292276</td>\n",
       "      <td>-4.512843</td>\n",
       "    </tr>\n",
       "    <tr>\n",
       "      <td>3</td>\n",
       "      <td>2</td>\n",
       "      <td>284</td>\n",
       "      <td>271.75</td>\n",
       "      <td>272.20</td>\n",
       "      <td>60</td>\n",
       "      <td>1</td>\n",
       "      <td>72</td>\n",
       "      <td>0.000000</td>\n",
       "      <td>1</td>\n",
       "      <td>-2.482428</td>\n",
       "      <td>0.719066</td>\n",
       "      <td>-0.107190</td>\n",
       "      <td>0.007314</td>\n",
       "      <td>-0.050740</td>\n",
       "    </tr>\n",
       "    <tr>\n",
       "      <td>4</td>\n",
       "      <td>2</td>\n",
       "      <td>124</td>\n",
       "      <td>271.75</td>\n",
       "      <td>272.15</td>\n",
       "      <td>27</td>\n",
       "      <td>1</td>\n",
       "      <td>32</td>\n",
       "      <td>0.000000</td>\n",
       "      <td>1</td>\n",
       "      <td>-2.640352</td>\n",
       "      <td>0.226252</td>\n",
       "      <td>-0.019860</td>\n",
       "      <td>-0.019039</td>\n",
       "      <td>-0.062881</td>\n",
       "    </tr>\n",
       "  </tbody>\n",
       "</table>\n",
       "</div>"
      ],
      "text/plain": [
       "   bid_count  bid_quantity     bid     ask  ask_quantity  ask_count  volume  \\\n",
       "0          1            45  272.75  273.15            11          1      45   \n",
       "1          1            45  272.75  273.15            11          1      39   \n",
       "2          1            45  272.75  273.15            11          1      44   \n",
       "3          2           284  271.75  272.20            60          1      72   \n",
       "4          2           124  271.75  272.15            27          1      32   \n",
       "\n",
       "   price_log  cluster  principal_feature_1  principal_feature_2  \\\n",
       "0  -0.001284        1            -2.953337            -0.104891   \n",
       "1  -0.000551        1            -2.966068            -0.083756   \n",
       "2  -0.001838        1            -2.943701            -0.120842   \n",
       "3   0.000000        1            -2.482428             0.719066   \n",
       "4   0.000000        1            -2.640352             0.226252   \n",
       "\n",
       "   principal_feature_3  principal_feature_4  principal_feature_5  \n",
       "0             0.258471             2.990926            -3.169647  \n",
       "1             0.201946             1.266776            -1.394805  \n",
       "2             0.301210             4.292276            -4.512843  \n",
       "3            -0.107190             0.007314            -0.050740  \n",
       "4            -0.019860            -0.019039            -0.062881  "
      ]
     },
     "execution_count": 22,
     "metadata": {},
     "output_type": "execute_result"
    }
   ],
   "source": [
    "new_data.head()"
   ]
  },
  {
   "cell_type": "markdown",
   "metadata": {},
   "source": [
    "- Calculate the distance between each point and its nearest centroid. The biggest distances are considered as anomaly.\n",
    "\n",
    "- outlier fraction determine the percentage of outliers available in the data."
   ]
  },
  {
   "cell_type": "code",
   "execution_count": 23,
   "metadata": {},
   "outputs": [],
   "source": [
    "# save the model to disk\n",
    "filename = 'kmeans_model_stat.sav'\n",
    "pickle.dump(kmeans, open(filename, 'wb'))"
   ]
  },
  {
   "cell_type": "code",
   "execution_count": 24,
   "metadata": {},
   "outputs": [
    {
     "name": "stderr",
     "output_type": "stream",
     "text": [
      "/home/godwin/anaconda3/lib/python3.6/site-packages/ipykernel_launcher.py:6: FutureWarning: set_value is deprecated and will be removed in a future release. Please use .at[] or .iat[] accessors instead\n",
      "  \n"
     ]
    }
   ],
   "source": [
    "def getDistanceByPoint(data, model):\n",
    "    distance = pd.Series()\n",
    "    for i in range(0,len(data)):\n",
    "        Xa = np.array(data.loc[i])\n",
    "        Xb = model.cluster_centers_[model.labels_[i]-1]\n",
    "        distance.set_value(i, np.linalg.norm(Xa-Xb))\n",
    "    return distance\n",
    "\n",
    "outliers_fraction = 0.01\n",
    "# get the distance between each point and its nearest centroid. The biggest distances are considered as anomaly\n",
    "distance = getDistanceByPoint(new_df, kmeans[2])\n",
    "number_of_outliers = int(outliers_fraction*len(distance))\n",
    "threshold = distance.nlargest(number_of_outliers).min()\n",
    "# anomaly1 contain the anomaly result of the above method Cluster (0:normal, 1:anomaly) \n",
    "new_data['kmeans_anomaly'] = (distance >= threshold).astype(int)"
   ]
  },
  {
   "cell_type": "markdown",
   "metadata": {},
   "source": [
    "# Plots of Principal Components against the Distance by Point Anomaly\n",
    "\n",
    "- Red Marks Represent the anomalies while the blue color represents the normal data."
   ]
  },
  {
   "cell_type": "code",
   "execution_count": 25,
   "metadata": {},
   "outputs": [
    {
     "data": {
      "image/png": "[encoded data removed]",
      "text/plain": [
       "<Figure size 1080x720 with 1 Axes>"
      ]
     },
     "metadata": {},
     "output_type": "display_data"
    }
   ],
   "source": [
    "# visualisation of anomaly with cluster view\n",
    "fig, ax = plt.subplots(figsize=(15, 10))\n",
    "colors = {0:'blue', 1:'red'}\n",
    "ax.scatter(new_data['principal_feature_1'], new_data['principal_feature_2'], c=new_data[\"kmeans_anomaly\"].apply(lambda x: colors[x]))\n",
    "plt.xlabel('principal feature_1')\n",
    "plt.ylabel('principal feature_2')\n",
    "plt.show()"
   ]
  },
  {
   "cell_type": "code",
   "execution_count": 26,
   "metadata": {},
   "outputs": [
    {
     "data": {
      "image/png": "[encoded data removed]",
      "text/plain": [
       "<Figure size 1080x720 with 1 Axes>"
      ]
     },
     "metadata": {},
     "output_type": "display_data"
    }
   ],
   "source": [
    "# visualisation of anomaly with cluster view\n",
    "fig, ax = plt.subplots(figsize=(15,10))\n",
    "colors = {0:'blue', 1:'red'}\n",
    "ax.scatter(new_data['principal_feature_2'], new_data['principal_feature_3'], c=new_data[\"kmeans_anomaly\"].apply(lambda x: colors[x]))\n",
    "plt.xlabel('principal feature_2')\n",
    "plt.ylabel('principal feature_3')\n",
    "plt.show()"
   ]
  },
  {
   "cell_type": "code",
   "execution_count": 27,
   "metadata": {},
   "outputs": [
    {
     "data": {
      "image/png": "[encoded data removed]",
      "text/plain": [
       "<Figure size 1080x720 with 1 Axes>"
      ]
     },
     "metadata": {},
     "output_type": "display_data"
    }
   ],
   "source": [
    "# visualisation of anomaly with cluster view\n",
    "fig, ax = plt.subplots(figsize=(15,10))\n",
    "\n",
    "colors = {0:'blue', 1:'red'}\n",
    "\n",
    "ax.scatter(new_data['principal_feature_3'], new_data['principal_feature_4'], c=new_data[\"kmeans_anomaly\"].apply(lambda x: colors[x]))\n",
    "plt.xlabel('principal feature_3')\n",
    "plt.ylabel('principal feature_4')\n",
    "plt.show()"
   ]
  },
  {
   "cell_type": "code",
   "execution_count": 28,
   "metadata": {},
   "outputs": [
    {
     "data": {
      "image/png": "[encoded data removed]",
      "text/plain": [
       "<Figure size 1080x720 with 1 Axes>"
      ]
     },
     "metadata": {},
     "output_type": "display_data"
    }
   ],
   "source": [
    "# visualisation of anomaly with cluster view\n",
    "fig, ax = plt.subplots(figsize=(15,10))\n",
    "\n",
    "colors = {0:'blue', 1:'red'}\n",
    "\n",
    "ax.scatter(new_data['principal_feature_4'], new_data['principal_feature_5'], c=new_data[\"kmeans_anomaly\"].apply(lambda x: colors[x]))\n",
    "plt.xlabel('principal feature_4')\n",
    "plt.ylabel('principal feature_5')\n",
    "plt.show()"
   ]
  },
  {
   "cell_type": "markdown",
   "metadata": {},
   "source": [
    "- From the above plots, the anomalous data shown in red can be seen to have behaviours different from the normal ones."
   ]
  },
  {
   "cell_type": "code",
   "execution_count": 29,
   "metadata": {
    "scrolled": true
   },
   "outputs": [
    {
     "data": {
      "text/plain": [
       "0    98998\n",
       "1      999\n",
       "Name: kmeans_anomaly, dtype: int64"
      ]
     },
     "execution_count": 29,
     "metadata": {},
     "output_type": "execute_result"
    }
   ],
   "source": [
    "new_data['kmeans_anomaly'].value_counts()"
   ]
  },
  {
   "cell_type": "markdown",
   "metadata": {},
   "source": [
    "- The distance by point anomaly detection returns 999 data points as anomaly while 98999 are identified as normal data points.\n",
    "\n",
    "\n",
    "### Plot of Anomaly Detected of Price Against Datetime"
   ]
  },
  {
   "cell_type": "code",
   "execution_count": 30,
   "metadata": {},
   "outputs": [
    {
     "data": {
      "image/png": "[encoded data removed]",
      "text/plain": [
       "<Figure size 1080x720 with 1 Axes>"
      ]
     },
     "metadata": {},
     "output_type": "display_data"
    }
   ],
   "source": [
    "data = data.sort_values('datetime')\n",
    "new_data['datetime_int'] = data.datetime.astype(np.int64)\n",
    "fig, ax = plt.subplots(figsize=(15,10))\n",
    "\n",
    "a = new_data.loc[new_data['kmeans_anomaly'] == 1, ['datetime_int', 'price_log']] #anomaly\n",
    "\n",
    "ax.plot(new_data['datetime_int'], new_data['price_log'], color='blue', label='Normal')\n",
    "ax.scatter(a['datetime_int'],a['price_log'], color='red', label='Anomaly')\n",
    "plt.xlabel('Date Time Integer')\n",
    "plt.ylabel('price in USD')\n",
    "plt.legend()\n",
    "plt.show();"
   ]
  },
  {
   "cell_type": "markdown",
   "metadata": {},
   "source": [
    "- The red dots indicate datapoints identified as anomalies.\n",
    "- Most of the red dots are at the highest and lowest points of a spike and sharp fall."
   ]
  },
  {
   "cell_type": "code",
   "execution_count": 31,
   "metadata": {},
   "outputs": [
    {
     "data": {
      "image/png": "[encoded data removed]",
      "text/plain": [
       "<Figure size 720x432 with 1 Axes>"
      ]
     },
     "metadata": {},
     "output_type": "display_data"
    }
   ],
   "source": [
    "a = new_data.loc[new_data['kmeans_anomaly'] == 0, 'price_log']\n",
    "b = new_data.loc[new_data['kmeans_anomaly'] == 1, 'price_log']\n",
    "\n",
    "fig, axs = plt.subplots(figsize=(10,6))\n",
    "axs.hist([a,b], bins=32, stacked=True, color=['blue', 'red'])\n",
    "plt.show()"
   ]
  },
  {
   "cell_type": "markdown",
   "metadata": {},
   "source": [
    "# Isolation forest for Anomaly Detection\n",
    "\n",
    "- Isolation Forest detects anomalies purely based on the fact that anomalies are data points that are few and different. The anomalies isolation is implemented without employing any distance or density measure. This method is fundamentally different from clustering based or distance based algorithms."
   ]
  },
  {
   "cell_type": "code",
   "execution_count": 32,
   "metadata": {},
   "outputs": [],
   "source": [
    "isolate_forest = data.drop(data[['datetime']], axis=1)"
   ]
  },
  {
   "cell_type": "code",
   "execution_count": 33,
   "metadata": {},
   "outputs": [],
   "source": [
    "isolate_forest.dropna(inplace=True)"
   ]
  },
  {
   "cell_type": "code",
   "execution_count": 34,
   "metadata": {},
   "outputs": [
    {
     "data": {
      "text/html": [
       "<div>\n",
       "<style scoped>\n",
       "    .dataframe tbody tr th:only-of-type {\n",
       "        vertical-align: middle;\n",
       "    }\n",
       "\n",
       "    .dataframe tbody tr th {\n",
       "        vertical-align: top;\n",
       "    }\n",
       "\n",
       "    .dataframe thead th {\n",
       "        text-align: right;\n",
       "    }\n",
       "</style>\n",
       "<table border=\"1\" class=\"dataframe\">\n",
       "  <thead>\n",
       "    <tr style=\"text-align: right;\">\n",
       "      <th></th>\n",
       "      <th>bid_count</th>\n",
       "      <th>bid_quantity</th>\n",
       "      <th>bid</th>\n",
       "      <th>ask</th>\n",
       "      <th>ask_quantity</th>\n",
       "      <th>ask_count</th>\n",
       "      <th>price</th>\n",
       "      <th>volume</th>\n",
       "      <th>price_log</th>\n",
       "    </tr>\n",
       "  </thead>\n",
       "  <tbody>\n",
       "    <tr>\n",
       "      <td>1</td>\n",
       "      <td>1</td>\n",
       "      <td>45</td>\n",
       "      <td>272.75</td>\n",
       "      <td>273.15</td>\n",
       "      <td>11</td>\n",
       "      <td>1</td>\n",
       "      <td>272.40</td>\n",
       "      <td>45</td>\n",
       "      <td>-0.001284</td>\n",
       "    </tr>\n",
       "    <tr>\n",
       "      <td>2</td>\n",
       "      <td>1</td>\n",
       "      <td>45</td>\n",
       "      <td>272.75</td>\n",
       "      <td>273.15</td>\n",
       "      <td>11</td>\n",
       "      <td>1</td>\n",
       "      <td>272.25</td>\n",
       "      <td>39</td>\n",
       "      <td>-0.000551</td>\n",
       "    </tr>\n",
       "    <tr>\n",
       "      <td>3</td>\n",
       "      <td>1</td>\n",
       "      <td>45</td>\n",
       "      <td>272.75</td>\n",
       "      <td>273.15</td>\n",
       "      <td>11</td>\n",
       "      <td>1</td>\n",
       "      <td>271.75</td>\n",
       "      <td>44</td>\n",
       "      <td>-0.001838</td>\n",
       "    </tr>\n",
       "    <tr>\n",
       "      <td>4</td>\n",
       "      <td>2</td>\n",
       "      <td>284</td>\n",
       "      <td>271.75</td>\n",
       "      <td>272.20</td>\n",
       "      <td>60</td>\n",
       "      <td>1</td>\n",
       "      <td>271.75</td>\n",
       "      <td>72</td>\n",
       "      <td>0.000000</td>\n",
       "    </tr>\n",
       "    <tr>\n",
       "      <td>5</td>\n",
       "      <td>2</td>\n",
       "      <td>124</td>\n",
       "      <td>271.75</td>\n",
       "      <td>272.15</td>\n",
       "      <td>27</td>\n",
       "      <td>1</td>\n",
       "      <td>271.75</td>\n",
       "      <td>32</td>\n",
       "      <td>0.000000</td>\n",
       "    </tr>\n",
       "  </tbody>\n",
       "</table>\n",
       "</div>"
      ],
      "text/plain": [
       "   bid_count  bid_quantity     bid     ask  ask_quantity  ask_count   price  \\\n",
       "1          1            45  272.75  273.15            11          1  272.40   \n",
       "2          1            45  272.75  273.15            11          1  272.25   \n",
       "3          1            45  272.75  273.15            11          1  271.75   \n",
       "4          2           284  271.75  272.20            60          1  271.75   \n",
       "5          2           124  271.75  272.15            27          1  271.75   \n",
       "\n",
       "   volume  price_log  \n",
       "1      45  -0.001284  \n",
       "2      39  -0.000551  \n",
       "3      44  -0.001838  \n",
       "4      72   0.000000  \n",
       "5      32   0.000000  "
      ]
     },
     "execution_count": 34,
     "metadata": {},
     "output_type": "execute_result"
    }
   ],
   "source": [
    "isolate_forest.head()"
   ]
  },
  {
   "cell_type": "code",
   "execution_count": 35,
   "metadata": {},
   "outputs": [
    {
     "name": "stderr",
     "output_type": "stream",
     "text": [
      "/home/godwin/.local/lib/python3.6/site-packages/sklearn/ensemble/iforest.py:247: FutureWarning: behaviour=\"old\" is deprecated and will be removed in version 0.22. Please use behaviour=\"new\", which makes the decision_function change to match other anomaly detection algorithm API.\n",
      "  FutureWarning)\n",
      "/home/godwin/.local/lib/python3.6/site-packages/sklearn/ensemble/iforest.py:415: DeprecationWarning: threshold_ attribute is deprecated in 0.20 and will be removed in 0.22.\n",
      "  \" be removed in 0.22.\", DeprecationWarning)\n"
     ]
    }
   ],
   "source": [
    "#scale the data\n",
    "scaler = StandardScaler()\n",
    "isolate_forest_scaled = scaler.fit_transform(isolate_forest)\n",
    "\n",
    "isolate_forest_df = pd.DataFrame(isolate_forest_scaled)\n",
    "\n",
    "#instatiate the Isolation Forest model and fit on the scaled dataframe\n",
    "isolate_forest_model = IsolationForest(contamination=outliers_fraction)\n",
    "isolate_forest_model.fit(isolate_forest_df)\n",
    "\n",
    "new_data['isolate_anomaly'] = pd.Series(isolate_forest_model.predict(isolate_forest_df))"
   ]
  },
  {
   "cell_type": "code",
   "execution_count": 36,
   "metadata": {},
   "outputs": [
    {
     "data": {
      "image/png": "[encoded data removed]",
      "text/plain": [
       "<Figure size 1080x720 with 1 Axes>"
      ]
     },
     "metadata": {},
     "output_type": "display_data"
    }
   ],
   "source": [
    "fig, ax = plt.subplots(figsize=(15, 10))\n",
    "\n",
    "a = new_data.loc[new_data['isolate_anomaly'] == -1, ['datetime_int', 'price_log']]\n",
    "ax.plot(new_data['datetime_int'], new_data['price_log'], color='blue', label = 'Normal')\n",
    "ax.scatter(a['datetime_int'], a['price_log'], color='red', label = 'Anomaly')\n",
    "plt.legend()\n",
    "plt.show()"
   ]
  },
  {
   "cell_type": "markdown",
   "metadata": {},
   "source": [
    "- The red dots here also represents the detected anomalies and se see that they are not spread accross multiple time frame."
   ]
  },
  {
   "cell_type": "code",
   "execution_count": 37,
   "metadata": {},
   "outputs": [
    {
     "data": {
      "text/plain": [
       " 1    98997\n",
       "-1     1000\n",
       "Name: isolate_anomaly, dtype: int64"
      ]
     },
     "execution_count": 37,
     "metadata": {},
     "output_type": "execute_result"
    }
   ],
   "source": [
    "new_data['isolate_anomaly'].value_counts()"
   ]
  },
  {
   "cell_type": "markdown",
   "metadata": {},
   "source": [
    "- 1000 data points are detected as anomalies, one greater than Kmeans."
   ]
  },
  {
   "cell_type": "code",
   "execution_count": 38,
   "metadata": {},
   "outputs": [
    {
     "data": {
      "image/png": "[encoded data removed]",
      "text/plain": [
       "<Figure size 720x432 with 1 Axes>"
      ]
     },
     "metadata": {},
     "output_type": "display_data"
    }
   ],
   "source": [
    "# visualisation of anomaly with avg price repartition\n",
    "a = new_data.loc[new_data['isolate_anomaly'] == 1, 'price_log']\n",
    "b = new_data.loc[new_data['isolate_anomaly'] == -1, 'price_log']\n",
    "\n",
    "fig, axs = plt.subplots(figsize=(10,6))\n",
    "axs.hist([a,b], bins=32, stacked=True, color=['blue', 'red'])\n",
    "plt.show()"
   ]
  },
  {
   "cell_type": "markdown",
   "metadata": {},
   "source": [
    "- The stacked hist plot shows that there are more anomalies at the highest prices."
   ]
  },
  {
   "cell_type": "code",
   "execution_count": 39,
   "metadata": {},
   "outputs": [],
   "source": [
    "# save the model to disk\n",
    "filename = 'isolate_forest_model_stat.sav'\n",
    "pickle.dump(isolate_forest_model, open(filename, 'wb'))"
   ]
  },
  {
   "cell_type": "markdown",
   "metadata": {},
   "source": [
    "# Support Vector Machine Based Anomaly Detection\n",
    "\n",
    "- The idea of SVM for anomaly detection is to find a function that is positive for regions with high density of points, and negative for small densities.\n",
    "\n",
    "- Used the one class support vector."
   ]
  },
  {
   "cell_type": "code",
   "execution_count": 40,
   "metadata": {},
   "outputs": [],
   "source": [
    "svm_data = data.drop(data[['datetime']], axis=1)"
   ]
  },
  {
   "cell_type": "code",
   "execution_count": 41,
   "metadata": {},
   "outputs": [],
   "source": [
    "svm_data.dropna(inplace=True)"
   ]
  },
  {
   "cell_type": "code",
   "execution_count": 42,
   "metadata": {},
   "outputs": [],
   "source": [
    "# instantiate and fit the standard scaler\n",
    "svm_scaler = StandardScaler()\n",
    "svm_data_scaled = svm_scaler.fit_transform(svm_data)\n",
    "svm_data_df = pd.DataFrame(svm_data_scaled)\n",
    "\n",
    "#instantiate the model with the parameters nu and rbf kernel and gamma 0.01\n",
    "svm_model = OneClassSVM(nu=outliers_fraction, kernel='rbf', gamma=0.01)\n",
    "svm_model.fit(svm_data_df)\n",
    "\n",
    "#make prediction on the uisolate forest dataframe\n",
    "new_data['svm_anomaly'] = pd.Series(svm_model.predict(svm_data_df))"
   ]
  },
  {
   "cell_type": "code",
   "execution_count": 43,
   "metadata": {},
   "outputs": [
    {
     "data": {
      "text/plain": [
       " 1    98999\n",
       "-1      998\n",
       "Name: svm_anomaly, dtype: int64"
      ]
     },
     "execution_count": 43,
     "metadata": {},
     "output_type": "execute_result"
    }
   ],
   "source": [
    "new_data['svm_anomaly'].value_counts()"
   ]
  },
  {
   "cell_type": "markdown",
   "metadata": {},
   "source": [
    "- 998 anomalies detected here also."
   ]
  },
  {
   "cell_type": "code",
   "execution_count": 44,
   "metadata": {},
   "outputs": [
    {
     "data": {
      "image/png": "[encoded data removed]",
      "text/plain": [
       "<Figure size 1080x720 with 1 Axes>"
      ]
     },
     "metadata": {},
     "output_type": "display_data"
    }
   ],
   "source": [
    "fig, ax = plt.subplots(figsize=(15, 10))\n",
    "\n",
    "a = new_data.loc[new_data['svm_anomaly'] == -1, ['datetime_int', 'price_log']]\n",
    "\n",
    "ax.plot(new_data['datetime_int'], new_data['price_log'], color='blue', label = 'Normal')\n",
    "ax.scatter(a['datetime_int'], a['price_log'], color='red', label = 'Anomaly')\n",
    "plt.legend()\n",
    "plt.show()"
   ]
  },
  {
   "cell_type": "markdown",
   "metadata": {},
   "source": [
    "- Red anomaly dots here are atleast spread accross the time frame."
   ]
  },
  {
   "cell_type": "code",
   "execution_count": 45,
   "metadata": {},
   "outputs": [
    {
     "data": {
      "image/png": "[encoded data removed]",
      "text/plain": [
       "<Figure size 720x432 with 1 Axes>"
      ]
     },
     "metadata": {},
     "output_type": "display_data"
    }
   ],
   "source": [
    "# visualisation of anomaly with avg price repartition\n",
    "a = new_data.loc[new_data['svm_anomaly'] == 1, 'price_log']\n",
    "b = new_data.loc[new_data['svm_anomaly'] == -1, 'price_log']\n",
    "\n",
    "fig, axs = plt.subplots(figsize=(10,6))\n",
    "axs.hist([a,b], bins=30, stacked=True, color=['blue', 'red'])\n",
    "plt.show()"
   ]
  },
  {
   "cell_type": "markdown",
   "metadata": {},
   "source": [
    "- The datcked histogram also shows this spread."
   ]
  },
  {
   "cell_type": "code",
   "execution_count": 46,
   "metadata": {},
   "outputs": [],
   "source": [
    "# save the model to disk\n",
    "filename = 'oneclasssvm_stat_model.sav'\n",
    "pickle.dump(svm_model, open(filename, 'wb'))"
   ]
  }
 ],
 "metadata": {
  "kernelspec": {
   "display_name": "Python 3",
   "language": "python",
   "name": "python3"
  },
  "language_info": {
   "codemirror_mode": {
    "name": "ipython",
    "version": 3
   },
   "file_extension": ".py",
   "mimetype": "text/x-python",
   "name": "python",
   "nbconvert_exporter": "python",
   "pygments_lexer": "ipython3",
   "version": "3.6.8"
  }
 },
 "nbformat": 4,
 "nbformat_minor": 2
}
